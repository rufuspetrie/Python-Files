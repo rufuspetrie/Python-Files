{
 "cells": [
  {
   "cell_type": "code",
   "execution_count": 1,
   "id": "f0dfaa60",
   "metadata": {},
   "outputs": [],
   "source": [
    "import numpy as np\n",
    "import matplotlib.pyplot as plt\n",
    "import seaborn as sns\n",
    "%matplotlib inline"
   ]
  },
  {
   "cell_type": "code",
   "execution_count": 2,
   "id": "e785a6db",
   "metadata": {},
   "outputs": [],
   "source": [
    "n = 2**16\n",
    "p = 1/27"
   ]
  },
  {
   "cell_type": "code",
   "execution_count": 3,
   "id": "2fba3b3a",
   "metadata": {},
   "outputs": [],
   "source": [
    "def gen_b2b():\n",
    "    rolls = 2\n",
    "    first = np.random.binomial(1, p)\n",
    "    last = np.random.binomial(1, p)\n",
    "    while first != 1 or last != 1:\n",
    "        first = last\n",
    "        last = np.random.binomial(1, p)\n",
    "        rolls += 1\n",
    "    return rolls"
   ]
  },
  {
   "cell_type": "code",
   "execution_count": 4,
   "id": "5f4360d3",
   "metadata": {},
   "outputs": [],
   "source": [
    "def gen_data(n):\n",
    "    xs = np.zeros(n)\n",
    "    for i in range(n):\n",
    "        xs[i] = gen_b2b()\n",
    "    return xs"
   ]
  },
  {
   "cell_type": "code",
   "execution_count": 5,
   "id": "680f2cf1",
   "metadata": {},
   "outputs": [],
   "source": [
    "xs = gen_data(n)"
   ]
  },
  {
   "cell_type": "code",
   "execution_count": 6,
   "id": "3ced5066",
   "metadata": {},
   "outputs": [
    {
     "data": {
      "text/plain": [
       "524.0"
      ]
     },
     "execution_count": 6,
     "metadata": {},
     "output_type": "execute_result"
    }
   ],
   "source": [
    "np.median(xs)"
   ]
  },
  {
   "cell_type": "code",
   "execution_count": 7,
   "id": "a3fa610e",
   "metadata": {},
   "outputs": [
    {
     "data": {
      "text/plain": [
       "755.7591400146484"
      ]
     },
     "execution_count": 7,
     "metadata": {},
     "output_type": "execute_result"
    }
   ],
   "source": [
    "np.mean(xs)"
   ]
  },
  {
   "cell_type": "code",
   "execution_count": 8,
   "id": "339f0aef",
   "metadata": {},
   "outputs": [
    {
     "data": {
      "image/png": "[encoded data removed]",
      "text/plain": [
       "<Figure size 576x576 with 1 Axes>"
      ]
     },
     "metadata": {},
     "output_type": "display_data"
    }
   ],
   "source": [
    "plt.style.use(\"seaborn-whitegrid\")\n",
    "fig, ax = plt.subplots(figsize=(8,8))\n",
    "plt.title(\"KC required for b2b\")\n",
    "plt.xlabel(\"KC\")\n",
    "ax.spines[\"top\"].set_visible(False)\n",
    "ax.spines[\"right\"].set_visible(False)\n",
    "ax.hist(xs, bins = 25, ec = \"black\");"
   ]
  }
 ],
 "metadata": {
  "kernelspec": {
   "display_name": "Python 3 (ipykernel)",
   "language": "python",
   "name": "python3"
  },
  "language_info": {
   "codemirror_mode": {
    "name": "ipython",
    "version": 3
   },
   "file_extension": ".py",
   "mimetype": "text/x-python",
   "name": "python",
   "nbconvert_exporter": "python",
   "pygments_lexer": "ipython3",
   "version": "3.8.11"
  }
 },
 "nbformat": 4,
 "nbformat_minor": 5
}
