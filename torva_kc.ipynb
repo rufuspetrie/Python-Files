{
 "cells": [
  {
   "cell_type": "markdown",
   "id": "246c42f3",
   "metadata": {},
   "source": [
    "# torva kc for ironmen"
   ]
  },
  {
   "cell_type": "code",
   "execution_count": 1,
   "id": "4247a006",
   "metadata": {},
   "outputs": [],
   "source": [
    "# Libraries\n",
    "import numpy as np\n",
    "import matplotlib.pyplot as plt\n",
    "import seaborn as sns\n",
    "%matplotlib inline"
   ]
  },
  {
   "cell_type": "code",
   "execution_count": 2,
   "id": "a2b717cb",
   "metadata": {},
   "outputs": [],
   "source": [
    "# Vector convention: [helmet, chest, legs, horn, vambraces, hilt]\n",
    "probs = (1/86) * np.array([1/6, 1/6, 1/6, 1/6, 1/4, 1/12])\n",
    "prices = np.array([177000000, 403444000, 385223000, 353326000, 190133000, 36875000])"
   ]
  },
  {
   "cell_type": "code",
   "execution_count": 3,
   "id": "9bd7ef44",
   "metadata": {},
   "outputs": [],
   "source": [
    "def gen_kc():\n",
    "    \n",
    "    # Roll from boss until full torva\n",
    "    kc = 0\n",
    "    xs = np.zeros(6)\n",
    "    while xs[0] == 0 or xs[1] == 0 or xs[2] == 0:\n",
    "        xs += np.random.multinomial(1, probs)\n",
    "        kc +=1\n",
    "\n",
    "    return kc"
   ]
  },
  {
   "cell_type": "code",
   "execution_count": 4,
   "id": "8f65a98c",
   "metadata": {},
   "outputs": [],
   "source": [
    "def gen_kcs(N):\n",
    "    xs = np.zeros(N)\n",
    "    for i in range(N):\n",
    "        xs[i] = gen_kc()\n",
    "    return xs"
   ]
  },
  {
   "cell_type": "code",
   "execution_count": 6,
   "id": "d68f3028",
   "metadata": {},
   "outputs": [],
   "source": [
    "# Generate profit data for 4096 ironmen\n",
    "N = 2**12\n",
    "kcs = gen_kcs(N)"
   ]
  },
  {
   "cell_type": "code",
   "execution_count": 7,
   "id": "91a456eb",
   "metadata": {},
   "outputs": [
    {
     "data": {
      "text/plain": [
       "829.0"
      ]
     },
     "execution_count": 7,
     "metadata": {},
     "output_type": "execute_result"
    }
   ],
   "source": [
    "# Median profit\n",
    "np.median(kcs)"
   ]
  },
  {
   "cell_type": "code",
   "execution_count": 8,
   "id": "2730e717",
   "metadata": {},
   "outputs": [
    {
     "data": {
      "text/plain": [
       "5392.0"
      ]
     },
     "execution_count": 8,
     "metadata": {},
     "output_type": "execute_result"
    }
   ],
   "source": [
    "# Maximum profit\n",
    "np.max(kcs)"
   ]
  },
  {
   "cell_type": "code",
   "execution_count": 12,
   "id": "751fb2be",
   "metadata": {},
   "outputs": [
    {
     "data": {
      "text/plain": [
       "49.0"
      ]
     },
     "execution_count": 12,
     "metadata": {},
     "output_type": "execute_result"
    }
   ],
   "source": [
    "np.min(kcs)"
   ]
  },
  {
   "cell_type": "code",
   "execution_count": 13,
   "id": "4322d435",
   "metadata": {},
   "outputs": [
    {
     "data": {
      "text/plain": [
       "959.12890625"
      ]
     },
     "execution_count": 13,
     "metadata": {},
     "output_type": "execute_result"
    }
   ],
   "source": [
    "np.mean(kcs)"
   ]
  },
  {
   "cell_type": "code",
   "execution_count": 15,
   "id": "ad17fe67",
   "metadata": {},
   "outputs": [
    {
     "data": {
      "text/plain": [
       "599.9868606018781"
      ]
     },
     "execution_count": 15,
     "metadata": {},
     "output_type": "execute_result"
    }
   ],
   "source": [
    "np.std(kcs)"
   ]
  },
  {
   "cell_type": "code",
   "execution_count": 9,
   "id": "95e47cd4",
   "metadata": {},
   "outputs": [
    {
     "data": {
      "text/plain": [
       "4054"
      ]
     },
     "execution_count": 9,
     "metadata": {},
     "output_type": "execute_result"
    }
   ],
   "source": [
    "# Look at middle 99% of distribution\n",
    "a = np.percentile(kcs, 0.5)\n",
    "b = np.percentile(kcs, 99.5)\n",
    "x = (kcs[(kcs<b) & (kcs>a)])\n",
    "np.size(x)"
   ]
  },
  {
   "cell_type": "code",
   "execution_count": 11,
   "id": "3b710eef",
   "metadata": {},
   "outputs": [
    {
     "data": {
      "image/png": "[encoded data removed]",
      "text/plain": [
       "<Figure size 576x576 with 1 Axes>"
      ]
     },
     "metadata": {},
     "output_type": "display_data"
    }
   ],
   "source": [
    "plt.style.use(\"seaborn-whitegrid\")\n",
    "fig, ax = plt.subplots(figsize=(8,8))\n",
    "plt.title(\"Torva kc for ironmen\")\n",
    "plt.xlabel(\"KC\")\n",
    "ax.spines[\"top\"].set_visible(False)\n",
    "ax.spines[\"right\"].set_visible(False)\n",
    "ax.hist(x, bins = 25, ec = \"black\");"
   ]
  }
 ],
 "metadata": {
  "kernelspec": {
   "display_name": "Python 3 (ipykernel)",
   "language": "python",
   "name": "python3"
  },
  "language_info": {
   "codemirror_mode": {
    "name": "ipython",
    "version": 3
   },
   "file_extension": ".py",
   "mimetype": "text/x-python",
   "name": "python",
   "nbconvert_exporter": "python",
   "pygments_lexer": "ipython3",
   "version": "3.8.11"
  }
 },
 "nbformat": 4,
 "nbformat_minor": 5
}
