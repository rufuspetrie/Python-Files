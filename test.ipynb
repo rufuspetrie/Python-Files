{
 "cells": [
  {
   "cell_type": "code",
   "execution_count": 6,
   "metadata": {},
   "outputs": [],
   "source": [
    "def twoSum(nums, target):\n",
    "    tar_list = [target - i for i in nums]\n",
    "    hash = {}\n",
    "    for i in nums:\n",
    "        hash[i] = 1\n",
    "\n",
    "    index_1 = 0\n",
    "    index_2 = 0\n",
    "    value_2 = 0\n",
    "    for i in range(len(tar_list)):\n",
    "        if tar_list[i] != nums[i] and hash[tar_list[i]] == 1:\n",
    "            index_1 = i\n",
    "            value_2 = tar_list[i]\n",
    "            break\n",
    "            \n",
    "    for i in range(len(nums)):\n",
    "        if nums[i] == value_2:\n",
    "            index_2 = i\n",
    "            \n",
    "    return(sorted([index_1, index_2]))        "
   ]
  },
  {
   "cell_type": "code",
   "execution_count": 7,
   "metadata": {},
   "outputs": [
    {
     "name": "stdout",
     "output_type": "stream",
     "text": [
      "[3, 4, 2]\n"
     ]
    }
   ],
   "source": [
    "nums = [3, 2, 4]\n",
    "target = 6\n",
    "tar_list = [target - i for i in nums]\n",
    "print(tar_list)"
   ]
  },
  {
   "cell_type": "code",
   "execution_count": 8,
   "metadata": {},
   "outputs": [
    {
     "name": "stdout",
     "output_type": "stream",
     "text": [
      "{3: 1, 2: 1, 4: 1}\n"
     ]
    }
   ],
   "source": [
    "hash = {}\n",
    "for i in nums:\n",
    "    hash[i] = 1\n",
    "print(hash)"
   ]
  },
  {
   "cell_type": "code",
   "execution_count": 9,
   "metadata": {},
   "outputs": [
    {
     "data": {
      "text/plain": [
       "[1, 2]"
      ]
     },
     "execution_count": 9,
     "metadata": {},
     "output_type": "execute_result"
    }
   ],
   "source": [
    "twoSum(nums, target)"
   ]
  },
  {
   "cell_type": "code",
   "execution_count": null,
   "metadata": {},
   "outputs": [],
   "source": []
  }
 ],
 "metadata": {
  "kernelspec": {
   "display_name": "Python 3",
   "language": "python",
   "name": "python3"
  },
  "language_info": {
   "codemirror_mode": {
    "name": "ipython",
    "version": 3
   },
   "file_extension": ".py",
   "mimetype": "text/x-python",
   "name": "python",
   "nbconvert_exporter": "python",
   "pygments_lexer": "ipython3",
   "version": "3.8.5"
  }
 },
 "nbformat": 4,
 "nbformat_minor": 4
}
