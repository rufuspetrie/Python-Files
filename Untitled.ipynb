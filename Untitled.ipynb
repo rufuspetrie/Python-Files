{
 "cells": [
  {
   "cell_type": "code",
   "execution_count": 1,
   "id": "154f1cf4",
   "metadata": {},
   "outputs": [],
   "source": [
    "import heapq as hq\n",
    "nums = [3,5]\n",
    "pq = []"
   ]
  },
  {
   "cell_type": "code",
   "execution_count": 2,
   "id": "c2b6be99",
   "metadata": {},
   "outputs": [
    {
     "name": "stdout",
     "output_type": "stream",
     "text": [
      "[3, 5]\n"
     ]
    }
   ],
   "source": [
    "while nums:\n",
    "    hq.heappush(pq, nums.pop(0))\n",
    "print(pq)"
   ]
  },
  {
   "cell_type": "code",
   "execution_count": 5,
   "id": "281a7adc",
   "metadata": {},
   "outputs": [
    {
     "name": "stdout",
     "output_type": "stream",
     "text": [
      "[6, 10]\n"
     ]
    }
   ],
   "source": [
    "while pq[0] % 2 != 0:\n",
    "    hq.heappush(pq, 2*hq.heappop(pq))\n",
    "print(pq)"
   ]
  },
  {
   "cell_type": "code",
   "execution_count": null,
   "id": "9600b3cb",
   "metadata": {},
   "outputs": [],
   "source": []
  }
 ],
 "metadata": {
  "kernelspec": {
   "display_name": "Python 3 (ipykernel)",
   "language": "python",
   "name": "python3"
  },
  "language_info": {
   "codemirror_mode": {
    "name": "ipython",
    "version": 3
   },
   "file_extension": ".py",
   "mimetype": "text/x-python",
   "name": "python",
   "nbconvert_exporter": "python",
   "pygments_lexer": "ipython3",
   "version": "3.8.11"
  }
 },
 "nbformat": 4,
 "nbformat_minor": 5
}
