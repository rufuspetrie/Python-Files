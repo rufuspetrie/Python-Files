{
 "cells": [
  {
   "cell_type": "markdown",
   "metadata": {},
   "source": [
    "    - Here are some more efficient methods of performing quicksort (I got stuck coding one, so I made two!).\n",
    "    - These work better than my previous ones because each recursive call doesn't utilize any additional memory."
   ]
  },
  {
   "cell_type": "code",
   "execution_count": 2,
   "metadata": {},
   "outputs": [],
   "source": [
    "lines = map(int,open(\"QuickSort.txt\").read().splitlines())\n",
    "from random import randint\n",
    "def create_array(size=10,max=50):\n",
    "    return [randint(0,max) for _ in range(size)]"
   ]
  },
  {
   "cell_type": "code",
   "execution_count": 3,
   "metadata": {},
   "outputs": [],
   "source": [
    "def quicksortA(a):\n",
    "    if len(a)<=1:\n",
    "        return a\n",
    "    pivot=a[0]\n",
    "    i=1\n",
    "    for j in range(1,len(a)):\n",
    "        if a[j]<pivot:\n",
    "            a[i],a[j]=a[j],a[i]\n",
    "            i+=1\n",
    "    a=a[1:i]+[a[0]]+a[i:]\n",
    "    return quicksortA(a[:i-1])+[a[i-1]]+quicksortA(a[i:])"
   ]
  },
  {
   "cell_type": "code",
   "execution_count": 4,
   "metadata": {},
   "outputs": [],
   "source": [
    "def quicksortB(a):\n",
    "    if len(a)<=1:\n",
    "        return a\n",
    "    pivot=a[0]\n",
    "    i=1\n",
    "    for j in range(1,len(a)):\n",
    "        if a[j]<pivot:\n",
    "            if j<len(a)-1:\n",
    "                a=[a[j]]+a[:j]+a[j+1:]\n",
    "                i+=1\n",
    "            else:\n",
    "                a=[a[j]]+a[:j]\n",
    "                i+=1\n",
    "    return quicksortB(a[:i-1])+[a[i-1]]+quicksortB(a[i:])"
   ]
  },
  {
   "cell_type": "markdown",
   "metadata": {},
   "source": [
    "Here is the original:"
   ]
  },
  {
   "cell_type": "code",
   "execution_count": 5,
   "metadata": {},
   "outputs": [],
   "source": [
    "def quicksort(a):\n",
    "    if len(a)<=1:\n",
    "        return a\n",
    "    smaller, equal, larger = [], [], []\n",
    "    pivot=a[randint(0,len(a)-1)]    \n",
    "    for x in a:\n",
    "        if x<pivot:\n",
    "            smaller.append(x)\n",
    "        elif x==pivot:\n",
    "            equal.append(x)\n",
    "        else:\n",
    "            larger.append(x)  \n",
    "    return quicksort(smaller)+equal+quicksort(larger)"
   ]
  },
  {
   "cell_type": "code",
   "execution_count": 8,
   "metadata": {},
   "outputs": [],
   "source": [
    "x=create_array()"
   ]
  },
  {
   "cell_type": "code",
   "execution_count": 9,
   "metadata": {},
   "outputs": [
    {
     "data": {
      "text/plain": [
       "[1, 1, 15, 22, 33, 38, 39, 41, 44, 45]"
      ]
     },
     "execution_count": 9,
     "metadata": {},
     "output_type": "execute_result"
    }
   ],
   "source": [
    "quicksortA(x)"
   ]
  }
 ],
 "metadata": {
  "kernelspec": {
   "display_name": "Python 2",
   "language": "python",
   "name": "python2"
  },
  "language_info": {
   "codemirror_mode": {
    "name": "ipython",
    "version": 2
   },
   "file_extension": ".py",
   "mimetype": "text/x-python",
   "name": "python",
   "nbconvert_exporter": "python",
   "pygments_lexer": "ipython2",
   "version": "2.7.15"
  }
 },
 "nbformat": 4,
 "nbformat_minor": 2
}
