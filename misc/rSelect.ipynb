{
 "cells": [
  {
   "cell_type": "code",
   "execution_count": 2,
   "metadata": {},
   "outputs": [],
   "source": [
    "from random import randint\n",
    "# Pseudocode:\n",
    "# Select take array and desired index\n",
    "# Select pivot\n",
    "# Compare pivot to desired index\n",
    "# If desired index is less, select new left pivot\n",
    "# If desired index is more, select new right pivot and update i"
   ]
  },
  {
   "cell_type": "code",
   "execution_count": null,
   "metadata": {},
   "outputs": [],
   "source": [
    "def quicksortA(a):\n",
    "    if len(a)<=1:\n",
    "        return a\n",
    "    pivot=a[0]\n",
    "    i=1\n",
    "    for j in range(1,len(a)):\n",
    "        if a[j]<pivot:\n",
    "            temp=a[j]\n",
    "            a[j]=a[i]\n",
    "            a[i]=temp\n",
    "            i+=1\n",
    "    a=a[1:i]+[a[0]]+a[i:]\n",
    "    return quicksortA(a[:i-1])+[a[i-1]]+quicksortA(a[i:])"
   ]
  },
  {
   "cell_type": "code",
   "execution_count": null,
   "metadata": {},
   "outputs": [],
   "source": [
    "def rSelect(a,i):\n",
    "    if len(a)<=1:\n",
    "        return a\n",
    "    pivot=a[randint(0,len(a))]\n",
    "    if pivot!=a[0]:\n",
    "        a[0],\n",
    "    for j in range(1,len(a)):\n",
    "        if a[j]<pivot:\n",
    "            temp=a[j]\n",
    "            a[j]=a[i]\n",
    "            a[i]=temp\n",
    "            i+=1\n",
    "    a=a[1:i]+[a[0]]+a[i:]"
   ]
  }
 ],
 "metadata": {
  "kernelspec": {
   "display_name": "Python 2",
   "language": "python",
   "name": "python2"
  },
  "language_info": {
   "codemirror_mode": {
    "name": "ipython",
    "version": 2
   },
   "file_extension": ".py",
   "mimetype": "text/x-python",
   "name": "python",
   "nbconvert_exporter": "python",
   "pygments_lexer": "ipython2",
   "version": "2.7.15"
  }
 },
 "nbformat": 4,
 "nbformat_minor": 2
}
