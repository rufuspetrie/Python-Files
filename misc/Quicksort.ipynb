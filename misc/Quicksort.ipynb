{
 "cells": [
  {
   "cell_type": "markdown",
   "metadata": {},
   "source": [
    "Useful Youtube video: https://www.youtube.com/watch?v=RFyLsF9y83c"
   ]
  },
  {
   "cell_type": "markdown",
   "metadata": {},
   "source": [
    "GENERAL DIRECTIONS:\n",
    "\n",
    "Download the following text file (right click and select \"Save As...\"): QuickSort.txt\n",
    "\n",
    "The file contains all of the integers between 1 and 10,000 (inclusive, with no repeats) in unsorted order. The integer in the row of the file gives you the  entry of an input array.\n",
    "\n",
    "Your task is to compute the total number of comparisons used to sort the given input file by QuickSort. As you know, the number of comparisons depends on which elements are chosen as pivots, so we'll ask you to explore three different pivoting rules.\n",
    "\n",
    "You should not count comparisons one-by-one. Rather, when there is a recursive call on a subarray of length , you should simply add  to your running total of comparisons. (This is because the pivot element is compared to each of the other  elements in the subarray in this recursive call.)\n",
    "\n",
    "WARNING: The Partition subroutine can be implemented in several different ways, and different implementations can give you differing numbers of comparisons. For this problem, you should implement the Partition subroutine exactly as it is described in the video lectures (otherwise you might get the wrong answer)."
   ]
  },
  {
   "cell_type": "code",
   "execution_count": 2,
   "metadata": {},
   "outputs": [],
   "source": [
    "from random import randint\n",
    "lines = map(int,open(\"QuickSort.txt\").read().splitlines())"
   ]
  },
  {
   "cell_type": "code",
   "execution_count": 4,
   "metadata": {},
   "outputs": [],
   "source": [
    "# This generates random, unsorted arrays for testing\n",
    "def create_array(size=10,max=50):\n",
    "    return [randint(0,max) for _ in range(size)]"
   ]
  },
  {
   "cell_type": "code",
   "execution_count": 3,
   "metadata": {},
   "outputs": [],
   "source": [
    "count=0\n",
    "def quicksort(a):\n",
    "    global count\n",
    "    if len(a)<=1:\n",
    "        return a\n",
    "    count+=len(a)-1\n",
    "    smaller, equal, larger = [], [], []\n",
    "    pivot=a[randint(0,len(a)-1)]    \n",
    "    for x in a:\n",
    "        if x<pivot:\n",
    "            smaller.append(x)\n",
    "        elif x==pivot:\n",
    "            equal.append(x)\n",
    "        else:\n",
    "            larger.append(x)  \n",
    "    return quicksort(smaller)+equal+quicksort(larger)"
   ]
  },
  {
   "cell_type": "code",
   "execution_count": 5,
   "metadata": {},
   "outputs": [],
   "source": [
    "def merge(left,right):\n",
    "    result=[]                              # Initializes a resultant array\n",
    "    i,j=0,0                                # Initializes pointers to walk down the list\n",
    "    while i<len(left) and j<len(right):    # Performs sorting routine\n",
    "        if left[i]<right[j]:\n",
    "            result.append(left[i])\n",
    "            i+=1\n",
    "        else:\n",
    "            result.append(right[j])\n",
    "            j+=1\n",
    "    result+=left[i:]                       # Adds remaining (sorted) elements if lists have different size\n",
    "    result+=right[j:]\n",
    "    return result"
   ]
  },
  {
   "cell_type": "code",
   "execution_count": 6,
   "metadata": {},
   "outputs": [],
   "source": [
    "def mergesort(lst):\n",
    "    if len(lst)<=1:\n",
    "        return lst\n",
    "    mid=int(len(lst)/2)\n",
    "    left=mergesort(lst[:mid])\n",
    "    right=mergesort(lst[mid:])\n",
    "    return merge(left,right)"
   ]
  },
  {
   "cell_type": "code",
   "execution_count": 7,
   "metadata": {},
   "outputs": [],
   "source": [
    "# Benchmark testing\n",
    "n=[10,100,1000,10000,100000]\n",
    "times={'quick':[],'merge':[]}\n",
    "samples=5\n",
    "from time import time\n",
    "\n",
    "for size in n:\n",
    "    tot_time=0.0\n",
    "    for _ in range(samples):\n",
    "        a=create_array(size,size)\n",
    "        t0=time()\n",
    "        s=mergesort(a)\n",
    "        t1=time()\n",
    "        tot_time+=(t1-t0)\n",
    "    times['merge'].append(tot_time/float(samples))\n",
    "    \n",
    "    tot_time=0.0\n",
    "    for _ in range(samples):\n",
    "        a=create_array(size,size)\n",
    "        t0=time()\n",
    "        s=quicksort(a)\n",
    "        t1=time()\n",
    "        tot_time+=(t1-t0)\n",
    "    times['quick'].append(tot_time/float(samples))"
   ]
  },
  {
   "cell_type": "code",
   "execution_count": 8,
   "metadata": {},
   "outputs": [
    {
     "name": "stdout",
     "output_type": "stream",
     "text": [
      "n\tQuicksort\tMergesort\n",
      "________________________________________\n",
      "10\t0.00000 \t0.00000\n",
      "100\t0.00020 \t0.00040\n",
      "1000\t0.00200 \t0.00380\n",
      "10000\t0.02720 \t0.04520\n",
      "100000\t0.33660 \t0.53660\n"
     ]
    }
   ],
   "source": [
    "print \"n\\tQuicksort\\tMergesort\"\n",
    "print 40*\"_\"\n",
    "for i, size in enumerate(n):\n",
    "    print \"%d\\t%0.5f \\t%0.5f\"%(\n",
    "    size,\n",
    "    times['quick'][i],\n",
    "    times['merge'][i])"
   ]
  },
  {
   "cell_type": "markdown",
   "metadata": {},
   "source": [
    "DIRECTIONS FOR THIS PROBLEM:\n",
    "\n",
    "For the first part of the programming assignment, you should always use the first element of the array as the pivot element.\n",
    "\n",
    "HOW TO GIVE US YOUR ANSWER:\n",
    "\n",
    "Type the numeric answer in the space provided.\n",
    "\n",
    "So if your answer is 1198233847, then just type 1198233847 in the space provided without any space, commas, or other punctuation marks. You have 5 attempts to get the correct answer.\n",
    "\n",
    "(We do not require you to submit your code, so feel free to use the programming language of your choice, just type the numeric answer in the following space.)"
   ]
  },
  {
   "cell_type": "code",
   "execution_count": 1,
   "metadata": {},
   "outputs": [],
   "source": [
    "count=0\n",
    "def quicksort(a):\n",
    "    global count\n",
    "    if len(a)<=1:\n",
    "        return a\n",
    "    count+=(len(a)-1)\n",
    "    smaller, equal, larger = [], [], []\n",
    "    pivot=a[0]    \n",
    "    for x in a:\n",
    "        if x<pivot:\n",
    "            smaller.append(x)\n",
    "        elif x==pivot:\n",
    "            equal.append(x)\n",
    "        else:\n",
    "            larger.append(x)  \n",
    "    return quicksort(smaller)+equal+quicksort(larger)"
   ]
  },
  {
   "cell_type": "code",
   "execution_count": 3,
   "metadata": {},
   "outputs": [
    {
     "name": "stdout",
     "output_type": "stream",
     "text": [
      "157946\n"
     ]
    }
   ],
   "source": [
    "quicksort(lines);\n",
    "print count"
   ]
  },
  {
   "cell_type": "markdown",
   "metadata": {},
   "source": [
    "DIRECTIONS FOR THIS PROBLEM:\n",
    "\n",
    "Compute the number of comparisons (as in Problem 1), always using the final element of the given array as the pivot element. Again, be sure to implement the Partition subroutine exactly as it is described in the video lectures.\n",
    "\n",
    "Recall from the lectures that, just before the main Partition subroutine, you should exchange the pivot element (i.e., the last element) with the first element."
   ]
  },
  {
   "cell_type": "code",
   "execution_count": 7,
   "metadata": {},
   "outputs": [],
   "source": [
    "count=0\n",
    "def quicksort(a):\n",
    "    global count\n",
    "    if len(a)<=1:\n",
    "        return a\n",
    "    count+=len(a)-1\n",
    "    smaller, equal, larger = [], [], []\n",
    "    pivot=a[-1]    \n",
    "    for x in a:\n",
    "        if x<pivot:\n",
    "            smaller.append(x)\n",
    "        elif x==pivot:\n",
    "            equal.append(x)\n",
    "        else:\n",
    "            larger.append(x)  \n",
    "    return quicksort(smaller)+equal+quicksort(larger)"
   ]
  },
  {
   "cell_type": "code",
   "execution_count": 8,
   "metadata": {},
   "outputs": [
    {
     "name": "stdout",
     "output_type": "stream",
     "text": [
      "162330\n"
     ]
    }
   ],
   "source": [
    "quicksort(lines);\n",
    "print count"
   ]
  },
  {
   "cell_type": "markdown",
   "metadata": {},
   "source": [
    "Compute the number of comparisons (as in Problem 1), using the \"median-of-three\" pivot rule. [The primary motivation behind this rule is to do a little bit of extra work to get much better performance on input arrays that are nearly sorted or reverse sorted.] In more detail, you should choose the pivot as follows. Consider the first, middle, and final elements of the given array. (If the array has odd length it should be clear what the \"middle\" element is; for an array with even length $2k$, use the $k^{th}$ element as the \"middle\" element. So for the array 4 5 6 7, the \"middle\" element is the second one ---- 5 and not 6!) Identify which of these three elements is the median (i.e., the one whose value is in between the other two), and use this as your pivot. As discussed in the first and second parts of this programming assignment, be sure to implement Partition exactly as described in the video lectures (including exchanging the pivot element with the first element just before the main Partition subroutine)."
   ]
  },
  {
   "cell_type": "code",
   "execution_count": 17,
   "metadata": {},
   "outputs": [],
   "source": [
    "count=0\n",
    "def quicksort(a):\n",
    "    global count\n",
    "    if len(a)<=1:\n",
    "        return a\n",
    "    count+=len(a)-1\n",
    "    smaller, equal, larger = [], [], []\n",
    "    if len(a)==2:\n",
    "        pivot=a[0]\n",
    "    else:\n",
    "        pivots=[a[0],a[len(a)/2],a[-1]]\n",
    "        if pivots[0]<=pivots[1]<=pivots[2] or pivots[2]<=pivots[1]<=pivots[0]:\n",
    "            pivot=pivots[1]\n",
    "        elif pivots[1]<=pivots[0]<=pivots[2] or pivots[2]<=pivots[0]<=pivots[1]:\n",
    "            pivot=pivots[0]\n",
    "        else:\n",
    "            pivot=pivots[2]\n",
    "    for x in a:\n",
    "        if x<pivot:\n",
    "            smaller.append(x)\n",
    "        elif x==pivot:\n",
    "            equal.append(x)\n",
    "        else:\n",
    "            larger.append(x)  \n",
    "    return quicksort(smaller)+equal+quicksort(larger)"
   ]
  },
  {
   "cell_type": "code",
   "execution_count": 18,
   "metadata": {},
   "outputs": [
    {
     "name": "stdout",
     "output_type": "stream",
     "text": [
      "129868\n"
     ]
    }
   ],
   "source": [
    "quicksort(lines);\n",
    "print count"
   ]
  }
 ],
 "metadata": {
  "kernelspec": {
   "display_name": "Python 2",
   "language": "python",
   "name": "python2"
  },
  "language_info": {
   "codemirror_mode": {
    "name": "ipython",
    "version": 2
   },
   "file_extension": ".py",
   "mimetype": "text/x-python",
   "name": "python",
   "nbconvert_exporter": "python",
   "pygments_lexer": "ipython2",
   "version": "2.7.15"
  }
 },
 "nbformat": 4,
 "nbformat_minor": 2
}
