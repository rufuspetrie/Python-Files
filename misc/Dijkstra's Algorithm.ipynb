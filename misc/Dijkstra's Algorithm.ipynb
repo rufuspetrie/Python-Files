{
 "cells": [
  {
   "cell_type": "markdown",
   "metadata": {},
   "source": [
    "The file contains an adjacency list representation of an undirected weighted graph with 200 vertices labeled 1 to 200. Each row consists of the node tuples that are adjacent to that particular vertex along with the length of that edge. For example, the 6th row has 6 as the first entry indicating that this row corresponds to the vertex labeled 6. The next entry of this row \"141,8200\" indicates that there is an edge between vertex 6 and vertex 141 that has length 8200. The rest of the pairs of this row indicate the other vertices adjacent to vertex 6 and the lengths of the corresponding edges.\n",
    "\n",
    "Your task is to run Dijkstra's shortest-path algorithm on this graph, using 1 (the first vertex) as the source vertex, and to compute the shortest-path distances between 1 and every other vertex of the graph. If there is no path between a vertex and vertex 1, we'll define the shortest-path distance between 1 and  to be 1000000.\n",
    "\n",
    "You should report the shortest-path distances to the following ten vertices, in order: 7,37,59,82,99,115,133,165,188,197. Enter the shortest-path distances using the fields below for each of the vertices.\n",
    "\n",
    "IMPLEMENTATION NOTES: This graph is small enough that the straightforward  time implementation of Dijkstra's algorithm should work fine. OPTIONAL: For those of you seeking an additional challenge, try implementing the heap-based version. Note this requires a heap that supports deletions, and you'll probably need to maintain some kind of mapping between vertices and their positions in the heap."
   ]
  },
  {
   "cell_type": "code",
   "execution_count": 136,
   "metadata": {},
   "outputs": [],
   "source": [
    "from collections import defaultdict\n",
    "class Graph:\n",
    "    def __init__(self):\n",
    "        self.nodes = set()\n",
    "        self.edges = defaultdict(list)\n",
    "        self.distances = {}\n",
    "\n",
    "    def add_node(self, value):\n",
    "        self.nodes.add(value)\n",
    "\n",
    "    def add_edge(self, from_node, to_node, distance):\n",
    "        self.edges[from_node].append(to_node)\n",
    "        self.edges[to_node].append(from_node)\n",
    "        self.distances[(from_node, to_node)] = distance"
   ]
  },
  {
   "cell_type": "code",
   "execution_count": 139,
   "metadata": {},
   "outputs": [],
   "source": [
    "data=Graph()\n",
    "f=open('dijkstraData.txt')\n",
    "lines=f.readlines()\n",
    "for i in lines:\n",
    "    nums=i.split()\n",
    "    node=int(nums[0])\n",
    "    tuples=[map(int,x.split(',')) for x in nums[1:]]\n",
    "    data.add_node(node)\n",
    "    for i in tuples:\n",
    "        data.add_edge(node,i[0],i[1])\n",
    "f.close()"
   ]
  },
  {
   "cell_type": "code",
   "execution_count": 141,
   "metadata": {},
   "outputs": [],
   "source": [
    "def dijkstra(graph, initial):\n",
    "    \n",
    "    visited = {initial: 0} # Dictionary of visted nodes and minimum distance\n",
    "    path = {} # Amount of steps required to reach a given node\n",
    "    nodes = set(graph.nodes) # Set of nodes from graph object\n",
    "\n",
    "    while nodes:\n",
    "        \n",
    "        # No min_node for initial iteration\n",
    "        min_node = None\n",
    "        \n",
    "        # Check for minimum distance in remaining nodes\n",
    "        for node in nodes:\n",
    "            if node in visited:\n",
    "                if min_node is None:\n",
    "                    min_node = node\n",
    "                elif visited[node] < visited[min_node]:\n",
    "                    min_node = node\n",
    "                    \n",
    "        # Break while-loop in no nodes remain\n",
    "        if min_node is None:\n",
    "            break\n",
    "        \n",
    "        # Remove the minimum distance node from the list\n",
    "        # For the first iteration, this will be the inital node\n",
    "        nodes.remove(min_node)\n",
    "        current_weight = visited[min_node]\n",
    "        \n",
    "        # Search for the minimum distance path between current node\n",
    "        # and its neighbors\n",
    "        for edge in graph.edges[min_node]:\n",
    "            weight = current_weight + graph.distances[(min_node, edge)]\n",
    "            if edge not in visited or weight < visited[edge]:\n",
    "                visited[edge] = weight\n",
    "                path[edge] = min_node\n",
    "        # After this for-statement, the algorithm will continue checking\n",
    "\n",
    "    return visited, path"
   ]
  },
  {
   "cell_type": "code",
   "execution_count": 153,
   "metadata": {},
   "outputs": [
    {
     "name": "stdout",
     "output_type": "stream",
     "text": [
      "7 2599\n",
      "37 2610\n",
      "59 2947\n",
      "82 2052\n",
      "99 2367\n",
      "115 2399\n",
      "133 2029\n",
      "165 2442\n",
      "188 2505\n",
      "197 3068\n"
     ]
    }
   ],
   "source": [
    "x,y=dijkstra(data,1)\n",
    "for i in [7,37,59,82,99,115,133,165,188,197]:\n",
    "    print i,x[i]"
   ]
  }
 ],
 "metadata": {
  "kernelspec": {
   "display_name": "Python 2",
   "language": "python",
   "name": "python2"
  },
  "language_info": {
   "codemirror_mode": {
    "name": "ipython",
    "version": 2
   },
   "file_extension": ".py",
   "mimetype": "text/x-python",
   "name": "python",
   "nbconvert_exporter": "python",
   "pygments_lexer": "ipython2",
   "version": "2.7.15"
  }
 },
 "nbformat": 4,
 "nbformat_minor": 2
}
