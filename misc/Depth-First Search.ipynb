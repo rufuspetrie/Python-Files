{
 "cells": [
  {
   "cell_type": "markdown",
   "metadata": {},
   "source": [
    "- https://eddmann.com/posts/depth-first-search-and-breadth-first-search-in-python/"
   ]
  },
  {
   "cell_type": "markdown",
   "metadata": {},
   "source": [
    "- Depth-First Search (DFS)\n",
    "    - Explore graph aggresively, and only backtrack when necessary.\n",
    "    - Useful for Topological Sorting (directed acyclic graphs).\n",
    "    - Useful for determining strongly connected components (directed graphs).\n",
    "    - Running time of $O(m_s+n_s)$ (denoting nodes and edges reachable from node s)."
   ]
  },
  {
   "cell_type": "markdown",
   "metadata": {},
   "source": [
    "- Pseudo-Code:\n",
    "    - Start with a graph and a selected node.\n",
    "    - Add the beginning node to the top of the stack.\n",
    "    - Mark as explored.\n",
    "    - Check if the node has any adjacent nodes.\n",
    "        - If it does, add one node to the top of the stack and repeat the process.\n",
    "        - If it doesn't, pop the node and either end (empty stack), or repeat for next node in stack.\n",
    "    - Note: I was slightly confused because I thought the entire list of a node's neighbors was added to the stack (like BFS).\n",
    "        - Only one neighboring node is added to the top of the stack at a time, at which point we examine the new node's neighbors."
   ]
  },
  {
   "cell_type": "code",
   "execution_count": 7,
   "metadata": {},
   "outputs": [],
   "source": [
    "# Large Test Graph\n",
    "f = open('kargerMinCut.txt')\n",
    "lines = f.readlines()\n",
    "f.close()\n",
    "graph={}\n",
    "for line in lines:\n",
    "    ints=[int(x) for x in line.split()]\n",
    "    graph[ints[0]] = ints[1:]"
   ]
  },
  {
   "cell_type": "code",
   "execution_count": 6,
   "metadata": {},
   "outputs": [],
   "source": [
    "# Small Test Graph\n",
    "graph = {'A': set(['B', 'C']),\n",
    "         'B': set(['A', 'D', 'E']),\n",
    "         'C': set(['A', 'F']),\n",
    "         'D': set(['B']),\n",
    "         'E': set(['B', 'F']),\n",
    "         'F': set(['C', 'E'])}"
   ]
  },
  {
   "cell_type": "code",
   "execution_count": 8,
   "metadata": {},
   "outputs": [],
   "source": [
    "# This is okay, but it doesn't work on numberic graphs\n",
    "def dfs(graph, start):\n",
    "    visited, stack = set(), [start]\n",
    "    while stack:\n",
    "        vertex = stack.pop()\n",
    "        if vertex not in visited:\n",
    "            visited.add(vertex)\n",
    "            stack.extend(graph[vertex] - visited)\n",
    "    return visited"
   ]
  }
 ],
 "metadata": {
  "kernelspec": {
   "display_name": "Python 2",
   "language": "python",
   "name": "python2"
  },
  "language_info": {
   "codemirror_mode": {
    "name": "ipython",
    "version": 2
   },
   "file_extension": ".py",
   "mimetype": "text/x-python",
   "name": "python",
   "nbconvert_exporter": "python",
   "pygments_lexer": "ipython2",
   "version": "2.7.15"
  }
 },
 "nbformat": 4,
 "nbformat_minor": 2
}
