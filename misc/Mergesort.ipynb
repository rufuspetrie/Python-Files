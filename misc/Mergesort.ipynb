{
 "cells": [
  {
   "cell_type": "markdown",
   "metadata": {},
   "source": [
    "This video has a good mergesort walkthrough in Python: https://www.youtube.com/watch?v=iR1CXiC7OQc"
   ]
  },
  {
   "cell_type": "code",
   "execution_count": 4,
   "metadata": {},
   "outputs": [],
   "source": [
    "def merge(left,right):\n",
    "    result=[]                              # Initializes a resultant array\n",
    "    i,j=0,0                                # Initializes pointers to walk down the list\n",
    "    while i<len(left) and j<len(right):    # Performs sorting routine\n",
    "        if left[i]<right[j]:\n",
    "            result.append(left[i])\n",
    "            i+=1\n",
    "        else:\n",
    "            result.append(right[j])\n",
    "            j+=1\n",
    "    result+=left[i:]                       # Adds remaining (sorted) elements if lists have different size\n",
    "    result+=right[j:]\n",
    "    return result"
   ]
  },
  {
   "cell_type": "code",
   "execution_count": 5,
   "metadata": {},
   "outputs": [],
   "source": [
    "def mergesort(lst):\n",
    "    if len(lst)<=1:\n",
    "        return lst\n",
    "    mid=int(len(lst)/2)\n",
    "    left=mergesort(lst[:mid])\n",
    "    right=mergesort(lst[mid:])\n",
    "    return merge(left,right)"
   ]
  },
  {
   "cell_type": "code",
   "execution_count": 6,
   "metadata": {},
   "outputs": [
    {
     "name": "stdout",
     "output_type": "stream",
     "text": [
      "[-1, 0, 1, 1, 2, 2, 3, 4, 7, 9, 65]\n"
     ]
    }
   ],
   "source": [
    "arr=[1,2,-1,0,9,65,7,3,4,1,2]\n",
    "print mergesort(arr)"
   ]
  },
  {
   "cell_type": "markdown",
   "metadata": {},
   "source": [
    "So, what exactly is happening here? Here is the mechanism for this algorithm:\n",
    "    - Returns the array if the length is 1 or it's empty (trivial case)\n",
    "    - Otherwise, it picks a midpoint and performs mergesort on both halves of the array.\n",
    "    - The magic case is when an array reaches length two.\n",
    "    - At this point, the algorithm will perform one more split and start descending down the stack.\n",
    "    - In this case, the array will split the array into two elements, compare them, and return a sorted list.\n",
    "    - The key to understanding this algorithm is to imagine the stack of recursive calls."
   ]
  }
 ],
 "metadata": {
  "kernelspec": {
   "display_name": "Python 2",
   "language": "python",
   "name": "python2"
  },
  "language_info": {
   "codemirror_mode": {
    "name": "ipython",
    "version": 2
   },
   "file_extension": ".py",
   "mimetype": "text/x-python",
   "name": "python",
   "nbconvert_exporter": "python",
   "pygments_lexer": "ipython2",
   "version": "2.7.15"
  }
 },
 "nbformat": 4,
 "nbformat_minor": 2
}
