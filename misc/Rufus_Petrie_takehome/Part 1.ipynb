{
 "cells": [
  {
   "cell_type": "markdown",
   "id": "66803f5e",
   "metadata": {},
   "source": [
    "# Part 1"
   ]
  },
  {
   "cell_type": "code",
   "execution_count": 1,
   "id": "f460e4f0",
   "metadata": {},
   "outputs": [],
   "source": [
    "# Libraries, options\n",
    "import numpy as np\n",
    "import pandas as pd\n",
    "import matplotlib.pyplot as plt\n",
    "import seaborn as sns\n",
    "\n",
    "pd.set_option('max_colwidth', 16)\n",
    "pd.set_option(\"display.precision\", 3)"
   ]
  },
  {
   "cell_type": "markdown",
   "id": "ebdb76d8",
   "metadata": {},
   "source": [
    "# Digital Payment Data"
   ]
  },
  {
   "cell_type": "code",
   "execution_count": 2,
   "id": "5ca3b321",
   "metadata": {},
   "outputs": [],
   "source": [
    "# Import data\n",
    "data = pd.read_excel(\"Digital Planet_Candidate Assessment Part I.xlsx\",\n",
    "                    sheet_name = \"Made Digital Payments\",\n",
    "                    header = 2)"
   ]
  },
  {
   "cell_type": "code",
   "execution_count": 3,
   "id": "d09eacbe",
   "metadata": {},
   "outputs": [],
   "source": [
    "# Get rid of empty first column\n",
    "data = data.iloc[:, 1:]"
   ]
  },
  {
   "cell_type": "code",
   "execution_count": 4,
   "id": "e4145569",
   "metadata": {},
   "outputs": [],
   "source": [
    "# Rename columns\n",
    "data.columns = [\"country\", \"region\", \"income\", \"dpay\", \"year\"]"
   ]
  },
  {
   "cell_type": "code",
   "execution_count": 5,
   "id": "11c2ce54",
   "metadata": {},
   "outputs": [],
   "source": [
    "# Set data to wide format\n",
    "data = data.pivot(index=[\"country\", \"region\", \"income\"],\n",
    "                  columns=\"year\", values=\"dpay\").add_prefix(\"dpay_\").reset_index()\n",
    "data = data.rename_axis(None, axis=1)"
   ]
  },
  {
   "cell_type": "code",
   "execution_count": 6,
   "id": "218c1ffc",
   "metadata": {},
   "outputs": [
    {
     "data": {
      "text/html": [
       "<div>\n",
       "<style scoped>\n",
       "    .dataframe tbody tr th:only-of-type {\n",
       "        vertical-align: middle;\n",
       "    }\n",
       "\n",
       "    .dataframe tbody tr th {\n",
       "        vertical-align: top;\n",
       "    }\n",
       "\n",
       "    .dataframe thead th {\n",
       "        text-align: right;\n",
       "    }\n",
       "</style>\n",
       "<table border=\"1\" class=\"dataframe\">\n",
       "  <thead>\n",
       "    <tr style=\"text-align: right;\">\n",
       "      <th></th>\n",
       "      <th>country</th>\n",
       "      <th>region</th>\n",
       "      <th>income</th>\n",
       "      <th>dpay_2014</th>\n",
       "      <th>dpay_2017</th>\n",
       "      <th>dpay_2019</th>\n",
       "    </tr>\n",
       "  </thead>\n",
       "  <tbody>\n",
       "    <tr>\n",
       "      <th>0</th>\n",
       "      <td>Argentina</td>\n",
       "      <td>Latin Americ...</td>\n",
       "      <td>Upper middle...</td>\n",
       "      <td>0.313</td>\n",
       "      <td>0.319</td>\n",
       "      <td>NaN</td>\n",
       "    </tr>\n",
       "    <tr>\n",
       "      <th>1</th>\n",
       "      <td>Australia</td>\n",
       "      <td>High income</td>\n",
       "      <td>High income</td>\n",
       "      <td>0.932</td>\n",
       "      <td>0.936</td>\n",
       "      <td>NaN</td>\n",
       "    </tr>\n",
       "    <tr>\n",
       "      <th>2</th>\n",
       "      <td>Brazil</td>\n",
       "      <td>Latin Americ...</td>\n",
       "      <td>Upper middle...</td>\n",
       "      <td>0.470</td>\n",
       "      <td>0.459</td>\n",
       "      <td>NaN</td>\n",
       "    </tr>\n",
       "    <tr>\n",
       "      <th>3</th>\n",
       "      <td>Canada</td>\n",
       "      <td>High income</td>\n",
       "      <td>High income</td>\n",
       "      <td>0.949</td>\n",
       "      <td>0.970</td>\n",
       "      <td>NaN</td>\n",
       "    </tr>\n",
       "    <tr>\n",
       "      <th>4</th>\n",
       "      <td>Chile</td>\n",
       "      <td>High income</td>\n",
       "      <td>High income</td>\n",
       "      <td>0.470</td>\n",
       "      <td>0.564</td>\n",
       "      <td>NaN</td>\n",
       "    </tr>\n",
       "  </tbody>\n",
       "</table>\n",
       "</div>"
      ],
      "text/plain": [
       "     country           region           income  dpay_2014  dpay_2017  \\\n",
       "0  Argentina  Latin Americ...  Upper middle...      0.313      0.319   \n",
       "1  Australia      High income      High income      0.932      0.936   \n",
       "2     Brazil  Latin Americ...  Upper middle...      0.470      0.459   \n",
       "3     Canada      High income      High income      0.949      0.970   \n",
       "4      Chile      High income      High income      0.470      0.564   \n",
       "\n",
       "   dpay_2019  \n",
       "0        NaN  \n",
       "1        NaN  \n",
       "2        NaN  \n",
       "3        NaN  \n",
       "4        NaN  "
      ]
     },
     "execution_count": 6,
     "metadata": {},
     "output_type": "execute_result"
    }
   ],
   "source": [
    "# Take a peek at the data\n",
    "data.head()"
   ]
  },
  {
   "cell_type": "markdown",
   "id": "9538596b",
   "metadata": {},
   "source": [
    "# Imputing 2014/2017 Values\n",
    "- Because the countries with missing 2014/2017 values only have one observation, we have fewer options for this imputation\n",
    "- One possibility is that we could look at countries with similar regions/income and use the average of those values\n",
    "- Another possibility is that we could just set the missing 2014/2017 values equal to their other dpay value (no country is missing all three)\n",
    "\n",
    "Because I suspect that within-country variation will have a higher impact than the region/income categories, I'm going to replace the missing 2014/2017 value with the country's available 2014/2017 value."
   ]
  },
  {
   "cell_type": "code",
   "execution_count": 7,
   "id": "0d078e2a",
   "metadata": {},
   "outputs": [
    {
     "data": {
      "text/html": [
       "<div>\n",
       "<style scoped>\n",
       "    .dataframe tbody tr th:only-of-type {\n",
       "        vertical-align: middle;\n",
       "    }\n",
       "\n",
       "    .dataframe tbody tr th {\n",
       "        vertical-align: top;\n",
       "    }\n",
       "\n",
       "    .dataframe thead th {\n",
       "        text-align: right;\n",
       "    }\n",
       "</style>\n",
       "<table border=\"1\" class=\"dataframe\">\n",
       "  <thead>\n",
       "    <tr style=\"text-align: right;\">\n",
       "      <th></th>\n",
       "      <th>country</th>\n",
       "      <th>region</th>\n",
       "      <th>income</th>\n",
       "      <th>dpay_2014</th>\n",
       "      <th>dpay_2017</th>\n",
       "      <th>dpay_2019</th>\n",
       "    </tr>\n",
       "  </thead>\n",
       "  <tbody>\n",
       "    <tr>\n",
       "      <th>6</th>\n",
       "      <td>Colombia</td>\n",
       "      <td>Latin Americ...</td>\n",
       "      <td>Upper middle...</td>\n",
       "      <td>NaN</td>\n",
       "      <td>0.285</td>\n",
       "      <td>NaN</td>\n",
       "    </tr>\n",
       "    <tr>\n",
       "      <th>22</th>\n",
       "      <td>Philippines</td>\n",
       "      <td>East Asia &amp; ...</td>\n",
       "      <td>Lower middle...</td>\n",
       "      <td>NaN</td>\n",
       "      <td>0.136</td>\n",
       "      <td>NaN</td>\n",
       "    </tr>\n",
       "  </tbody>\n",
       "</table>\n",
       "</div>"
      ],
      "text/plain": [
       "        country           region           income  dpay_2014  dpay_2017  \\\n",
       "6      Colombia  Latin Americ...  Upper middle...        NaN      0.285   \n",
       "22  Philippines  East Asia & ...  Lower middle...        NaN      0.136   \n",
       "\n",
       "    dpay_2019  \n",
       "6         NaN  \n",
       "22        NaN  "
      ]
     },
     "execution_count": 7,
     "metadata": {},
     "output_type": "execute_result"
    }
   ],
   "source": [
    "# Which countries have missing 2014 values?\n",
    "data[data[\"dpay_2014\"].isnull()]"
   ]
  },
  {
   "cell_type": "code",
   "execution_count": 8,
   "id": "846258f3",
   "metadata": {},
   "outputs": [],
   "source": [
    "# Set these values equal to their 2017 values\n",
    "data.loc[6, \"dpay_2014\"] = data.loc[6, \"dpay_2017\"]\n",
    "data.loc[22, \"dpay_2014\"] = data.loc[22, \"dpay_2017\"]"
   ]
  },
  {
   "cell_type": "code",
   "execution_count": 9,
   "id": "223fc319",
   "metadata": {},
   "outputs": [
    {
     "data": {
      "text/html": [
       "<div>\n",
       "<style scoped>\n",
       "    .dataframe tbody tr th:only-of-type {\n",
       "        vertical-align: middle;\n",
       "    }\n",
       "\n",
       "    .dataframe tbody tr th {\n",
       "        vertical-align: top;\n",
       "    }\n",
       "\n",
       "    .dataframe thead th {\n",
       "        text-align: right;\n",
       "    }\n",
       "</style>\n",
       "<table border=\"1\" class=\"dataframe\">\n",
       "  <thead>\n",
       "    <tr style=\"text-align: right;\">\n",
       "      <th></th>\n",
       "      <th>country</th>\n",
       "      <th>region</th>\n",
       "      <th>income</th>\n",
       "      <th>dpay_2014</th>\n",
       "      <th>dpay_2017</th>\n",
       "      <th>dpay_2019</th>\n",
       "    </tr>\n",
       "  </thead>\n",
       "  <tbody>\n",
       "    <tr>\n",
       "      <th>12</th>\n",
       "      <td>Ireland</td>\n",
       "      <td>High income</td>\n",
       "      <td>High income</td>\n",
       "      <td>0.846</td>\n",
       "      <td>NaN</td>\n",
       "      <td>NaN</td>\n",
       "    </tr>\n",
       "    <tr>\n",
       "      <th>18</th>\n",
       "      <td>Mexico</td>\n",
       "      <td>Latin Americ...</td>\n",
       "      <td>Upper middle...</td>\n",
       "      <td>0.253</td>\n",
       "      <td>NaN</td>\n",
       "      <td>NaN</td>\n",
       "    </tr>\n",
       "  </tbody>\n",
       "</table>\n",
       "</div>"
      ],
      "text/plain": [
       "    country           region           income  dpay_2014  dpay_2017  dpay_2019\n",
       "12  Ireland      High income      High income      0.846        NaN        NaN\n",
       "18   Mexico  Latin Americ...  Upper middle...      0.253        NaN        NaN"
      ]
     },
     "execution_count": 9,
     "metadata": {},
     "output_type": "execute_result"
    }
   ],
   "source": [
    "# Which countries have missing 2017 values?\n",
    "data[data[\"dpay_2017\"].isnull()]"
   ]
  },
  {
   "cell_type": "code",
   "execution_count": 10,
   "id": "609bc599",
   "metadata": {},
   "outputs": [],
   "source": [
    "# Set these values equal to their 2014 values\n",
    "data.loc[12, \"dpay_2017\"] = data.loc[12, \"dpay_2014\"]\n",
    "data.loc[18, \"dpay_2017\"] = data.loc[18, \"dpay_2014\"]"
   ]
  },
  {
   "cell_type": "markdown",
   "id": "106bed80",
   "metadata": {},
   "source": [
    "# Imputing 2019 Values\n",
    "Here are the main imputation options I considered for this data:\n",
    "- Set 2019 equal to 2017 (most recent observation)\n",
    "- Set 2019 equal to the average of 2017 and 2014 (taking mean seems reasonable)\n",
    "- Project trend from 2014 to 2017 up to 2019 (constant trends assumption)\n",
    "- Use average from region/income level to impute data\n",
    "\n",
    "Of these options, using 2017 only doesn't make sense because we have access to more data. Taking the mean of 2014 and 2017 seems reasonable, but this wouldn't account for the upward/downward trajectory of the data. Using averages from the same region/income level also seems fine, but I suspect that within-country variation explains much more about the usage of digital payments than the broad characteristics of the country. Therefore, I'm going to impute the 2019 values by projecting the trend from 2014 to 2017. Note that this will create some values greater than 1, so I'm going to add half of the change from 2014 to 2017. I could have just capped the values at 1, but this would have led to a bunch of 1 values."
   ]
  },
  {
   "cell_type": "code",
   "execution_count": 11,
   "id": "5d9bc2c8",
   "metadata": {},
   "outputs": [],
   "source": [
    "# Impute 2019 values of dpay by continuing trend from 2014-2017\n",
    "data[\"dpay_2019\"] = data[\"dpay_2017\"] + 0.5 * (data[\"dpay_2017\"] - data[\"dpay_2014\"])"
   ]
  },
  {
   "cell_type": "markdown",
   "id": "23a66a54",
   "metadata": {},
   "source": [
    "# Trust in Tech Industry Data"
   ]
  },
  {
   "cell_type": "code",
   "execution_count": 12,
   "id": "70381ca9",
   "metadata": {},
   "outputs": [],
   "source": [
    "# Import Data\n",
    "data1 = pd.read_excel(\"Digital Planet_Candidate Assessment Part I.xlsx\",\n",
    "                      sheet_name = \"Trust in Tech Industry\",\n",
    "                      header = 2)"
   ]
  },
  {
   "cell_type": "code",
   "execution_count": 13,
   "id": "8c99f6f3",
   "metadata": {},
   "outputs": [],
   "source": [
    "# Get rid of empty first column\n",
    "data1 = data1.iloc[:, 1:]"
   ]
  },
  {
   "cell_type": "code",
   "execution_count": 14,
   "id": "459cfcf8",
   "metadata": {},
   "outputs": [],
   "source": [
    "# Rename columns, get rid of year\n",
    "data1.columns = [\"country\", \"ptrust_2017\", \"year\"]\n",
    "data1 = data1.iloc[:, :2]"
   ]
  },
  {
   "cell_type": "code",
   "execution_count": 15,
   "id": "059e2f99",
   "metadata": {},
   "outputs": [
    {
     "data": {
      "text/html": [
       "<div>\n",
       "<style scoped>\n",
       "    .dataframe tbody tr th:only-of-type {\n",
       "        vertical-align: middle;\n",
       "    }\n",
       "\n",
       "    .dataframe tbody tr th {\n",
       "        vertical-align: top;\n",
       "    }\n",
       "\n",
       "    .dataframe thead th {\n",
       "        text-align: right;\n",
       "    }\n",
       "</style>\n",
       "<table border=\"1\" class=\"dataframe\">\n",
       "  <thead>\n",
       "    <tr style=\"text-align: right;\">\n",
       "      <th></th>\n",
       "      <th>country</th>\n",
       "      <th>ptrust_2017</th>\n",
       "    </tr>\n",
       "  </thead>\n",
       "  <tbody>\n",
       "    <tr>\n",
       "      <th>0</th>\n",
       "      <td>Argentina</td>\n",
       "      <td>77.0</td>\n",
       "    </tr>\n",
       "    <tr>\n",
       "      <th>1</th>\n",
       "      <td>Australia</td>\n",
       "      <td>71.0</td>\n",
       "    </tr>\n",
       "    <tr>\n",
       "      <th>2</th>\n",
       "      <td>Brazil</td>\n",
       "      <td>82.0</td>\n",
       "    </tr>\n",
       "    <tr>\n",
       "      <th>3</th>\n",
       "      <td>Canada</td>\n",
       "      <td>72.0</td>\n",
       "    </tr>\n",
       "    <tr>\n",
       "      <th>4</th>\n",
       "      <td>Chile</td>\n",
       "      <td>NaN</td>\n",
       "    </tr>\n",
       "  </tbody>\n",
       "</table>\n",
       "</div>"
      ],
      "text/plain": [
       "     country  ptrust_2017\n",
       "0  Argentina         77.0\n",
       "1  Australia         71.0\n",
       "2     Brazil         82.0\n",
       "3     Canada         72.0\n",
       "4      Chile          NaN"
      ]
     },
     "execution_count": 15,
     "metadata": {},
     "output_type": "execute_result"
    }
   ],
   "source": [
    "# Take a peek at the data\n",
    "data1.head()"
   ]
  },
  {
   "cell_type": "code",
   "execution_count": 16,
   "id": "726a6202",
   "metadata": {},
   "outputs": [
    {
     "data": {
      "text/plain": [
       "array(['Hong Kong SAR, China', 'Korea, Rep.', 'Philippines',\n",
       "       'Russian Federation', 'United Arab Emirates', 'United Kingdom',\n",
       "       'United States'], dtype=object)"
      ]
     },
     "execution_count": 16,
     "metadata": {},
     "output_type": "execute_result"
    }
   ],
   "source": [
    "# I want to merge the datasets, but they use different country names\n",
    "# Names used in the first dataset\n",
    "x = data.country.unique()\n",
    "y = data1.country.unique()\n",
    "np.setdiff1d(x, y)"
   ]
  },
  {
   "cell_type": "code",
   "execution_count": 17,
   "id": "7bb75acc",
   "metadata": {},
   "outputs": [
    {
     "data": {
      "text/plain": [
       "array(['Hong Kong', 'Phillipines', 'Russia', 'South Korea', 'UAE', 'UK',\n",
       "       'US'], dtype=object)"
      ]
     },
     "execution_count": 17,
     "metadata": {},
     "output_type": "execute_result"
    }
   ],
   "source": [
    "# Names used in the second dataset\n",
    "np.setdiff1d(y, x)"
   ]
  },
  {
   "cell_type": "code",
   "execution_count": 18,
   "id": "d29f51f0",
   "metadata": {},
   "outputs": [],
   "source": [
    "# Replace country names with counterparts from first dataset\n",
    "data1.iloc[9, 0] = 'Hong Kong SAR, China'\n",
    "data1.iloc[21, 0] = 'Philippines'\n",
    "data1.iloc[23, 0] = 'Russian Federation'\n",
    "data1.iloc[26, 0] = 'Korea, Rep.'\n",
    "data1.iloc[30, 0] = 'United Arab Emirates'\n",
    "data1.iloc[31, 0] = 'United Kingdom'\n",
    "data1.iloc[32, 0] = 'United States'"
   ]
  },
  {
   "cell_type": "code",
   "execution_count": 19,
   "id": "43715a6c",
   "metadata": {},
   "outputs": [],
   "source": [
    "# Merge datasets\n",
    "data = data.merge(data1, how = \"inner\", on = \"country\")"
   ]
  },
  {
   "cell_type": "code",
   "execution_count": 20,
   "id": "9f6bfd98",
   "metadata": {},
   "outputs": [
    {
     "data": {
      "text/html": [
       "<div>\n",
       "<style scoped>\n",
       "    .dataframe tbody tr th:only-of-type {\n",
       "        vertical-align: middle;\n",
       "    }\n",
       "\n",
       "    .dataframe tbody tr th {\n",
       "        vertical-align: top;\n",
       "    }\n",
       "\n",
       "    .dataframe thead th {\n",
       "        text-align: right;\n",
       "    }\n",
       "</style>\n",
       "<table border=\"1\" class=\"dataframe\">\n",
       "  <thead>\n",
       "    <tr style=\"text-align: right;\">\n",
       "      <th></th>\n",
       "      <th>country</th>\n",
       "      <th>region</th>\n",
       "      <th>income</th>\n",
       "      <th>dpay_2014</th>\n",
       "      <th>dpay_2017</th>\n",
       "      <th>dpay_2019</th>\n",
       "      <th>ptrust_2017</th>\n",
       "    </tr>\n",
       "  </thead>\n",
       "  <tbody>\n",
       "    <tr>\n",
       "      <th>0</th>\n",
       "      <td>Argentina</td>\n",
       "      <td>Latin Americ...</td>\n",
       "      <td>Upper middle...</td>\n",
       "      <td>0.313</td>\n",
       "      <td>0.319</td>\n",
       "      <td>0.322</td>\n",
       "      <td>77.0</td>\n",
       "    </tr>\n",
       "    <tr>\n",
       "      <th>1</th>\n",
       "      <td>Australia</td>\n",
       "      <td>High income</td>\n",
       "      <td>High income</td>\n",
       "      <td>0.932</td>\n",
       "      <td>0.936</td>\n",
       "      <td>0.938</td>\n",
       "      <td>71.0</td>\n",
       "    </tr>\n",
       "    <tr>\n",
       "      <th>2</th>\n",
       "      <td>Brazil</td>\n",
       "      <td>Latin Americ...</td>\n",
       "      <td>Upper middle...</td>\n",
       "      <td>0.470</td>\n",
       "      <td>0.459</td>\n",
       "      <td>0.454</td>\n",
       "      <td>82.0</td>\n",
       "    </tr>\n",
       "    <tr>\n",
       "      <th>3</th>\n",
       "      <td>Canada</td>\n",
       "      <td>High income</td>\n",
       "      <td>High income</td>\n",
       "      <td>0.949</td>\n",
       "      <td>0.970</td>\n",
       "      <td>0.981</td>\n",
       "      <td>72.0</td>\n",
       "    </tr>\n",
       "    <tr>\n",
       "      <th>4</th>\n",
       "      <td>Chile</td>\n",
       "      <td>High income</td>\n",
       "      <td>High income</td>\n",
       "      <td>0.470</td>\n",
       "      <td>0.564</td>\n",
       "      <td>0.611</td>\n",
       "      <td>NaN</td>\n",
       "    </tr>\n",
       "  </tbody>\n",
       "</table>\n",
       "</div>"
      ],
      "text/plain": [
       "     country           region           income  dpay_2014  dpay_2017  \\\n",
       "0  Argentina  Latin Americ...  Upper middle...      0.313      0.319   \n",
       "1  Australia      High income      High income      0.932      0.936   \n",
       "2     Brazil  Latin Americ...  Upper middle...      0.470      0.459   \n",
       "3     Canada      High income      High income      0.949      0.970   \n",
       "4      Chile      High income      High income      0.470      0.564   \n",
       "\n",
       "   dpay_2019  ptrust_2017  \n",
       "0      0.322         77.0  \n",
       "1      0.938         71.0  \n",
       "2      0.454         82.0  \n",
       "3      0.981         72.0  \n",
       "4      0.611          NaN  "
      ]
     },
     "execution_count": 20,
     "metadata": {},
     "output_type": "execute_result"
    }
   ],
   "source": [
    "# Make sure everything went okay\n",
    "data.head()"
   ]
  },
  {
   "cell_type": "markdown",
   "id": "c684b0b2",
   "metadata": {},
   "source": [
    "# Imputing Ptrust Values\n",
    "- Once again, we have limited options for imputing this data\n",
    "- Because there's only one year for the ptrust variable, we can't infer values from previous years\n",
    "- This means that we can only really infer values from countries with similar regions/income levels\n",
    "\n",
    "Because of this, I'm going to be inferring ptrust values from countries with similar regions/incomes. For the high income region/income countries, there's a reasonable amount of countries, so I'm going to take the mean ptrust value from countries that have region and income both equal to high income. For the other countries, I'm just going to take the mean ptrust value from countries in the same region because there are fewer observations."
   ]
  },
  {
   "cell_type": "code",
   "execution_count": 21,
   "id": "4f62ff1e",
   "metadata": {},
   "outputs": [
    {
     "data": {
      "text/html": [
       "<div>\n",
       "<style scoped>\n",
       "    .dataframe tbody tr th:only-of-type {\n",
       "        vertical-align: middle;\n",
       "    }\n",
       "\n",
       "    .dataframe tbody tr th {\n",
       "        vertical-align: top;\n",
       "    }\n",
       "\n",
       "    .dataframe thead th {\n",
       "        text-align: right;\n",
       "    }\n",
       "</style>\n",
       "<table border=\"1\" class=\"dataframe\">\n",
       "  <thead>\n",
       "    <tr style=\"text-align: right;\">\n",
       "      <th></th>\n",
       "      <th>country</th>\n",
       "      <th>region</th>\n",
       "      <th>income</th>\n",
       "      <th>dpay_2014</th>\n",
       "      <th>dpay_2017</th>\n",
       "      <th>dpay_2019</th>\n",
       "      <th>ptrust_2017</th>\n",
       "    </tr>\n",
       "  </thead>\n",
       "  <tbody>\n",
       "    <tr>\n",
       "      <th>4</th>\n",
       "      <td>Chile</td>\n",
       "      <td>High income</td>\n",
       "      <td>High income</td>\n",
       "      <td>0.470</td>\n",
       "      <td>0.564</td>\n",
       "      <td>0.611</td>\n",
       "      <td>NaN</td>\n",
       "    </tr>\n",
       "    <tr>\n",
       "      <th>9</th>\n",
       "      <td>Hong Kong SA...</td>\n",
       "      <td>High income</td>\n",
       "      <td>High income</td>\n",
       "      <td>0.761</td>\n",
       "      <td>0.774</td>\n",
       "      <td>0.781</td>\n",
       "      <td>NaN</td>\n",
       "    </tr>\n",
       "    <tr>\n",
       "      <th>15</th>\n",
       "      <td>Kenya</td>\n",
       "      <td>Sub-Saharan ...</td>\n",
       "      <td>Lower middle...</td>\n",
       "      <td>0.662</td>\n",
       "      <td>0.764</td>\n",
       "      <td>0.815</td>\n",
       "      <td>NaN</td>\n",
       "    </tr>\n",
       "    <tr>\n",
       "      <th>20</th>\n",
       "      <td>Nigeria</td>\n",
       "      <td>Sub-Saharan ...</td>\n",
       "      <td>Lower middle...</td>\n",
       "      <td>0.292</td>\n",
       "      <td>0.237</td>\n",
       "      <td>0.210</td>\n",
       "      <td>NaN</td>\n",
       "    </tr>\n",
       "    <tr>\n",
       "      <th>21</th>\n",
       "      <td>Norway</td>\n",
       "      <td>High income</td>\n",
       "      <td>High income</td>\n",
       "      <td>0.978</td>\n",
       "      <td>0.989</td>\n",
       "      <td>0.994</td>\n",
       "      <td>NaN</td>\n",
       "    </tr>\n",
       "    <tr>\n",
       "      <th>22</th>\n",
       "      <td>Philippines</td>\n",
       "      <td>East Asia &amp; ...</td>\n",
       "      <td>Lower middle...</td>\n",
       "      <td>0.136</td>\n",
       "      <td>0.136</td>\n",
       "      <td>0.136</td>\n",
       "      <td>NaN</td>\n",
       "    </tr>\n",
       "    <tr>\n",
       "      <th>28</th>\n",
       "      <td>Sweden</td>\n",
       "      <td>High income</td>\n",
       "      <td>High income</td>\n",
       "      <td>0.977</td>\n",
       "      <td>0.975</td>\n",
       "      <td>0.974</td>\n",
       "      <td>NaN</td>\n",
       "    </tr>\n",
       "    <tr>\n",
       "      <th>31</th>\n",
       "      <td>United Kingdom</td>\n",
       "      <td>High income</td>\n",
       "      <td>High income</td>\n",
       "      <td>0.956</td>\n",
       "      <td>0.942</td>\n",
       "      <td>0.934</td>\n",
       "      <td>NaN</td>\n",
       "    </tr>\n",
       "  </tbody>\n",
       "</table>\n",
       "</div>"
      ],
      "text/plain": [
       "            country           region           income  dpay_2014  dpay_2017  \\\n",
       "4             Chile      High income      High income      0.470      0.564   \n",
       "9   Hong Kong SA...      High income      High income      0.761      0.774   \n",
       "15            Kenya  Sub-Saharan ...  Lower middle...      0.662      0.764   \n",
       "20          Nigeria  Sub-Saharan ...  Lower middle...      0.292      0.237   \n",
       "21           Norway      High income      High income      0.978      0.989   \n",
       "22      Philippines  East Asia & ...  Lower middle...      0.136      0.136   \n",
       "28           Sweden      High income      High income      0.977      0.975   \n",
       "31   United Kingdom      High income      High income      0.956      0.942   \n",
       "\n",
       "    dpay_2019  ptrust_2017  \n",
       "4       0.611          NaN  \n",
       "9       0.781          NaN  \n",
       "15      0.815          NaN  \n",
       "20      0.210          NaN  \n",
       "21      0.994          NaN  \n",
       "22      0.136          NaN  \n",
       "28      0.974          NaN  \n",
       "31      0.934          NaN  "
      ]
     },
     "execution_count": 21,
     "metadata": {},
     "output_type": "execute_result"
    }
   ],
   "source": [
    "# Which countries have missing ptrust values?\n",
    "data[data[\"ptrust_2017\"].isnull()]"
   ]
  },
  {
   "cell_type": "code",
   "execution_count": 22,
   "id": "5e278afe",
   "metadata": {},
   "outputs": [],
   "source": [
    "# Replace values for countries with high income\n",
    "high_ptrust = data[(data.region==\"High income\") & (data.income==\"High income\")][\"ptrust_2017\"].mean()\n",
    "data.loc[[4,9,21,28,31], \"ptrust_2017\"] = high_ptrust"
   ]
  },
  {
   "cell_type": "code",
   "execution_count": 23,
   "id": "b705dbf1",
   "metadata": {},
   "outputs": [],
   "source": [
    "# Replace values for African countries\n",
    "africa_ptrust = data[data.region==\"Sub-Saharan Africa (excluding high income)\"][\"ptrust_2017\"].mean()\n",
    "data.loc[[15,20], \"ptrust_2017\"] = africa_ptrust"
   ]
  },
  {
   "cell_type": "code",
   "execution_count": 24,
   "id": "d0cd4240",
   "metadata": {},
   "outputs": [],
   "source": [
    "# Replace value for the Philippines\n",
    "sea_ptrust = data[data.region==\"East Asia & Pacific (excluding high income)\"][\"ptrust_2017\"].mean()\n",
    "data.loc[22, \"ptrust_2017\"] = sea_ptrust"
   ]
  },
  {
   "cell_type": "code",
   "execution_count": 25,
   "id": "4a499bd0",
   "metadata": {},
   "outputs": [
    {
     "data": {
      "text/html": [
       "<div>\n",
       "<style scoped>\n",
       "    .dataframe tbody tr th:only-of-type {\n",
       "        vertical-align: middle;\n",
       "    }\n",
       "\n",
       "    .dataframe tbody tr th {\n",
       "        vertical-align: top;\n",
       "    }\n",
       "\n",
       "    .dataframe thead th {\n",
       "        text-align: right;\n",
       "    }\n",
       "</style>\n",
       "<table border=\"1\" class=\"dataframe\">\n",
       "  <thead>\n",
       "    <tr style=\"text-align: right;\">\n",
       "      <th></th>\n",
       "      <th>country</th>\n",
       "      <th>region</th>\n",
       "      <th>income</th>\n",
       "      <th>dpay_2014</th>\n",
       "      <th>dpay_2017</th>\n",
       "      <th>dpay_2019</th>\n",
       "      <th>ptrust_2017</th>\n",
       "    </tr>\n",
       "  </thead>\n",
       "  <tbody>\n",
       "    <tr>\n",
       "      <th>0</th>\n",
       "      <td>Argentina</td>\n",
       "      <td>Latin Americ...</td>\n",
       "      <td>Upper middle...</td>\n",
       "      <td>0.313</td>\n",
       "      <td>0.319</td>\n",
       "      <td>0.322</td>\n",
       "      <td>77.000</td>\n",
       "    </tr>\n",
       "    <tr>\n",
       "      <th>1</th>\n",
       "      <td>Australia</td>\n",
       "      <td>High income</td>\n",
       "      <td>High income</td>\n",
       "      <td>0.932</td>\n",
       "      <td>0.936</td>\n",
       "      <td>0.938</td>\n",
       "      <td>71.000</td>\n",
       "    </tr>\n",
       "    <tr>\n",
       "      <th>2</th>\n",
       "      <td>Brazil</td>\n",
       "      <td>Latin Americ...</td>\n",
       "      <td>Upper middle...</td>\n",
       "      <td>0.470</td>\n",
       "      <td>0.459</td>\n",
       "      <td>0.454</td>\n",
       "      <td>82.000</td>\n",
       "    </tr>\n",
       "    <tr>\n",
       "      <th>3</th>\n",
       "      <td>Canada</td>\n",
       "      <td>High income</td>\n",
       "      <td>High income</td>\n",
       "      <td>0.949</td>\n",
       "      <td>0.970</td>\n",
       "      <td>0.981</td>\n",
       "      <td>72.000</td>\n",
       "    </tr>\n",
       "    <tr>\n",
       "      <th>4</th>\n",
       "      <td>Chile</td>\n",
       "      <td>High income</td>\n",
       "      <td>High income</td>\n",
       "      <td>0.470</td>\n",
       "      <td>0.564</td>\n",
       "      <td>0.611</td>\n",
       "      <td>71.643</td>\n",
       "    </tr>\n",
       "  </tbody>\n",
       "</table>\n",
       "</div>"
      ],
      "text/plain": [
       "     country           region           income  dpay_2014  dpay_2017  \\\n",
       "0  Argentina  Latin Americ...  Upper middle...      0.313      0.319   \n",
       "1  Australia      High income      High income      0.932      0.936   \n",
       "2     Brazil  Latin Americ...  Upper middle...      0.470      0.459   \n",
       "3     Canada      High income      High income      0.949      0.970   \n",
       "4      Chile      High income      High income      0.470      0.564   \n",
       "\n",
       "   dpay_2019  ptrust_2017  \n",
       "0      0.322       77.000  \n",
       "1      0.938       71.000  \n",
       "2      0.454       82.000  \n",
       "3      0.981       72.000  \n",
       "4      0.611       71.643  "
      ]
     },
     "execution_count": 25,
     "metadata": {},
     "output_type": "execute_result"
    }
   ],
   "source": [
    "# How does the final dataframe look?\n",
    "data.head()"
   ]
  },
  {
   "cell_type": "code",
   "execution_count": 26,
   "id": "d1befa9f",
   "metadata": {},
   "outputs": [],
   "source": [
    "# Save to csv\n",
    "data.to_csv(\"part_1.csv\")"
   ]
  },
  {
   "cell_type": "markdown",
   "id": "aaa7705e",
   "metadata": {},
   "source": [
    "# Visualization"
   ]
  },
  {
   "cell_type": "code",
   "execution_count": 27,
   "id": "afd2a464",
   "metadata": {},
   "outputs": [
    {
     "data": {
      "text/plain": [
       "High income            19\n",
       "Upper middle income     9\n",
       "Lower middle income     5\n",
       "Name: income, dtype: int64"
      ]
     },
     "execution_count": 27,
     "metadata": {},
     "output_type": "execute_result"
    }
   ],
   "source": [
    "# What income groups are there?\n",
    "data.income.value_counts()"
   ]
  },
  {
   "cell_type": "code",
   "execution_count": 28,
   "id": "9fa45081",
   "metadata": {},
   "outputs": [
    {
     "data": {
      "image/png": "[encoded data removed]",
      "text/plain": [
       "<Figure size 576x576 with 1 Axes>"
      ]
     },
     "metadata": {
      "needs_background": "light"
     },
     "output_type": "display_data"
    }
   ],
   "source": [
    "# Scatter dpay vs. ptrust by income group\n",
    "fig, ax = plt.subplots(figsize=(8,8))\n",
    "groups = data.groupby(\"income\")\n",
    "for name, group in groups:\n",
    "    plt.scatter(100 * group[\"dpay_2017\"], group[\"ptrust_2017\"], label=name)\n",
    "    \n",
    "ax.set_title(\"Digital Transactions vs. Trust in Technology (2017)\")\n",
    "ax.set_xlabel(\"Percent Digital Payments\")\n",
    "ax.set_ylabel(\"Percent Trust in Technology\")\n",
    "\n",
    "ax.spines[\"top\"].set_visible(False)\n",
    "ax.spines[\"right\"].set_visible(False)\n",
    "\n",
    "plt.legend();"
   ]
  },
  {
   "cell_type": "markdown",
   "id": "54af9720",
   "metadata": {},
   "source": [
    "- For this graphic, I made a scatter plot of the percentage trust in technology vs percentage who made digital payments by country (both from 2017)\n",
    "    - I also considered graphing the change in percent digital payments, but there wasn't as clear of a pattern\n",
    "- Additionally, I colored each datapoint by the income level of the country\n",
    "- Note that the x and y axes start at 20 and 60 percent, respectively\n",
    "- For the most part, each income group forms a nice cluster of datapoints\n",
    "    - High income countries tend to made many digital payments and have low trust in tech\n",
    "    - Upper middle income countries made a medium amount of digital payments and have medium trust in tech\n",
    "    - Lower middle income countries made relatively few digital payments but have high trust in tech (only Kenya made many payments)"
   ]
  },
  {
   "cell_type": "markdown",
   "id": "efcb52c1",
   "metadata": {},
   "source": [
    "# What can we learn from these datasets?"
   ]
  },
  {
   "cell_type": "code",
   "execution_count": 29,
   "id": "c90c83b5",
   "metadata": {},
   "outputs": [
    {
     "data": {
      "text/html": [
       "<div>\n",
       "<style scoped>\n",
       "    .dataframe tbody tr th:only-of-type {\n",
       "        vertical-align: middle;\n",
       "    }\n",
       "\n",
       "    .dataframe tbody tr th {\n",
       "        vertical-align: top;\n",
       "    }\n",
       "\n",
       "    .dataframe thead th {\n",
       "        text-align: right;\n",
       "    }\n",
       "</style>\n",
       "<table border=\"1\" class=\"dataframe\">\n",
       "  <thead>\n",
       "    <tr style=\"text-align: right;\">\n",
       "      <th></th>\n",
       "      <th>dpay_2014</th>\n",
       "      <th>dpay_2017</th>\n",
       "      <th>dpay_2019</th>\n",
       "      <th>ptrust_2017</th>\n",
       "    </tr>\n",
       "  </thead>\n",
       "  <tbody>\n",
       "    <tr>\n",
       "      <th>dpay_2014</th>\n",
       "      <td>1.000</td>\n",
       "      <td>0.958</td>\n",
       "      <td>0.906</td>\n",
       "      <td>-0.704</td>\n",
       "    </tr>\n",
       "    <tr>\n",
       "      <th>dpay_2017</th>\n",
       "      <td>0.958</td>\n",
       "      <td>1.000</td>\n",
       "      <td>0.990</td>\n",
       "      <td>-0.711</td>\n",
       "    </tr>\n",
       "    <tr>\n",
       "      <th>dpay_2019</th>\n",
       "      <td>0.906</td>\n",
       "      <td>0.990</td>\n",
       "      <td>1.000</td>\n",
       "      <td>-0.693</td>\n",
       "    </tr>\n",
       "    <tr>\n",
       "      <th>ptrust_2017</th>\n",
       "      <td>-0.704</td>\n",
       "      <td>-0.711</td>\n",
       "      <td>-0.693</td>\n",
       "      <td>1.000</td>\n",
       "    </tr>\n",
       "  </tbody>\n",
       "</table>\n",
       "</div>"
      ],
      "text/plain": [
       "             dpay_2014  dpay_2017  dpay_2019  ptrust_2017\n",
       "dpay_2014        1.000      0.958      0.906       -0.704\n",
       "dpay_2017        0.958      1.000      0.990       -0.711\n",
       "dpay_2019        0.906      0.990      1.000       -0.693\n",
       "ptrust_2017     -0.704     -0.711     -0.693        1.000"
      ]
     },
     "execution_count": 29,
     "metadata": {},
     "output_type": "execute_result"
    }
   ],
   "source": [
    "# Correlations\n",
    "data.corr()"
   ]
  },
  {
   "cell_type": "code",
   "execution_count": 30,
   "id": "c161c494",
   "metadata": {},
   "outputs": [
    {
     "data": {
      "text/html": [
       "<div>\n",
       "<style scoped>\n",
       "    .dataframe tbody tr th:only-of-type {\n",
       "        vertical-align: middle;\n",
       "    }\n",
       "\n",
       "    .dataframe tbody tr th {\n",
       "        vertical-align: top;\n",
       "    }\n",
       "\n",
       "    .dataframe thead th {\n",
       "        text-align: right;\n",
       "    }\n",
       "</style>\n",
       "<table border=\"1\" class=\"dataframe\">\n",
       "  <thead>\n",
       "    <tr style=\"text-align: right;\">\n",
       "      <th></th>\n",
       "      <th>mean</th>\n",
       "      <th>min</th>\n",
       "      <th>max</th>\n",
       "      <th>std</th>\n",
       "    </tr>\n",
       "  </thead>\n",
       "  <tbody>\n",
       "    <tr>\n",
       "      <th>dpay_2014</th>\n",
       "      <td>0.630</td>\n",
       "      <td>0.136</td>\n",
       "      <td>0.978</td>\n",
       "      <td>0.282</td>\n",
       "    </tr>\n",
       "    <tr>\n",
       "      <th>dpay_2017</th>\n",
       "      <td>0.678</td>\n",
       "      <td>0.136</td>\n",
       "      <td>0.989</td>\n",
       "      <td>0.276</td>\n",
       "    </tr>\n",
       "    <tr>\n",
       "      <th>dpay_2019</th>\n",
       "      <td>0.702</td>\n",
       "      <td>0.136</td>\n",
       "      <td>0.994</td>\n",
       "      <td>0.282</td>\n",
       "    </tr>\n",
       "    <tr>\n",
       "      <th>ptrust_2017</th>\n",
       "      <td>76.411</td>\n",
       "      <td>59.000</td>\n",
       "      <td>93.000</td>\n",
       "      <td>8.261</td>\n",
       "    </tr>\n",
       "  </tbody>\n",
       "</table>\n",
       "</div>"
      ],
      "text/plain": [
       "               mean     min     max    std\n",
       "dpay_2014     0.630   0.136   0.978  0.282\n",
       "dpay_2017     0.678   0.136   0.989  0.276\n",
       "dpay_2019     0.702   0.136   0.994  0.282\n",
       "ptrust_2017  76.411  59.000  93.000  8.261"
      ]
     },
     "execution_count": 30,
     "metadata": {},
     "output_type": "execute_result"
    }
   ],
   "source": [
    "# Some summary statistics\n",
    "data.describe().transpose()[[\"mean\", \"min\", \"max\", \"std\"]]"
   ]
  },
  {
   "cell_type": "code",
   "execution_count": 31,
   "id": "febd55ee",
   "metadata": {},
   "outputs": [
    {
     "data": {
      "text/html": [
       "<div>\n",
       "<style scoped>\n",
       "    .dataframe tbody tr th:only-of-type {\n",
       "        vertical-align: middle;\n",
       "    }\n",
       "\n",
       "    .dataframe tbody tr th {\n",
       "        vertical-align: top;\n",
       "    }\n",
       "\n",
       "    .dataframe thead th {\n",
       "        text-align: right;\n",
       "    }\n",
       "</style>\n",
       "<table border=\"1\" class=\"dataframe\">\n",
       "  <thead>\n",
       "    <tr style=\"text-align: right;\">\n",
       "      <th>income</th>\n",
       "      <th>Lower middle income</th>\n",
       "      <th>Upper middle income</th>\n",
       "      <th>High income</th>\n",
       "    </tr>\n",
       "  </thead>\n",
       "  <tbody>\n",
       "    <tr>\n",
       "      <th>dpay_2014</th>\n",
       "      <td>0.282</td>\n",
       "      <td>0.397</td>\n",
       "      <td>0.833</td>\n",
       "    </tr>\n",
       "    <tr>\n",
       "      <th>dpay_2017</th>\n",
       "      <td>0.321</td>\n",
       "      <td>0.457</td>\n",
       "      <td>0.876</td>\n",
       "    </tr>\n",
       "    <tr>\n",
       "      <th>dpay_2019</th>\n",
       "      <td>0.340</td>\n",
       "      <td>0.487</td>\n",
       "      <td>0.898</td>\n",
       "    </tr>\n",
       "    <tr>\n",
       "      <th>ptrust_2017</th>\n",
       "      <td>86.067</td>\n",
       "      <td>81.111</td>\n",
       "      <td>71.643</td>\n",
       "    </tr>\n",
       "  </tbody>\n",
       "</table>\n",
       "</div>"
      ],
      "text/plain": [
       "income       Lower middle income  Upper middle income  High income\n",
       "dpay_2014              0.282                0.397            0.833\n",
       "dpay_2017              0.321                0.457            0.876\n",
       "dpay_2019              0.340                0.487            0.898\n",
       "ptrust_2017           86.067               81.111           71.643"
      ]
     },
     "execution_count": 31,
     "metadata": {},
     "output_type": "execute_result"
    }
   ],
   "source": [
    "# Average value by group\n",
    "x = data.groupby(\"income\").mean().transpose()\n",
    "x[[\"Lower middle income\", \"Upper middle income\", \"High income\"]]"
   ]
  },
  {
   "cell_type": "markdown",
   "id": "367eccf7",
   "metadata": {},
   "source": [
    "- There seems to be a negative correlation between trust in the tech industry and the percentage of people who made digital payments\n",
    "- People from lower middle income countries have a high amount of trust in tech, but they make relatively few digital payments\n",
    "- The amount of people making digital payments has been steadily increasing\n",
    "- Because of this, it seems like policies promoting the usage of digital payments in poorer countries have a good likelihood of succeeding\n",
    "- However, there are a bunch of limitations and caveats that accompany this idea\n",
    "    - The bottleneck for making digital payments clearly isn't trust, so factors like education, knowledge of personal finance, access to technology, availability of services, etc. might be the main things preventing usage of e-commerce, and these could be hard to change\n",
    "    - This dataset doesn't have information on many countries, so there might be a completely different story elsewhere\n",
    "- Therefore, it would be interesting to follow up on this analysis and ask a bunch of new questions:\n",
    "    - Do these trends persist in poorer countries not represented in this data?\n",
    "    - What is the main thing that prevents people in poorer countries from accessing the digital economy?\n",
    "    - Do people in poorer countries want to use technology for the digital economy, or for other reasons?\n",
    "    - Do people in poorer countries have the knowledge to use the digital economy?\n",
    "    - How many countries provide digital services for people in poorer countries?"
   ]
  }
 ],
 "metadata": {
  "kernelspec": {
   "display_name": "Python 3",
   "language": "python",
   "name": "python3"
  },
  "language_info": {
   "codemirror_mode": {
    "name": "ipython",
    "version": 3
   },
   "file_extension": ".py",
   "mimetype": "text/x-python",
   "name": "python",
   "nbconvert_exporter": "python",
   "pygments_lexer": "ipython3",
   "version": "3.8.8"
  }
 },
 "nbformat": 4,
 "nbformat_minor": 5
}
