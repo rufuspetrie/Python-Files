{
 "cells": [
  {
   "cell_type": "markdown",
   "metadata": {},
   "source": [
    "    - These quicksort algorithms are a bit more verbose than what I wrote originally, but they follow the exact comparison \n",
    "      mechanism that Professor Roughgarden outlined."
   ]
  },
  {
   "cell_type": "code",
   "execution_count": 17,
   "metadata": {},
   "outputs": [],
   "source": [
    "lines = map(int,open(\"QuickSort.txt\").read().splitlines())\n",
    "firstcomparison = 0\n",
    "lastcomparison = 0\n",
    "mediancomparison = 0\n",
    "\n",
    "def partition_first(array, leftend, rightend):\n",
    "    pivot = array[leftend]\n",
    "    i = leftend + 1\n",
    "    for j in range(leftend + 1, rightend):\n",
    "        if array[j] < pivot:\n",
    "            temp = array[j]\n",
    "            array[j] = array[i]\n",
    "            array[i] = temp\n",
    "            i += 1\n",
    "    leftendval = array[leftend]\n",
    "    array[leftend] = array[i-1]\n",
    "    array[i-1] = leftendval\n",
    "    return i - 1 \n",
    "\n",
    "def partition_last(array, leftend, rightend):    \n",
    "    pivot = array[rightend-1]\n",
    "    array[rightend-1] = array[leftend]\n",
    "    array[leftend] = pivot\n",
    "    i = leftend + 1\n",
    "    for j in range(leftend + 1, rightend):\n",
    "        if array[j] < pivot:\n",
    "            temp = array[j]\n",
    "            array[j] = array[i]\n",
    "            array[i] = temp\n",
    "            i += 1\n",
    "    leftendval = array[leftend]\n",
    "    array[leftend] = array[i-1]\n",
    "    array[i-1] = leftendval\n",
    "    return i - 1 \n",
    "\n",
    "def median(a, b, c):\n",
    "    if ( a - b) * (c - a) >= 0:\n",
    "        return a\n",
    "    elif (b - a) * (c - b) >= 0:\n",
    "        return b\n",
    "    else:\n",
    "        return c\n",
    "\n",
    "def partition_median(array, leftend, rightend):\n",
    "    left = array[leftend]\n",
    "    right = array[rightend-1]\n",
    "    length = rightend - leftend\n",
    "    if length % 2 == 0:\n",
    "        middle = array[leftend + length/2 - 1]\n",
    "    else:\n",
    "        middle = array[leftend + length/2]\n",
    "    pivot = median(left, right, middle)\n",
    "    pivotindex = array.index(pivot)\n",
    "    array[pivotindex] = array[leftend]\n",
    "    array[leftend] = pivot\n",
    "    i = leftend + 1\n",
    "    for j in range(leftend + 1, rightend):\n",
    "        if array[j] < pivot:\n",
    "            temp = array[j]\n",
    "            array[j] = array[i]\n",
    "            array[i] = temp\n",
    "            i += 1\n",
    "    leftendval = array[leftend]\n",
    "    array[leftend] = array[i-1]\n",
    "    array[i-1] = leftendval\n",
    "    return i - 1 \n",
    "\n",
    "def quick_sort1(array, leftindex, rightindex):\n",
    "    global firstcomparison\n",
    "    if leftindex < rightindex:   \n",
    "        newpivotindex = partition_first(array, leftindex, rightindex)\n",
    "        firstcomparison += (rightindex - leftindex - 1)\n",
    "        quick_sort1(array, leftindex, newpivotindex) \n",
    "        quick_sort1(array, newpivotindex + 1, rightindex)\n",
    "        \n",
    "def quicksort_last(array, leftindex, rightindex):\n",
    "    global lastcomparison\n",
    "    if leftindex < rightindex:\n",
    "        newpivotindex = partition_last(array, leftindex, rightindex)\n",
    "        lastcomparison += (rightindex - leftindex - 1)\n",
    "        quicksort_last(array, leftindex, newpivotindex)\n",
    "        quicksort_last(array, newpivotindex + 1, rightindex)\n",
    "        \n",
    "def quicksort_median(array, leftindex, rightindex):\n",
    "    global mediancomparison\n",
    "    if leftindex < rightindex:\n",
    "        newpivotindex = partition_median(array, leftindex, rightindex)\n",
    "        mediancomparison += (rightindex - leftindex - 1)\n",
    "        quicksort_median(array, leftindex, newpivotindex)\n",
    "        quicksort_median(array, newpivotindex + 1, rightindex)"
   ]
  },
  {
   "cell_type": "code",
   "execution_count": 7,
   "metadata": {},
   "outputs": [],
   "source": [
    "quick_sort1(lines,0,len(lines))"
   ]
  },
  {
   "cell_type": "code",
   "execution_count": 8,
   "metadata": {},
   "outputs": [
    {
     "name": "stdout",
     "output_type": "stream",
     "text": [
      "162085\n"
     ]
    }
   ],
   "source": [
    "print firstcomparison"
   ]
  },
  {
   "cell_type": "code",
   "execution_count": 12,
   "metadata": {},
   "outputs": [],
   "source": [
    "quicksort_last(lines,0,len(lines))"
   ]
  },
  {
   "cell_type": "code",
   "execution_count": 13,
   "metadata": {},
   "outputs": [
    {
     "name": "stdout",
     "output_type": "stream",
     "text": [
      "164123\n"
     ]
    }
   ],
   "source": [
    "print lastcomparison"
   ]
  },
  {
   "cell_type": "code",
   "execution_count": 18,
   "metadata": {},
   "outputs": [],
   "source": [
    "quicksort_median(lines,0,len(lines))"
   ]
  },
  {
   "cell_type": "code",
   "execution_count": 19,
   "metadata": {},
   "outputs": [
    {
     "name": "stdout",
     "output_type": "stream",
     "text": [
      "138382\n"
     ]
    }
   ],
   "source": [
    "print mediancomparison"
   ]
  }
 ],
 "metadata": {
  "kernelspec": {
   "display_name": "Python 2",
   "language": "python",
   "name": "python2"
  },
  "language_info": {
   "codemirror_mode": {
    "name": "ipython",
    "version": 2
   },
   "file_extension": ".py",
   "mimetype": "text/x-python",
   "name": "python",
   "nbconvert_exporter": "python",
   "pygments_lexer": "ipython2",
   "version": "2.7.15"
  }
 },
 "nbformat": 4,
 "nbformat_minor": 2
}
