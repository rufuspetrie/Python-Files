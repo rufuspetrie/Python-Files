{
 "cells": [
  {
   "cell_type": "markdown",
   "metadata": {},
   "source": [
    "Here are some other sorting algorithms that Professor Roughgarden's course didn't cover."
   ]
  },
  {
   "cell_type": "markdown",
   "metadata": {},
   "source": [
    "![alt text](2d5308d.JPG \"Title\")"
   ]
  },
  {
   "cell_type": "code",
   "execution_count": 13,
   "metadata": {},
   "outputs": [],
   "source": [
    "from random import randint\n",
    "def create_array(length=10,max=50):\n",
    "    return [randint(0,max) for x in range(length)]"
   ]
  },
  {
   "cell_type": "markdown",
   "metadata": {},
   "source": [
    "- Insertion Sort\n",
    "    - This algorithm splits the list into sorted and unsorted portions.\n",
    "    - First, the algorithm looks at the first element of the unsorted portion.\n",
    "    - It then performs comparisons until it finds where to insert this element.\n",
    "    - This process continues until the length of the sorted list equals the original length."
   ]
  },
  {
   "cell_type": "code",
   "execution_count": 27,
   "metadata": {},
   "outputs": [],
   "source": [
    "def insertion_sort(a):\n",
    "    for sort_len in range(1,len(a)):\n",
    "        cur_item=a[sort_len]\n",
    "        insert_index=sort_len\n",
    "        while insert_index>0 and cur_item<a[insert_index-1]:\n",
    "            a[insert_index]=a[insert_index-1]\n",
    "            insert_index-=1\n",
    "        a[insert_index]=cur_item\n",
    "    return a"
   ]
  },
  {
   "cell_type": "code",
   "execution_count": 28,
   "metadata": {},
   "outputs": [
    {
     "name": "stdout",
     "output_type": "stream",
     "text": [
      "[11, 28, 50, 14, 26, 49, 7, 32, 37, 39]\n",
      "[7, 11, 14, 26, 28, 32, 37, 39, 49, 50]\n"
     ]
    }
   ],
   "source": [
    "x=create_array()\n",
    "print x\n",
    "y=insertion_sort(x)\n",
    "print y"
   ]
  },
  {
   "cell_type": "markdown",
   "metadata": {},
   "source": [
    "- Bubble Sort:\n",
    "    - Set a boolean equal to false.\n",
    "    - Iterate through array.\n",
    "    - If two adjacent elements are in reverse order, swap them.\n",
    "    - If a swap is made, set the boolean equal to true.\n",
    "    - Continue iterating through the array until the boolean remains false.\n",
    "    - This algorithm can perform well if it works on a list that is already sorted."
   ]
  },
  {
   "cell_type": "code",
   "execution_count": 20,
   "metadata": {},
   "outputs": [],
   "source": [
    "def bubble_sort(a):\n",
    "    swapped=True\n",
    "    while swapped:\n",
    "        swapped=False\n",
    "        for i in range(1,len(a)):\n",
    "            if a[i-1]>a[i]:\n",
    "                a[i],a[i-1]=a[i-1],a[i]\n",
    "                swapped=True\n",
    "    return a"
   ]
  },
  {
   "cell_type": "code",
   "execution_count": 21,
   "metadata": {},
   "outputs": [
    {
     "name": "stdout",
     "output_type": "stream",
     "text": [
      "[18, 25, 26, 46, 34, 0, 43, 25, 39, 15]\n",
      "[0, 15, 18, 25, 25, 26, 34, 39, 43, 46]\n"
     ]
    }
   ],
   "source": [
    "x=create_array()\n",
    "print x\n",
    "y=bubble_sort(x)\n",
    "print y"
   ]
  },
  {
   "cell_type": "markdown",
   "metadata": {},
   "source": [
    "- Selection Sort\n",
    "    - This algorithm performs poorly in basically all circumstances.\n",
    "    - This algorithm splits the array into sorted and unsorted portions.\n",
    "    - It finds the minimum of the unsorted portion and appends it to the end of the sorted portion."
   ]
  },
  {
   "cell_type": "code",
   "execution_count": 22,
   "metadata": {},
   "outputs": [],
   "source": [
    "def selection_sort(a):\n",
    "    sort_len=0\n",
    "    while sort_len<len(a):\n",
    "        min_index=None\n",
    "        for i, j in enumerate(a[sort_len:]):\n",
    "            if min_index==None or j<a[min_index]:\n",
    "                min_index=i+sort_len\n",
    "        a[sort_len],a[min_index]=a[min_index],a[sort_len]\n",
    "        sort_len+=1\n",
    "    return a    "
   ]
  },
  {
   "cell_type": "code",
   "execution_count": 26,
   "metadata": {},
   "outputs": [
    {
     "name": "stdout",
     "output_type": "stream",
     "text": [
      "[28, 3, 37, 3, 41, 33, 6, 16, 6, 50]\n",
      "[3, 3, 6, 6, 16, 28, 33, 37, 41, 50]\n"
     ]
    }
   ],
   "source": [
    "x=create_array()\n",
    "print x\n",
    "y=selection_sort(x)\n",
    "print y"
   ]
  }
 ],
 "metadata": {
  "kernelspec": {
   "display_name": "Python 2",
   "language": "python",
   "name": "python2"
  },
  "language_info": {
   "codemirror_mode": {
    "name": "ipython",
    "version": 2
   },
   "file_extension": ".py",
   "mimetype": "text/x-python",
   "name": "python",
   "nbconvert_exporter": "python",
   "pygments_lexer": "ipython2",
   "version": "2.7.15"
  }
 },
 "nbformat": 4,
 "nbformat_minor": 2
}
