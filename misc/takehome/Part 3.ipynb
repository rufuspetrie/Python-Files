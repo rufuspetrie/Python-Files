{
 "cells": [
  {
   "cell_type": "code",
   "execution_count": 1,
   "metadata": {},
   "outputs": [],
   "source": [
    "# Load libraries\n",
    "import numpy as np\n",
    "import pandas as pd\n",
    "import matplotlib.pyplot as plt\n",
    "pd.set_option('display.float_format', lambda x: '%.3f' % x)\n",
    "\n",
    "%matplotlib inline"
   ]
  },
  {
   "cell_type": "code",
   "execution_count": 2,
   "metadata": {},
   "outputs": [],
   "source": [
    "# Load data\n",
    "data1 = pd.read_csv(\"take_home_data/data/names_id_age.csv\")\n",
    "data2 = pd.read_csv(\"take_home_data/data/lead_sale_stats.csv\")"
   ]
  },
  {
   "cell_type": "code",
   "execution_count": 3,
   "metadata": {},
   "outputs": [
    {
     "name": "stdout",
     "output_type": "stream",
     "text": [
      "<class 'pandas.core.frame.DataFrame'>\n",
      "RangeIndex: 1000 entries, 0 to 999\n",
      "Data columns (total 5 columns):\n",
      " #   Column     Non-Null Count  Dtype \n",
      "---  ------     --------------  ----- \n",
      " 0   id         1000 non-null   int64 \n",
      " 1   name       1000 non-null   object\n",
      " 2   age        1000 non-null   int64 \n",
      " 3   lead_id    1000 non-null   int64 \n",
      " 4   lead_type  1000 non-null   object\n",
      "dtypes: int64(3), object(2)\n",
      "memory usage: 39.2+ KB\n"
     ]
    }
   ],
   "source": [
    "# data1 characteristics\n",
    "data1.info()"
   ]
  },
  {
   "cell_type": "code",
   "execution_count": 4,
   "metadata": {},
   "outputs": [
    {
     "name": "stdout",
     "output_type": "stream",
     "text": [
      "<class 'pandas.core.frame.DataFrame'>\n",
      "RangeIndex: 1000 entries, 0 to 999\n",
      "Data columns (total 4 columns):\n",
      " #   Column         Non-Null Count  Dtype \n",
      "---  ------         --------------  ----- \n",
      " 0   lead_id        996 non-null    object\n",
      " 1   name           1000 non-null   object\n",
      " 2   bought_policy  1000 non-null   int64 \n",
      " 3   policy_amount  1000 non-null   int64 \n",
      "dtypes: int64(2), object(2)\n",
      "memory usage: 31.4+ KB\n"
     ]
    }
   ],
   "source": [
    "# data1 characteristics\n",
    "data2.info()"
   ]
  },
  {
   "cell_type": "code",
   "execution_count": 5,
   "metadata": {},
   "outputs": [
    {
     "data": {
      "text/html": [
       "<div>\n",
       "<style scoped>\n",
       "    .dataframe tbody tr th:only-of-type {\n",
       "        vertical-align: middle;\n",
       "    }\n",
       "\n",
       "    .dataframe tbody tr th {\n",
       "        vertical-align: top;\n",
       "    }\n",
       "\n",
       "    .dataframe thead th {\n",
       "        text-align: right;\n",
       "    }\n",
       "</style>\n",
       "<table border=\"1\" class=\"dataframe\">\n",
       "  <thead>\n",
       "    <tr style=\"text-align: right;\">\n",
       "      <th></th>\n",
       "      <th>id</th>\n",
       "      <th>name</th>\n",
       "      <th>age</th>\n",
       "      <th>lead_id</th>\n",
       "      <th>lead_type</th>\n",
       "    </tr>\n",
       "  </thead>\n",
       "  <tbody>\n",
       "    <tr>\n",
       "      <th>0</th>\n",
       "      <td>0</td>\n",
       "      <td>AN4UFZ08R</td>\n",
       "      <td>40</td>\n",
       "      <td>1197608</td>\n",
       "      <td>B</td>\n",
       "    </tr>\n",
       "    <tr>\n",
       "      <th>1</th>\n",
       "      <td>1</td>\n",
       "      <td>M0XPQP</td>\n",
       "      <td>41</td>\n",
       "      <td>1116417</td>\n",
       "      <td>C</td>\n",
       "    </tr>\n",
       "    <tr>\n",
       "      <th>2</th>\n",
       "      <td>2</td>\n",
       "      <td>LUH4V4F9</td>\n",
       "      <td>45</td>\n",
       "      <td>1125118</td>\n",
       "      <td>A</td>\n",
       "    </tr>\n",
       "    <tr>\n",
       "      <th>3</th>\n",
       "      <td>3</td>\n",
       "      <td>KVC2IK</td>\n",
       "      <td>47</td>\n",
       "      <td>449886</td>\n",
       "      <td>A</td>\n",
       "    </tr>\n",
       "    <tr>\n",
       "      <th>4</th>\n",
       "      <td>4</td>\n",
       "      <td>3CIXG65M6W</td>\n",
       "      <td>53</td>\n",
       "      <td>668018</td>\n",
       "      <td>B</td>\n",
       "    </tr>\n",
       "  </tbody>\n",
       "</table>\n",
       "</div>"
      ],
      "text/plain": [
       "   id        name  age  lead_id lead_type\n",
       "0   0   AN4UFZ08R   40  1197608         B\n",
       "1   1      M0XPQP   41  1116417         C\n",
       "2   2    LUH4V4F9   45  1125118         A\n",
       "3   3      KVC2IK   47   449886         A\n",
       "4   4  3CIXG65M6W   53   668018         B"
      ]
     },
     "execution_count": 5,
     "metadata": {},
     "output_type": "execute_result"
    }
   ],
   "source": [
    "# data1 sample observations\n",
    "data1.head()"
   ]
  },
  {
   "cell_type": "code",
   "execution_count": 6,
   "metadata": {},
   "outputs": [
    {
     "data": {
      "text/html": [
       "<div>\n",
       "<style scoped>\n",
       "    .dataframe tbody tr th:only-of-type {\n",
       "        vertical-align: middle;\n",
       "    }\n",
       "\n",
       "    .dataframe tbody tr th {\n",
       "        vertical-align: top;\n",
       "    }\n",
       "\n",
       "    .dataframe thead th {\n",
       "        text-align: right;\n",
       "    }\n",
       "</style>\n",
       "<table border=\"1\" class=\"dataframe\">\n",
       "  <thead>\n",
       "    <tr style=\"text-align: right;\">\n",
       "      <th></th>\n",
       "      <th>lead_id</th>\n",
       "      <th>name</th>\n",
       "      <th>bought_policy</th>\n",
       "      <th>policy_amount</th>\n",
       "    </tr>\n",
       "  </thead>\n",
       "  <tbody>\n",
       "    <tr>\n",
       "      <th>0</th>\n",
       "      <td>1197608_b</td>\n",
       "      <td>AN4UFZ08R</td>\n",
       "      <td>0</td>\n",
       "      <td>0</td>\n",
       "    </tr>\n",
       "    <tr>\n",
       "      <th>1</th>\n",
       "      <td>c_1116417</td>\n",
       "      <td>M0XPQP</td>\n",
       "      <td>1</td>\n",
       "      <td>403</td>\n",
       "    </tr>\n",
       "    <tr>\n",
       "      <th>2</th>\n",
       "      <td>a_1125118</td>\n",
       "      <td>LUH4V4F9</td>\n",
       "      <td>1</td>\n",
       "      <td>367</td>\n",
       "    </tr>\n",
       "    <tr>\n",
       "      <th>3</th>\n",
       "      <td>a_449886</td>\n",
       "      <td>KVC2IK</td>\n",
       "      <td>0</td>\n",
       "      <td>0</td>\n",
       "    </tr>\n",
       "    <tr>\n",
       "      <th>4</th>\n",
       "      <td>b_668018</td>\n",
       "      <td>3CIXG65M6W</td>\n",
       "      <td>0</td>\n",
       "      <td>0</td>\n",
       "    </tr>\n",
       "  </tbody>\n",
       "</table>\n",
       "</div>"
      ],
      "text/plain": [
       "     lead_id        name  bought_policy  policy_amount\n",
       "0  1197608_b   AN4UFZ08R              0              0\n",
       "1  c_1116417      M0XPQP              1            403\n",
       "2  a_1125118    LUH4V4F9              1            367\n",
       "3   a_449886      KVC2IK              0              0\n",
       "4   b_668018  3CIXG65M6W              0              0"
      ]
     },
     "execution_count": 6,
     "metadata": {},
     "output_type": "execute_result"
    }
   ],
   "source": [
    "# data1 sample observations\n",
    "data2.head()"
   ]
  },
  {
   "cell_type": "code",
   "execution_count": 7,
   "metadata": {},
   "outputs": [],
   "source": [
    "# Note: although I think the names are unique and equal in both dataframes, I will still be merging via lead_id,\n",
    "#       as larger datasets could have duplicate names\n",
    "# Fix lead type variable in 2nd dataframe\n",
    "data2[[\"split1\", \"split2\"]] = data2.lead_id.str.split(\"_\", expand=True)\n",
    "data2.loc[(data2.split1<data2.split2),\"lead_id\"] = data2.split1\n",
    "data2.loc[(data2.split1<data2.split2),\"lead_type\"] = data2.split2\n",
    "data2.loc[(data2.split1>data2.split2),\"lead_id\"] = data2.split2\n",
    "data2.loc[(data2.split1>data2.split2),\"lead_type\"] = data2.split1\n",
    "data2 = data2.drop(columns=[\"split1\", \"split2\"])"
   ]
  },
  {
   "cell_type": "code",
   "execution_count": 8,
   "metadata": {},
   "outputs": [],
   "source": [
    "# Fix some other variables\n",
    "data2 = data2.dropna()\n",
    "data2[\"lead_type\"] = data2[\"lead_type\"].str.upper()\n",
    "data2[\"lead_id\"] = data2[\"lead_id\"].astype(int)"
   ]
  },
  {
   "cell_type": "code",
   "execution_count": 9,
   "metadata": {},
   "outputs": [
    {
     "data": {
      "text/html": [
       "<div>\n",
       "<style scoped>\n",
       "    .dataframe tbody tr th:only-of-type {\n",
       "        vertical-align: middle;\n",
       "    }\n",
       "\n",
       "    .dataframe tbody tr th {\n",
       "        vertical-align: top;\n",
       "    }\n",
       "\n",
       "    .dataframe thead th {\n",
       "        text-align: right;\n",
       "    }\n",
       "</style>\n",
       "<table border=\"1\" class=\"dataframe\">\n",
       "  <thead>\n",
       "    <tr style=\"text-align: right;\">\n",
       "      <th></th>\n",
       "      <th>lead_id</th>\n",
       "      <th>name</th>\n",
       "      <th>bought_policy</th>\n",
       "      <th>policy_amount</th>\n",
       "      <th>lead_type</th>\n",
       "    </tr>\n",
       "  </thead>\n",
       "  <tbody>\n",
       "    <tr>\n",
       "      <th>0</th>\n",
       "      <td>1197608</td>\n",
       "      <td>AN4UFZ08R</td>\n",
       "      <td>0</td>\n",
       "      <td>0</td>\n",
       "      <td>B</td>\n",
       "    </tr>\n",
       "    <tr>\n",
       "      <th>1</th>\n",
       "      <td>1116417</td>\n",
       "      <td>M0XPQP</td>\n",
       "      <td>1</td>\n",
       "      <td>403</td>\n",
       "      <td>C</td>\n",
       "    </tr>\n",
       "    <tr>\n",
       "      <th>2</th>\n",
       "      <td>1125118</td>\n",
       "      <td>LUH4V4F9</td>\n",
       "      <td>1</td>\n",
       "      <td>367</td>\n",
       "      <td>A</td>\n",
       "    </tr>\n",
       "    <tr>\n",
       "      <th>3</th>\n",
       "      <td>449886</td>\n",
       "      <td>KVC2IK</td>\n",
       "      <td>0</td>\n",
       "      <td>0</td>\n",
       "      <td>A</td>\n",
       "    </tr>\n",
       "    <tr>\n",
       "      <th>4</th>\n",
       "      <td>668018</td>\n",
       "      <td>3CIXG65M6W</td>\n",
       "      <td>0</td>\n",
       "      <td>0</td>\n",
       "      <td>B</td>\n",
       "    </tr>\n",
       "  </tbody>\n",
       "</table>\n",
       "</div>"
      ],
      "text/plain": [
       "   lead_id        name  bought_policy  policy_amount lead_type\n",
       "0  1197608   AN4UFZ08R              0              0         B\n",
       "1  1116417      M0XPQP              1            403         C\n",
       "2  1125118    LUH4V4F9              1            367         A\n",
       "3   449886      KVC2IK              0              0         A\n",
       "4   668018  3CIXG65M6W              0              0         B"
      ]
     },
     "execution_count": 9,
     "metadata": {},
     "output_type": "execute_result"
    }
   ],
   "source": [
    "# Make sure everything went okay\n",
    "data2.head()"
   ]
  },
  {
   "cell_type": "code",
   "execution_count": 10,
   "metadata": {},
   "outputs": [],
   "source": [
    "# Merge dataframes\n",
    "data = pd.merge(data1, data2, on = \"lead_id\", how = \"inner\")"
   ]
  },
  {
   "cell_type": "code",
   "execution_count": 11,
   "metadata": {},
   "outputs": [
    {
     "data": {
      "text/html": [
       "<div>\n",
       "<style scoped>\n",
       "    .dataframe tbody tr th:only-of-type {\n",
       "        vertical-align: middle;\n",
       "    }\n",
       "\n",
       "    .dataframe tbody tr th {\n",
       "        vertical-align: top;\n",
       "    }\n",
       "\n",
       "    .dataframe thead th {\n",
       "        text-align: right;\n",
       "    }\n",
       "</style>\n",
       "<table border=\"1\" class=\"dataframe\">\n",
       "  <thead>\n",
       "    <tr style=\"text-align: right;\">\n",
       "      <th></th>\n",
       "      <th>id</th>\n",
       "      <th>name_x</th>\n",
       "      <th>age</th>\n",
       "      <th>lead_id</th>\n",
       "      <th>lead_type_x</th>\n",
       "      <th>name_y</th>\n",
       "      <th>bought_policy</th>\n",
       "      <th>policy_amount</th>\n",
       "      <th>lead_type_y</th>\n",
       "    </tr>\n",
       "  </thead>\n",
       "  <tbody>\n",
       "    <tr>\n",
       "      <th>0</th>\n",
       "      <td>0</td>\n",
       "      <td>AN4UFZ08R</td>\n",
       "      <td>40</td>\n",
       "      <td>1197608</td>\n",
       "      <td>B</td>\n",
       "      <td>AN4UFZ08R</td>\n",
       "      <td>0</td>\n",
       "      <td>0</td>\n",
       "      <td>B</td>\n",
       "    </tr>\n",
       "    <tr>\n",
       "      <th>1</th>\n",
       "      <td>1</td>\n",
       "      <td>M0XPQP</td>\n",
       "      <td>41</td>\n",
       "      <td>1116417</td>\n",
       "      <td>C</td>\n",
       "      <td>M0XPQP</td>\n",
       "      <td>1</td>\n",
       "      <td>403</td>\n",
       "      <td>C</td>\n",
       "    </tr>\n",
       "    <tr>\n",
       "      <th>2</th>\n",
       "      <td>2</td>\n",
       "      <td>LUH4V4F9</td>\n",
       "      <td>45</td>\n",
       "      <td>1125118</td>\n",
       "      <td>A</td>\n",
       "      <td>LUH4V4F9</td>\n",
       "      <td>1</td>\n",
       "      <td>367</td>\n",
       "      <td>A</td>\n",
       "    </tr>\n",
       "    <tr>\n",
       "      <th>3</th>\n",
       "      <td>3</td>\n",
       "      <td>KVC2IK</td>\n",
       "      <td>47</td>\n",
       "      <td>449886</td>\n",
       "      <td>A</td>\n",
       "      <td>KVC2IK</td>\n",
       "      <td>0</td>\n",
       "      <td>0</td>\n",
       "      <td>A</td>\n",
       "    </tr>\n",
       "    <tr>\n",
       "      <th>4</th>\n",
       "      <td>4</td>\n",
       "      <td>3CIXG65M6W</td>\n",
       "      <td>53</td>\n",
       "      <td>668018</td>\n",
       "      <td>B</td>\n",
       "      <td>3CIXG65M6W</td>\n",
       "      <td>0</td>\n",
       "      <td>0</td>\n",
       "      <td>B</td>\n",
       "    </tr>\n",
       "  </tbody>\n",
       "</table>\n",
       "</div>"
      ],
      "text/plain": [
       "   id      name_x  age  lead_id lead_type_x      name_y  bought_policy  \\\n",
       "0   0   AN4UFZ08R   40  1197608           B   AN4UFZ08R              0   \n",
       "1   1      M0XPQP   41  1116417           C      M0XPQP              1   \n",
       "2   2    LUH4V4F9   45  1125118           A    LUH4V4F9              1   \n",
       "3   3      KVC2IK   47   449886           A      KVC2IK              0   \n",
       "4   4  3CIXG65M6W   53   668018           B  3CIXG65M6W              0   \n",
       "\n",
       "   policy_amount lead_type_y  \n",
       "0              0           B  \n",
       "1            403           C  \n",
       "2            367           A  \n",
       "3              0           A  \n",
       "4              0           B  "
      ]
     },
     "execution_count": 11,
     "metadata": {},
     "output_type": "execute_result"
    }
   ],
   "source": [
    "# Make sure everything went okay\n",
    "data.head()"
   ]
  },
  {
   "cell_type": "code",
   "execution_count": 12,
   "metadata": {},
   "outputs": [
    {
     "data": {
      "text/plain": [
       "996"
      ]
     },
     "execution_count": 12,
     "metadata": {},
     "output_type": "execute_result"
    }
   ],
   "source": [
    "# Check if names are all equal\n",
    "sum(data[\"name_x\"] == data[\"name_y\"])"
   ]
  },
  {
   "cell_type": "code",
   "execution_count": 13,
   "metadata": {},
   "outputs": [
    {
     "data": {
      "text/plain": [
       "996"
      ]
     },
     "execution_count": 13,
     "metadata": {},
     "output_type": "execute_result"
    }
   ],
   "source": [
    "# Check if policy types are all equal\n",
    "sum(data[\"lead_type_x\"] == data[\"lead_type_y\"])"
   ]
  },
  {
   "cell_type": "code",
   "execution_count": 14,
   "metadata": {},
   "outputs": [],
   "source": [
    "# Drop unnecessary information\n",
    "drops = [\"id\", \"name_x\", \"lead_id\", \"lead_type_x\", \"name_y\"]\n",
    "data = data.drop(columns = drops)\n",
    "data = data.rename(columns={\"lead_type_y\": \"lead_type\"})"
   ]
  },
  {
   "cell_type": "code",
   "execution_count": 15,
   "metadata": {},
   "outputs": [
    {
     "data": {
      "text/html": [
       "<div>\n",
       "<style scoped>\n",
       "    .dataframe tbody tr th:only-of-type {\n",
       "        vertical-align: middle;\n",
       "    }\n",
       "\n",
       "    .dataframe tbody tr th {\n",
       "        vertical-align: top;\n",
       "    }\n",
       "\n",
       "    .dataframe thead th {\n",
       "        text-align: right;\n",
       "    }\n",
       "</style>\n",
       "<table border=\"1\" class=\"dataframe\">\n",
       "  <thead>\n",
       "    <tr style=\"text-align: right;\">\n",
       "      <th></th>\n",
       "      <th>age</th>\n",
       "      <th>bought_policy</th>\n",
       "      <th>policy_amount</th>\n",
       "      <th>lead_type</th>\n",
       "    </tr>\n",
       "  </thead>\n",
       "  <tbody>\n",
       "    <tr>\n",
       "      <th>0</th>\n",
       "      <td>40</td>\n",
       "      <td>0</td>\n",
       "      <td>0</td>\n",
       "      <td>B</td>\n",
       "    </tr>\n",
       "    <tr>\n",
       "      <th>1</th>\n",
       "      <td>41</td>\n",
       "      <td>1</td>\n",
       "      <td>403</td>\n",
       "      <td>C</td>\n",
       "    </tr>\n",
       "    <tr>\n",
       "      <th>2</th>\n",
       "      <td>45</td>\n",
       "      <td>1</td>\n",
       "      <td>367</td>\n",
       "      <td>A</td>\n",
       "    </tr>\n",
       "    <tr>\n",
       "      <th>3</th>\n",
       "      <td>47</td>\n",
       "      <td>0</td>\n",
       "      <td>0</td>\n",
       "      <td>A</td>\n",
       "    </tr>\n",
       "    <tr>\n",
       "      <th>4</th>\n",
       "      <td>53</td>\n",
       "      <td>0</td>\n",
       "      <td>0</td>\n",
       "      <td>B</td>\n",
       "    </tr>\n",
       "  </tbody>\n",
       "</table>\n",
       "</div>"
      ],
      "text/plain": [
       "   age  bought_policy  policy_amount lead_type\n",
       "0   40              0              0         B\n",
       "1   41              1            403         C\n",
       "2   45              1            367         A\n",
       "3   47              0              0         A\n",
       "4   53              0              0         B"
      ]
     },
     "execution_count": 15,
     "metadata": {},
     "output_type": "execute_result"
    }
   ],
   "source": [
    "# Make sure everything turned out okay\n",
    "data.head()"
   ]
  },
  {
   "cell_type": "markdown",
   "metadata": {},
   "source": [
    "Info we have: policy conversions, policy amounts, ages, lead types\n",
    "\n",
    "Questions to answer: how does lead type correlate with age, conversion rate, purchase amount\n",
    "\n",
    "The histograms I made didn't reveal much, and the scales of the variables are too various for barcharts, so I decided to make a table for my figure."
   ]
  },
  {
   "cell_type": "code",
   "execution_count": 16,
   "metadata": {},
   "outputs": [
    {
     "data": {
      "text/html": [
       "<div>\n",
       "<style scoped>\n",
       "    .dataframe tbody tr th:only-of-type {\n",
       "        vertical-align: middle;\n",
       "    }\n",
       "\n",
       "    .dataframe tbody tr th {\n",
       "        vertical-align: top;\n",
       "    }\n",
       "\n",
       "    .dataframe thead th {\n",
       "        text-align: right;\n",
       "    }\n",
       "</style>\n",
       "<table border=\"1\" class=\"dataframe\">\n",
       "  <thead>\n",
       "    <tr style=\"text-align: right;\">\n",
       "      <th></th>\n",
       "      <th>Count</th>\n",
       "      <th>Avg. Age</th>\n",
       "      <th>Conversion Rate</th>\n",
       "      <th>Avg. Purchase</th>\n",
       "      <th>Revenue</th>\n",
       "    </tr>\n",
       "    <tr>\n",
       "      <th>Lead Type</th>\n",
       "      <th></th>\n",
       "      <th></th>\n",
       "      <th></th>\n",
       "      <th></th>\n",
       "      <th></th>\n",
       "    </tr>\n",
       "  </thead>\n",
       "  <tbody>\n",
       "    <tr>\n",
       "      <th>A</th>\n",
       "      <td>344</td>\n",
       "      <td>49.782</td>\n",
       "      <td>55.814</td>\n",
       "      <td>346.490</td>\n",
       "      <td>66526</td>\n",
       "    </tr>\n",
       "    <tr>\n",
       "      <th>B</th>\n",
       "      <td>330</td>\n",
       "      <td>50.755</td>\n",
       "      <td>52.424</td>\n",
       "      <td>374.000</td>\n",
       "      <td>64702</td>\n",
       "    </tr>\n",
       "    <tr>\n",
       "      <th>C</th>\n",
       "      <td>322</td>\n",
       "      <td>50.376</td>\n",
       "      <td>59.627</td>\n",
       "      <td>370.693</td>\n",
       "      <td>71173</td>\n",
       "    </tr>\n",
       "  </tbody>\n",
       "</table>\n",
       "</div>"
      ],
      "text/plain": [
       "           Count  Avg. Age  Conversion Rate  Avg. Purchase  Revenue\n",
       "Lead Type                                                          \n",
       "A            344    49.782           55.814        346.490    66526\n",
       "B            330    50.755           52.424        374.000    64702\n",
       "C            322    50.376           59.627        370.693    71173"
      ]
     },
     "execution_count": 16,
     "metadata": {},
     "output_type": "execute_result"
    }
   ],
   "source": [
    "# Generate Table\n",
    "table = data.groupby(\"lead_type\").mean()[[\"age\", \"bought_policy\"]]\n",
    "table[\"Count\"] = data[\"lead_type\"].value_counts()\n",
    "table[\"bought_policy\"] = table[\"bought_policy\"] * 100\n",
    "table[\"Avg. Purchase\"] = data[data.bought_policy==1].groupby(\"lead_type\").mean()[\"policy_amount\"]\n",
    "table[\"Revenue\"] = data.groupby(\"lead_type\").sum()[\"policy_amount\"]\n",
    "table = table.rename(columns={\"age\": \"Avg. Age\", \"bought_policy\": \"Conversion Rate\"})\n",
    "table = table[[\"Count\", \"Avg. Age\", \"Conversion Rate\", \"Avg. Purchase\", \"Revenue\"]]\n",
    "table.index = table.index.rename(\"Lead Type\")\n",
    "table"
   ]
  },
  {
   "cell_type": "markdown",
   "metadata": {},
   "source": [
    "From this table, we see that each lead type had similar amounts and average ages, but type C leads had the highest conversion rate, a high average purchase, and the highest total revenue. Therefore, I would recommend that the executive team focus efforts on researching type C leads to better discern why they're so profitable."
   ]
  }
 ],
 "metadata": {
  "kernelspec": {
   "display_name": "Python 3",
   "language": "python",
   "name": "python3"
  },
  "language_info": {
   "codemirror_mode": {
    "name": "ipython",
    "version": 3
   },
   "file_extension": ".py",
   "mimetype": "text/x-python",
   "name": "python",
   "nbconvert_exporter": "python",
   "pygments_lexer": "ipython3",
   "version": "3.8.5"
  }
 },
 "nbformat": 4,
 "nbformat_minor": 4
}
