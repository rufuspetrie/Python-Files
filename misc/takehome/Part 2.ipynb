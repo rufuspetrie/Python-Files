{
 "cells": [
  {
   "cell_type": "code",
   "execution_count": 1,
   "metadata": {},
   "outputs": [],
   "source": [
    "# Load libraries\n",
    "import numpy as np\n",
    "import pandas as pd\n",
    "import datetime as dt\n",
    "import matplotlib.pyplot as plt\n",
    "pd.set_option('display.float_format', lambda x: '%.3f' % x)\n",
    "\n",
    "import patsy\n",
    "import statsmodels.api as sm\n",
    "import statsmodels.formula.api as smf\n",
    "\n",
    "%matplotlib inline"
   ]
  },
  {
   "cell_type": "code",
   "execution_count": 2,
   "metadata": {},
   "outputs": [],
   "source": [
    "# Load data\n",
    "data = pd.read_csv(\"take_home_data/data/conversion_rates.csv\")"
   ]
  },
  {
   "cell_type": "code",
   "execution_count": 3,
   "metadata": {},
   "outputs": [
    {
     "name": "stdout",
     "output_type": "stream",
     "text": [
      "<class 'pandas.core.frame.DataFrame'>\n",
      "RangeIndex: 280 entries, 0 to 279\n",
      "Data columns (total 6 columns):\n",
      " #   Column         Non-Null Count  Dtype \n",
      "---  ------         --------------  ----- \n",
      " 0   date           280 non-null    object\n",
      " 1   male           280 non-null    int64 \n",
      " 2   age            280 non-null    int64 \n",
      " 3   has_insurance  280 non-null    int64 \n",
      " 4   came_from      280 non-null    object\n",
      " 5   reached_end    280 non-null    int64 \n",
      "dtypes: int64(4), object(2)\n",
      "memory usage: 13.2+ KB\n"
     ]
    }
   ],
   "source": [
    "# Data characteristics\n",
    "data.info()"
   ]
  },
  {
   "cell_type": "code",
   "execution_count": 4,
   "metadata": {},
   "outputs": [
    {
     "data": {
      "text/html": [
       "<div>\n",
       "<style scoped>\n",
       "    .dataframe tbody tr th:only-of-type {\n",
       "        vertical-align: middle;\n",
       "    }\n",
       "\n",
       "    .dataframe tbody tr th {\n",
       "        vertical-align: top;\n",
       "    }\n",
       "\n",
       "    .dataframe thead th {\n",
       "        text-align: right;\n",
       "    }\n",
       "</style>\n",
       "<table border=\"1\" class=\"dataframe\">\n",
       "  <thead>\n",
       "    <tr style=\"text-align: right;\">\n",
       "      <th></th>\n",
       "      <th>date</th>\n",
       "      <th>male</th>\n",
       "      <th>age</th>\n",
       "      <th>has_insurance</th>\n",
       "      <th>came_from</th>\n",
       "      <th>reached_end</th>\n",
       "    </tr>\n",
       "  </thead>\n",
       "  <tbody>\n",
       "    <tr>\n",
       "      <th>0</th>\n",
       "      <td>2018-09-03</td>\n",
       "      <td>1</td>\n",
       "      <td>32</td>\n",
       "      <td>0</td>\n",
       "      <td>Insurance Site B</td>\n",
       "      <td>1</td>\n",
       "    </tr>\n",
       "    <tr>\n",
       "      <th>1</th>\n",
       "      <td>2018-09-07</td>\n",
       "      <td>1</td>\n",
       "      <td>35</td>\n",
       "      <td>0</td>\n",
       "      <td>Insurance Site A</td>\n",
       "      <td>0</td>\n",
       "    </tr>\n",
       "    <tr>\n",
       "      <th>2</th>\n",
       "      <td>2018-09-05</td>\n",
       "      <td>1</td>\n",
       "      <td>34</td>\n",
       "      <td>0</td>\n",
       "      <td>Insurance Site C</td>\n",
       "      <td>1</td>\n",
       "    </tr>\n",
       "    <tr>\n",
       "      <th>3</th>\n",
       "      <td>2018-09-03</td>\n",
       "      <td>1</td>\n",
       "      <td>32</td>\n",
       "      <td>0</td>\n",
       "      <td>Insurance Site C</td>\n",
       "      <td>1</td>\n",
       "    </tr>\n",
       "    <tr>\n",
       "      <th>4</th>\n",
       "      <td>2018-09-05</td>\n",
       "      <td>1</td>\n",
       "      <td>31</td>\n",
       "      <td>0</td>\n",
       "      <td>Google Search</td>\n",
       "      <td>0</td>\n",
       "    </tr>\n",
       "  </tbody>\n",
       "</table>\n",
       "</div>"
      ],
      "text/plain": [
       "         date  male  age  has_insurance         came_from  reached_end\n",
       "0  2018-09-03     1   32              0  Insurance Site B            1\n",
       "1  2018-09-07     1   35              0  Insurance Site A            0\n",
       "2  2018-09-05     1   34              0  Insurance Site C            1\n",
       "3  2018-09-03     1   32              0  Insurance Site C            1\n",
       "4  2018-09-05     1   31              0     Google Search            0"
      ]
     },
     "execution_count": 4,
     "metadata": {},
     "output_type": "execute_result"
    }
   ],
   "source": [
    "# Sample observations\n",
    "data.head()"
   ]
  },
  {
   "cell_type": "code",
   "execution_count": 5,
   "metadata": {},
   "outputs": [],
   "source": [
    "# Convert date from string to datetime object, keep month/day\n",
    "data[\"date\"] = pd.to_datetime(data[\"date\"])\n",
    "data[\"date\"] = data[\"date\"].dt.strftime(\"%m-%d\")"
   ]
  },
  {
   "cell_type": "code",
   "execution_count": 6,
   "metadata": {},
   "outputs": [
    {
     "data": {
      "text/plain": [
       "Google Search       83\n",
       "Insurance Site C    81\n",
       "Insurance Site B    64\n",
       "Insurance Site A    52\n",
       "Name: came_from, dtype: int64"
      ]
     },
     "execution_count": 6,
     "metadata": {},
     "output_type": "execute_result"
    }
   ],
   "source": [
    "# Check out sources\n",
    "data[\"came_from\"].value_counts()"
   ]
  },
  {
   "cell_type": "code",
   "execution_count": 7,
   "metadata": {},
   "outputs": [],
   "source": [
    "# Generate dummies for sources\n",
    "data[\"from_google\"] = data[\"came_from\"] == \"Google Search\"\n",
    "data[\"from_google\"] = data[\"from_google\"].map({True: 1, False:0})\n",
    "data[\"from_a\"] = data[\"came_from\"] == \"Insurance Site A\"\n",
    "data[\"from_a\"] = data[\"from_a\"].map({True: 1, False:0})\n",
    "data[\"from_b\"] = data[\"came_from\"] == \"Insurance Site B\"\n",
    "data[\"from_b\"] = data[\"from_b\"].map({True: 1, False:0})\n",
    "data[\"from_c\"] = data[\"came_from\"] == \"Insurance Site C\"\n",
    "data[\"from_c\"] = data[\"from_c\"].map({True: 1, False:0})\n",
    "data = data.drop(columns=\"came_from\")"
   ]
  },
  {
   "cell_type": "code",
   "execution_count": 8,
   "metadata": {},
   "outputs": [],
   "source": [
    "# Generate treatment variable\n",
    "data[\"treatment\"] = (data[\"date\"] >= \"09-05\")\n",
    "data[\"treatment\"] = data[\"treatment\"].map({True: 1, False:0})"
   ]
  },
  {
   "cell_type": "code",
   "execution_count": 9,
   "metadata": {},
   "outputs": [
    {
     "data": {
      "text/html": [
       "<div>\n",
       "<style scoped>\n",
       "    .dataframe tbody tr th:only-of-type {\n",
       "        vertical-align: middle;\n",
       "    }\n",
       "\n",
       "    .dataframe tbody tr th {\n",
       "        vertical-align: top;\n",
       "    }\n",
       "\n",
       "    .dataframe thead th {\n",
       "        text-align: right;\n",
       "    }\n",
       "</style>\n",
       "<table border=\"1\" class=\"dataframe\">\n",
       "  <thead>\n",
       "    <tr style=\"text-align: right;\">\n",
       "      <th></th>\n",
       "      <th>date</th>\n",
       "      <th>male</th>\n",
       "      <th>age</th>\n",
       "      <th>has_insurance</th>\n",
       "      <th>reached_end</th>\n",
       "      <th>from_google</th>\n",
       "      <th>from_a</th>\n",
       "      <th>from_b</th>\n",
       "      <th>from_c</th>\n",
       "      <th>treatment</th>\n",
       "    </tr>\n",
       "  </thead>\n",
       "  <tbody>\n",
       "    <tr>\n",
       "      <th>0</th>\n",
       "      <td>09-03</td>\n",
       "      <td>1</td>\n",
       "      <td>32</td>\n",
       "      <td>0</td>\n",
       "      <td>1</td>\n",
       "      <td>0</td>\n",
       "      <td>0</td>\n",
       "      <td>1</td>\n",
       "      <td>0</td>\n",
       "      <td>0</td>\n",
       "    </tr>\n",
       "    <tr>\n",
       "      <th>1</th>\n",
       "      <td>09-07</td>\n",
       "      <td>1</td>\n",
       "      <td>35</td>\n",
       "      <td>0</td>\n",
       "      <td>0</td>\n",
       "      <td>0</td>\n",
       "      <td>1</td>\n",
       "      <td>0</td>\n",
       "      <td>0</td>\n",
       "      <td>1</td>\n",
       "    </tr>\n",
       "    <tr>\n",
       "      <th>2</th>\n",
       "      <td>09-05</td>\n",
       "      <td>1</td>\n",
       "      <td>34</td>\n",
       "      <td>0</td>\n",
       "      <td>1</td>\n",
       "      <td>0</td>\n",
       "      <td>0</td>\n",
       "      <td>0</td>\n",
       "      <td>1</td>\n",
       "      <td>1</td>\n",
       "    </tr>\n",
       "    <tr>\n",
       "      <th>3</th>\n",
       "      <td>09-03</td>\n",
       "      <td>1</td>\n",
       "      <td>32</td>\n",
       "      <td>0</td>\n",
       "      <td>1</td>\n",
       "      <td>0</td>\n",
       "      <td>0</td>\n",
       "      <td>0</td>\n",
       "      <td>1</td>\n",
       "      <td>0</td>\n",
       "    </tr>\n",
       "    <tr>\n",
       "      <th>4</th>\n",
       "      <td>09-05</td>\n",
       "      <td>1</td>\n",
       "      <td>31</td>\n",
       "      <td>0</td>\n",
       "      <td>0</td>\n",
       "      <td>1</td>\n",
       "      <td>0</td>\n",
       "      <td>0</td>\n",
       "      <td>0</td>\n",
       "      <td>1</td>\n",
       "    </tr>\n",
       "  </tbody>\n",
       "</table>\n",
       "</div>"
      ],
      "text/plain": [
       "    date  male  age  has_insurance  reached_end  from_google  from_a  from_b  \\\n",
       "0  09-03     1   32              0            1            0       0       1   \n",
       "1  09-07     1   35              0            0            0       1       0   \n",
       "2  09-05     1   34              0            1            0       0       0   \n",
       "3  09-03     1   32              0            1            0       0       0   \n",
       "4  09-05     1   31              0            0            1       0       0   \n",
       "\n",
       "   from_c  treatment  \n",
       "0       0          0  \n",
       "1       0          1  \n",
       "2       1          1  \n",
       "3       1          0  \n",
       "4       0          1  "
      ]
     },
     "execution_count": 9,
     "metadata": {},
     "output_type": "execute_result"
    }
   ],
   "source": [
    "# Make sure everything went okay\n",
    "data.head()"
   ]
  },
  {
   "cell_type": "code",
   "execution_count": 10,
   "metadata": {},
   "outputs": [
    {
     "data": {
      "text/html": [
       "<div>\n",
       "<style scoped>\n",
       "    .dataframe tbody tr th:only-of-type {\n",
       "        vertical-align: middle;\n",
       "    }\n",
       "\n",
       "    .dataframe tbody tr th {\n",
       "        vertical-align: top;\n",
       "    }\n",
       "\n",
       "    .dataframe thead th {\n",
       "        text-align: right;\n",
       "    }\n",
       "</style>\n",
       "<table border=\"1\" class=\"dataframe\">\n",
       "  <thead>\n",
       "    <tr style=\"text-align: right;\">\n",
       "      <th></th>\n",
       "      <th>count</th>\n",
       "      <th>mean</th>\n",
       "      <th>std</th>\n",
       "    </tr>\n",
       "  </thead>\n",
       "  <tbody>\n",
       "    <tr>\n",
       "      <th>male</th>\n",
       "      <td>280.000</td>\n",
       "      <td>0.500</td>\n",
       "      <td>0.501</td>\n",
       "    </tr>\n",
       "    <tr>\n",
       "      <th>age</th>\n",
       "      <td>280.000</td>\n",
       "      <td>33.271</td>\n",
       "      <td>2.566</td>\n",
       "    </tr>\n",
       "    <tr>\n",
       "      <th>has_insurance</th>\n",
       "      <td>280.000</td>\n",
       "      <td>0.539</td>\n",
       "      <td>0.499</td>\n",
       "    </tr>\n",
       "    <tr>\n",
       "      <th>reached_end</th>\n",
       "      <td>280.000</td>\n",
       "      <td>0.464</td>\n",
       "      <td>0.500</td>\n",
       "    </tr>\n",
       "  </tbody>\n",
       "</table>\n",
       "</div>"
      ],
      "text/plain": [
       "                count   mean   std\n",
       "male          280.000  0.500 0.501\n",
       "age           280.000 33.271 2.566\n",
       "has_insurance 280.000  0.539 0.499\n",
       "reached_end   280.000  0.464 0.500"
      ]
     },
     "execution_count": 10,
     "metadata": {},
     "output_type": "execute_result"
    }
   ],
   "source": [
    "# Describe numeric variables\n",
    "data[[\"male\", \"age\", \"has_insurance\", \"reached_end\"]].describe().transpose()[[\"count\", \"mean\", \"std\"]]"
   ]
  },
  {
   "cell_type": "code",
   "execution_count": 11,
   "metadata": {},
   "outputs": [
    {
     "data": {
      "text/plain": [
       "0.3383458646616541"
      ]
     },
     "execution_count": 11,
     "metadata": {},
     "output_type": "execute_result"
    }
   ],
   "source": [
    "# Conversion rate before treatment\n",
    "data[data.treatment == 0][\"reached_end\"].mean()"
   ]
  },
  {
   "cell_type": "code",
   "execution_count": 12,
   "metadata": {},
   "outputs": [
    {
     "data": {
      "text/plain": [
       "0.5782312925170068"
      ]
     },
     "execution_count": 12,
     "metadata": {},
     "output_type": "execute_result"
    }
   ],
   "source": [
    "# Conversion rate after treatment\n",
    "data[data.treatment == 1][\"reached_end\"].mean()"
   ]
  },
  {
   "cell_type": "code",
   "execution_count": 13,
   "metadata": {},
   "outputs": [],
   "source": [
    "# Generate daily user counts\n",
    "daily_rate = data.date.value_counts().sort_index()"
   ]
  },
  {
   "cell_type": "code",
   "execution_count": 14,
   "metadata": {},
   "outputs": [
    {
     "data": {
      "image/png": "[encoded data removed]",
      "text/plain": [
       "<Figure size 576x360 with 1 Axes>"
      ]
     },
     "metadata": {
      "needs_background": "light"
     },
     "output_type": "display_data"
    }
   ],
   "source": [
    "# Graph daily user rates\n",
    "fig, ax = plt.subplots(figsize=(8,5))\n",
    "ax.bar(daily_rate.index, daily_rate, alpha=0.5)\n",
    "\n",
    "ax.spines['top'].set_visible(False)\n",
    "ax.spines['right'].set_visible(False)\n",
    "ax.set_title('Daily Users')\n",
    "ax.set_xlabel('Day')\n",
    "ax.set_ylabel('Users')\n",
    "\n",
    "plt.show()"
   ]
  },
  {
   "cell_type": "code",
   "execution_count": 15,
   "metadata": {},
   "outputs": [],
   "source": [
    "# Generate daily conversion rates\n",
    "daily_rate = data.groupby(\"date\")[\"reached_end\"].mean()"
   ]
  },
  {
   "cell_type": "code",
   "execution_count": 16,
   "metadata": {},
   "outputs": [
    {
     "data": {
      "image/png": "[encoded data removed]",
      "text/plain": [
       "<Figure size 576x360 with 1 Axes>"
      ]
     },
     "metadata": {
      "needs_background": "light"
     },
     "output_type": "display_data"
    }
   ],
   "source": [
    "# Graph daily conversion rates\n",
    "fig, ax = plt.subplots(figsize=(8,5))\n",
    "ax.bar(daily_rate.index, daily_rate, alpha=0.5)\n",
    "\n",
    "ax.spines['top'].set_visible(False)\n",
    "ax.spines['right'].set_visible(False)\n",
    "ax.set_title('Daily Conversion Rate')\n",
    "ax.set_xlabel('Day')\n",
    "ax.set_ylabel('Conversion Rate')\n",
    "\n",
    "plt.show()"
   ]
  },
  {
   "cell_type": "code",
   "execution_count": 17,
   "metadata": {},
   "outputs": [
    {
     "name": "stdout",
     "output_type": "stream",
     "text": [
      "                            OLS Regression Results                            \n",
      "==============================================================================\n",
      "Dep. Variable:            reached_end   R-squared:                       0.058\n",
      "Model:                            OLS   Adj. R-squared:                  0.054\n",
      "Method:                 Least Squares   F-statistic:                     17.02\n",
      "Date:                Sun, 08 Aug 2021   Prob (F-statistic):           4.89e-05\n",
      "Time:                        22:55:26   Log-Likelihood:                -194.19\n",
      "No. Observations:                 280   AIC:                             392.4\n",
      "Df Residuals:                     278   BIC:                             399.6\n",
      "Df Model:                           1                                         \n",
      "Covariance Type:            nonrobust                                         \n",
      "==============================================================================\n",
      "                 coef    std err          t      P>|t|      [0.025      0.975]\n",
      "------------------------------------------------------------------------------\n",
      "Intercept      0.3383      0.042      8.031      0.000       0.255       0.421\n",
      "treatment      0.2399      0.058      4.126      0.000       0.125       0.354\n",
      "==============================================================================\n",
      "Omnibus:                     1724.355   Durbin-Watson:                   2.170\n",
      "Prob(Omnibus):                  0.000   Jarque-Bera (JB):               36.018\n",
      "Skew:                           0.126   Prob(JB):                     1.51e-08\n",
      "Kurtosis:                       1.261   Cond. No.                         2.68\n",
      "==============================================================================\n",
      "\n",
      "Notes:\n",
      "[1] Standard Errors assume that the covariance matrix of the errors is correctly specified.\n"
     ]
    }
   ],
   "source": [
    "# Simple OLS of treatment on conversion\n",
    "res = smf.ols(\"reached_end ~ treatment\",\n",
    "             data = data).fit()\n",
    "print(res.summary())"
   ]
  },
  {
   "cell_type": "code",
   "execution_count": 18,
   "metadata": {},
   "outputs": [
    {
     "name": "stdout",
     "output_type": "stream",
     "text": [
      "                            OLS Regression Results                            \n",
      "==============================================================================\n",
      "Dep. Variable:            reached_end   R-squared:                       0.078\n",
      "Model:                            OLS   Adj. R-squared:                  0.055\n",
      "Method:                 Least Squares   F-statistic:                     3.720\n",
      "Date:                Sun, 08 Aug 2021   Prob (F-statistic):           0.000731\n",
      "Time:                        22:55:26   Log-Likelihood:                -191.07\n",
      "No. Observations:                 280   AIC:                             398.1\n",
      "Df Residuals:                     272   BIC:                             427.2\n",
      "Df Model:                           7                                         \n",
      "Covariance Type:                  HC3                                         \n",
      "=================================================================================\n",
      "                    coef    std err          z      P>|z|      [0.025      0.975]\n",
      "---------------------------------------------------------------------------------\n",
      "Intercept         0.7632      0.419      1.821      0.069      -0.058       1.585\n",
      "treatment         0.2520      0.066      3.824      0.000       0.123       0.381\n",
      "male              0.0271      0.060      0.454      0.650      -0.090       0.144\n",
      "age              -0.0123      0.013     -0.967      0.333      -0.037       0.013\n",
      "has_insurance    -0.0492      0.060     -0.815      0.415      -0.168       0.069\n",
      "from_google      -0.0866      0.075     -1.161      0.246      -0.233       0.060\n",
      "from_a            0.0059      0.095      0.062      0.950      -0.181       0.193\n",
      "from_b            0.0642      0.083      0.773      0.440      -0.099       0.227\n",
      "==============================================================================\n",
      "Omnibus:                     1903.365   Durbin-Watson:                   2.174\n",
      "Prob(Omnibus):                  0.000   Jarque-Bera (JB):               33.253\n",
      "Skew:                           0.095   Prob(JB):                     6.02e-08\n",
      "Kurtosis:                       1.322   Cond. No.                         471.\n",
      "==============================================================================\n",
      "\n",
      "Notes:\n",
      "[1] Standard Errors are heteroscedasticity robust (HC3)\n"
     ]
    }
   ],
   "source": [
    "# Multiple regression including more covariates\n",
    "# Note: from_c is omitted because it's perfectly colinear with the other sources\n",
    "# Note: assumed heteroskedasticity for more rigid standard error estimates\n",
    "# Note: if we actually wanted to make predictions about conversion probabilities, we should use logit,\n",
    "#       but this regression will suffice for inferential purposes\n",
    "res = smf.ols(\"reached_end ~ treatment + male + age + has_insurance + from_google + from_a + from_b\",\n",
    "             data = data).fit(cov_type=\"HC3\")\n",
    "print(res.summary())"
   ]
  },
  {
   "cell_type": "markdown",
   "metadata": {},
   "source": [
    "# Conclusions\n",
    "- Based on my observations, it appears that the new website feature improved conversion.\n",
    "- I observed a conversion rate of 33.83% before the feature launch and 57.82% after the feature launch.\n",
    "- The feature launch did not have a noticeable impact on the number of daily observations.\n",
    "- A noticeable spike in conversion rate accompanied the feature launch, but this spike dimished daily after the launch.\n",
    "- In both the simple and multiple regression models, the treatment variable p-value rounded to zero, meaning that shopping after the feature launch has a strong statistical association with reaching the end of flow. The coefficient also had a strong positive value, indicating that the launch led to an increase in conversions.\n",
    "\n",
    "Based on these findings, we can safely conclude that the feature launch had a positive impact on conversion rate. However, we should be mindful that the impact of the feature launch appeared to diminish each passing day. Therefore, it would be imperative to continue monitoring the conversion rates longer after the launch. Furthermore, we also have a fairly small sample size, especially relative to the amount of covariates we have in the multiple regression model. Although we observed a fairly small p-value for the treatment variable, it would be hard to expand the model with interactions, etc. because standard errors would grow quickly."
   ]
  }
 ],
 "metadata": {
  "kernelspec": {
   "display_name": "Python 3",
   "language": "python",
   "name": "python3"
  },
  "language_info": {
   "codemirror_mode": {
    "name": "ipython",
    "version": 3
   },
   "file_extension": ".py",
   "mimetype": "text/x-python",
   "name": "python",
   "nbconvert_exporter": "python",
   "pygments_lexer": "ipython3",
   "version": "3.8.5"
  }
 },
 "nbformat": 4,
 "nbformat_minor": 4
}
