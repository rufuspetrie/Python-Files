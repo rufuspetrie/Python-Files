{
 "cells": [
  {
   "cell_type": "markdown",
   "metadata": {},
   "source": [
    "Here are some useful webpages regarding graphs:\n",
    "\n",
    "https://networkx.github.io/documentation/networkx-1.10/tutorial/tutorial.html\n",
    "\n",
    "https://www.python-course.eu/graphs_python.php\n",
    "\n",
    "https://www.udacity.com/wiki/creating-network-graphs-with-python\n",
    "\n",
    "https://stackoverflow.com/questions/29572623/plot-networkx-graph-from-adjacency-matrix-in-csv-file"
   ]
  },
  {
   "cell_type": "code",
   "execution_count": 7,
   "metadata": {},
   "outputs": [],
   "source": [
    "f = open('kargerMinCut.txt')\n",
    "lines = f.readlines()\n",
    "f.close()\n",
    "graph={}\n",
    "for line in lines:\n",
    "    ints=[int(x) for x in line.split()]\n",
    "    graph[ints[0]] = ints[1:]"
   ]
  },
  {
   "cell_type": "code",
   "execution_count": 12,
   "metadata": {},
   "outputs": [],
   "source": [
    "import matplotlib.pyplot as plt\n",
    "import networkx as nx\n",
    "G=nx.Graph()"
   ]
  },
  {
   "cell_type": "code",
   "execution_count": 19,
   "metadata": {},
   "outputs": [
    {
     "name": "stdout",
     "output_type": "stream",
     "text": [
      "abd\n"
     ]
    }
   ],
   "source": [
    "s=\"aaabccddd\"\n",
    "def super_reduced_string(s):\n",
    "    res = [] # stack\n",
    "    for c in s:\n",
    "        if res and res[len(res)-1] == c: # peek what's on top\n",
    "            res.pop()\n",
    "        else:\n",
    "            res.append(c)    \n",
    "    res = ''.join(res)\n",
    "    return res or 'Empty String'\n",
    "print super_reduced_string(s)"
   ]
  },
  {
   "cell_type": "code",
   "execution_count": 17,
   "metadata": {},
   "outputs": [],
   "source": [
    "def reduced(s):\n",
    "    stack=[]\n",
    "    for i in s:\n",
    "        if len(stack)!=0 and stack[-1]==i:\n",
    "            stack.pop()\n",
    "        else:\n",
    "            stack.append(i)\n",
    "    out=''.join(stack)\n",
    "    if len(stack)>0:\n",
    "        return stack\n",
    "    return 'Empty String'"
   ]
  },
  {
   "cell_type": "code",
   "execution_count": 18,
   "metadata": {},
   "outputs": [
    {
     "name": "stdout",
     "output_type": "stream",
     "text": [
      "['a', 'b', 'd']\n"
     ]
    }
   ],
   "source": [
    "print reduced(\"aaabccddd\")"
   ]
  },
  {
   "cell_type": "code",
   "execution_count": null,
   "metadata": {},
   "outputs": [],
   "source": []
  }
 ],
 "metadata": {
  "kernelspec": {
   "display_name": "Python 2",
   "language": "python",
   "name": "python2"
  },
  "language_info": {
   "codemirror_mode": {
    "name": "ipython",
    "version": 2
   },
   "file_extension": ".py",
   "mimetype": "text/x-python",
   "name": "python",
   "nbconvert_exporter": "python",
   "pygments_lexer": "ipython2",
   "version": "2.7.15"
  }
 },
 "nbformat": 4,
 "nbformat_minor": 2
}
