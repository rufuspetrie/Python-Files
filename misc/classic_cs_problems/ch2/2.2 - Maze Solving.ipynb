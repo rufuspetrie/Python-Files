{
 "cells": [
  {
   "cell_type": "code",
   "execution_count": 1,
   "id": "62f93aa1",
   "metadata": {},
   "outputs": [],
   "source": [
    "# Libraries\n",
    "from enum import Enum\n",
    "from typing import List, NamedTuple, Callable, Optional\n",
    "import random\n",
    "from math import sqrt\n",
    "from generic_search import dfs, bfs, node_to_path, astar, Node"
   ]
  },
  {
   "cell_type": "code",
   "execution_count": 2,
   "id": "d63f9c79",
   "metadata": {},
   "outputs": [],
   "source": [
    "# Class for describing maze with 2d grid of cells\n",
    "class Cell(str, Enum):\n",
    "    EMPTY = \" \"\n",
    "    BLOCKED = \"X\"\n",
    "    START = \"S\"\n",
    "    GOAL = \"G\"\n",
    "    PATH = \"*\""
   ]
  },
  {
   "cell_type": "code",
   "execution_count": 3,
   "id": "86f947d7",
   "metadata": {},
   "outputs": [],
   "source": [
    "# Class for describing location in maze\n",
    "class MazeLocation(NamedTuple):\n",
    "    row: int\n",
    "    column: int"
   ]
  },
  {
   "cell_type": "code",
   "execution_count": 4,
   "id": "41dcb94c",
   "metadata": {},
   "outputs": [],
   "source": [
    "# Class to generate random maze\n",
    "class Maze:\n",
    "    def __init__(self, rows: int = 10, columns: int = 10,\n",
    "                 sparseness: float = 0.2,\n",
    "                 start: MazeLocation = MazeLocation(0, 0), \n",
    "                 goal: MazeLocation = MazeLocation(9, 9)) -> None:\n",
    "        \n",
    "        # Initialization variables\n",
    "        self._rows: int = rows\n",
    "        self._columns: int = columns\n",
    "        self.start: MazeLocation = start\n",
    "        self.goal: MazeLocation = goal\n",
    "        \n",
    "        # Generate grid and then start/end locations\n",
    "        self._grid: List[List[Cell]] = [[Cell.EMPTY for c in range(columns)] for r in range(rows)]\n",
    "        self._randomly_fill(rows, columns, sparseness)\n",
    "        self._grid[start.row][start.column] = Cell.START\n",
    "        self._grid[goal.row][goal.column] = Cell.GOAL\n",
    "    \n",
    "    # Add impediments to maze based off of sparsity level\n",
    "    def _randomly_fill(self, rows: int, columns: int, sparseness: float):\n",
    "        for row in range(rows):\n",
    "            for column in range(columns):\n",
    "                if random.uniform(0, 1.0) < sparseness:\n",
    "                    self._grid[row][column] = Cell.BLOCKED\n",
    "    \n",
    "    # Print maze\n",
    "    def __str__(self) -> str:\n",
    "        output: str = \"\"\n",
    "        for row in self._grid:\n",
    "            output += \"\".join([c.value for c in row]) + \"\\n\"\n",
    "        return output\n",
    "    \n",
    "    # Check if we've reached the goal location\n",
    "    def goal_test(self, ml: MazeLocation) -> bool:\n",
    "        return ml == self.goal\n",
    "    \n",
    "    # Check for viable next moves\n",
    "    def successors(self, ml: MazeLocation) -> List[MazeLocation]:\n",
    "        locations: List[MazeLocation] = []\n",
    "        if ml.row + 1 < self._rows and self._grid[ml.row + 1][ml.column] != Cell.BLOCKED:\n",
    "            locations.append(MazeLocation(ml.row + 1, ml.column))\n",
    "        if ml.row - 1 >= 0 and self._grid[ml.row - 1][ml.column] != Cell.BLOCKED:\n",
    "            locations.append(MazeLocation(ml.row - 1, ml.column))\n",
    "        if ml.column + 1 < self._columns and self._grid[ml.row][ml.column + 1] != Cell.BLOCKED:\n",
    "            locations.append(MazeLocation(ml.row, ml.column + 1))\n",
    "        if ml.column - 1 >= 0 and self._grid[ml.row][ml.column - 1] != Cell.BLOCKED:\n",
    "            locations.append(MazeLocation(ml.row, ml.column - 1))\n",
    "        return locations\n",
    "    \n",
    "    # Show path taken\n",
    "    def mark(self, path: List[MazeLocation]):\n",
    "        for maze_location in path:\n",
    "            self._grid[maze_location.row][maze_location.column] = Cell.PATH\n",
    "        self._grid[self.start.row][self.start.column] = Cell.START\n",
    "        self._grid[self.goal.row][self.goal.column] = Cell.GOAL\n",
    "        \n",
    "    # Clear path taken\n",
    "    def clear(self, path: List[MazeLocation]):\n",
    "        for maze_location in path:\n",
    "            self._grid[maze_location.row][maze_location.column] = Cell.EMPTY\n",
    "        self._grid[self.start.row][self.start.column] = Cell.START\n",
    "        self._grid[self.goal.row][self.goal.column] = Cell.GOAL"
   ]
  },
  {
   "cell_type": "code",
   "execution_count": 5,
   "id": "84c3f22c",
   "metadata": {},
   "outputs": [
    {
     "name": "stdout",
     "output_type": "stream",
     "text": [
      "S         \n",
      "  XX  X   \n",
      "   XX     \n",
      "  X  X  XX\n",
      " X     X X\n",
      "       X  \n",
      "     X XX \n",
      "          \n",
      "        X \n",
      "X X  X   G\n",
      "\n"
     ]
    }
   ],
   "source": [
    "# Example maze\n",
    "m: Maze = Maze()\n",
    "print(m)"
   ]
  },
  {
   "cell_type": "code",
   "execution_count": 6,
   "id": "9ac05466",
   "metadata": {},
   "outputs": [
    {
     "name": "stdout",
     "output_type": "stream",
     "text": [
      "S*********\n",
      "  XX  X  *\n",
      "   XX ****\n",
      "  X  X* XX\n",
      " X*****X X\n",
      "***    X  \n",
      "*    X XX \n",
      "**********\n",
      "        X*\n",
      "X X  X   G\n",
      "\n"
     ]
    }
   ],
   "source": [
    "# Test dfs\n",
    "solution1: Optional[Node[MazeLocation]] = dfs(m.start, m.goal_test, m.successors)\n",
    "if solution1 is None:\n",
    "    print(\"No solution found using depth-first search!\")\n",
    "else:\n",
    "    path1: List[MazeLocation] = node_to_path(solution1)\n",
    "    m.mark(path1)\n",
    "    print(m)\n",
    "    m.clear(path1)"
   ]
  },
  {
   "cell_type": "code",
   "execution_count": 7,
   "id": "1d3e9e49",
   "metadata": {},
   "outputs": [
    {
     "name": "stdout",
     "output_type": "stream",
     "text": [
      "S         \n",
      "* XX  X   \n",
      "*  XX     \n",
      "* X  X  XX\n",
      "*X     X X\n",
      "*      X  \n",
      "*    X XX \n",
      "*         \n",
      "******* X \n",
      "X X  X***G\n",
      "\n"
     ]
    }
   ],
   "source": [
    "# Test bfs\n",
    "solution2: Optional[Node[MazeLocation]] = bfs(m.start, m.goal_test, m.successors)\n",
    "if solution2 is None:\n",
    "    print(\"No solution found using breadth-first search!\")\n",
    "else:\n",
    "    path2: List[MazeLocation] = node_to_path(solution2)\n",
    "    m.mark(path2)\n",
    "    print(m)\n",
    "    m.clear(path2)"
   ]
  },
  {
   "cell_type": "code",
   "execution_count": 8,
   "id": "e1684e00",
   "metadata": {},
   "outputs": [],
   "source": [
    "# Euclidean distance as a heuristic\n",
    "def euclidean_distance(goal: MazeLocation) -> Callable[[MazeLocation], float]:\n",
    "    def distance(ml: MazeLocation) -> float:\n",
    "        xdist: int = ml.column - goal.column\n",
    "        ydist: int = ml.row - goal.row\n",
    "        return sqrt((xdist * xdist) + (ydist * ydist))\n",
    "    return distance"
   ]
  },
  {
   "cell_type": "code",
   "execution_count": 9,
   "id": "0aff347d",
   "metadata": {},
   "outputs": [],
   "source": [
    "# Manhattan distance as a heuristic\n",
    "def manhattan_distance(goal: MazeLocation) -> Callable[[MazeLocation], float]:\n",
    "    def distance(ml: MazeLocation) -> float:\n",
    "        xdist: int = abs(ml.column - goal.column)\n",
    "        ydist: int = abs(ml.row - goal.row)\n",
    "        return (xdist + ydist)\n",
    "    return distance"
   ]
  },
  {
   "cell_type": "code",
   "execution_count": 10,
   "id": "76ab7674",
   "metadata": {},
   "outputs": [
    {
     "name": "stdout",
     "output_type": "stream",
     "text": [
      "S         \n",
      "* XX  X   \n",
      "*  XX     \n",
      "* X  X  XX\n",
      "*X     X X\n",
      "*      X  \n",
      "**   X XX \n",
      " ***      \n",
      "   *****X \n",
      "X X  X **G\n",
      "\n"
     ]
    }
   ],
   "source": [
    "# Test astar\n",
    "distance: Callable[[MazeLocation], float] = manhattan_distance(m.goal)\n",
    "solution3: Optional[Node[MazeLocation]] = astar(m.start, m.goal_test, m.successors, distance)\n",
    "if solution3 is None:\n",
    "    print(\"No solution found using A*!\")\n",
    "else:\n",
    "    path3: List[MazeLocation] = node_to_path(solution3)\n",
    "    m.mark(path3)\n",
    "    print(m)\n",
    "    m.clear(path3)"
   ]
  }
 ],
 "metadata": {
  "kernelspec": {
   "display_name": "Python 3 (ipykernel)",
   "language": "python",
   "name": "python3"
  },
  "language_info": {
   "codemirror_mode": {
    "name": "ipython",
    "version": 3
   },
   "file_extension": ".py",
   "mimetype": "text/x-python",
   "name": "python",
   "nbconvert_exporter": "python",
   "pygments_lexer": "ipython3",
   "version": "3.8.11"
  }
 },
 "nbformat": 4,
 "nbformat_minor": 5
}
