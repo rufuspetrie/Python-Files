{
 "cells": [
  {
   "cell_type": "code",
   "execution_count": 1,
   "id": "654c0ac1",
   "metadata": {},
   "outputs": [],
   "source": [
    "from typing import TypeVar, Generic, List\n",
    "T = TypeVar('T')\n",
    "\n",
    "class Stack(Generic[T]):\n",
    "    def __init__(self) -> None:\n",
    "        self._container: List[T] = []\n",
    "    def push(self, item: T) -> None:\n",
    "        self._container.append(item)\n",
    "    def pop(self) -> T:\n",
    "        return self._container.pop()\n",
    "    def __repr__(self) -> str:\n",
    "        return repr(self._container)"
   ]
  },
  {
   "cell_type": "code",
   "execution_count": 2,
   "id": "59c36842",
   "metadata": {},
   "outputs": [
    {
     "name": "stdout",
     "output_type": "stream",
     "text": [
      "[1, 2, 3]\n",
      "[]\n",
      "[]\n"
     ]
    }
   ],
   "source": [
    "num_discs: int = 3\n",
    "tower_a: Stack[int] = Stack()\n",
    "tower_b: Stack[int] = Stack()\n",
    "tower_c: Stack[int] = Stack()\n",
    "for i in range(1, num_discs + 1):\n",
    "    tower_a.push(i)\n",
    "print(tower_a)\n",
    "print(tower_b)\n",
    "print(tower_c)"
   ]
  },
  {
   "cell_type": "code",
   "execution_count": 3,
   "id": "3397796f",
   "metadata": {},
   "outputs": [],
   "source": [
    "def hanoi(begin: Stack[int], end: Stack[int], temp: Stack[int], n: int) -> None:\n",
    "    if n == 1:\n",
    "        end.push(begin.pop())\n",
    "    else:\n",
    "        hanoi(begin, temp, end, n - 1)\n",
    "        hanoi(begin, end, temp, 1)\n",
    "        hanoi(temp, end, begin, n - 1)"
   ]
  },
  {
   "cell_type": "code",
   "execution_count": 4,
   "id": "8109b6aa",
   "metadata": {},
   "outputs": [
    {
     "name": "stdout",
     "output_type": "stream",
     "text": [
      "[]\n",
      "[]\n",
      "[1, 2, 3]\n"
     ]
    }
   ],
   "source": [
    "hanoi(tower_a, tower_c, tower_b, num_discs)\n",
    "print(tower_a)\n",
    "print(tower_b)\n",
    "print(tower_c)"
   ]
  }
 ],
 "metadata": {
  "kernelspec": {
   "display_name": "Python 3 (ipykernel)",
   "language": "python",
   "name": "python3"
  },
  "language_info": {
   "codemirror_mode": {
    "name": "ipython",
    "version": 3
   },
   "file_extension": ".py",
   "mimetype": "text/x-python",
   "name": "python",
   "nbconvert_exporter": "python",
   "pygments_lexer": "ipython3",
   "version": "3.8.11"
  }
 },
 "nbformat": 4,
 "nbformat_minor": 5
}
