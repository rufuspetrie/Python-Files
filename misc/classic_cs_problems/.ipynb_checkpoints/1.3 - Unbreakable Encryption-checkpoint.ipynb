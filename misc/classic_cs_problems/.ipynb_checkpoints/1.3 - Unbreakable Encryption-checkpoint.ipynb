{
 "cells": [
  {
   "cell_type": "code",
   "execution_count": 1,
   "id": "a5f3ee03",
   "metadata": {},
   "outputs": [],
   "source": [
    "from secrets import token_bytes\n",
    "from typing import Tuple\n",
    "\n",
    "def random_key(length: int) -> int:\n",
    "    \n",
    "    # generate length random bytes\n",
    "    tb: bytes = token_bytes(length)\n",
    "        \n",
    "    # convert those bytes into a bit string and return it\n",
    "    return int.from_bytes(tb, \"big\")"
   ]
  },
  {
   "cell_type": "markdown",
   "id": "f78b1556",
   "metadata": {},
   "source": [
    "# Padding with XOR\n",
    "\n",
    "The XOR operator has a nice property:\n",
    "\n",
    "- A ^ B = C\n",
    "- C ^ B = A\n",
    "- C ^ A = B\n",
    "\n",
    "Therefore, you can encrypt a bit string A by taking its product with B and send C and B to maintain A's secrecy"
   ]
  },
  {
   "cell_type": "code",
   "execution_count": 2,
   "id": "5a4bded8",
   "metadata": {},
   "outputs": [],
   "source": [
    "def encrypt(original: str) -> Tuple[int, int]:\n",
    "    \n",
    "    # Change string input to byte string\n",
    "    original_bytes: bytes = original.encode()\n",
    "        \n",
    "    # Dummy data from random_key function\n",
    "    dummy: int = random_key(len(original_bytes))\n",
    "        \n",
    "    # Change byte strings into one integer string\n",
    "    original_key: int = int.from_bytes(original_bytes, \"big\")\n",
    "        \n",
    "    # Apply XOR to encrypt data\n",
    "    encrypted: int = original_key ^ dummy\n",
    "    \n",
    "    return dummy, encrypted"
   ]
  },
  {
   "cell_type": "code",
   "execution_count": 3,
   "id": "2ce24aab",
   "metadata": {},
   "outputs": [],
   "source": [
    "def decrypt(key1: int, key2: int) -> str:\n",
    "    \n",
    "    # XOR \n",
    "    decrypted: int = key1 ^ key2\n",
    "        \n",
    "    # Change integer string to byte string\n",
    "    temp: bytes = decrypted.to_bytes((decrypted.bit_length()+ 7) // 8, \"big\")\n",
    "    \n",
    "    return temp.decode()"
   ]
  },
  {
   "cell_type": "code",
   "execution_count": 4,
   "id": "1c9284af",
   "metadata": {},
   "outputs": [
    {
     "name": "stdout",
     "output_type": "stream",
     "text": [
      "One Time Pad!\n"
     ]
    }
   ],
   "source": [
    "key1, key2 = encrypt(\"One Time Pad!\")\n",
    "result: str = decrypt(key1, key2)\n",
    "print(result)"
   ]
  }
 ],
 "metadata": {
  "kernelspec": {
   "display_name": "Python 3 (ipykernel)",
   "language": "python",
   "name": "python3"
  },
  "language_info": {
   "codemirror_mode": {
    "name": "ipython",
    "version": 3
   },
   "file_extension": ".py",
   "mimetype": "text/x-python",
   "name": "python",
   "nbconvert_exporter": "python",
   "pygments_lexer": "ipython3",
   "version": "3.8.11"
  }
 },
 "nbformat": 4,
 "nbformat_minor": 5
}
