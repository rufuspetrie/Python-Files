{
 "cells": [
  {
   "cell_type": "markdown",
   "id": "46a0e13f",
   "metadata": {},
   "source": [
    "# Nucleotide example\n",
    "- Strings of nucleotides form genes\n",
    "- Nucleotides take the values A, C, G, T\n",
    "- Representing a nucleotide as a unicode character takes 8 bits (one byte)\n",
    "- 2 bits can represent four different values, so bit strings can save 75% of the space required for nucleotides"
   ]
  },
  {
   "cell_type": "code",
   "execution_count": 1,
   "id": "e26ada07",
   "metadata": {},
   "outputs": [],
   "source": [
    "# Class to convert genes to binary representations\n",
    "class CompressedGene:\n",
    "    \n",
    "    def __init__(self, gene: str) -> None:\n",
    "        self._compress(gene)\n",
    "        \n",
    "    def _compress(self, gene: str) -> None:        \n",
    "        # Start with sentinel\n",
    "        self.bit_string: int = 1            \n",
    "        for nucleotide in gene.upper():\n",
    "            # Make room for new bits\n",
    "            self.bit_string <<= 2\n",
    "            # Add new bits to string\n",
    "            if nucleotide == \"A\":\n",
    "                self.bit_string |= 0b00\n",
    "            elif nucleotide == \"C\":\n",
    "                self.bit_string |= 0b01\n",
    "            elif nucleotide == \"G\":\n",
    "                self.bit_string |= 0b10\n",
    "            elif nucleotide == \"T\":\n",
    "                self.bit_string |= 0b11\n",
    "            else:\n",
    "                raise ValueError(\"Invalid Nucleotide:{}\".format(nucleotide))\n",
    "                \n",
    "    def decompress(self) -> str:\n",
    "        gene: str = \"\"\n",
    "        # Iterate through string excluding sentinel    \n",
    "        for i in range(0, self.bit_string.bit_length() - 1, 2):\n",
    "            # Access relevant bits (bitwise and to reduce to 2 bits)\n",
    "            bits: int = self.bit_string >> i & 0b11\n",
    "            if bits == 0b00: # A\n",
    "                gene += \"A\"\n",
    "            elif bits == 0b01: # C\n",
    "                gene += \"C\"\n",
    "            elif bits == 0b10: # G\n",
    "                gene += \"G\"\n",
    "            elif bits == 0b11: # T\n",
    "                gene += \"T\"\n",
    "            else:\n",
    "                raise ValueError(\"Invalid bits:{}\".format(bits))\n",
    "        return gene[::-1] # [::-1] reverses string by slicing backward\n",
    "    \n",
    "    def __str__(self) -> str: # string representation for pretty printing\n",
    "        return self.decompress()"
   ]
  },
  {
   "cell_type": "code",
   "execution_count": 2,
   "id": "a428bb16",
   "metadata": {},
   "outputs": [
    {
     "name": "stdout",
     "output_type": "stream",
     "text": [
      "original is 8649 bytes\n",
      "compressed is 2320 bytes\n",
      "original and decompressed are the same: True\n"
     ]
    }
   ],
   "source": [
    "# Example usage\n",
    "from sys import getsizeof\n",
    "original = 100 * \"TAGGGATTAACCGTTATATATATATAGCCATGGATCGATTATATAGGGATTAACCGTTATATATATATAGCCATGGATCGATTATA\"\n",
    "print(\"original is {} bytes\".format(getsizeof(original)))\n",
    "compressed = CompressedGene(original)\n",
    "print(\"compressed is {} bytes\".format(getsizeof(compressed.bit_string)))\n",
    "# print(compressed)\n",
    "print(\"original and decompressed are the same: {}\".format(original == compressed.decompress()))"
   ]
  }
 ],
 "metadata": {
  "kernelspec": {
   "display_name": "Python 3 (ipykernel)",
   "language": "python",
   "name": "python3"
  },
  "language_info": {
   "codemirror_mode": {
    "name": "ipython",
    "version": 3
   },
   "file_extension": ".py",
   "mimetype": "text/x-python",
   "name": "python",
   "nbconvert_exporter": "python",
   "pygments_lexer": "ipython3",
   "version": "3.8.11"
  }
 },
 "nbformat": 4,
 "nbformat_minor": 5
}
