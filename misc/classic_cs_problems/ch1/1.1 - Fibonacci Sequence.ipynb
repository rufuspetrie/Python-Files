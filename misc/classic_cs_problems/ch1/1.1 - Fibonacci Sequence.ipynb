{
 "cells": [
  {
   "cell_type": "code",
   "execution_count": 1,
   "id": "939a13ba",
   "metadata": {},
   "outputs": [],
   "source": [
    "# Naive Fibonacci\n",
    "def fib1(n):\n",
    "    if n < 2:\n",
    "        return n\n",
    "    return fib1(n-1) + fib1(n-2)"
   ]
  },
  {
   "cell_type": "code",
   "execution_count": 2,
   "id": "d35f7281",
   "metadata": {},
   "outputs": [],
   "source": [
    "# Memoized Fibonacci\n",
    "memo = {0: 0, 1: 1}\n",
    "\n",
    "def fib2(n):\n",
    "    if n not in memo:\n",
    "        memo[n] = fib2(n-1) + fib2(n-2)\n",
    "    return memo[n]"
   ]
  },
  {
   "cell_type": "code",
   "execution_count": 3,
   "id": "828fca14",
   "metadata": {},
   "outputs": [],
   "source": [
    "# Automatic memoization tool\n",
    "from functools import lru_cache\n",
    "\n",
    "@lru_cache(maxsize = None)\n",
    "def fib3(n):\n",
    "    if n < 2:\n",
    "        return n\n",
    "    return fib3(n-1) + fib3(n-2)"
   ]
  },
  {
   "cell_type": "code",
   "execution_count": 4,
   "id": "e0aef817",
   "metadata": {},
   "outputs": [],
   "source": [
    "# Iterative Fibonacci\n",
    "def fib4(n):\n",
    "    if n == 0: return n\n",
    "    last = 0\n",
    "    next = 1\n",
    "    for _ in range(1, n):\n",
    "        last, next = next, last + next\n",
    "    return next"
   ]
  },
  {
   "cell_type": "code",
   "execution_count": 5,
   "id": "7c7fe6b8",
   "metadata": {},
   "outputs": [
    {
     "name": "stdout",
     "output_type": "stream",
     "text": [
      "40.6 ms ± 2.24 ms per loop (mean ± std. dev. of 7 runs, 10 loops each)\n"
     ]
    }
   ],
   "source": [
    "%timeit fib1(25)"
   ]
  },
  {
   "cell_type": "code",
   "execution_count": 6,
   "id": "a412f417",
   "metadata": {},
   "outputs": [
    {
     "name": "stdout",
     "output_type": "stream",
     "text": [
      "178 ns ± 6.42 ns per loop (mean ± std. dev. of 7 runs, 10000000 loops each)\n"
     ]
    }
   ],
   "source": [
    "%timeit fib2(25)"
   ]
  },
  {
   "cell_type": "code",
   "execution_count": 7,
   "id": "000abdd7",
   "metadata": {},
   "outputs": [
    {
     "name": "stdout",
     "output_type": "stream",
     "text": [
      "101 ns ± 3.47 ns per loop (mean ± std. dev. of 7 runs, 10000000 loops each)\n"
     ]
    }
   ],
   "source": [
    "%timeit fib3(25)"
   ]
  },
  {
   "cell_type": "code",
   "execution_count": 8,
   "id": "e1eb822c",
   "metadata": {},
   "outputs": [
    {
     "name": "stdout",
     "output_type": "stream",
     "text": [
      "2.06 µs ± 97 ns per loop (mean ± std. dev. of 7 runs, 1000000 loops each)\n"
     ]
    }
   ],
   "source": [
    "%timeit fib4(25)"
   ]
  },
  {
   "cell_type": "code",
   "execution_count": 9,
   "id": "f7ec90cd",
   "metadata": {},
   "outputs": [],
   "source": [
    "# Generator\n",
    "def fib5(n):\n",
    "    if n == 0: return [0]\n",
    "    elif n == 1: return [0, 1]\n",
    "    x = [0, 1]\n",
    "    for i in range(n):\n",
    "        x.append(x[-1] + x[-2])\n",
    "    return x"
   ]
  },
  {
   "cell_type": "code",
   "execution_count": 10,
   "id": "b463f895",
   "metadata": {},
   "outputs": [],
   "source": [
    "# Generator with yield\n",
    "def fib6(n):\n",
    "    yield 0\n",
    "    if n > 0: yield 1\n",
    "    last = 0\n",
    "    next = 1\n",
    "    for _ in range(1, n):\n",
    "        last, next = next, last + next\n",
    "        yield next"
   ]
  },
  {
   "cell_type": "code",
   "execution_count": 11,
   "id": "0e5a8ce9",
   "metadata": {},
   "outputs": [
    {
     "name": "stdout",
     "output_type": "stream",
     "text": [
      "8.82 µs ± 297 ns per loop (mean ± std. dev. of 7 runs, 100000 loops each)\n"
     ]
    }
   ],
   "source": [
    "%%timeit\n",
    "x = fib5(50)"
   ]
  },
  {
   "cell_type": "code",
   "execution_count": 12,
   "id": "43c4faab",
   "metadata": {},
   "outputs": [
    {
     "name": "stdout",
     "output_type": "stream",
     "text": [
      "6.53 µs ± 134 ns per loop (mean ± std. dev. of 7 runs, 100000 loops each)\n"
     ]
    }
   ],
   "source": [
    "%%timeit\n",
    "x = list(fib6(50))"
   ]
  }
 ],
 "metadata": {
  "kernelspec": {
   "display_name": "Python 3 (ipykernel)",
   "language": "python",
   "name": "python3"
  },
  "language_info": {
   "codemirror_mode": {
    "name": "ipython",
    "version": 3
   },
   "file_extension": ".py",
   "mimetype": "text/x-python",
   "name": "python",
   "nbconvert_exporter": "python",
   "pygments_lexer": "ipython3",
   "version": "3.8.11"
  }
 },
 "nbformat": 4,
 "nbformat_minor": 5
}
