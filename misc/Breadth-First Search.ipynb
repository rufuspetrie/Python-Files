{
 "cells": [
  {
   "cell_type": "markdown",
   "metadata": {},
   "source": [
    "- https://stackoverflow.com/questions/46383493/python-implement-breadth-first-search\n",
    "- https://pythoninwonderland.wordpress.com/2017/03/18/how-to-implement-breadth-first-search-in-python/"
   ]
  },
  {
   "cell_type": "code",
   "execution_count": 2,
   "metadata": {},
   "outputs": [],
   "source": [
    "f = open('kargerMinCut.txt')\n",
    "lines = f.readlines()\n",
    "f.close()\n",
    "graph={}\n",
    "for line in lines:\n",
    "    ints=[int(x) for x in line.split()]\n",
    "    graph[ints[0]] = ints[1:]"
   ]
  },
  {
   "cell_type": "code",
   "execution_count": 3,
   "metadata": {},
   "outputs": [
    {
     "name": "stdout",
     "output_type": "stream",
     "text": [
      "{'A': 0, 'C': 1, 'B': 1, 'E': 1, 'D': 2, 'G': 2, 'F': 2}\n",
      "['A', 'B', 'C', 'E', 'D', 'F', 'G']\n"
     ]
    }
   ],
   "source": [
    "# sample graph implemented as a dictionary\n",
    "graph = {'A': ['B', 'C', 'E'],\n",
    "         'B': ['A','D', 'E'],\n",
    "         'C': ['A', 'F', 'G'],\n",
    "         'D': ['B'],\n",
    "         'E': ['A', 'B','D'],\n",
    "         'F': ['C'],\n",
    "         'G': ['C']}\n",
    "\n",
    "def bfs_connected_component(graph, start):\n",
    "    explored = []            # Tracks explored nodes\n",
    "    queue = [start]          # List of nodes to check\n",
    "    levels = {}              # Tracks distance between start and nodes\n",
    "    levels[start]= 0         # Tracks node depth\n",
    "    visited= [start]         # Tracks visits to avoid returning to nodes\n",
    "\n",
    "    while queue:             # While there are still elements to check in the queue\n",
    "        node = queue.pop(0)\n",
    "        explored.append(node)\n",
    "        neighbours = graph[node]\n",
    "\n",
    "        for neighbour in neighbours:\n",
    "            if neighbour not in visited:\n",
    "                queue.append(neighbour)\n",
    "                visited.append(neighbour)\n",
    "                levels[neighbour]= levels[node]+1\n",
    "\n",
    "    print(levels)\n",
    "    return explored\n",
    "\n",
    "ans = bfs_connected_component(graph,'A') # returns ['A', 'B', 'C', 'E', 'D', 'F', 'G']\n",
    "print(ans)"
   ]
  }
 ],
 "metadata": {
  "kernelspec": {
   "display_name": "Python 2",
   "language": "python",
   "name": "python2"
  },
  "language_info": {
   "codemirror_mode": {
    "name": "ipython",
    "version": 2
   },
   "file_extension": ".py",
   "mimetype": "text/x-python",
   "name": "python",
   "nbconvert_exporter": "python",
   "pygments_lexer": "ipython2",
   "version": "2.7.15"
  }
 },
 "nbformat": 4,
 "nbformat_minor": 2
}
