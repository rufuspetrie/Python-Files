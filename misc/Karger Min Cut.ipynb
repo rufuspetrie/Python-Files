{
 "cells": [
  {
   "cell_type": "markdown",
   "metadata": {},
   "source": [
    "The file contains the adjacency list representation of a simple undirected graph. There are 200 vertices labeled 1 to 200. The first column in the file represents the vertex label, and the particular row (other entries except the first column) tells all the vertices that the vertex is adjacent to. So for example, the $6^{th}$ row looks like : \"6\t155\t56\t52\t120\t......\". This just means that the vertex with label 6 is adjacent to (i.e., shares an edge with) the vertices with labels 155,56,52,120,......,etc\n",
    "\n",
    "Your task is to code up and run the randomized contraction algorithm for the min cut problem and use it on the above graph to compute the min cut. (HINT: Note that you'll have to figure out an implementation of edge contractions. Initially, you might want to do this naively, creating a new graph from the old every time there's an edge contraction. But you should also think about more efficient implementations.) (WARNING: As per the video lectures, please make sure to run the algorithm many times with different random seeds, and remember the smallest cut that you ever find.) Write your numeric answer in the space provided. So e.g., if your answer is 5, just type 5 in the space provided."
   ]
  },
  {
   "cell_type": "markdown",
   "metadata": {},
   "source": [
    "- Explanation:\n",
    "    - Let the sets A and B denote the sets of nodes that comprise the minimal cut.\n",
    "    - Clarification: elements from either set, A or B, can be contracted at any iteration!\n",
    "    - Goal of algorithm: fuse all nodes from group A together; fuse all nodes from group B together; don't fuse nodes from A with nodes from B.\n",
    "    - If the algorithm succeeds, it will produce two final nodes, one of which lives in A and the other of which lives in B.\n",
    "    - Because this algorithm works on undirected graphs, the amount of edges for each node will be equivalent."
   ]
  },
  {
   "cell_type": "markdown",
   "metadata": {},
   "source": [
    "- Pseudocode:\n",
    "    - The graph contains a dictionary of keys (nodes) and values (edges).\n",
    "    - Choose a node and a neighboring node at random.\n",
    "    - Fuse the nodes together and delete the self-loop.\n",
    "    - Continue this process until two nodes remain.\n",
    "    - Sometimes the number of edges connecting the two nodes will describe the minimum cut."
   ]
  },
  {
   "cell_type": "code",
   "execution_count": 1,
   "metadata": {},
   "outputs": [],
   "source": [
    "# Note: parsing text file must be functionalized\n",
    "#       because this algorithm mutates the data\n",
    "from random import randint\n",
    "def openGraph():\n",
    "    f = open('kargerMinCut.txt')\n",
    "    lines = f.readlines()\n",
    "    f.close()\n",
    "    graph={}\n",
    "    for line in lines:\n",
    "        ints=[int(x) for x in line.split()]\n",
    "        graph[ints[0]] = ints[1:]\n",
    "    return graph"
   ]
  },
  {
   "cell_type": "code",
   "execution_count": 2,
   "metadata": {},
   "outputs": [
    {
     "name": "stdout",
     "output_type": "stream",
     "text": [
      "200\n"
     ]
    }
   ],
   "source": [
    "graph=openGraph()\n",
    "print len(graph)"
   ]
  },
  {
   "cell_type": "code",
   "execution_count": 101,
   "metadata": {},
   "outputs": [],
   "source": [
    "def randomNode():\n",
    "    node=graph.keys()[randint(0,len(graph)-1)]\n",
    "    anode=graph[node][randint(0,len(graph[node])-1)]\n",
    "    return node, anode"
   ]
  },
  {
   "cell_type": "code",
   "execution_count": 102,
   "metadata": {},
   "outputs": [],
   "source": [
    "def contractEdge(edge):\n",
    "    global graph\n",
    "    node=graph[edge[0]]\n",
    "    node.extend(graph[edge[1]])\n",
    "    del graph[edge[1]]\n",
    "    for key in graph.keys():\n",
    "        graph[key]=[edge[0] if x==edge[1] else x for x in graph[key]]\n",
    "    graph[edge[0]]=[x for x in graph[edge[0]] if x!=edge[0]]"
   ]
  },
  {
   "cell_type": "code",
   "execution_count": 103,
   "metadata": {},
   "outputs": [],
   "source": [
    "def minCuts(n):\n",
    "    for i in range(n):\n",
    "        graph=openGraph()\n",
    "        while len(graph)>2:\n",
    "            contractEdge(randomNode())\n",
    "        mins.append(len(graph[graph.keys()[0]]))"
   ]
  },
  {
   "cell_type": "code",
   "execution_count": 104,
   "metadata": {},
   "outputs": [],
   "source": [
    "mins=[]\n",
    "for i in range(50):\n",
    "    graph=openGraph()\n",
    "    while len(graph)>2:\n",
    "        contractEdge(randomNode())\n",
    "    mins.append(len(graph[graph.keys()[0]]))"
   ]
  },
  {
   "cell_type": "code",
   "execution_count": 105,
   "metadata": {},
   "outputs": [
    {
     "name": "stdout",
     "output_type": "stream",
     "text": [
      "17\n"
     ]
    }
   ],
   "source": [
    "print min(mins)"
   ]
  }
 ],
 "metadata": {
  "kernelspec": {
   "display_name": "Python 2",
   "language": "python",
   "name": "python2"
  },
  "language_info": {
   "codemirror_mode": {
    "name": "ipython",
    "version": 2
   },
   "file_extension": ".py",
   "mimetype": "text/x-python",
   "name": "python",
   "nbconvert_exporter": "python",
   "pygments_lexer": "ipython2",
   "version": "2.7.15"
  }
 },
 "nbformat": 4,
 "nbformat_minor": 2
}
