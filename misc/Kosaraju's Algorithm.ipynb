{
 "cells": [
  {
   "cell_type": "markdown",
   "metadata": {},
   "source": [
    "- Kosaraju's Algorithm\n",
    "    - This algorithm finds strongly connected components in a directed graph.\n",
    "    - This algorithm performs two DFS's and thus runs in $O(m+n)$ time.\n",
    "- Pseudocode:\n",
    "    - Let $G^{rev}$ equal $G$ with reversed arcs.\n",
    "    - Run DFS loop on $G^{rev}$ (goal: discover magical ordering of notes).\n",
    "        - Let $f(v)$ equal \"finishing time\" of each $v\\in V$.\n",
    "    - Run DFS loop on $G$ (goal: discover SCCs one by one - SSCs = nodes with same 'leader').\n",
    "        - Note: must run DFS in decreasing order of finishing times!"
   ]
  },
  {
   "cell_type": "code",
   "execution_count": 2,
   "metadata": {},
   "outputs": [],
   "source": [
    "import sys,time\n",
    "sys.setrecursionlimit(2 ** 20)\n",
    "n=875714"
   ]
  },
  {
   "cell_type": "code",
   "execution_count": 5,
   "metadata": {},
   "outputs": [],
   "source": [
    "def openGraph():\n",
    "    f = open('SCC.txt')\n",
    "    lines = f.readlines()\n",
    "    graph, graph_r = {}, {}\n",
    "    for i in range(1,n+1):\n",
    "        graph[i],graph_r[i]=[],[]\n",
    "    for line in lines:\n",
    "        ints = [int(x) for x in line.split()]\n",
    "        graph[ints[0]].append(ints[1])\n",
    "        graph_r[ints[1]].append(ints[0])\n",
    "    f.close()\n",
    "    return graph, graph_r"
   ]
  },
  {
   "cell_type": "code",
   "execution_count": 6,
   "metadata": {},
   "outputs": [],
   "source": [
    "def DFS_loop(graph):\n",
    "    # t tracks finishing times, s tracks leader nodes\n",
    "    global t, s, explored\n",
    "    t=0\n",
    "    s=0\n",
    "    explored={}\n",
    "    for i in range(1,n+1):\n",
    "        explored[i]=0\n",
    "    for i in range(n,0,-1):\n",
    "        if explored[i]==0:\n",
    "            s=i\n",
    "            DFS(graph,i)\n",
    "    return # blank b/c of global variables"
   ]
  },
  {
   "cell_type": "code",
   "execution_count": 7,
   "metadata": {},
   "outputs": [],
   "source": [
    "def DFS(graph,i):\n",
    "    global t\n",
    "    explored[i]=1\n",
    "    leaders[i]=s\n",
    "    for j in graph[i]:\n",
    "        if explored[j]==0:\n",
    "            DFS(graph,j)\n",
    "    t+=1\n",
    "    times[i]=t\n",
    "    return # blank b/c of global variables"
   ]
  },
  {
   "cell_type": "code",
   "execution_count": 8,
   "metadata": {},
   "outputs": [],
   "source": [
    "def Kosaraju(graph,graph_r):\n",
    "    \n",
    "    # Step one: run dfs loop on graph_r to compute finishing times\n",
    "    global leaders, times\n",
    "    leaders={}\n",
    "    times={}\n",
    "    DFS_loop(graph_r)\n",
    "    \n",
    "    # Step two: swap node names with finishing times and perform DFS\n",
    "    graph_values=graph.values()\n",
    "    graph_swapped={}\n",
    "    for i in range(1,n+1):\n",
    "        value=graph_values[i-1]\n",
    "        graph_swapped[times[i]]=[times[x] for x in value]\n",
    "    DFS_loop(graph_swapped)\n",
    "    return leaders\n",
    "    # Rest of code on google-colab"
   ]
  }
 ],
 "metadata": {
  "kernelspec": {
   "display_name": "Python 2",
   "language": "python",
   "name": "python2"
  },
  "language_info": {
   "codemirror_mode": {
    "name": "ipython",
    "version": 2
   },
   "file_extension": ".py",
   "mimetype": "text/x-python",
   "name": "python",
   "nbconvert_exporter": "python",
   "pygments_lexer": "ipython2",
   "version": "2.7.15"
  }
 },
 "nbformat": 4,
 "nbformat_minor": 2
}
