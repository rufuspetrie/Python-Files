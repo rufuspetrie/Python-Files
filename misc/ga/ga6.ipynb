{
 "cells": [
  {
   "cell_type": "code",
   "execution_count": null,
   "id": "9ad7a5cf",
   "metadata": {},
   "outputs": [],
   "source": [
    "# Double-ended queue\n",
    "from collections import deque"
   ]
  },
  {
   "cell_type": "code",
   "execution_count": null,
   "id": "25aa3943",
   "metadata": {},
   "outputs": [],
   "source": [
    "# Breadth first search\n",
    "def bfs(name):\n",
    "    search_queue = deque()\n",
    "    search_queue += graph[\"name\"]\n",
    "    searched = []\n",
    "    while search_queue:\n",
    "        person = search_queue.popleft()\n",
    "        if person not in searched:\n",
    "            if person_is_seller(person):\n",
    "                print(person + \"is a seller\")\n",
    "                return True\n",
    "            else:\n",
    "                search_queue += graph[\"person\"]\n",
    "                searched.append(person)\n",
    "    return False"
   ]
  }
 ],
 "metadata": {
  "kernelspec": {
   "display_name": "Python 3",
   "language": "python",
   "name": "python3"
  },
  "language_info": {
   "codemirror_mode": {
    "name": "ipython",
    "version": 3
   },
   "file_extension": ".py",
   "mimetype": "text/x-python",
   "name": "python",
   "nbconvert_exporter": "python",
   "pygments_lexer": "ipython3",
   "version": "3.8.8"
  }
 },
 "nbformat": 4,
 "nbformat_minor": 5
}
