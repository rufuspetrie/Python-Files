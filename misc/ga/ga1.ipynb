{
 "cells": [
  {
   "cell_type": "code",
   "execution_count": 1,
   "id": "391ba8cd",
   "metadata": {},
   "outputs": [],
   "source": [
    "# Binary Search - return index of item if in list, otherwise return None\n",
    "def binary_search(list, item):\n",
    "    low = 0\n",
    "    high = len(list)-1\n",
    "    \n",
    "    while low <= high:\n",
    "        mid = (low+high)//2\n",
    "        guess = list[mid]\n",
    "        \n",
    "        if guess==item:\n",
    "            return mid\n",
    "        if guess>item:\n",
    "            high = mid-1\n",
    "        else:\n",
    "            low = mid+1\n",
    "            \n",
    "    return None"
   ]
  },
  {
   "cell_type": "code",
   "execution_count": 3,
   "id": "a6a49186",
   "metadata": {},
   "outputs": [
    {
     "name": "stdout",
     "output_type": "stream",
     "text": [
      "1\n",
      "None\n"
     ]
    }
   ],
   "source": [
    "# Example\n",
    "my_list = [1, 3, 5, 7, 9]\n",
    "print(binary_search(my_list, 3))\n",
    "print(binary_search(my_list, 4))"
   ]
  }
 ],
 "metadata": {
  "kernelspec": {
   "display_name": "Python 3",
   "language": "python",
   "name": "python3"
  },
  "language_info": {
   "codemirror_mode": {
    "name": "ipython",
    "version": 3
   },
   "file_extension": ".py",
   "mimetype": "text/x-python",
   "name": "python",
   "nbconvert_exporter": "python",
   "pygments_lexer": "ipython3",
   "version": "3.8.8"
  }
 },
 "nbformat": 4,
 "nbformat_minor": 5
}
