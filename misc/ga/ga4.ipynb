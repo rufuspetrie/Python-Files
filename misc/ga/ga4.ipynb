{
 "cells": [
  {
   "cell_type": "code",
   "execution_count": 1,
   "id": "088112fb",
   "metadata": {},
   "outputs": [],
   "source": [
    "# Quicksort\n",
    "def quicksort(array):\n",
    "    if len(array)<2:\n",
    "        return array\n",
    "    else:\n",
    "        pivot = array[0]\n",
    "        lesser = [i for i in array[1:] if i<=pivot]\n",
    "        greater = [i for i in array[1:] if i>pivot]\n",
    "        return quicksort(lesser) + [pivot] + quicksort(greater)"
   ]
  },
  {
   "cell_type": "code",
   "execution_count": 2,
   "id": "345d0e00",
   "metadata": {},
   "outputs": [
    {
     "name": "stdout",
     "output_type": "stream",
     "text": [
      "[2, 3, 5, 10]\n"
     ]
    }
   ],
   "source": [
    "# Example\n",
    "print(quicksort([10, 5, 2, 3]))"
   ]
  }
 ],
 "metadata": {
  "kernelspec": {
   "display_name": "Python 3",
   "language": "python",
   "name": "python3"
  },
  "language_info": {
   "codemirror_mode": {
    "name": "ipython",
    "version": 3
   },
   "file_extension": ".py",
   "mimetype": "text/x-python",
   "name": "python",
   "nbconvert_exporter": "python",
   "pygments_lexer": "ipython3",
   "version": "3.8.8"
  }
 },
 "nbformat": 4,
 "nbformat_minor": 5
}
