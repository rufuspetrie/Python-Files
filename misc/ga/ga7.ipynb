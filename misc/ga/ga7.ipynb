{
 "cells": [
  {
   "cell_type": "code",
   "execution_count": null,
   "id": "84ac8c2f",
   "metadata": {},
   "outputs": [],
   "source": [
    "# Pseudocode:\n",
    "    # while we have nodes to process\n",
    "    # grab lowest cost node\n",
    "    # update cost for neighboring nodes\n",
    "    # if costs are updated, change current node to parent\n",
    "    # mark node as processed"
   ]
  },
  {
   "cell_type": "code",
   "execution_count": null,
   "id": "6244e4c3",
   "metadata": {},
   "outputs": [],
   "source": [
    "# Dijkstra's algorithm\n",
    "node = find_lowest_cost_node(costs)\n",
    "while node is not None:\n",
    "    cost = costs[node]\n",
    "    neighbors = graph[node]\n",
    "    for n in neighbors.keys():\n",
    "        new_cost = cost + neighbors[n]\n",
    "        if costs[n] > new_cost:\n",
    "            costs[n] = new_cost\n",
    "            parents[n] = node\n",
    "    processed.append(node)\n",
    "    node = find_lowest_cost_node(costs)"
   ]
  },
  {
   "cell_type": "code",
   "execution_count": null,
   "id": "92c959a3",
   "metadata": {},
   "outputs": [],
   "source": [
    "# Lowest cost node function\n",
    "def find_lowest_cost_node(costs):\n",
    "    lowest_cost = float(\"inf\")\n",
    "    lowest_cost_node = None\n",
    "    for node in costs:\n",
    "        if cost < lowest_cost and and node not in processed:\n",
    "            lowest_cost = cost\n",
    "            lowest_cost_node = node\n",
    "    return lowest_cost_node"
   ]
  }
 ],
 "metadata": {
  "kernelspec": {
   "display_name": "Python 3",
   "language": "python",
   "name": "python3"
  },
  "language_info": {
   "codemirror_mode": {
    "name": "ipython",
    "version": 3
   },
   "file_extension": ".py",
   "mimetype": "text/x-python",
   "name": "python",
   "nbconvert_exporter": "python",
   "pygments_lexer": "ipython3",
   "version": "3.8.8"
  }
 },
 "nbformat": 4,
 "nbformat_minor": 5
}
