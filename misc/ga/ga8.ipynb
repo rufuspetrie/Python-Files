{
 "cells": [
  {
   "cell_type": "code",
   "execution_count": 1,
   "id": "ce4e98ac",
   "metadata": {},
   "outputs": [],
   "source": [
    "# Set covering example\n",
    "states_needed = set([\"mt\", \"wa\", \"or\", \"id\", \"nv\", \"ut\", \"ca\", \"az\"])"
   ]
  },
  {
   "cell_type": "code",
   "execution_count": 2,
   "id": "2fa1d936",
   "metadata": {},
   "outputs": [],
   "source": [
    "# Hash of stations and states that they cover\n",
    "stations = {}\n",
    "stations[\"kone\"] = set([\"id\", \"nv\", \"ut\"])\n",
    "stations[\"ktwo\"] = set([\"wa\", \"id\", \"mt\"])\n",
    "stations[\"kthree\"] = set([\"or\", \"nv\", \"ca\"])\n",
    "stations[\"kfour\"] = set([\"nv\", \"ut\"])\n",
    "stations[\"kfive\"] = set([\"ca\", \"az\"])"
   ]
  },
  {
   "cell_type": "code",
   "execution_count": 3,
   "id": "cf99db79",
   "metadata": {},
   "outputs": [],
   "source": [
    "# Set for final stations\n",
    "final_stations = set()"
   ]
  },
  {
   "cell_type": "code",
   "execution_count": 4,
   "id": "616c8067",
   "metadata": {},
   "outputs": [],
   "source": [
    "# Greedy algorithm:\n",
    "    # Loop through stations\n",
    "    # Find the station that covers the most uncovered areas\n",
    "    # Add to list of stations and update required stations\n",
    "best_station = None\n",
    "states_covered = set()\n",
    "while states_needed:\n",
    "    best_station = None\n",
    "    states_covered = set()\n",
    "    for station, states_for_station in stations.items():\n",
    "        covered = states_needed & states_for_station\n",
    "        if len(covered) > len(states_covered):\n",
    "            best_station = station\n",
    "            states_covered = covered\n",
    "    states_needed -= states_covered\n",
    "    final_stations.add(best_station)"
   ]
  },
  {
   "cell_type": "code",
   "execution_count": 5,
   "id": "3e5cb9b1",
   "metadata": {},
   "outputs": [
    {
     "name": "stdout",
     "output_type": "stream",
     "text": [
      "{'kone', 'ktwo', 'kfive', 'kthree'}\n"
     ]
    }
   ],
   "source": [
    "print(final_stations)"
   ]
  }
 ],
 "metadata": {
  "kernelspec": {
   "display_name": "Python 3",
   "language": "python",
   "name": "python3"
  },
  "language_info": {
   "codemirror_mode": {
    "name": "ipython",
    "version": 3
   },
   "file_extension": ".py",
   "mimetype": "text/x-python",
   "name": "python",
   "nbconvert_exporter": "python",
   "pygments_lexer": "ipython3",
   "version": "3.8.8"
  }
 },
 "nbformat": 4,
 "nbformat_minor": 5
}
