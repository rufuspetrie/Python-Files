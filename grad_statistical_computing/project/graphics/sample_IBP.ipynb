{
 "cells": [
  {
   "cell_type": "code",
   "execution_count": 1,
   "id": "8c430a72",
   "metadata": {},
   "outputs": [],
   "source": [
    "# Libraries\n",
    "%matplotlib inline\n",
    "\n",
    "import numpy as np\n",
    "import matplotlib.pyplot as plt\n",
    "from matplotlib.ticker import NullFormatter, IndexLocator"
   ]
  },
  {
   "cell_type": "code",
   "execution_count": 2,
   "id": "96640ba9",
   "metadata": {},
   "outputs": [],
   "source": [
    "# Function to run one iteration of the IBP\n",
    "def IBP(customers, alpha):\n",
    "    \n",
    "    # Rename inputs\n",
    "    n = customers\n",
    "    a = alpha\n",
    "    \n",
    "    # Generate first row\n",
    "    x0 = np.random.poisson(a)\n",
    "    \n",
    "    # Create output matrix (rows fully realized)\n",
    "    xs = np.zeros(shape=(n,x0)).astype(int)\n",
    "    \n",
    "    # Set first row of output matrix to 1s from first row\n",
    "    xs[0,:] = 1\n",
    "    \n",
    "    # Generate new row for each customer\n",
    "    for i in range(2, n+1):\n",
    "        \n",
    "        # Sample old dishes\n",
    "        old_dish_counts = np.sum(xs, axis=0)\n",
    "        p = old_dish_counts/i\n",
    "        xs[i-1,:] = np.random.binomial(1, p, len(p))\n",
    "        \n",
    "        # Sample new dishes\n",
    "        new_dish_count = np.random.poisson(a/i)\n",
    "        xs = np.concatenate((xs, np.zeros(shape=(n, new_dish_count))), axis=1)\n",
    "        xs[i-1, len(p):len(p)+new_dish_count] = 1\n",
    "        \n",
    "    \n",
    "    # Return final dataframe\n",
    "    return xs"
   ]
  },
  {
   "cell_type": "code",
   "execution_count": 3,
   "id": "ec956985",
   "metadata": {},
   "outputs": [],
   "source": [
    "# Function to create (pretty) IBP plot\n",
    "def plot_IBP(xs):\n",
    "    fig, ax = plt.subplots(figsize=(8,8))\n",
    "    plt.imshow(xs, interpolation = \"none\", cmap = \"Greys\", aspect = 1, alpha = 0.8)\n",
    "    ax.set_title(\"Example IBP\")\n",
    "    ax.grid(True, which=\"major\", color=\"grey\", linewidth=0.5)\n",
    "    ax.xaxis.set_major_locator(IndexLocator(1, 0))\n",
    "    ax.yaxis.set_major_locator(IndexLocator(1, 0))\n",
    "    ax.xaxis.set_major_formatter( NullFormatter() )\n",
    "    ax.yaxis.set_major_formatter( NullFormatter() )\n",
    "    ax.xaxis.set_ticks_position(\"none\")\n",
    "    ax.yaxis.set_ticks_position(\"none\")"
   ]
  },
  {
   "cell_type": "code",
   "execution_count": 4,
   "id": "a13f9188",
   "metadata": {},
   "outputs": [],
   "source": [
    "# Run example IBP\n",
    "customers = 20\n",
    "alpha = 4\n",
    "xs = IBP(customers, alpha)"
   ]
  },
  {
   "cell_type": "code",
   "execution_count": 5,
   "id": "e1016433",
   "metadata": {},
   "outputs": [
    {
     "data": {
      "image/png": "[encoded data removed]",
      "text/plain": [
       "<Figure size 576x576 with 1 Axes>"
      ]
     },
     "metadata": {
      "needs_background": "light"
     },
     "output_type": "display_data"
    }
   ],
   "source": [
    "# Plot example IBP\n",
    "plot_IBP(xs)"
   ]
  },
  {
   "cell_type": "code",
   "execution_count": 6,
   "id": "9a35bfff",
   "metadata": {},
   "outputs": [],
   "source": [
    "# More examples\n",
    "customers = 20\n",
    "alphas = [1, 4, 7, 10]\n",
    "xs = [IBP(customers, i) for i in alphas]"
   ]
  },
  {
   "cell_type": "code",
   "execution_count": 7,
   "id": "0de43fc6",
   "metadata": {},
   "outputs": [
    {
     "data": {
      "image/png": "[encoded data removed]",
      "text/plain": [
       "<Figure size 576x576 with 4 Axes>"
      ]
     },
     "metadata": {
      "needs_background": "light"
     },
     "output_type": "display_data"
    }
   ],
   "source": [
    "# Plot examples\n",
    "fig, ax = plt.subplots(2, 2, figsize=(8,8))\n",
    "axes = [(0,0), (0,1), (1,0), (1,1)]\n",
    "for i in range(len(axes)):\n",
    "    ax[axes[i]].imshow(xs[i], interpolation = \"none\", cmap = \"Greys\", aspect = 1, alpha = 0.8)\n",
    "    ax[axes[i]].set_title(\"α = {0}\".format(alphas[i]))\n",
    "    ax[axes[i]].grid(True, which=\"major\", color=\"grey\", linewidth=0.5)\n",
    "    ax[axes[i]].xaxis.set_major_locator(IndexLocator(1, 0))\n",
    "    ax[axes[i]].yaxis.set_major_locator(IndexLocator(1, 0))\n",
    "    ax[axes[i]].xaxis.set_major_formatter( NullFormatter() )\n",
    "    ax[axes[i]].yaxis.set_major_formatter( NullFormatter() )\n",
    "    ax[axes[i]].xaxis.set_ticks_position(\"none\")\n",
    "    ax[axes[i]].yaxis.set_ticks_position(\"none\")\n",
    "plt.savefig(\"IBP_examples\", bbox_inches=\"tight\")"
   ]
  }
 ],
 "metadata": {
  "kernelspec": {
   "display_name": "Python 3 (ipykernel)",
   "language": "python",
   "name": "python3"
  },
  "language_info": {
   "codemirror_mode": {
    "name": "ipython",
    "version": 3
   },
   "file_extension": ".py",
   "mimetype": "text/x-python",
   "name": "python",
   "nbconvert_exporter": "python",
   "pygments_lexer": "ipython3",
   "version": "3.8.11"
  }
 },
 "nbformat": 4,
 "nbformat_minor": 5
}
