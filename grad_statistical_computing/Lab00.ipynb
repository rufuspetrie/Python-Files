{
 "cells": [
  {
   "cell_type": "code",
   "execution_count": 1,
   "metadata": {},
   "outputs": [],
   "source": [
    "%matplotlib inline"
   ]
  },
  {
   "cell_type": "markdown",
   "metadata": {},
   "source": [
    "# Lab00: Simple Python exercises"
   ]
  },
  {
   "cell_type": "markdown",
   "metadata": {},
   "source": [
    "**1**. Make a list of the numbers 1 to 10."
   ]
  },
  {
   "cell_type": "code",
   "execution_count": 1,
   "metadata": {},
   "outputs": [
    {
     "name": "stdout",
     "output_type": "stream",
     "text": [
      "[1, 2, 3, 4, 5, 6, 7, 8, 9, 10]\n"
     ]
    }
   ],
   "source": [
    "print([i for i in range(1,11)])"
   ]
  },
  {
   "cell_type": "markdown",
   "metadata": {},
   "source": [
    "**2**. Make a list of the first 10 square numbers."
   ]
  },
  {
   "cell_type": "code",
   "execution_count": 2,
   "metadata": {},
   "outputs": [
    {
     "name": "stdout",
     "output_type": "stream",
     "text": [
      "[1, 4, 9, 16, 25, 36, 49, 64, 81, 100]\n"
     ]
    }
   ],
   "source": [
    "print([i**2 for i in range(1,11)])"
   ]
  },
  {
   "cell_type": "markdown",
   "metadata": {},
   "source": [
    "**3**. Make a list of the first 10 square numbers in reversed order."
   ]
  },
  {
   "cell_type": "code",
   "execution_count": 3,
   "metadata": {},
   "outputs": [
    {
     "name": "stdout",
     "output_type": "stream",
     "text": [
      "[100, 81, 64, 49, 36, 25, 16, 9, 4, 1]\n"
     ]
    }
   ],
   "source": [
    "print([i**2 for i in range(1,11)][::-1])"
   ]
  },
  {
   "cell_type": "markdown",
   "metadata": {},
   "source": [
    "**4**. Repeat 3 but only keep the square numbers divisible by 4."
   ]
  },
  {
   "cell_type": "code",
   "execution_count": 5,
   "metadata": {},
   "outputs": [
    {
     "name": "stdout",
     "output_type": "stream",
     "text": [
      "[64, 16]\n"
     ]
    }
   ],
   "source": [
    "print([i**2 for i in range(1,11) if i%4==0][::-1])"
   ]
  },
  {
   "cell_type": "markdown",
   "metadata": {},
   "source": [
    "**5**. A Pythagoran triple is a tuple of 3 positive integers (a, b, c) such that $a^2 + b^2 =c ^2$. Find the unique Pythagorean triples where c is less than 20."
   ]
  },
  {
   "cell_type": "code",
   "execution_count": 32,
   "metadata": {},
   "outputs": [
    {
     "name": "stdout",
     "output_type": "stream",
     "text": [
      "[(3, 4, 5), (5, 12, 13), (6, 8, 10), (8, 15, 17), (9, 12, 15)]\n"
     ]
    }
   ],
   "source": [
    "# Have to use error b/c sqrt has leftovers\n",
    "error = 1e-12\n",
    "trips = []\n",
    "for a in range(1,20):\n",
    "    for b in range(a, 20):\n",
    "        c = (a**2 + b**2)**(0.5)\n",
    "        if c<20 and c%1<error:\n",
    "            trips.append((a, b, int(c)))\n",
    "print(trips)"
   ]
  },
  {
   "cell_type": "code",
   "execution_count": 7,
   "metadata": {},
   "outputs": [],
   "source": [
    "dna = \"\"\"\n",
    "TTTAAATTCCCTGGCACCCGCTGGAGTTCTCGATTTCGAC\n",
    "CAACCACGACGGTGTGATTCTGAATGTAGTTAGTATCTAC\n",
    "CCAGAGCTCAGGTCATATCGCGCCAAGCATAAAGGTGGCT\n",
    "GTTGAAAGTCGATGTCCGTATAAGTTCCGTTTCCTAATGA\n",
    "\"\"\""
   ]
  },
  {
   "cell_type": "markdown",
   "metadata": {},
   "source": [
    "**6**. Remove any blank space characters including newlines in dna."
   ]
  },
  {
   "cell_type": "code",
   "execution_count": 11,
   "metadata": {},
   "outputs": [
    {
     "name": "stdout",
     "output_type": "stream",
     "text": [
      "TTTAAATTCCCTGGCACCCGCTGGAGTTCTCGATTTCGACCAACCACGACGGTGTGATTCTGAATGTAGTTAGTATCTACCCAGAGCTCAGGTCATATCGCGCCAAGCATAAAGGTGGCTGTTGAAAGTCGATGTCCGTATAAGTTCCGTTTCCTAATGA\n"
     ]
    }
   ],
   "source": [
    "dna = ''.join(dna.split())\n",
    "print(dna)"
   ]
  },
  {
   "cell_type": "markdown",
   "metadata": {},
   "source": [
    "**7**. Find the unique bases in dna."
   ]
  },
  {
   "cell_type": "code",
   "execution_count": 14,
   "metadata": {},
   "outputs": [
    {
     "name": "stdout",
     "output_type": "stream",
     "text": [
      "{'A', 'G', 'C', 'T'}\n"
     ]
    }
   ],
   "source": [
    "print(set(dna))"
   ]
  },
  {
   "cell_type": "markdown",
   "metadata": {},
   "source": [
    "**8**. Find the position of the first occrurence of 'C' in dna."
   ]
  },
  {
   "cell_type": "code",
   "execution_count": 20,
   "metadata": {},
   "outputs": [
    {
     "name": "stdout",
     "output_type": "stream",
     "text": [
      "8\n"
     ]
    }
   ],
   "source": [
    "print(dna.index(\"C\"))"
   ]
  },
  {
   "cell_type": "markdown",
   "metadata": {},
   "source": [
    "**9**. Find the position of the second occurrence of 'C' in dna."
   ]
  },
  {
   "cell_type": "code",
   "execution_count": 28,
   "metadata": {},
   "outputs": [
    {
     "name": "stdout",
     "output_type": "stream",
     "text": [
      "9\n"
     ]
    }
   ],
   "source": [
    "# Second argument refers to startpoint in string\n",
    "print(dna.index(\"C\", 9))"
   ]
  },
  {
   "cell_type": "markdown",
   "metadata": {},
   "source": [
    "**10**. What is the sequence of the complementary strand of DNA? Recall from grade school biology that A is complementary to T and C is complementary to G. "
   ]
  },
  {
   "cell_type": "code",
   "execution_count": 33,
   "metadata": {},
   "outputs": [
    {
     "name": "stdout",
     "output_type": "stream",
     "text": [
      "AAATTTAAGGGACCGTGGGCGACCTCAAGAGCTAAAGCTGGTTGGTGCTGCCACACTAAGACTTACATCAATCATAGATGGGTCTCGAGTCCAGTATAGCGCGGTTCGTATTTCCACCGACAACTTTCAGCTACAGGCATATTCAAGGCAAAGGATTACT\n"
     ]
    }
   ],
   "source": [
    "# With this mapping, ATCG = TAGC\n",
    "import string\n",
    "table = str.maketrans(\"ACTG\", \"TGAC\")\n",
    "dna_comp = dna.translate(table)\n",
    "print(dna_comp)"
   ]
  },
  {
   "cell_type": "markdown",
   "metadata": {},
   "source": [
    "**11**. Can you print the complemntary DNA strand with only 40 characters to a line"
   ]
  },
  {
   "cell_type": "markdown",
   "metadata": {},
   "source": [
    "Using regular Python"
   ]
  },
  {
   "cell_type": "code",
   "execution_count": 38,
   "metadata": {},
   "outputs": [
    {
     "name": "stdout",
     "output_type": "stream",
     "text": [
      "AAATTTAAGGGACCGTGGGCGACCTCAAGAGCTAAAGCTG\n",
      "GTTGGTGCTGCCACACTAAGACTTACATCAATCATAGATG\n",
      "GGTCTCGAGTCCAGTATAGCGCGGTTCGTATTTCCACCGA\n",
      "CAACTTTCAGCTACAGGCATATTCAAGGCAAAGGATTACT\n"
     ]
    }
   ],
   "source": [
    "for i in range(len(dna_comp)//40):\n",
    "    print(dna_comp[i*40:i*40+40])"
   ]
  },
  {
   "cell_type": "markdown",
   "metadata": {},
   "source": [
    "**12**. A 1-D random walk experiment starts from value 0, then either adds or subtracts 1 at each step. Run $n$ such random walks, each time recording the final value after $k$ steps. Show the counts of eac final value. What is the mean and standard deviaiton of the final values?\n",
    "\n",
    "Let $n$ = 10000 and $k=100$.  Use the standard libary package `random` to generate random steps."
   ]
  },
  {
   "cell_type": "code",
   "execution_count": 62,
   "metadata": {},
   "outputs": [],
   "source": [
    "# Can use np.random.choice to avoid using randint with conditionals\n",
    "import numpy as np\n",
    "k = 100\n",
    "n = 10000\n",
    "results = []\n",
    "for i in range(n):\n",
    "    results.append(np.sum(np.random.choice([-1, 1], k)))"
   ]
  },
  {
   "cell_type": "code",
   "execution_count": 58,
   "metadata": {},
   "outputs": [
    {
     "name": "stdout",
     "output_type": "stream",
     "text": [
      "-0.0254\n"
     ]
    }
   ],
   "source": [
    "mean = sum(results)/n\n",
    "print(mean)"
   ]
  },
  {
   "cell_type": "code",
   "execution_count": 61,
   "metadata": {},
   "outputs": [
    {
     "name": "stdout",
     "output_type": "stream",
     "text": [
      "10.137798323107356\n"
     ]
    }
   ],
   "source": [
    "sd = (sum([(i-mean)**2 for i in results])/n)**0.5\n",
    "print(sd)"
   ]
  },
  {
   "cell_type": "code",
   "execution_count": null,
   "metadata": {},
   "outputs": [],
   "source": []
  }
 ],
 "metadata": {
  "kernelspec": {
   "display_name": "Python 3",
   "language": "python",
   "name": "python3"
  },
  "language_info": {
   "codemirror_mode": {
    "name": "ipython",
    "version": 3
   },
   "file_extension": ".py",
   "mimetype": "text/x-python",
   "name": "python",
   "nbconvert_exporter": "python",
   "pygments_lexer": "ipython3",
   "version": "3.8.8"
  }
 },
 "nbformat": 4,
 "nbformat_minor": 2
}
