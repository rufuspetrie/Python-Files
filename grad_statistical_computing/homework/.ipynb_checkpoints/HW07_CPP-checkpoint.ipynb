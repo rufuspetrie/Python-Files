{
 "cells": [
  {
   "cell_type": "markdown",
   "metadata": {},
   "source": [
    "# HW07: CPP"
   ]
  },
  {
   "cell_type": "markdown",
   "metadata": {},
   "source": [
    "**1**. \n",
    "\n",
    "Write the FizzBuzz program in C++."
   ]
  },
  {
   "cell_type": "code",
   "execution_count": 1,
   "metadata": {},
   "outputs": [
    {
     "name": "stdout",
     "output_type": "stream",
     "text": [
      "Overwriting e1.cpp\n"
     ]
    }
   ],
   "source": [
    "%%file e1.cpp\n",
    "\n",
    "#include <iostream>\n",
    "using namespace std;\n",
    "\n",
    "int main(){\n",
    "    for(int i = 1; i <= 100; i++){\n",
    "        if(i%3==0 & i%5==0){\n",
    "            cout << \"FizzBuzz \";\n",
    "        }\n",
    "        else if(i%3==0){\n",
    "            cout << \"Fizz \";\n",
    "        }\n",
    "        else if(i%5==0){\n",
    "            cout << \"Buzz \";\n",
    "        }\n",
    "        else{\n",
    "            cout << i << \" \";\n",
    "        }\n",
    "    }\n",
    "}"
   ]
  },
  {
   "cell_type": "code",
   "execution_count": 2,
   "metadata": {},
   "outputs": [
    {
     "name": "stdout",
     "output_type": "stream",
     "text": [
      "1 2 Fizz 4 Buzz Fizz 7 8 Fizz Buzz 11 Fizz 13 14 FizzBuzz 16 17 Fizz 19 Buzz Fizz 22 23 Fizz Buzz 26 Fizz 28 29 FizzBuzz 31 32 Fizz 34 Buzz Fizz 37 38 Fizz Buzz 41 Fizz 43 44 FizzBuzz 46 47 Fizz 49 Buzz Fizz 52 53 Fizz Buzz 56 Fizz 58 59 FizzBuzz 61 62 Fizz 64 Buzz Fizz 67 68 Fizz Buzz 71 Fizz 73 74 FizzBuzz 76 77 Fizz 79 Buzz Fizz 82 83 Fizz Buzz 86 Fizz 88 89 FizzBuzz 91 92 Fizz 94 Buzz Fizz 97 98 Fizz Buzz "
     ]
    }
   ],
   "source": [
    "%%bash\n",
    "\n",
    "g++ e1.cpp -o e1.exe\n",
    "./e1.exe"
   ]
  },
  {
   "cell_type": "markdown",
   "metadata": {},
   "source": [
    "**2**.\n",
    "\n",
    "Write a C++ program that takes a single number `n` as input on the command line and then prints the square of that number."
   ]
  },
  {
   "cell_type": "code",
   "execution_count": 3,
   "metadata": {},
   "outputs": [
    {
     "name": "stdout",
     "output_type": "stream",
     "text": [
      "Overwriting e2.cpp\n"
     ]
    }
   ],
   "source": [
    "%%file e2.cpp\n",
    "\n",
    "#include <iostream>\n",
    "\n",
    "int main() {\n",
    "    int n;\n",
    "    std::cin >> n;\n",
    "    std::cout << n*n << \"\\n\";\n",
    "}"
   ]
  },
  {
   "cell_type": "markdown",
   "metadata": {},
   "source": [
    "**3**.\n",
    "\n",
    "Use loops to generate the 12 by 12 times table. Compile and run. You don't have to worry much about formatting, but the output should have 12 rows with numbers separated by spaces."
   ]
  },
  {
   "cell_type": "code",
   "execution_count": 4,
   "metadata": {},
   "outputs": [
    {
     "name": "stdout",
     "output_type": "stream",
     "text": [
      "Overwriting e3.cpp\n"
     ]
    }
   ],
   "source": [
    "%%file e3.cpp\n",
    "\n",
    "#include <iostream>\n",
    "using namespace std;\n",
    "\n",
    "int main(){\n",
    "    for(int i=1; i<=12; i++){\n",
    "        for(int j=1; j<=12; j++){\n",
    "            cout << i*j << \" \";\n",
    "        }\n",
    "        cout << \"\\n\";\n",
    "    }\n",
    "}"
   ]
  },
  {
   "cell_type": "code",
   "execution_count": 5,
   "metadata": {},
   "outputs": [
    {
     "name": "stdout",
     "output_type": "stream",
     "text": [
      "1 2 3 4 5 6 7 8 9 10 11 12 \r\n",
      "2 4 6 8 10 12 14 16 18 20 22 24 \r\n",
      "3 6 9 12 15 18 21 24 27 30 33 36 \r\n",
      "4 8 12 16 20 24 28 32 36 40 44 48 \r\n",
      "5 10 15 20 25 30 35 40 45 50 55 60 \r\n",
      "6 12 18 24 30 36 42 48 54 60 66 72 \r\n",
      "7 14 21 28 35 42 49 56 63 70 77 84 \r\n",
      "8 16 24 32 40 48 56 64 72 80 88 96 \r\n",
      "9 18 27 36 45 54 63 72 81 90 99 108 \r\n",
      "10 20 30 40 50 60 70 80 90 100 110 120 \r\n",
      "11 22 33 44 55 66 77 88 99 110 121 132 \r\n",
      "12 24 36 48 60 72 84 96 108 120 132 144 \r\n"
     ]
    }
   ],
   "source": [
    "%%bash\n",
    "\n",
    "g++ e3.cpp -o e3.exe\n",
    "./e3.exe"
   ]
  },
  {
   "cell_type": "markdown",
   "metadata": {},
   "source": [
    "**4**.\n",
    "\n",
    "Write a C++ program that uses a function to calculate the 10th Fibonacci number."
   ]
  },
  {
   "cell_type": "code",
   "execution_count": 6,
   "metadata": {},
   "outputs": [
    {
     "name": "stdout",
     "output_type": "stream",
     "text": [
      "Overwriting e4.cpp\n"
     ]
    }
   ],
   "source": [
    "%%file e4.cpp\n",
    "\n",
    "#include <iostream>\n",
    "using namespace std;\n",
    "\n",
    "int lazyfib(int n);\n",
    "\n",
    "int main(){\n",
    "    cout << lazyfib(10);\n",
    "}\n",
    "\n",
    "int lazyfib(int n){\n",
    "    if((n==1) or (n==2)){\n",
    "        return 1;\n",
    "    }\n",
    "    else{\n",
    "        return lazyfib(n-1) + lazyfib(n-2);\n",
    "    }\n",
    "}"
   ]
  },
  {
   "cell_type": "code",
   "execution_count": 7,
   "metadata": {},
   "outputs": [
    {
     "name": "stdout",
     "output_type": "stream",
     "text": [
      "55"
     ]
    }
   ],
   "source": [
    "%%bash\n",
    "\n",
    "g++ e4.cpp -o e4.exe\n",
    "./e4.exe"
   ]
  },
  {
   "cell_type": "markdown",
   "metadata": {},
   "source": [
    "**5**.\n",
    "\n",
    "Write a C++ program that implements a map(func, xs) function where xs is an vector of integers and func is any function that takes an integer and returns another integer. Map should return an vector of integers. Test it on a vector [1,2,3,4] and an anonymous function that adds 3 to its input argument."
   ]
  },
  {
   "cell_type": "code",
   "execution_count": 8,
   "metadata": {},
   "outputs": [
    {
     "name": "stdout",
     "output_type": "stream",
     "text": [
      "Overwriting e5.cpp\n"
     ]
    }
   ],
   "source": [
    "%%file e5.cpp\n",
    "\n",
    "#include <iostream>\n",
    "#include <vector>\n",
    "#include <functional>\n",
    "using namespace std;\n",
    "\n",
    "using func = function<int(int)>;\n",
    "auto add3 = [](int x){ return x+3; };\n",
    "vector<int> map(vector<int> xs, func f);\n",
    "\n",
    "int main(){\n",
    "    vector<int> xs = {1, 2, 3, 4};\n",
    "    vector<int> result = map(xs, add3);\n",
    "    for(auto it=result.begin(); it!=result.end(); it++){\n",
    "        cout << *it << \" \";\n",
    "    }\n",
    "}\n",
    "\n",
    "vector<int> map(vector<int> xs, func f){\n",
    "    vector<int> result;\n",
    "    for(auto it=xs.begin(); it!=xs.end(); it++){\n",
    "        result.push_back(f(*it));\n",
    "    }\n",
    "    return result;\n",
    "}"
   ]
  },
  {
   "cell_type": "code",
   "execution_count": 9,
   "metadata": {},
   "outputs": [
    {
     "name": "stdout",
     "output_type": "stream",
     "text": [
      "4 5 6 7 "
     ]
    }
   ],
   "source": [
    "%%bash\n",
    "\n",
    "g++ -std=c++14 e5.cpp -o e5.exe\n",
    "./e5.exe"
   ]
  },
  {
   "cell_type": "markdown",
   "metadata": {},
   "source": [
    "**6**.\n",
    "\n",
    "Generate 100 numbers from $N(100, 15)$ in C++. Write to a plain text file."
   ]
  },
  {
   "cell_type": "code",
   "execution_count": 10,
   "metadata": {},
   "outputs": [
    {
     "name": "stdout",
     "output_type": "stream",
     "text": [
      "Overwriting e6.cpp\n"
     ]
    }
   ],
   "source": [
    "%%file e6.cpp\n",
    "\n",
    "#include <iostream>\n",
    "#include <fstream>\n",
    "#include <functional>\n",
    "#include <random>\n",
    "using namespace std;\n",
    "\n",
    "default_random_engine re{12345};\n",
    "normal_distribution<double> norm(100, 15);\n",
    "auto rnorm = bind(norm, re);\n",
    "\n",
    "int main() {\n",
    "    ofstream fout(\"norm_data.txt\");\n",
    "    for (int i=0; i<100; i++) {\n",
    "        fout << rnorm() << \"\\n\";\n",
    "    }\n",
    "}"
   ]
  },
  {
   "cell_type": "code",
   "execution_count": 11,
   "metadata": {},
   "outputs": [],
   "source": [
    "%%bash\n",
    "\n",
    "g++ e6.cpp -o e6.exe -std=c++14\n",
    "./e6.exe"
   ]
  },
  {
   "cell_type": "code",
   "execution_count": 12,
   "metadata": {},
   "outputs": [
    {
     "name": "stdout",
     "output_type": "stream",
     "text": [
      "101.676\n",
      "91.1401\n",
      "90.6154\n"
     ]
    }
   ],
   "source": [
    "! head -n3 norm_data.txt"
   ]
  },
  {
   "cell_type": "markdown",
   "metadata": {},
   "source": [
    "**7**.\n",
    "\n",
    "Implement Newton's method in 1D for root finding. Pass in the function and gradient as generalized function pointers. Use the method to find all roots of the polynomial equation $f(x) = x^3 - 7x - 6$"
   ]
  },
  {
   "cell_type": "code",
   "execution_count": 13,
   "metadata": {},
   "outputs": [
    {
     "name": "stdout",
     "output_type": "stream",
     "text": [
      "Overwriting e7.cpp\n"
     ]
    }
   ],
   "source": [
    "%%file e7.cpp\n",
    "\n",
    "#include <iostream>\n",
    "#include <vector>\n",
    "#include <numeric>\n",
    "#include <iomanip>\n",
    "#include <cmath>\n",
    "#include <functional>\n",
    "using std::vector;\n",
    "using std::cout;\n",
    "using std::function;\n",
    "using func = function<double(double)>;\n",
    "\n",
    "double newton(double x0, func f, func grad, int max_iter=100){\n",
    "    double x = x0;\n",
    "    for(int i=0; i<max_iter; i++){\n",
    "        x -= f(x)/grad(x);\n",
    "    }\n",
    "    return x;\n",
    "}\n",
    "\n",
    "int main(){\n",
    "    auto f = [](double x){return pow(x,3) - 7*x - 6;};\n",
    "    auto grad = [](double x){return 3.0*pow(x,2) - 7;};\n",
    "    vector<double> x = {-5, 0, 5};\n",
    "    for(auto& x0: x){\n",
    "        cout << std::setw(2) << x0 << \": \" << std::setw(3) << newton(x0, f, grad) << \"\\n\";\n",
    "    }\n",
    "}"
   ]
  },
  {
   "cell_type": "code",
   "execution_count": 14,
   "metadata": {},
   "outputs": [],
   "source": [
    "%%bash\n",
    "g++ -std=c++11 e7.cpp -o e7.exe"
   ]
  },
  {
   "cell_type": "code",
   "execution_count": 15,
   "metadata": {},
   "outputs": [
    {
     "name": "stdout",
     "output_type": "stream",
     "text": [
      "-5:  -2\r\n",
      " 0:  -1\r\n",
      " 5:   3\r\n"
     ]
    }
   ],
   "source": [
    "%%bash\n",
    "./e7.exe"
   ]
  },
  {
   "cell_type": "markdown",
   "metadata": {},
   "source": [
    "**8**.\n",
    "\n",
    "Use the armadillo library to\n",
    "\n",
    "- Generate 10 x-coordinates linearly spaced between 10 and 15\n",
    "- Generate 10 random y-values as $y = 3x^2 - 7x + 2 + \\epsilon$ where $\\epsilon \\sim 10 N(0,1)$\n",
    "- Find the length of $x$ and $y$ and the Euclidean distance between $x$ and $y$\n",
    "- Find the correlation between $x$ and $y$\n",
    "- Solve the linear system to find a quadratic fit for this data"
   ]
  },
  {
   "cell_type": "code",
   "execution_count": 16,
   "metadata": {},
   "outputs": [
    {
     "name": "stdout",
     "output_type": "stream",
     "text": [
      "Overwriting e8.cpp\n"
     ]
    }
   ],
   "source": [
    "%%file e8.cpp\n",
    "\n",
    "#include <iostream>\n",
    "#include <fstream>\n",
    "#include <armadillo>\n",
    "using std::cout;\n",
    "using std::ofstream;\n",
    "\n",
    "int main(){\n",
    "    // Armadillo library\n",
    "    using namespace arma;\n",
    "    \n",
    "    // Generate vectors\n",
    "    vec x = linspace<vec>(10.0, 15.0, 10);\n",
    "    vec e = 10*randn<vec>(10);\n",
    "    vec y = 3*5%x - 7*x + 2 + e;\n",
    "    \n",
    "    // Print x/y vectors\n",
    "    cout << \"Here are the x values: \\n\" << x << \"\\n\";\n",
    "    cout << \"Here are the y values: \\n\" << y << \"\\n\";\n",
    "    \n",
    "    // Lengths and Euclidean Distance\n",
    "    cout << \"Length of x: \" << norm(x) << \"\\n\";\n",
    "    cout << \"Length of y: \" << norm(y) << \"\\n\";\n",
    "    cout << \"Distance between x and y: \" << norm(x -y) << \"\\n\";\n",
    "\n",
    "    // Correlation\n",
    "    cout << \"Correlation of x and y: \" << cor(x,y) << \"\\n\";\n",
    "    \n",
    "    // Solve linear system for quadratic fit\n",
    "    mat A = join_rows(ones<vec(10), x);\n",
    "    A = join_rows(A, x%x);\n",
    "    cout << \"Here is the data matrix: \" << A << \"\\n\";\n",
    "    vec b = solve(A, y);\n",
    "    cout << \"Here is the beta value: \" << b << \"\\n\";\n",
    "}"
   ]
  }
 ],
 "metadata": {
  "kernelspec": {
   "display_name": "Python 3 (ipykernel)",
   "language": "python",
   "name": "python3"
  },
  "language_info": {
   "codemirror_mode": {
    "name": "ipython",
    "version": 3
   },
   "file_extension": ".py",
   "mimetype": "text/x-python",
   "name": "python",
   "nbconvert_exporter": "python",
   "pygments_lexer": "ipython3",
   "version": "3.8.11"
  }
 },
 "nbformat": 4,
 "nbformat_minor": 2
}
