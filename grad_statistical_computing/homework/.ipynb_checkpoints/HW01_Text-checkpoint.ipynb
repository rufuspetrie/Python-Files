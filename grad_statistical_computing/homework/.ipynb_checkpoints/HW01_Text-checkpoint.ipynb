{
 "cells": [
  {
   "cell_type": "markdown",
   "metadata": {},
   "source": [
    "# Homework 01:  Working with text"
   ]
  },
  {
   "cell_type": "markdown",
   "metadata": {},
   "source": [
    "Questions 1-6 use the text in the variable `sentences`."
   ]
  },
  {
   "cell_type": "markdown",
   "metadata": {},
   "source": [
    "`string` and `re` are imported for yoy. You should not use any ohter imports for this exercise."
   ]
  },
  {
   "cell_type": "code",
   "execution_count": 1,
   "metadata": {},
   "outputs": [],
   "source": [
    "import string\n",
    "import re"
   ]
  },
  {
   "cell_type": "code",
   "execution_count": 2,
   "metadata": {},
   "outputs": [],
   "source": [
    "sentences = \"\"\"\n",
    "Eva, Can I Stab Bats In A Cave?\n",
    "This is not a palindrome.\n",
    "Madam In Eden, I'm Adam\n",
    "Neither is this.\n",
    "Mr. Owl Ate My Metal Worm\n",
    "Do you think this is a palindrome?\n",
    "Never Odd Or Even\n",
    "Ouch! That hurts!!\n",
    "Doc, Note: I Dissent. A Fast Never Prevents A Fatness. I Diet On Cod.\n",
    "Pythons eat rats.\n",
    "\"\"\""
   ]
  },
  {
   "cell_type": "markdown",
   "metadata": {},
   "source": [
    "**1**. (10 points)\n",
    "\n",
    "- Write a function to identify palindromes. It should ignore spaces, punctuation and capitalization. "
   ]
  },
  {
   "cell_type": "code",
   "execution_count": 3,
   "metadata": {},
   "outputs": [],
   "source": [
    "# Function to ignore spaces, punctuation, capitalization\n",
    "def cleaner(s):\n",
    "    \n",
    "    # Lowercase\n",
    "    s = s.lower()\n",
    "    \n",
    "    # Remove spaces\n",
    "    s = \"\".join(s.split())\n",
    "    \n",
    "    # Remove punctuation\n",
    "    s = s.translate(str.maketrans(\"\", \"\", string.punctuation))\n",
    "    \n",
    "    return s"
   ]
  },
  {
   "cell_type": "code",
   "execution_count": 4,
   "metadata": {},
   "outputs": [],
   "source": [
    "# Function to determine whether palindromic\n",
    "def is_pal(s):\n",
    "    s = cleaner(s)\n",
    "    return s == s[::-1]"
   ]
  },
  {
   "cell_type": "markdown",
   "metadata": {},
   "source": [
    "**2**. (10 points)\n",
    "\n",
    "Convert the given sentences into a list, and find the palindromes using\n",
    "\n",
    "- a for loop\n",
    "- a list comprehension\n",
    "- the `filter` higher order function"
   ]
  },
  {
   "cell_type": "code",
   "execution_count": 5,
   "metadata": {},
   "outputs": [],
   "source": [
    "# Turn newline-delimited string into list\n",
    "sents = sentences.strip().splitlines()"
   ]
  },
  {
   "cell_type": "code",
   "execution_count": 6,
   "metadata": {},
   "outputs": [
    {
     "name": "stdout",
     "output_type": "stream",
     "text": [
      "['Eva, Can I Stab Bats In A Cave?', \"Madam In Eden, I'm Adam\", 'Mr. Owl Ate My Metal Worm', 'Never Odd Or Even', 'Doc, Note: I Dissent. A Fast Never Prevents A Fatness. I Diet On Cod.']\n"
     ]
    }
   ],
   "source": [
    "# Loop through and print palindromes\n",
    "out = []\n",
    "for _ in sents:\n",
    "    if is_pal(_): out.append(_)\n",
    "print(out)"
   ]
  },
  {
   "cell_type": "code",
   "execution_count": 7,
   "metadata": {},
   "outputs": [
    {
     "name": "stdout",
     "output_type": "stream",
     "text": [
      "['Eva, Can I Stab Bats In A Cave?', \"Madam In Eden, I'm Adam\", 'Mr. Owl Ate My Metal Worm', 'Never Odd Or Even', 'Doc, Note: I Dissent. A Fast Never Prevents A Fatness. I Diet On Cod.']\n"
     ]
    }
   ],
   "source": [
    "# List comprehension version\n",
    "out = [i for i in sents if is_pal(i)]\n",
    "print(out)"
   ]
  },
  {
   "cell_type": "code",
   "execution_count": 8,
   "metadata": {},
   "outputs": [
    {
     "name": "stdout",
     "output_type": "stream",
     "text": [
      "['Eva, Can I Stab Bats In A Cave?', \"Madam In Eden, I'm Adam\", 'Mr. Owl Ate My Metal Worm', 'Never Odd Or Even', 'Doc, Note: I Dissent. A Fast Never Prevents A Fatness. I Diet On Cod.']\n"
     ]
    }
   ],
   "source": [
    "# Filter version\n",
    "out = list(filter(is_pal, sents))\n",
    "print(out)"
   ]
  },
  {
   "cell_type": "markdown",
   "metadata": {},
   "source": [
    "**3**. (10 points)\n",
    "\n",
    "Sort the same sentences in decreasing order of the number of vowels they contain."
   ]
  },
  {
   "cell_type": "code",
   "execution_count": 9,
   "metadata": {},
   "outputs": [],
   "source": [
    "# Function for counting vowels\n",
    "def vowel_count(s):\n",
    "    return len(re.findall(\"[aeiou]\", s))"
   ]
  },
  {
   "cell_type": "code",
   "execution_count": 10,
   "metadata": {},
   "outputs": [
    {
     "data": {
      "text/plain": [
       "['Doc, Note: I Dissent. A Fast Never Prevents A Fatness. I Diet On Cod.',\n",
       " 'Do you think this is a palindrome?',\n",
       " 'This is not a palindrome.',\n",
       " 'Eva, Can I Stab Bats In A Cave?',\n",
       " 'Neither is this.',\n",
       " \"Madam In Eden, I'm Adam\",\n",
       " 'Mr. Owl Ate My Metal Worm',\n",
       " 'Pythons eat rats.',\n",
       " 'Never Odd Or Even',\n",
       " 'Ouch! That hurts!!']"
      ]
     },
     "execution_count": 10,
     "metadata": {},
     "output_type": "execute_result"
    }
   ],
   "source": [
    "# Sort with vowel_count as key, descending\n",
    "sorted(sents, key=vowel_count, reverse=True)"
   ]
  },
  {
   "cell_type": "markdown",
   "metadata": {},
   "source": [
    "**4**. (10 points) \n",
    "\n",
    "Count the number of times each word occurs in the `sentences` variable. Ignore punctuation and capitalization. Show the top 3 words together with their counts."
   ]
  },
  {
   "cell_type": "code",
   "execution_count": 11,
   "metadata": {},
   "outputs": [],
   "source": [
    "# Clean sentences, create word counter\n",
    "cleaned = [cleaner(s) for s in sentences.split()]\n",
    "count = {}\n",
    "for i in cleaned:\n",
    "    if i in count:\n",
    "        count[i] += 1\n",
    "    else:\n",
    "        count[i] = 1"
   ]
  },
  {
   "cell_type": "code",
   "execution_count": 12,
   "metadata": {},
   "outputs": [
    {
     "data": {
      "text/plain": [
       "[('a', 5), ('i', 3), ('this', 3)]"
      ]
     },
     "execution_count": 12,
     "metadata": {},
     "output_type": "execute_result"
    }
   ],
   "source": [
    "# 3 most common words\n",
    "sorted(count.items(), key = lambda x: x[1], reverse=True)[:3]"
   ]
  },
  {
   "cell_type": "markdown",
   "metadata": {},
   "source": [
    "**5**. (10 points)\n",
    "\n",
    "Convert the variable sentences into a string with no spaces or punctuation and all in lower case. Now find the most commonly occurring pair of characters (the character pairs in `abcde` are `ab`, `bc`, `cd`, `de`)."
   ]
  },
  {
   "cell_type": "code",
   "execution_count": 13,
   "metadata": {},
   "outputs": [],
   "source": [
    "# Convert to clean string\n",
    "s = cleaner(sentences)"
   ]
  },
  {
   "cell_type": "code",
   "execution_count": 14,
   "metadata": {},
   "outputs": [],
   "source": [
    "# Generate character pairs with zip\n",
    "# Note: join isn't necessary but makes the output more readable\n",
    "pairs = list(zip(s, s[1:]))\n",
    "pairs = [\"\".join(i) for i in pairs]"
   ]
  },
  {
   "cell_type": "code",
   "execution_count": 15,
   "metadata": {},
   "outputs": [],
   "source": [
    "# Create counter for character pairs\n",
    "count = {}\n",
    "for i in pairs:\n",
    "    if i in count.keys():\n",
    "        count[i] += 1\n",
    "    else:\n",
    "        count[i] = 1"
   ]
  },
  {
   "cell_type": "code",
   "execution_count": 16,
   "metadata": {},
   "outputs": [
    {
     "data": {
      "text/plain": [
       "('is', 8)"
      ]
     },
     "execution_count": 16,
     "metadata": {},
     "output_type": "execute_result"
    }
   ],
   "source": [
    "# Most common pairs\n",
    "max(count.items(), key = lambda x: x[1])"
   ]
  },
  {
   "cell_type": "markdown",
   "metadata": {},
   "source": [
    "**6**. (10 points)\n",
    "\n",
    "- Save the palindromes found in **1** to a file `data/palindromes.txt` with each palindrome in its own line.\n",
    "- Read the file `data/palindromes.txt` and display the lines formatted so that\n",
    "    - the longest line is printed as is\n",
    "    - all other lines are right-aligned to the longest line"
   ]
  },
  {
   "cell_type": "code",
   "execution_count": 17,
   "metadata": {},
   "outputs": [],
   "source": [
    "# Write sentences to file, use bash verify\n",
    "with open(\"data/palindromes.txt\", \"w\") as f:\n",
    "    f.write(\"\\n\".join(sents))"
   ]
  },
  {
   "cell_type": "code",
   "execution_count": 18,
   "metadata": {},
   "outputs": [
    {
     "name": "stdout",
     "output_type": "stream",
     "text": [
      "Eva, Can I Stab Bats In A Cave?\r\n",
      "This is not a palindrome.\r\n",
      "Madam In Eden, I'm Adam\r\n",
      "Neither is this.\r\n",
      "Mr. Owl Ate My Metal Worm\r\n",
      "Do you think this is a palindrome?\r\n",
      "Never Odd Or Even\r\n",
      "Ouch! That hurts!!\r\n",
      "Doc, Note: I Dissent. A Fast Never Prevents A Fatness. I Diet On Cod.\r\n",
      "Pythons eat rats."
     ]
    }
   ],
   "source": [
    "%%bash\n",
    "cat data/palindromes.txt"
   ]
  },
  {
   "cell_type": "code",
   "execution_count": 19,
   "metadata": {},
   "outputs": [],
   "source": [
    "# Reopen file\n",
    "with open(\"data/palindromes.txt\", \"r\") as f:\n",
    "    lines = f.read().split(\"\\n\")"
   ]
  },
  {
   "cell_type": "code",
   "execution_count": 20,
   "metadata": {},
   "outputs": [
    {
     "name": "stdout",
     "output_type": "stream",
     "text": [
      "                                      Eva, Can I Stab Bats In A Cave?\n",
      "                                            This is not a palindrome.\n",
      "                                              Madam In Eden, I'm Adam\n",
      "                                                     Neither is this.\n",
      "                                            Mr. Owl Ate My Metal Worm\n",
      "                                   Do you think this is a palindrome?\n",
      "                                                    Never Odd Or Even\n",
      "                                                   Ouch! That hurts!!\n",
      "Doc, Note: I Dissent. A Fast Never Prevents A Fatness. I Diet On Cod.\n",
      "                                                    Pythons eat rats.\n"
     ]
    }
   ],
   "source": [
    "# Use format option to pad lines\n",
    "n = max(len(i) for i in lines)\n",
    "for line in lines:\n",
    "    print(f\"{line:>{n}}\")"
   ]
  },
  {
   "cell_type": "markdown",
   "metadata": {},
   "source": [
    "**7**. (20 points)\n",
    "\n",
    "- Write a function called `encode` that uses the simple Caesar cipher with offset of $k$. A Caesar cipher moves a character $k$ positions forward with wraparound - an offset of 2 would give `a -> c, b -> d, ..., y -> a, z -> b`. \n",
    "\n",
    "The encoder should preserve punctuation, spaces and the case of the characters as in the example below for an offset of 13.\n",
    "\n",
    "```\n",
    "(original) Why did the chicken cross the road?\n",
    "(encoded) Jul qvq gur puvpxra pebff gur ebnq?\n",
    "```\n",
    "\n",
    "Write a function to encode and decode text using a Caesar cipher with an offset of 5 and test it on the `Why did the chicken cross the road?`"
   ]
  },
  {
   "cell_type": "code",
   "execution_count": 21,
   "metadata": {},
   "outputs": [],
   "source": [
    "# Encode function from lecture notes\n",
    "def encode(text, k):\n",
    "    table = dict(zip(map(ord, string.ascii_lowercase),\n",
    "                              string.ascii_lowercase[k:] + string.ascii_lowercase[:k]))\n",
    "    return text.translate(table)"
   ]
  },
  {
   "cell_type": "code",
   "execution_count": 22,
   "metadata": {},
   "outputs": [
    {
     "data": {
      "text/plain": [
       "'Wmd ini ymj hmnhpjs hwtxx ymj wtfi?'"
      ]
     },
     "execution_count": 22,
     "metadata": {},
     "output_type": "execute_result"
    }
   ],
   "source": [
    "# Test\n",
    "s = \"Why did the chicken cross the road?\"\n",
    "e = encode(s, 5)\n",
    "e"
   ]
  },
  {
   "cell_type": "code",
   "execution_count": 23,
   "metadata": {},
   "outputs": [
    {
     "data": {
      "text/plain": [
       "'Why did the chicken cross the road?'"
      ]
     },
     "execution_count": 23,
     "metadata": {},
     "output_type": "execute_result"
    }
   ],
   "source": [
    "# Decoded\n",
    "encode(e, -5)"
   ]
  },
  {
   "cell_type": "markdown",
   "metadata": {},
   "source": [
    "**8**. (20 points)\n",
    "\n",
    "A one-time pad is the same as a Caesar cipher, except that each character is given a random offset (the pad contains a list of offsets). Without the pad, the cipher is unbreakable. Write a function to encode and decode using the one-time pad of offsets provided in `data/pad.txt`. As usual, the encoder should ignore punctuation and spaces but preserve the case of the characters."
   ]
  },
  {
   "cell_type": "code",
   "execution_count": 24,
   "metadata": {},
   "outputs": [],
   "source": [
    "# Read pads\n",
    "pads = []\n",
    "with open(\"data/pad.txt\") as f:\n",
    "    for line in f:\n",
    "        if line: pads.append(int(line))"
   ]
  },
  {
   "cell_type": "code",
   "execution_count": 25,
   "metadata": {},
   "outputs": [],
   "source": [
    "# Encoder function\n",
    "def encode_pad(s, pads):\n",
    "    \n",
    "    idx = 0\n",
    "    out = []\n",
    "    for i in s:\n",
    "        if i in string.ascii_letters:\n",
    "            k = pads[idx % len(pads)]\n",
    "            out.append(encode(i, k))\n",
    "            idx += 1\n",
    "        else:\n",
    "            out.append(i)\n",
    "    \n",
    "    return \"\".join(out)"
   ]
  },
  {
   "cell_type": "code",
   "execution_count": 26,
   "metadata": {},
   "outputs": [
    {
     "data": {
      "text/plain": [
       "'Wza inm xjm qsgwajt ivjyn irl iiqy?'"
      ]
     },
     "execution_count": 26,
     "metadata": {},
     "output_type": "execute_result"
    }
   ],
   "source": [
    "# Test\n",
    "e = encode_pad(s, pads)\n",
    "e"
   ]
  },
  {
   "cell_type": "code",
   "execution_count": 27,
   "metadata": {},
   "outputs": [
    {
     "data": {
      "text/plain": [
       "'Why did the chicken cross the road?'"
      ]
     },
     "execution_count": 27,
     "metadata": {},
     "output_type": "execute_result"
    }
   ],
   "source": [
    "# Decode with negative indices\n",
    "encode_pad(e, [-i for i in pads])"
   ]
  }
 ],
 "metadata": {
  "kernelspec": {
   "display_name": "Python 3 (ipykernel)",
   "language": "python",
   "name": "python3"
  },
  "language_info": {
   "codemirror_mode": {
    "name": "ipython",
    "version": 3
   },
   "file_extension": ".py",
   "mimetype": "text/x-python",
   "name": "python",
   "nbconvert_exporter": "python",
   "pygments_lexer": "ipython3",
   "version": "3.8.11"
  }
 },
 "nbformat": 4,
 "nbformat_minor": 2
}
