{
 "cells": [
  {
   "cell_type": "markdown",
   "metadata": {},
   "source": [
    "# Lab02: Functions"
   ]
  },
  {
   "cell_type": "markdown",
   "metadata": {},
   "source": [
    "**Brief Honor Code**. Do the homework on your own. You may discuss ideas with your classmates, but DO NOT copy the solutions from someone else or the Internet. If stuck, discuss with TA."
   ]
  },
  {
   "cell_type": "markdown",
   "metadata": {},
   "source": [
    "**1**. (10 points) \n",
    "\n",
    "Rewrite the following code into functional form using lambdas, map, filter and reduce."
   ]
  },
  {
   "cell_type": "code",
   "execution_count": 1,
   "metadata": {},
   "outputs": [
    {
     "data": {
      "text/plain": [
       "123"
      ]
     },
     "execution_count": 1,
     "metadata": {},
     "output_type": "execute_result"
    }
   ],
   "source": [
    "n = 10\n",
    "s = 10\n",
    "for i in range(n):\n",
    "    if i % 2:\n",
    "        s |= i**2\n",
    "s"
   ]
  },
  {
   "cell_type": "code",
   "execution_count": 2,
   "metadata": {},
   "outputs": [
    {
     "name": "stdout",
     "output_type": "stream",
     "text": [
      "123\n"
     ]
    }
   ],
   "source": [
    "from functools import reduce\n",
    "from operator import or_\n",
    "\n",
    "# Functional paradigm:\n",
    "    # Lambdas replace explicit funtion definitons\n",
    "    # Maps replace looping over arrays\n",
    "    # Filters replace conditional statements\n",
    "    # Reduce replaces aggregations\n",
    "    \n",
    "n = 10\n",
    "s = 10\n",
    "    \n",
    "# Step 1: filter out even numbers\n",
    "x = filter(lambda x: x%2, range(n))\n",
    "\n",
    "# Step 2: square the numbers\n",
    "y = map(lambda x: x**2, x)\n",
    "\n",
    "# Step 3: reduce using condition\n",
    "z = reduce(or_, y, s)\n",
    "print(z)"
   ]
  },
  {
   "cell_type": "markdown",
   "metadata": {},
   "source": [
    "**2**. (10 points)\n",
    "\n",
    "Rewrite the code above as a `toolz` pipeline, using lambdas and curried or partially applied functions as necessary."
   ]
  },
  {
   "cell_type": "code",
   "execution_count": 3,
   "metadata": {},
   "outputs": [
    {
     "data": {
      "text/plain": [
       "123"
      ]
     },
     "execution_count": 3,
     "metadata": {},
     "output_type": "execute_result"
    }
   ],
   "source": [
    "import toolz as tz\n",
    "import toolz.curried as c\n",
    "\n",
    "# Note:\n",
    "    # The toolz pipeline is nice because it allows you to pipe like you would with DPLYR\n",
    "    # This lets functional programs have a similar verticality to ordinary Python programs    \n",
    "\n",
    "n = 10\n",
    "s = 10\n",
    "\n",
    "tz.pipe(\n",
    "    range(n),\n",
    "    c.filter(lambda x: x%2),\n",
    "    c.map(lambda x: x**2),\n",
    "    lambda x: reduce(or_, x, s)\n",
    ")"
   ]
  },
  {
   "cell_type": "markdown",
   "metadata": {},
   "source": [
    "**3**. (10 points) \n",
    "\n",
    "Repeat the Buffon's needle simulation from Lab01 as a function that takes the number of needels `n` as input and returns the estimate of $\\pi$. The function should use `numpy` and vectorization.  What is $\\pi$ for 1 million needles?"
   ]
  },
  {
   "cell_type": "code",
   "execution_count": 4,
   "metadata": {},
   "outputs": [
    {
     "data": {
      "text/plain": [
       "3.137653568531845"
      ]
     },
     "execution_count": 4,
     "metadata": {},
     "output_type": "execute_result"
    }
   ],
   "source": [
    "import numpy as np\n",
    "import math\n",
    "\n",
    "n = 10**6\n",
    "\n",
    "def buffon(n):\n",
    "    center = np.random.random(n)\n",
    "    angle = np.random.uniform(0, np.pi, n)\n",
    "    upper = center + 0.5 * np.sin(angle)\n",
    "    lower = center - 0.5 * np.sin(angle)\n",
    "    p = np.sum(np.where((lower<0) | (upper>1), 1, 0))/n\n",
    "    return(2/p)\n",
    "    \n",
    "buffon(n)"
   ]
  },
  {
   "cell_type": "markdown",
   "metadata": {},
   "source": [
    "**4**. (20 points) \n",
    "\n",
    "Simpsons rule is given by the follwoing approximation\n",
    "\n",
    "![Simpsons](https://wikimedia.org/api/rest_v1/media/math/render/svg/a0cdf0804bb8810e4438cbea898dc7a2fedb3e57)\n",
    "\n",
    "- Write Simpsons rule as a function `simpsons(f, a, b, n=100)` where n is the number of equally spaced intervals from `a` to `b`.  (10 points)\n",
    "- Use this function to estimate the probability mass of the standard normal distribution between -1 and 1. Implement the PDF of the standard normal distribution $\\psi(x)$ as a function. (10 points)\n",
    "\n",
    "$$\n",
    "\\psi(x) = \\frac{1}{\\sqrt{2\\pi}}e^{-\\frac{1}{2}x^2}\n",
    "$$"
   ]
  },
  {
   "cell_type": "code",
   "execution_count": 5,
   "metadata": {},
   "outputs": [],
   "source": [
    "# Given a function f, approximate its integral over the interval [a,b]\n",
    "def simpsons(f, a, b, n=100):\n",
    "    # Interval\n",
    "    x = np.linspace(a, b, n+1)\n",
    "    # Interval widths\n",
    "    h = (b-a)/n\n",
    "    \n",
    "    y = 2*np.sum(f(x[2:-1:2]))\n",
    "    z = 4*np.sum(f(x[1::2]))\n",
    "    return (h/3)*(f(x[0]) + y + z + f(x[-1]))"
   ]
  },
  {
   "cell_type": "code",
   "execution_count": 6,
   "metadata": {},
   "outputs": [
    {
     "data": {
      "text/plain": [
       "0.6826894929975491"
      ]
     },
     "execution_count": 6,
     "metadata": {},
     "output_type": "execute_result"
    }
   ],
   "source": [
    "# psi(x)\n",
    "def standard_normal_pdf(x):\n",
    "    return (1 / np.sqrt(2*np.pi)) * np.exp(-x**2/2)\n",
    "    \n",
    "simpsons(standard_normal_pdf, -1, 1)"
   ]
  },
  {
   "cell_type": "markdown",
   "metadata": {},
   "source": [
    "**5**. (50 points)\n",
    "\n",
    "Write code to generate a plot similar to the following \n",
    "\n",
    "![automata](figs/automata1d.png)\n",
    "\n",
    "using the explanation for generation of 1D Cellular Automata found [here](http://mathworld.wolfram.com/ElementaryCellularAutomaton.html). You should only need to use standard Python, `numpy` and `matplotllib`.\n",
    "\n",
    "The input to the function making the plots should be a simple list of rules\n",
    "\n",
    "```python\n",
    "rules = [30, 54, 60, 62, 90, 94, 102, 110, 122, 126, \n",
    "         150, 158, 182, 188, 190, 220, 222, 250]\n",
    "make_plots(rules, niter, ncols)\n",
    "```\n",
    "\n",
    "You may, of course, write other helper functions to keep your code modular."
   ]
  },
  {
   "cell_type": "markdown",
   "metadata": {},
   "source": [
    "- Explanation:\n",
    "    - Cellular automata are a black/white (binary) grid\n",
    "    - Each cell is determined by the three cells above it\n",
    "        - Therefore, there are 2^3 = 8 possible configuations for cells above\n",
    "        - Each configuation maps to a 1 or 0, so there are 2^8 = 256 possible decision rules\n",
    "    - In this problem, have to take a decision number (integer) and map it to a binary number\n",
    "    - This binary number will tell you how to graph based on the configuations above it"
   ]
  },
  {
   "cell_type": "code",
   "execution_count": 7,
   "metadata": {},
   "outputs": [],
   "source": [
    "%matplotlib inline\n",
    "import matplotlib.pyplot as plt\n",
    "from matplotlib.ticker import NullFormatter, IndexLocator"
   ]
  },
  {
   "cell_type": "code",
   "execution_count": 8,
   "metadata": {},
   "outputs": [],
   "source": [
    "# Convert rule number to binary format\n",
    "def binary(n, width):\n",
    "    assert(n<2**width)\n",
    "    x = np.zeros(width)\n",
    "    \n",
    "    for i in range(width):\n",
    "        n, m = divmod(n, 2)\n",
    "        x[width-i-1] = m\n",
    "        \n",
    "    return x"
   ]
  },
  {
   "cell_type": "code",
   "execution_count": 9,
   "metadata": {},
   "outputs": [],
   "source": [
    "# Convert rule number to rule mapping\n",
    "def make_map(rule):\n",
    "    bin_rule = binary(rule, 8)[::-1]\n",
    "    nums = [tuple(binary(i, 3)) for i in range(8)]\n",
    "    return dict(zip(nums, bin_rule))"
   ]
  },
  {
   "cell_type": "code",
   "execution_count": 10,
   "metadata": {},
   "outputs": [],
   "source": [
    "# apply make_map to convert rule\n",
    "# init is the configuation (0s/1s) of the top row of the graph\n",
    "# niters is the height of the graph\n",
    "def make_ca(rule, init, niters):\n",
    "    \n",
    "    # Create mapping from rule number\n",
    "    mapper = make_map(rule)\n",
    "    # Make grid of size 2+len(init) so that it can fully populate bottom row\n",
    "    grid = np.zeros((niters, 2 + len(init)), \"int\")\n",
    "    # Set top row of grid to init\n",
    "    grid[0, 1:-1] = init\n",
    "    \n",
    "    for i in range(1, niters):\n",
    "        # Create zip of 3 adjacent numbers in row above current iteration\n",
    "        # Note: zip will make appropriate matches despite different lengths\n",
    "        nums = zip(grid[i-1, 0:], grid[i-1, 1:], grid[i-1, 2:])\n",
    "        # Convert zip object to new row using mapping rules\n",
    "        grid[i, 1:-1] = [mapper[nums] for nums in nums]\n",
    "    \n",
    "    return grid[:, 1:-1]"
   ]
  },
  {
   "cell_type": "code",
   "execution_count": 11,
   "metadata": {},
   "outputs": [],
   "source": [
    "def plot_grid(rule, grid, ax=None):\n",
    "    if ax is None:\n",
    "        ax = plt.subplot(111)\n",
    "    # imshow can plot grid of arrays, see matplotlib lecture for more examples\n",
    "    ax.imshow(grid, interpolation = \"none\", cmap = \"Greys\", aspect = 1, alpha = 0.8)\n",
    "    ax.set_title('Rule %d' % rule)\n",
    "    \n",
    "    # Make graphs look like the examples\n",
    "    ax.grid(True, which='major', color='grey', linewidth=0.5)\n",
    "    ax.xaxis.set_major_locator(IndexLocator(1, 0))\n",
    "    ax.yaxis.set_major_locator(IndexLocator(1, 0))\n",
    "    ax.xaxis.set_major_formatter( NullFormatter() )\n",
    "    ax.yaxis.set_major_formatter( NullFormatter() )\n",
    "    ax.xaxis.set_ticks_position('none')\n",
    "    ax.yaxis.set_ticks_position('none')"
   ]
  },
  {
   "cell_type": "code",
   "execution_count": 12,
   "metadata": {},
   "outputs": [],
   "source": [
    "def make_plots(rules, niter, ncols, builder=make_ca):\n",
    "    width = niter*2 + 1\n",
    "    init = np.zeros(width, \"int\")\n",
    "    init[width//2] = 1\n",
    "    \n",
    "    # Plot size\n",
    "    nrows = (len(rules) + ncols - 1)//ncols\n",
    "    fig, axes = plt.subplots(nrows, ncols, figsize = (ncols*3, nrows*2))\n",
    "    \n",
    "    # Generate plots\n",
    "    for i in range(nrows):\n",
    "        for j in range(ncols):\n",
    "            grid = builder(rules[i*ncols+j], init, niter)\n",
    "            plot_grid(rules[i*ncols+j], grid, ax=axes[i,j])\n",
    "    plt.tight_layout()"
   ]
  },
  {
   "cell_type": "code",
   "execution_count": 13,
   "metadata": {},
   "outputs": [
    {
     "data": {
      "image/png": "[encoded data removed]",
      "text/plain": [
       "<Figure size 648x864 with 18 Axes>"
      ]
     },
     "metadata": {
      "needs_background": "light"
     },
     "output_type": "display_data"
    }
   ],
   "source": [
    "rules = [30, 54, 60, 62, 90, 94, 102, 110, 122, 126, 150, 158, 182, 188, 190, 220, 222, 250]\n",
    "niter = 15\n",
    "ncols = 3\n",
    "make_plots(rules, niter, ncols)"
   ]
  }
 ],
 "metadata": {
  "kernelspec": {
   "display_name": "Python 3",
   "language": "python",
   "name": "python3"
  },
  "language_info": {
   "codemirror_mode": {
    "name": "ipython",
    "version": 3
   },
   "file_extension": ".py",
   "mimetype": "text/x-python",
   "name": "python",
   "nbconvert_exporter": "python",
   "pygments_lexer": "ipython3",
   "version": "3.8.8"
  }
 },
 "nbformat": 4,
 "nbformat_minor": 2
}
