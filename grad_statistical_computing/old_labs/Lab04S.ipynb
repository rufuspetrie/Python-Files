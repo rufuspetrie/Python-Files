{
 "cells": [
  {
   "cell_type": "markdown",
   "metadata": {},
   "source": [
    "# Supplementary Practice Problems\n",
    "\n",
    "These are similar to programming problems you may encounter in the mid-terms. They are not graded but we will review them in lab sessions."
   ]
  },
  {
   "cell_type": "code",
   "execution_count": 1,
   "metadata": {},
   "outputs": [],
   "source": [
    "# Libraries\n",
    "\n",
    "%matplotlib inline\n",
    "\n",
    "import re\n",
    "import string\n",
    "import numpy as np\n",
    "import scipy.stats as st\n",
    "import matplotlib.pyplot as plt"
   ]
  },
  {
   "cell_type": "markdown",
   "metadata": {},
   "source": [
    "**1**. (10 points) Normalize the $3 \\times 4$ diagonal matrix with diagonal (1, ,2, 3) so all rows have mean 0 and standard deviation 1. The matrix has 0 everywhere not on the diagonal."
   ]
  },
  {
   "cell_type": "code",
   "execution_count": 2,
   "metadata": {},
   "outputs": [
    {
     "data": {
      "text/plain": [
       "array([[ 1.73205081, -0.57735027, -0.57735027, -0.57735027],\n",
       "       [-0.57735027,  1.73205081, -0.57735027, -0.57735027],\n",
       "       [-0.57735027, -0.57735027,  1.73205081, -0.57735027]])"
      ]
     },
     "execution_count": 2,
     "metadata": {},
     "output_type": "execute_result"
    }
   ],
   "source": [
    "# Note: rows normalized ==> axis=1\n",
    "# Use np.where(condition, value, else) to generate values, use dimension as last argument\n",
    "xs = np.fromfunction(lambda i, j: np.where(i==j, i+1, 0), (3,4))\n",
    "(xs - xs.mean(axis=1)[:, None]) / xs.std(axis=1)[:, None]"
   ]
  },
  {
   "cell_type": "markdown",
   "metadata": {},
   "source": [
    "**2**. (10 points) A fixed point of a funciton is a value that remains the same when the funciton is applied to it, that is $f(x) = x$. Write a function that finds the fixed poitn of another function $f$ given an intiial value $x_0$. For example, if\n",
    "\n",
    "$$f(x) \\rightarrow \\sqrt{x}$$\n",
    "\n",
    "and \n",
    "\n",
    "$x_0$ is any positive real number, then the function should return 1 since\n",
    "\n",
    "$$\\sqrt{1} = 1$$\n",
    "\n",
    "Not all funcitons have a fixed point - if it taakes over 1,000 iterations, the fucntion shold return None.\n",
    "\n",
    "- Use the function signature `fixed_point(f, x0, max_iter=1000)`. \n",
    "- Test with `fixed_point(np.sqrt, 10)`."
   ]
  },
  {
   "cell_type": "code",
   "execution_count": 3,
   "metadata": {},
   "outputs": [],
   "source": [
    "# Primitive fixed point function:\n",
    "    # This function works by repeatedly applying the function to itself and checking for equality between x/y\n",
    "    # This will only work if the fixed point lies in the path of the repeatedly mapped function\n",
    "    # For sqrt, it will probably find the fixed point because repeatedly applying sqrt(x) ==> 1 for x0 > 1\n",
    "def fixed_point(f, x0, max_iter=1000):\n",
    "    x = f(x0)\n",
    "    for i in range(max_iter):\n",
    "        x = f(x)\n",
    "        if np.abs(x - f(x)) < 1e-16:\n",
    "            return x\n",
    "    return None"
   ]
  },
  {
   "cell_type": "code",
   "execution_count": 4,
   "metadata": {},
   "outputs": [
    {
     "data": {
      "text/plain": [
       "1.0"
      ]
     },
     "execution_count": 4,
     "metadata": {},
     "output_type": "execute_result"
    }
   ],
   "source": [
    "# Apply to test data\n",
    "fixed_point(np.sqrt, 10)"
   ]
  },
  {
   "cell_type": "markdown",
   "metadata": {},
   "source": [
    "**3**. (10 points) Use `np.fromfunction` to construc the following matrices\n",
    "\n",
    "```python\n",
    "array([[5, 0, 0, 0, 5],\n",
    "       [0, 4, 0, 4, 0],\n",
    "       [0, 0, 3, 0, 0],\n",
    "       [0, 2, 0, 2, 0],\n",
    "       [1, 0, 0, 0, 1]])\n",
    "```\n",
    "\n",
    "```python\n",
    "array([[0, 1, 0, 0, 0, 0],\n",
    "       [1, 0, 1, 0, 0, 0],\n",
    "       [0, 1, 0, 1, 0, 0],\n",
    "       [0, 0, 1, 0, 1, 0],\n",
    "       [0, 0, 0, 1, 0, 1],\n",
    "       [0, 0, 0, 0, 1, 0]])\n",
    "```\n",
    "\n",
    "```python\n",
    "array([[6, 5, 4, 3, 4, 5, 6],\n",
    "       [5, 4, 3, 2, 3, 4, 5],\n",
    "       [4, 3, 2, 1, 2, 3, 4],\n",
    "       [3, 2, 1, 0, 1, 2, 3],\n",
    "       [4, 3, 2, 1, 2, 3, 4],\n",
    "       [5, 4, 3, 2, 3, 4, 5],\n",
    "       [6, 5, 4, 3, 4, 5, 6]])\n",
    "```"
   ]
  },
  {
   "cell_type": "code",
   "execution_count": 5,
   "metadata": {},
   "outputs": [
    {
     "data": {
      "text/plain": [
       "array([[5, 0, 0, 0, 5],\n",
       "       [0, 4, 0, 4, 0],\n",
       "       [0, 0, 3, 0, 0],\n",
       "       [0, 2, 0, 2, 0],\n",
       "       [1, 0, 0, 0, 1]])"
      ]
     },
     "execution_count": 5,
     "metadata": {},
     "output_type": "execute_result"
    }
   ],
   "source": [
    "# Matrix 1: i==j or i = 4-j, value equals 5-i\n",
    "np.fromfunction(lambda i, j: np.where((i==j) | (i==4-j), 5-i, 0), (5,5), dtype=\"int\")"
   ]
  },
  {
   "cell_type": "code",
   "execution_count": 6,
   "metadata": {},
   "outputs": [
    {
     "data": {
      "text/plain": [
       "array([[0, 1, 0, 0, 0, 0],\n",
       "       [1, 0, 1, 0, 0, 0],\n",
       "       [0, 1, 0, 1, 0, 0],\n",
       "       [0, 0, 1, 0, 1, 0],\n",
       "       [0, 0, 0, 1, 0, 1],\n",
       "       [0, 0, 0, 0, 1, 0]])"
      ]
     },
     "execution_count": 6,
     "metadata": {},
     "output_type": "execute_result"
    }
   ],
   "source": [
    "# Matrix 2: checkerboard - (i-j) odd maps to 1, 0 otherwise\n",
    "np.fromfunction(lambda i, j: np.where(np.abs(i-j)==1, 1, 0), (6,6), dtype=\"int\")"
   ]
  },
  {
   "cell_type": "code",
   "execution_count": 7,
   "metadata": {},
   "outputs": [
    {
     "data": {
      "text/plain": [
       "array([[6, 5, 4, 3, 4, 5, 6],\n",
       "       [5, 4, 3, 2, 3, 4, 5],\n",
       "       [4, 3, 2, 1, 2, 3, 4],\n",
       "       [3, 2, 1, 0, 1, 2, 3],\n",
       "       [4, 3, 2, 1, 2, 3, 4],\n",
       "       [5, 4, 3, 2, 3, 4, 5],\n",
       "       [6, 5, 4, 3, 4, 5, 6]])"
      ]
     },
     "execution_count": 7,
     "metadata": {},
     "output_type": "execute_result"
    }
   ],
   "source": [
    "# Matrix 3: gains value as it moves away from (3, 3)\n",
    "np.fromfunction(lambda i, j: np.abs(i-3) + np.abs(j-3), (7,7), dtype=\"int\")"
   ]
  },
  {
   "cell_type": "markdown",
   "metadata": {},
   "source": [
    "**4**. (10 points) Read the `mtcars` data frame from R to a `pandas` DataFrame. Find the mean `wt` and `mpg` for all cars grouped by the number of `gear`s."
   ]
  },
  {
   "cell_type": "code",
   "execution_count": 8,
   "metadata": {},
   "outputs": [
    {
     "name": "stderr",
     "output_type": "stream",
     "text": [
      "C:\\Users\\petri\\anaconda3\\lib\\site-packages\\rpy2\\robjects\\packages.py:366: UserWarning: The symbol 'quartz' is not in this R namespace/package.\n",
      "  warnings.warn(\n"
     ]
    },
    {
     "data": {
      "text/html": [
       "<div>\n",
       "<style scoped>\n",
       "    .dataframe tbody tr th:only-of-type {\n",
       "        vertical-align: middle;\n",
       "    }\n",
       "\n",
       "    .dataframe tbody tr th {\n",
       "        vertical-align: top;\n",
       "    }\n",
       "\n",
       "    .dataframe thead th {\n",
       "        text-align: right;\n",
       "    }\n",
       "</style>\n",
       "<table border=\"1\" class=\"dataframe\">\n",
       "  <thead>\n",
       "    <tr style=\"text-align: right;\">\n",
       "      <th></th>\n",
       "      <th>wt</th>\n",
       "      <th>mpg</th>\n",
       "    </tr>\n",
       "    <tr>\n",
       "      <th>gear</th>\n",
       "      <th></th>\n",
       "      <th></th>\n",
       "    </tr>\n",
       "  </thead>\n",
       "  <tbody>\n",
       "    <tr>\n",
       "      <th>3.0</th>\n",
       "      <td>3.892600</td>\n",
       "      <td>16.106667</td>\n",
       "    </tr>\n",
       "    <tr>\n",
       "      <th>4.0</th>\n",
       "      <td>2.616667</td>\n",
       "      <td>24.533333</td>\n",
       "    </tr>\n",
       "    <tr>\n",
       "      <th>5.0</th>\n",
       "      <td>2.632600</td>\n",
       "      <td>21.380000</td>\n",
       "    </tr>\n",
       "  </tbody>\n",
       "</table>\n",
       "</div>"
      ],
      "text/plain": [
       "            wt        mpg\n",
       "gear                     \n",
       "3.0   3.892600  16.106667\n",
       "4.0   2.616667  24.533333\n",
       "5.0   2.632600  21.380000"
      ]
     },
     "execution_count": 8,
     "metadata": {},
     "output_type": "execute_result"
    }
   ],
   "source": [
    "# Load R and data, use standard pandas code\n",
    "%load_ext rpy2.ipython\n",
    "mtcars = %R mtcars\n",
    "mtcars.groupby(\"gear\")[[\"wt\", \"mpg\"]].mean()"
   ]
  },
  {
   "cell_type": "markdown",
   "metadata": {},
   "source": [
    "**5**. (10 points) The QQ (Quirkiness Quotient) has a normal distribution with $\\mu$ = 100 and $\\sigma$ = 20. If your QQ is at the 92nd percentile, what is your QQ? \n",
    "\n",
    "- Solve this analytically using some distribution function\n",
    "- Solve this using a simulation of 1,000,000 people\n",
    "- Plot the QQ PDF for QQs between 40 and 160 as a blue curve, shading the region below your QQ in blue with 50% transparency."
   ]
  },
  {
   "cell_type": "code",
   "execution_count": 9,
   "metadata": {},
   "outputs": [
    {
     "name": "stdout",
     "output_type": "stream",
     "text": [
      "128.10143120619267\n"
     ]
    }
   ],
   "source": [
    "# Analytic Solution\n",
    "mu = 100\n",
    "sd = 20\n",
    "qq = 100 + st.norm.ppf(.92)* sd\n",
    "print(qq)"
   ]
  },
  {
   "cell_type": "code",
   "execution_count": 10,
   "metadata": {},
   "outputs": [
    {
     "data": {
      "text/plain": [
       "128.11856078769762"
      ]
     },
     "execution_count": 10,
     "metadata": {},
     "output_type": "execute_result"
    }
   ],
   "source": [
    "# Simulation - generate draws and grab value 92% of the way into the sorted draws\n",
    "n = 10**6\n",
    "dist = st.norm(mu, sd)\n",
    "draws = dist.rvs(n)\n",
    "draws = np.sort(draws)\n",
    "index = int(0.92*n)\n",
    "draws[index]"
   ]
  },
  {
   "cell_type": "code",
   "execution_count": 11,
   "metadata": {},
   "outputs": [
    {
     "data": {
      "image/png": "[encoded data removed]",
      "text/plain": [
       "<Figure size 432x288 with 1 Axes>"
      ]
     },
     "metadata": {
      "needs_background": "light"
     },
     "output_type": "display_data"
    }
   ],
   "source": [
    "# QQ PDF plot\n",
    "x = np.linspace(40, 160, 120)\n",
    "plt.plot(x, dist.pdf(x))\n",
    "filler = np.linspace(40, qq, 80)\n",
    "plt.fill_between(filler, dist.pdf(filler), alpha=0.5);"
   ]
  },
  {
   "cell_type": "markdown",
   "metadata": {},
   "source": [
    "**6**. (10 points) Simulate $n$ coin toss experiments, in which you toss a coin $k$ times for each experiment. Find the maximum run length of heads (e.g. the sequence `T,T,H,H,H,T,H,H` has a maximum run length of 3 heads in each experiment. "
   ]
  },
  {
   "cell_type": "code",
   "execution_count": 12,
   "metadata": {},
   "outputs": [],
   "source": [
    "# Parameters\n",
    "n = 100\n",
    "k = 10"
   ]
  },
  {
   "cell_type": "code",
   "execution_count": 13,
   "metadata": {},
   "outputs": [],
   "source": [
    "# np.random.choice vectorizes over n and k\n",
    "draws = np.random.choice([\"H\", \"T\"], (n,k))"
   ]
  },
  {
   "cell_type": "code",
   "execution_count": 14,
   "metadata": {},
   "outputs": [],
   "source": [
    "# Merge each trial into one string, add all H-streaks to one list\n",
    "maxes = []\n",
    "for i in (\"\".join(line) for line in draws):\n",
    "    streak = re.findall(\"H+\", i)\n",
    "    maxes.append(max(streak, key=len))"
   ]
  },
  {
   "cell_type": "code",
   "execution_count": 15,
   "metadata": {},
   "outputs": [
    {
     "data": {
      "text/plain": [
       "7"
      ]
     },
     "execution_count": 15,
     "metadata": {},
     "output_type": "execute_result"
    }
   ],
   "source": [
    "# Find maximum length from streak list\n",
    "len(max(maxes, key=len))"
   ]
  },
  {
   "cell_type": "markdown",
   "metadata": {},
   "source": [
    "**7**. (10 points) Use the DNA sequence given below to answer these questions:\n",
    "\n",
    "- Generate all sequences formed using a shifting window of size 3 and print the sequence with the highest count. If there are ties, print all the tied sequences. Do not use any import statement."
   ]
  },
  {
   "cell_type": "code",
   "execution_count": 16,
   "metadata": {},
   "outputs": [],
   "source": [
    "dna = '''\n",
    "TCGGATGATTGCACTTATTCTCCGTTTGTTTGTGTGTTGCTGGGGGGGGACGCCTGCACGCTGTTCCAGTGCGTCGTCGT\n",
    "ATCTTGGTTTGCCTCGGGGGGTGGGGCTGGAGCCTACCAGGTGTCGGTCGGATGTTTTGTCTCTGTGTGTCGAGGGTCGT\n",
    "GTGGAGTCCCGGCGGGTGGGTGCTGCTGGGTGGTTGACACAGTGCGTGGTGGGTGCTTCAGCGGGGGGTGCCTCGCGCGT\n",
    "GGCTGGGGTGTTGTAGTTGTCGTTTGGAAAGTGTGCGGCATAGGGGGGATGAAATCCGGTTGACCAAGATTCGGGTCGCG\n",
    "TTTGGGGATTAGGATAGTTGGGTTTGGAAGGCGCGGGTATTGCCCACGTTCTTTGGCGGGGCGAGGGTGTTGGTACTCCA\n",
    "TGTCCAGGCCGCTTGCCTACGGACTGTAGAGGTTCGGGAGGCGCTGGCCGGCGTGTGTTCCCTAGGTTTTGAGATAAGAG\n",
    "'''"
   ]
  },
  {
   "cell_type": "code",
   "execution_count": 17,
   "metadata": {},
   "outputs": [
    {
     "data": {
      "text/plain": [
       "(('G', 'G', 'G'), 36)"
      ]
     },
     "execution_count": 17,
     "metadata": {},
     "output_type": "execute_result"
    }
   ],
   "source": [
    "# Zip offset lists, load into dict, find max\n",
    "dna = \"\".join(dna.split())\n",
    "z = zip(dna, dna[1:], dna[2:])\n",
    "d = {}\n",
    "for i in z:\n",
    "    if i in d.keys():\n",
    "        d[i] += 1\n",
    "    else:\n",
    "        d[i] = 1\n",
    "\n",
    "max(d.items(), key = lambda x: x[1])"
   ]
  },
  {
   "cell_type": "markdown",
   "metadata": {},
   "source": [
    "**8**. (10 points) Ignore spaces, case and punctuation when finding palindromes. Write code to find the palindromes among the 12 phrases below, returning the phrases that are palindromes in a list.\n",
    "\n",
    "```\n",
    "Daedalus: nine. Peninsula: dead.\n",
    "Dammit, I'm mad!\n",
    "Deliver me from evil.\n",
    "Dennis and Edna sinned.\n",
    "Devil never even lived.\n",
    "Deviled eggs sure taste good.\n",
    "Did Hannah see bees? Hannah did.\n",
    "Do geese see God?\n",
    "Do mice see God?\n",
    "Dogma: I am God\n",
    "Dogma: DNA makdes RNA makes protein.\n",
    "Dubya won? No way, bud.\n",
    "```"
   ]
  },
  {
   "cell_type": "code",
   "execution_count": 18,
   "metadata": {},
   "outputs": [],
   "source": [
    "phrases = '''Daedalus: nine. Peninsula: dead.\n",
    "Dammit, I'm mad!\n",
    "Deliver me from evil.\n",
    "Dennis and Edna sinned.\n",
    "Devil never even lived.\n",
    "Deviled eggs sure taste good.\n",
    "Did Hannah see bees? Hannah did.\n",
    "Do geese see God?\n",
    "Do mice see God?\n",
    "Dogma: I am God\n",
    "Dogma: DNA makdes RNA makes protein.\n",
    "Dubya won? No way, bud.'''"
   ]
  },
  {
   "cell_type": "code",
   "execution_count": 19,
   "metadata": {},
   "outputs": [
    {
     "name": "stdout",
     "output_type": "stream",
     "text": [
      "Daedalus: nine. Peninsula: dead.\n",
      "Dammit, I'm mad!\n",
      "Dennis and Edna sinned.\n",
      "Devil never even lived.\n",
      "Did Hannah see bees? Hannah did.\n",
      "Do geese see God?\n",
      "Dogma: I am God\n",
      "Dubya won? No way, bud.\n"
     ]
    }
   ],
   "source": [
    "# Get rid of punctuation/whitespace, make placeholder object so we can print the original\n",
    "lines = phrases.splitlines()\n",
    "for line in lines:\n",
    "    raw = line.lower().translate(str.maketrans(\"\", \"\", string.punctuation + string.whitespace))\n",
    "    if raw == raw[::-1]: print(line)"
   ]
  }
 ],
 "metadata": {
  "kernelspec": {
   "display_name": "Python 3 (ipykernel)",
   "language": "python",
   "name": "python3"
  },
  "language_info": {
   "codemirror_mode": {
    "name": "ipython",
    "version": 3
   },
   "file_extension": ".py",
   "mimetype": "text/x-python",
   "name": "python",
   "nbconvert_exporter": "python",
   "pygments_lexer": "ipython3",
   "version": "3.8.11"
  }
 },
 "nbformat": 4,
 "nbformat_minor": 2
}
