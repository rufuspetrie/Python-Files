{
 "cells": [
  {
   "cell_type": "code",
   "execution_count": 19,
   "id": "764d3b05",
   "metadata": {},
   "outputs": [],
   "source": [
    "# Fetch Jabberywocky text from Gutenberg's \"Through the Looking Glass\"\n",
    "import requests\n",
    "\n",
    "try:\n",
    "    with open(\"looking_glass.txt\") as f:\n",
    "        text = f.read()\n",
    "except IOError:\n",
    "    url = \"http://www.gutenberg.org/cache/epub/12/pg12.txt\"\n",
    "    res = requests.get(url)\n",
    "    text = res.text\n",
    "    with open(\"looking_glass.txt\", \"w\", encoding=\"utf-8\") as f:\n",
    "        f.write(str(text))"
   ]
  },
  {
   "cell_type": "code",
   "execution_count": 24,
   "id": "17b38896",
   "metadata": {},
   "outputs": [
    {
     "name": "stdout",
     "output_type": "stream",
     "text": [
      "﻿The Project Gutenberg EBook of Through the Looking-Glass, by\r\n",
      "Charles Dodgson                      \n"
     ]
    }
   ],
   "source": [
    "# First hundred characters\n",
    "print(text[:100])"
   ]
  },
  {
   "cell_type": "code",
   "execution_count": 25,
   "id": "19066a70",
   "metadata": {},
   "outputs": [],
   "source": [
    "# Where does the poem start?\n",
    "start = text.find(\"JABBERWOCKY\")"
   ]
  },
  {
   "cell_type": "code",
   "execution_count": 26,
   "id": "9614287e",
   "metadata": {},
   "outputs": [],
   "source": [
    "# Where does the poem end?\n",
    "end = text.find(\"It seems very pretty\", start)"
   ]
  },
  {
   "cell_type": "code",
   "execution_count": 28,
   "id": "166f1644",
   "metadata": {},
   "outputs": [
    {
     "data": {
      "text/plain": [
       "\"JABBERWOCKY\\r\\n\\r\\n     'Twas brillig, and the slithy toves\\r\\n      Did gyre and gimble in the wabe;\\r\\n     All mimsy were the borogoves,\\r\\n      And the mome raths outgrabe.\\r\\n\\r\\n     'Beware the Jabberwock, my son!\\r\\n      The jaws that bite, the claws that catch!\\r\\n     Beware the Jubjub bird, and shun\\r\\n      The frumious Bandersnatch!'\\r\\n\\r\\n     He took his vorpal sword in hand:\\r\\n      Long time the manxome foe he sought--\\r\\n     So rested he by the Tumtum tree,\\r\\n      And stood awhile in thought.\\r\\n\\r\\n     And as in uffish thought he stood,\\r\\n      The Jabberwock, with eyes of flame,\\r\\n     Came whiffling through the tulgey wood,\\r\\n      And burbled as it came!\\r\\n\\r\\n     One, two! One, two! And through and through\\r\\n      The vorpal blade went snicker-snack!\\r\\n     He left it dead, and with its head\\r\\n      He went galumphing back.\\r\\n\\r\\n     'And hast thou slain the Jabberwock?\\r\\n      Come to my arms, my beamish boy!\\r\\n     O frabjous day! Callooh! Callay!'\\r\\n      He chortled in his joy.\\r\\n\\r\\n     'Twas brillig, and the slithy toves\\r\\n      Did gyre and gimble in the wabe;\\r\\n     All mimsy were the borogoves,\\r\\n      And the mome raths outgrabe.\\r\\n\\r\\n\\r\\n'\""
      ]
     },
     "execution_count": 28,
     "metadata": {},
     "output_type": "execute_result"
    }
   ],
   "source": [
    "# Separate the poem\n",
    "poem = text[start:end]\n",
    "poem"
   ]
  },
  {
   "cell_type": "code",
   "execution_count": 29,
   "id": "1f57a1b5",
   "metadata": {},
   "outputs": [
    {
     "name": "stdout",
     "output_type": "stream",
     "text": [
      "JABBERWOCKY\r\n",
      "\r\n",
      "     'Twas brillig, and the slithy toves\r\n",
      "      Did gyre and gimble in the wabe;\r\n",
      "     All mimsy were the borogoves,\r\n",
      "      And the mome raths outgrabe.\r\n",
      "\r\n",
      "     'Beware the Jabberwock, my son!\r\n",
      "      The jaws that bite, the claws that catch!\r\n",
      "     Beware the Jubjub bird, and shun\r\n",
      "      The frumious Bandersnatch!'\r\n",
      "\r\n",
      "     He took his vorpal sword in hand:\r\n",
      "      Long time the manxome foe he sought--\r\n",
      "     So rested he by the Tumtum tree,\r\n",
      "      And stood awhile in thought.\r\n",
      "\r\n",
      "     And as in uffish thought he stood,\r\n",
      "      The Jabberwock, with eyes of flame,\r\n",
      "     Came whiffling through the tulgey wood,\r\n",
      "      And burbled as it came!\r\n",
      "\r\n",
      "     One, two! One, two! And through and through\r\n",
      "      The vorpal blade went snicker-snack!\r\n",
      "     He left it dead, and with its head\r\n",
      "      He went galumphing back.\r\n",
      "\r\n",
      "     'And hast thou slain the Jabberwock?\r\n",
      "      Come to my arms, my beamish boy!\r\n",
      "     O frabjous day! Callooh! Callay!'\r\n",
      "      He chortled in his joy.\r\n",
      "\r\n",
      "     'Twas brillig, and the slithy toves\r\n",
      "      Did gyre and gimble in the wabe;\r\n",
      "     All mimsy were the borogoves,\r\n",
      "      And the mome raths outgrabe.\r\n",
      "\r\n",
      "\r\n",
      "'\n"
     ]
    }
   ],
   "source": [
    "# See the proper formatting\n",
    "print(poem)"
   ]
  },
  {
   "cell_type": "code",
   "execution_count": 30,
   "id": "c91004a0",
   "metadata": {},
   "outputs": [
    {
     "data": {
      "text/plain": [
       "15"
      ]
     },
     "execution_count": 30,
     "metadata": {},
     "output_type": "execute_result"
    }
   ],
   "source": [
    "# How many times does the word \"the\" appear?\n",
    "poem.count(\"the\")"
   ]
  },
  {
   "cell_type": "code",
   "execution_count": 42,
   "id": "44c99e40",
   "metadata": {},
   "outputs": [
    {
     "data": {
      "text/plain": [
       "'jabberwocky\\r\\n\\r\\n     twas brillig and XXX slithy toves\\r\\n      did gyre and gimble in XXX wabe\\r\\n     all mimsy were XXX borogoves\\r\\n      and XXX mome raths outgrabe\\r\\n\\r\\n     beware XXX jabberwock my son\\r\\n      XXX jaws that bite XXX claws that catch\\r\\n     beware XXX jubjub bird and shun\\r\\n      XXX frumious bandersnatch\\r\\n\\r\\n     he took his vorpal sword in hand\\r\\n      long time XXX manxome foe he sought\\r\\n     so rested he by XXX tumtum tree\\r\\n      and stood awhile in thought\\r\\n\\r\\n     and as in uffish thought he stood\\r\\n      XXX jabberwock with eyes of flame\\r\\n     came whiffling through XXX tulgey wood\\r\\n      and burbled as it came\\r\\n\\r\\n     one two one two and through and through\\r\\n      XXX vorpal blade went snickersnack\\r\\n     he left it dead and with its head\\r\\n      he went galumphing back\\r\\n\\r\\n     and hast thou slain XXX jabberwock\\r\\n      come to my arms my beamish boy\\r\\n     o frabjous day callooh callay\\r\\n      he chortled in his joy\\r\\n\\r\\n     twas brillig and XXX slithy toves\\r\\n      did gyre and gimble in XXX wabe\\r\\n     all mimsy were XXX borogoves\\r\\n      and XXX mome raths outgrabe\\r\\n\\r\\n\\r\\n'"
      ]
     },
     "execution_count": 42,
     "metadata": {},
     "output_type": "execute_result"
    }
   ],
   "source": [
    "# Let's make those occurrences more obvious\n",
    "poem.replace(\"the\", \"XXX\")"
   ]
  },
  {
   "cell_type": "code",
   "execution_count": 33,
   "id": "a1add048",
   "metadata": {},
   "outputs": [],
   "source": [
    "# Change poem to lowercase\n",
    "poem = poem.lower()"
   ]
  },
  {
   "cell_type": "code",
   "execution_count": 39,
   "id": "20dd5682",
   "metadata": {},
   "outputs": [
    {
     "data": {
      "text/plain": [
       "'!\"#$%&\\'()*+,-./:;<=>?@[\\\\]^_`{|}~'"
      ]
     },
     "execution_count": 39,
     "metadata": {},
     "output_type": "execute_result"
    }
   ],
   "source": [
    "# Remove punctuation\n",
    "import string\n",
    "string.punctuation"
   ]
  },
  {
   "cell_type": "code",
   "execution_count": 41,
   "id": "08af0bb4",
   "metadata": {},
   "outputs": [
    {
     "data": {
      "text/plain": [
       "'jabberwocky\\r\\n\\r\\n     twas brillig and the slithy toves\\r\\n      did gyre and gimble in the wabe\\r\\n     all mimsy were the borogoves\\r\\n      and the mome raths outgrabe\\r\\n\\r\\n     beware the jabberwock my son\\r\\n      the jaws that bite the claws that catch\\r\\n     beware the jubjub bird and shun\\r\\n      the frumious bandersnatch\\r\\n\\r\\n     he took his vorpal sword in hand\\r\\n      long time the manxome foe he sought\\r\\n     so rested he by the tumtum tree\\r\\n      and stood awhile in thought\\r\\n\\r\\n     and as in uffish thought he stood\\r\\n      the jabberwock with eyes of flame\\r\\n     came whiffling through the tulgey wood\\r\\n      and burbled as it came\\r\\n\\r\\n     one two one two and through and through\\r\\n      the vorpal blade went snickersnack\\r\\n     he left it dead and with its head\\r\\n      he went galumphing back\\r\\n\\r\\n     and hast thou slain the jabberwock\\r\\n      come to my arms my beamish boy\\r\\n     o frabjous day callooh callay\\r\\n      he chortled in his joy\\r\\n\\r\\n     twas brillig and the slithy toves\\r\\n      did gyre and gimble in the wabe\\r\\n     all mimsy were the borogoves\\r\\n      and the mome raths outgrabe\\r\\n\\r\\n\\r\\n'"
      ]
     },
     "execution_count": 41,
     "metadata": {},
     "output_type": "execute_result"
    }
   ],
   "source": [
    "# Translate takes a dictionary and performs ASCII conversions of the key-value pairs\n",
    "poem  = poem.translate(dict.fromkeys(map(ord, string.punctuation)))\n",
    "poem"
   ]
  },
  {
   "cell_type": "code",
   "execution_count": 44,
   "id": "320348d9",
   "metadata": {},
   "outputs": [
    {
     "data": {
      "text/plain": [
       "['jabberwocky', 'twas', 'brillig', 'and', 'the']"
      ]
     },
     "execution_count": 44,
     "metadata": {},
     "output_type": "execute_result"
    }
   ],
   "source": [
    "# Retrieve individual words\n",
    "words = poem.split()\n",
    "words[:5]"
   ]
  },
  {
   "cell_type": "code",
   "execution_count": 45,
   "id": "52caea76",
   "metadata": {},
   "outputs": [],
   "source": [
    "# Function to check if word is palindromic\n",
    "def is_palindrome(word):\n",
    "    return word == word[::-1]"
   ]
  },
  {
   "cell_type": "code",
   "execution_count": 48,
   "id": "b2bc47e2",
   "metadata": {},
   "outputs": [
    {
     "data": {
      "text/plain": [
       "{'did', 'o'}"
      ]
     },
     "execution_count": 48,
     "metadata": {},
     "output_type": "execute_result"
    }
   ],
   "source": [
    "# Retrieve palindromes, use set comprehension to avoid duplicates\n",
    "palindromes = {word for word in words if is_palindrome(word)}\n",
    "palindromes"
   ]
  },
  {
   "cell_type": "code",
   "execution_count": 50,
   "id": "39c99a5a",
   "metadata": {},
   "outputs": [
    {
     "data": {
      "text/plain": [
       "[('the', 19), ('and', 14), ('he', 7), ('in', 6), ('jabberwock', 3)]"
      ]
     },
     "execution_count": 50,
     "metadata": {},
     "output_type": "execute_result"
    }
   ],
   "source": [
    "# Let's see some word counts\n",
    "import collections\n",
    "poem_counter = collections.Counter(words)\n",
    "poem_counter.most_common(5)"
   ]
  },
  {
   "cell_type": "code",
   "execution_count": 53,
   "id": "c23ace0c",
   "metadata": {},
   "outputs": [
    {
     "data": {
      "text/plain": [
       "[('twas', 2),\n",
       " ('brillig', 2),\n",
       " ('slithy', 2),\n",
       " ('toves', 2),\n",
       " ('did', 2),\n",
       " ('gyre', 2),\n",
       " ('gimble', 2),\n",
       " ('wabe', 2),\n",
       " ('all', 2),\n",
       " ('mimsy', 2),\n",
       " ('were', 2),\n",
       " ('borogoves', 2),\n",
       " ('mome', 2),\n",
       " ('raths', 2),\n",
       " ('outgrabe', 2),\n",
       " ('beware', 2),\n",
       " ('that', 2),\n",
       " ('his', 2),\n",
       " ('vorpal', 2),\n",
       " ('stood', 2),\n",
       " ('thought', 2),\n",
       " ('as', 2),\n",
       " ('with', 2),\n",
       " ('came', 2),\n",
       " ('it', 2),\n",
       " ('one', 2),\n",
       " ('two', 2),\n",
       " ('went', 2)]"
      ]
     },
     "execution_count": 53,
     "metadata": {},
     "output_type": "execute_result"
    }
   ],
   "source": [
    "# Which words appear twice?\n",
    "[(k,v) for (k,v) in poem_counter.items() if v==2]"
   ]
  },
  {
   "cell_type": "code",
   "execution_count": null,
   "id": "b22cb686",
   "metadata": {},
   "outputs": [],
   "source": []
  }
 ],
 "metadata": {
  "kernelspec": {
   "display_name": "Python 3",
   "language": "python",
   "name": "python3"
  },
  "language_info": {
   "codemirror_mode": {
    "name": "ipython",
    "version": 3
   },
   "file_extension": ".py",
   "mimetype": "text/x-python",
   "name": "python",
   "nbconvert_exporter": "python",
   "pygments_lexer": "ipython3",
   "version": "3.8.8"
  }
 },
 "nbformat": 4,
 "nbformat_minor": 5
}
