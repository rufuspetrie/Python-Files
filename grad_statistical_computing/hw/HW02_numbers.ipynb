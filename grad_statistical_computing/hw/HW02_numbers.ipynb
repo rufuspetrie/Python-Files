{
 "cells": [
  {
   "cell_type": "markdown",
   "metadata": {},
   "source": [
    "# Homework 02:  Working with numbers"
   ]
  },
  {
   "cell_type": "code",
   "execution_count": 1,
   "metadata": {},
   "outputs": [],
   "source": [
    "# Libraries\n",
    "import numpy as np\n",
    "import re\n",
    "\n",
    "%matplotlib inline\n",
    "import matplotlib.pyplot as plt\n",
    "from matplotlib.ticker import NullFormatter, IndexLocator"
   ]
  },
  {
   "cell_type": "markdown",
   "metadata": {},
   "source": [
    "**1**. (10 points) \n",
    "\n",
    "Normalize the $3 \\times 4$ diagonal matrix with diagonal (1, ,2, 3) so all rows have mean 0 and standard deviation 1. The matrix has 0 everywhere not on the diagonal."
   ]
  },
  {
   "cell_type": "code",
   "execution_count": 2,
   "metadata": {},
   "outputs": [
    {
     "data": {
      "text/plain": [
       "array([[1., 0., 0., 0.],\n",
       "       [0., 2., 0., 0.],\n",
       "       [0., 0., 3., 0.]])"
      ]
     },
     "execution_count": 2,
     "metadata": {},
     "output_type": "execute_result"
    }
   ],
   "source": [
    "# Initial Matrix\n",
    "xs = np.fromfunction(lambda i, j: np.where(i==j, i+1, 0), (3,4))\n",
    "xs"
   ]
  },
  {
   "cell_type": "code",
   "execution_count": 3,
   "metadata": {},
   "outputs": [
    {
     "data": {
      "text/plain": [
       "array([[ 1.73205081, -0.57735027, -0.57735027, -0.57735027],\n",
       "       [-0.57735027,  1.73205081, -0.57735027, -0.57735027],\n",
       "       [-0.57735027, -0.57735027,  1.73205081, -0.57735027]])"
      ]
     },
     "execution_count": 3,
     "metadata": {},
     "output_type": "execute_result"
    }
   ],
   "source": [
    "# Normalize xs\n",
    "xs = (xs - xs.mean(axis=1).reshape(-1,1)) / xs.std(axis=1).reshape(-1,1)\n",
    "xs"
   ]
  },
  {
   "cell_type": "code",
   "execution_count": 4,
   "metadata": {},
   "outputs": [
    {
     "name": "stdout",
     "output_type": "stream",
     "text": [
      "[-5.55111512e-17 -5.55111512e-17  0.00000000e+00] \n",
      " [1. 1. 1.]\n"
     ]
    }
   ],
   "source": [
    "# Verify results\n",
    "print(xs.mean(axis=1), \"\\n\", xs.std(axis=1))"
   ]
  },
  {
   "cell_type": "markdown",
   "metadata": {},
   "source": [
    "**2**. (10 points) \n",
    "\n",
    "A fixed point of a funciton is a value that remains the same when the funciton is applied to it, that is $f(x) = x$. Write a function that finds the fixed poitn of another function $f$ given an intiial value $x_0$. For example, if\n",
    "\n",
    "$$f(x) \\rightarrow \\sqrt{x}$$\n",
    "\n",
    "and \n",
    "\n",
    "$x_0$ is any positive real number, then the function should return 1 since\n",
    "\n",
    "$$\\sqrt{1} = 1$$\n",
    "\n",
    "Not all funcitons have a fixed point - if it taakes over 1,000 iterations, the fucntion shold return None.\n",
    "\n",
    "- Use the function signature `fixed_point(f, x0, max_iter=1000)`. \n",
    "- Test with `fixed_point(np.sqrt, 10)`."
   ]
  },
  {
   "cell_type": "code",
   "execution_count": 5,
   "metadata": {},
   "outputs": [],
   "source": [
    "# Primitive fixed-point finder - this will only find stable fixed points in direction of function\n",
    "def fixed_point(f, x0, max_iter=1000):\n",
    "    x = f(x0)\n",
    "    for i in range(max_iter):\n",
    "        if f(x) == x:\n",
    "            return x\n",
    "        x = f(x)\n",
    "    return None"
   ]
  },
  {
   "cell_type": "code",
   "execution_count": 6,
   "metadata": {},
   "outputs": [
    {
     "data": {
      "text/plain": [
       "1.0"
      ]
     },
     "execution_count": 6,
     "metadata": {},
     "output_type": "execute_result"
    }
   ],
   "source": [
    "# Test\n",
    "fixed_point(np.sqrt, 10)"
   ]
  },
  {
   "cell_type": "markdown",
   "metadata": {},
   "source": [
    "**3**. (10 points) \n",
    "\n",
    "Use `np.fromfunction` to construc the following matrix\n",
    "\n",
    "```python\n",
    "array([[5, 0, 0, 0, 5],\n",
    "       [0, 4, 0, 4, 0],\n",
    "       [0, 0, 3, 0, 0],\n",
    "       [0, 2, 0, 2, 0],\n",
    "       [1, 0, 0, 0, 1]])\n",
    "```"
   ]
  },
  {
   "cell_type": "code",
   "execution_count": 7,
   "metadata": {},
   "outputs": [
    {
     "data": {
      "text/plain": [
       "array([[5., 0., 0., 0., 5.],\n",
       "       [0., 4., 0., 4., 0.],\n",
       "       [0., 0., 3., 0., 0.],\n",
       "       [0., 2., 0., 2., 0.],\n",
       "       [1., 0., 0., 0., 1.]])"
      ]
     },
     "execution_count": 7,
     "metadata": {},
     "output_type": "execute_result"
    }
   ],
   "source": [
    "# Numbers where i==j or i==4-j, take value 5-i\n",
    "xs = np.fromfunction(lambda i, j: np.where((i==j) | (i==4-j), 5-i, 0), (5,5))\n",
    "xs"
   ]
  },
  {
   "cell_type": "markdown",
   "metadata": {},
   "source": [
    "**4**. (15 points)\n",
    "\n",
    "Simulate $n$ coin toss experiments, in which you toss a coin $k$ times for each experiment. Find the maximum run length of heads (e.g. the sequence `T,T,H,H,H,T,H,H` has a maximum run length of 3 heads in each experiment.  What is the most common maximum run length?\n",
    "\n",
    "Let $n$ = 10,000 and $k=100$."
   ]
  },
  {
   "cell_type": "code",
   "execution_count": 8,
   "metadata": {},
   "outputs": [],
   "source": [
    "# Parameters\n",
    "n = 10**4\n",
    "k = 10**2"
   ]
  },
  {
   "cell_type": "code",
   "execution_count": 9,
   "metadata": {},
   "outputs": [],
   "source": [
    "# np.random.choice vectorizes over n and k\n",
    "draws = np.random.choice([\"H\", \"T\"], (n,k))"
   ]
  },
  {
   "cell_type": "code",
   "execution_count": 10,
   "metadata": {},
   "outputs": [],
   "source": [
    "# Merge each trial into one string, add all H-streaks to one list\n",
    "maxes = []\n",
    "for i in (\"\".join(line) for line in draws):\n",
    "    streak = re.findall(\"H+\", i)\n",
    "    maxes.append(max(streak, key=len))"
   ]
  },
  {
   "cell_type": "code",
   "execution_count": 11,
   "metadata": {},
   "outputs": [],
   "source": [
    "# Make counter, find maximum\n",
    "count = {}\n",
    "for i in maxes:\n",
    "    if i in count:\n",
    "        count[i] += 1\n",
    "    else:\n",
    "        count[i] = 1"
   ]
  },
  {
   "cell_type": "code",
   "execution_count": 12,
   "metadata": {},
   "outputs": [
    {
     "data": {
      "text/plain": [
       "[('HHHHH', 2669),\n",
       " ('HHHHHH', 2276),\n",
       " ('HHHH', 1527),\n",
       " ('HHHHHHH', 1483),\n",
       " ('HHHHHHHH', 835),\n",
       " ('HHHHHHHHH', 470),\n",
       " ('HHH', 270),\n",
       " ('HHHHHHHHHH', 236),\n",
       " ('HHHHHHHHHHH', 124),\n",
       " ('HHHHHHHHHHHH', 58),\n",
       " ('HHHHHHHHHHHHH', 24),\n",
       " ('HHHHHHHHHHHHHH', 12),\n",
       " ('HHHHHHHHHHHHHHHH', 6),\n",
       " ('HHHHHHHHHHHHHHH', 4),\n",
       " ('HH', 4),\n",
       " ('HHHHHHHHHHHHHHHHHH', 2)]"
      ]
     },
     "execution_count": 12,
     "metadata": {},
     "output_type": "execute_result"
    }
   ],
   "source": [
    "# Sorted run lengths\n",
    "sorted(count.items(), key = lambda x: x[1], reverse=True)"
   ]
  },
  {
   "cell_type": "markdown",
   "metadata": {},
   "source": [
    "**5**. (15 points)\n",
    "\n",
    "Wikipedia gives this algorithm for finding prime numbers\n",
    "\n",
    "To find all the prime numbers less than or equal to a given integer n by Eratosthenes' method:\n",
    "\n",
    "- Create a list of consecutive integers from 2 through n: (2, 3, 4, ..., n).\n",
    "- Initially, let p equal 2, the smallest prime number.\n",
    "- Enumerate the multiples of p by counting to n from 2p in increments of p, and mark them in the list (these will be 2p, 3p, 4p, ...; the p itself should not be marked).\n",
    "- Find the first number greater than p in the list that is not marked. If there was no such number, stop. Otherwise, let p now equal this new number (which is the next prime), and repeat from step 3.\n",
    "- When the algorithm terminates, the numbers remaining not marked in the list are all the primes below n.\n",
    "\n",
    "Find all primes less than 1,000 using this method.\n",
    "\n",
    "- You may use `numpy` and do not have to follow the algorithm exactly if you can achieve the same results."
   ]
  },
  {
   "cell_type": "code",
   "execution_count": 13,
   "metadata": {},
   "outputs": [],
   "source": [
    "# Find all primes less than n\n",
    "def primes(n):\n",
    "    \n",
    "    xs = np.arange(n+1)\n",
    "    ps = np.ones(len(xs)).astype(\"bool\")\n",
    "    ps[:2] = 0\n",
    "    p = 2\n",
    "    \n",
    "    while p < n:\n",
    "        \n",
    "        k = 2 * p\n",
    "        while k <= n:\n",
    "            ps[k] = 0\n",
    "            k += p\n",
    "        \n",
    "        p = xs[p+1]\n",
    "        while ps[p] == 0:\n",
    "            p += 1\n",
    "            # Have to check p since outer while loop isn't checked 'til this one's completed\n",
    "            if p > n:\n",
    "                break\n",
    "            \n",
    "    return xs[ps]"
   ]
  },
  {
   "cell_type": "code",
   "execution_count": 14,
   "metadata": {},
   "outputs": [
    {
     "data": {
      "text/plain": [
       "array([  2,   3,   5,   7,  11,  13,  17,  19,  23,  29,  31,  37,  41,\n",
       "        43,  47,  53,  59,  61,  67,  71,  73,  79,  83,  89,  97, 101,\n",
       "       103, 107, 109, 113, 127, 131, 137, 139, 149, 151, 157, 163, 167,\n",
       "       173, 179, 181, 191, 193, 197, 199, 211, 223, 227, 229, 233, 239,\n",
       "       241, 251, 257, 263, 269, 271, 277, 281, 283, 293, 307, 311, 313,\n",
       "       317, 331, 337, 347, 349, 353, 359, 367, 373, 379, 383, 389, 397,\n",
       "       401, 409, 419, 421, 431, 433, 439, 443, 449, 457, 461, 463, 467,\n",
       "       479, 487, 491, 499, 503, 509, 521, 523, 541, 547, 557, 563, 569,\n",
       "       571, 577, 587, 593, 599, 601, 607, 613, 617, 619, 631, 641, 643,\n",
       "       647, 653, 659, 661, 673, 677, 683, 691, 701, 709, 719, 727, 733,\n",
       "       739, 743, 751, 757, 761, 769, 773, 787, 797, 809, 811, 821, 823,\n",
       "       827, 829, 839, 853, 857, 859, 863, 877, 881, 883, 887, 907, 911,\n",
       "       919, 929, 937, 941, 947, 953, 967, 971, 977, 983, 991, 997])"
      ]
     },
     "execution_count": 14,
     "metadata": {},
     "output_type": "execute_result"
    }
   ],
   "source": [
    "# Test values\n",
    "n = 10**3\n",
    "primes(n)"
   ]
  },
  {
   "cell_type": "markdown",
   "metadata": {},
   "source": [
    "**6**. (40 points)\n",
    "\n",
    "Write code to generate a plot similar to those shown below using the explanation for generation of 1D Cellular Automata found [here](http://mathworld.wolfram.com/ElementaryCellularAutomaton.html). You should only need to use standard Python, `numpy` and `matplotllib`.\n",
    "\n",
    "![automata](http://mathworld.wolfram.com/images/eps-gif/ElementaryCA_850.gif)\n",
    "\n",
    "\n",
    "\n",
    "The input to the function making the plots should be a simple list of rules\n",
    "\n",
    "```python\n",
    "rules = [30, 54, 60, 62, 90, 94, 102, 110, 122, 126, \n",
    "         150, 158, 182, 188, 190, 220, 222, 250]\n",
    "make_plots(rules, niter, ncols)\n",
    "```\n",
    "\n",
    "You may, of course, write other helper functions to keep your code modular."
   ]
  },
  {
   "cell_type": "code",
   "execution_count": 15,
   "metadata": {},
   "outputs": [],
   "source": [
    "# Convert rule number to binary format\n",
    "def binary(n, width):\n",
    "    assert(n<2**width)\n",
    "    x = np.zeros(width)\n",
    "    \n",
    "    for i in range(width):\n",
    "        n, m = divmod(n, 2)\n",
    "        x[width-i-1] = m\n",
    "        \n",
    "    return x"
   ]
  },
  {
   "cell_type": "code",
   "execution_count": 16,
   "metadata": {},
   "outputs": [],
   "source": [
    "# Convert rule number to rule mapping\n",
    "def make_map(rule):\n",
    "    bin_rule = binary(rule, 8)[::-1]\n",
    "    nums = [tuple(binary(i, 3)) for i in range(8)]\n",
    "    return dict(zip(nums, bin_rule))"
   ]
  },
  {
   "cell_type": "code",
   "execution_count": 17,
   "metadata": {},
   "outputs": [],
   "source": [
    "# Apply make_map to convert rule\n",
    "# init is the configuation (0s/1s) of the top row of the graph\n",
    "# niters is the height of the graph\n",
    "def make_ca(rule, init, niters):\n",
    "    \n",
    "    # Create mapping from rule number\n",
    "    mapper = make_map(rule)\n",
    "    # Make grid of size 2+len(init) so that it can fully populate bottom row\n",
    "    grid = np.zeros((niters, 2 + len(init)), \"int\")\n",
    "    # Set top row of grid to init\n",
    "    grid[0, 1:-1] = init\n",
    "    \n",
    "    for i in range(1, niters):\n",
    "        # Create zip of 3 adjacent numbers in row above current iteration\n",
    "        # Note: zip will make appropriate matches despite different lengths\n",
    "        nums = zip(grid[i-1, 0:], grid[i-1, 1:], grid[i-1, 2:])\n",
    "        # Convert zip object to new row using mapping rules\n",
    "        grid[i, 1:-1] = [mapper[nums] for nums in nums]\n",
    "    \n",
    "    return grid[:, 1:-1]"
   ]
  },
  {
   "cell_type": "code",
   "execution_count": 18,
   "metadata": {},
   "outputs": [],
   "source": [
    "# Given helper function to plot grids\n",
    "def plot_grid(rule, grid, ax=None):\n",
    "    if ax is None:\n",
    "        ax = plt.subplot(111)\n",
    "    # imshow can plot grid of arrays, see matplotlib lecture for more examples\n",
    "    ax.imshow(grid, interpolation = \"none\", cmap = \"Greys\", aspect = 1, alpha = 0.8)\n",
    "    ax.set_title('Rule %d' % rule)\n",
    "    \n",
    "    # Make graphs look like the examples\n",
    "    ax.grid(True, which='major', color='grey', linewidth=0.5)\n",
    "    ax.xaxis.set_major_locator(IndexLocator(1, 0))\n",
    "    ax.yaxis.set_major_locator(IndexLocator(1, 0))\n",
    "    ax.xaxis.set_major_formatter( NullFormatter() )\n",
    "    ax.yaxis.set_major_formatter( NullFormatter() )\n",
    "    ax.xaxis.set_ticks_position('none')\n",
    "    ax.yaxis.set_ticks_position('none')"
   ]
  },
  {
   "cell_type": "code",
   "execution_count": 19,
   "metadata": {},
   "outputs": [],
   "source": [
    "# Function to generate plots\n",
    "def make_plots(rules, niter, ncols, builder=make_ca):\n",
    "    width = niter*2 + 1\n",
    "    init = np.zeros(width, \"int\")\n",
    "    init[width//2] = 1\n",
    "    \n",
    "    # Plot size\n",
    "    nrows = (len(rules) + ncols - 1)//ncols\n",
    "    fig, axes = plt.subplots(nrows, ncols, figsize = (ncols*3, nrows*2))\n",
    "    \n",
    "    # Generate plots\n",
    "    for i in range(nrows):\n",
    "        for j in range(ncols):\n",
    "            grid = builder(rules[i*ncols+j], init, niter)\n",
    "            plot_grid(rules[i*ncols+j], grid, ax=axes[i,j])\n",
    "    plt.tight_layout()"
   ]
  },
  {
   "cell_type": "code",
   "execution_count": 20,
   "metadata": {},
   "outputs": [
    {
     "data": {
      "image/png": "[encoded data removed]",
      "text/plain": [
       "<Figure size 648x864 with 18 Axes>"
      ]
     },
     "metadata": {
      "needs_background": "light"
     },
     "output_type": "display_data"
    }
   ],
   "source": [
    "# Test run\n",
    "rules = [30, 54, 60, 62, 90, 94, 102, 110, 122, 126, 150, 158, 182, 188, 190, 220, 222, 250]\n",
    "niter = 15\n",
    "ncols = 3\n",
    "make_plots(rules, niter, ncols)"
   ]
  }
 ],
 "metadata": {
  "kernelspec": {
   "display_name": "Python 3 (ipykernel)",
   "language": "python",
   "name": "python3"
  },
  "language_info": {
   "codemirror_mode": {
    "name": "ipython",
    "version": 3
   },
   "file_extension": ".py",
   "mimetype": "text/x-python",
   "name": "python",
   "nbconvert_exporter": "python",
   "pygments_lexer": "ipython3",
   "version": "3.8.11"
  }
 },
 "nbformat": 4,
 "nbformat_minor": 2
}
