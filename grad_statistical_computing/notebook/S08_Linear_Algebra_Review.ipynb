{
 "cells": [
  {
   "cell_type": "code",
   "execution_count": 1,
   "metadata": {},
   "outputs": [
    {
     "name": "stderr",
     "output_type": "stream",
     "text": [
      "C:\\Users\\petri\\anaconda3\\lib\\site-packages\\rpy2\\robjects\\packages.py:366: UserWarning: The symbol 'quartz' is not in this R namespace/package.\n",
      "  warnings.warn(\n"
     ]
    }
   ],
   "source": [
    "%matplotlib inline\n",
    "%load_ext rpy2.ipython\n",
    "\n",
    "import os\n",
    "import glob\n",
    "from pathlib import Path\n",
    "import numpy as np\n",
    "import pandas as pd\n",
    "import matplotlib as mpl\n",
    "import matplotlib.pyplot as plt\n",
    "import seaborn as sns\n",
    "\n",
    "sns.set_context('notebook', font_scale=1.5)"
   ]
  },
  {
   "cell_type": "code",
   "execution_count": 2,
   "metadata": {},
   "outputs": [],
   "source": [
    "def plot_vectors(vs):\n",
    "    \"\"\"Plot vectors in vs assuming origin at (0,0).\"\"\"\n",
    "    n = len(vs)\n",
    "    X, Y = np.zeros((n, 2))\n",
    "    U, V = np.vstack(vs).T\n",
    "    plt.quiver(X, Y, U, V, range(n), angles='xy', scale_units='xy', scale=1)\n",
    "    xmin, xmax = np.min([U, X]), np.max([U, X])\n",
    "    ymin, ymax = np.min([V, Y]), np.max([V, Y])\n",
    "    xrng = xmax - xmin\n",
    "    yrng = ymax - ymin\n",
    "    xmin -= 0.05*xrng\n",
    "    xmax += 0.05*xrng\n",
    "    ymin -= 0.05*yrng\n",
    "    ymax += 0.05*yrng\n",
    "    plt.axis([xmin, xmax, ymin, ymax])"
   ]
  },
  {
   "cell_type": "markdown",
   "metadata": {},
   "source": [
    "# Review of linear algebra"
   ]
  },
  {
   "cell_type": "markdown",
   "metadata": {},
   "source": [
    "### Coordinates\n",
    "\n",
    "When we have a set of basis vectors $\\left\\{v_1,...,v_n\\right\\}$ for a vector space, as we have said, any vector may be represented as:\n",
    "\n",
    "$$c_1v_1+...+c_nv_n$$\n",
    "\n",
    "The $c_i's$ are called *coordinates*. For example, in the space of $2^{nd}$ degree polynomials, the vector:\n",
    "\n",
    "$$2 x +\\pi x^2$$\n",
    "\n",
    "has coordinates $(0,2,\\pi)$.\n",
    "\n",
    "You probably think of coordinates in terms of the coordinate plane, and equate the coordinates with the $n$-tuples that label the points. This is all true - but skips a step. Now that we have separated our basis vectors from their coordinates, let's see how this applies in the case of the real vector spaces you are accustomed to."
   ]
  },
  {
   "cell_type": "markdown",
   "metadata": {},
   "source": [
    "The coordinates of the pictured vector (below) are $(2,3)$. But what does that mean? It means we have assumed the *standard basis*, $\\left\\{e_1,e_2\\right\\}$, and the vector $(2,3)$ really means:\n",
    "\n",
    "$$2e_1 + 3e_2$$\n",
    "\n",
    "where $e_1$ is a unit vector (length = 1) on the horizontal axis and $e_2$ is a unit vector along the vertical axis. This is a *choice of coordinates*. We could equally well choose the basis $\\left\\{v,e_2\\right\\}$ where $v$ is any vector that is linearly independent of $e_1$. Then all vectors would be considered of the form:\n",
    "\n",
    "$$c_1 v + c_2 e_1$$.\n",
    "\n",
    "\n"
   ]
  },
  {
   "cell_type": "code",
   "execution_count": 3,
   "metadata": {},
   "outputs": [
    {
     "data": {
      "image/png": "[encoded data removed]",
      "text/plain": [
       "<Figure size 576x288 with 1 Axes>"
      ]
     },
     "metadata": {
      "needs_background": "light"
     },
     "output_type": "display_data"
    }
   ],
   "source": [
    "a1 = np.array([3,0])         # axis\n",
    "a2 = np.array([0,3])\n",
    "\n",
    "plt.figure(figsize=(8,4))\n",
    "plt.subplot(1,2,1)\n",
    "plot_vectors([a1, a2])\n",
    "v1 = np.array([2,3])\n",
    "plot_vectors([a1,v1])\n",
    "plt.text(2,3,\"(2,3)\",fontsize=16)\n",
    "plt.tight_layout()"
   ]
  },
  {
   "cell_type": "markdown",
   "metadata": {},
   "source": [
    "Note that in the standard basis, the coordinates of $e_1$ are $(1,0)$. This is because:\n",
    "\n",
    "$$e_1 = 1\\cdot e_1 + 0\\cdot e_2$$\n",
    "\n",
    "Similarly, the coordinates of $e_2$ are $(0,1)$ because\n",
    "\n",
    "$$e_2 = 0\\cdot e_1 + 1\\cdot e_2$$\n",
    "\n",
    "In the basis $\\left\\{v,e_1\\right\\}$, the coordinates of $e_1$ are $(0,1)$, because\n",
    "\n",
    "$$e_1 = 0\\cdot v + 1\\cdot e_1$$\n",
    "\n",
    "and the coordinates of $v$ are $(1,0)$.\n",
    "\n",
    "Well need these concepts in a moment when we talk about change of basis."
   ]
  },
  {
   "cell_type": "markdown",
   "metadata": {},
   "source": [
    "## Matrices and Linear Transformations"
   ]
  },
  {
   "cell_type": "markdown",
   "metadata": {},
   "source": [
    "So we have this vector space and it consists of linear combinations of vectors. It's not terribly interesting just sitting there. So let's do something with it.\n",
    "\n",
    "This is mathematics, and once mathematicians have objects collected into some set or 'space', we like to send them to other spaces, or back into the space itself, but changing one object into another. This is called a 'transformation'.\n",
    "\n",
    "Let's suppose we have two vector spaces, $V$ and $W$. We'd like to define a transformation - but there is a catch. We want our transformation to act on all the vectors. Let's suppose $V=W=\\mathbb{R}^2$. That seems simple enough. But there are still infinitely many vectors. Defining a transformation sounds laborious.\n",
    "\n",
    "Ah, but we are clever. We have defined our space in such a way that for *certain* transformations, we need only define our transformation on a finite set (in the case of finite dimensional vector spaces).\n",
    "\n",
    "### Linear Transformations\n",
    "\n",
    "A linear transformation $f:V\\rightarrow W$ is a map from $V$ to $W$ such that\n",
    "\n",
    "$$f(c_1 v_1+c_2v_2) = c_1f(v_1)+c_2f(v_2)$$\n",
    "\n",
    "Now, recall that a basis essentially generates the entire vector space via linear combinations. So, once we define a linear transformation $f$ on a basis, we have it for the whole space.\n",
    "\n",
    "\n",
    "### Matrices, Transformations and Geometric Interpretation\n",
    "Thinking back to real vector spaces, what does a matrix *do* to a vector?  Matrix multiplication has a *geometric* interpretation.  When we multiply a vector, we either rotate, reflect, dilate or some combination of those three. So multiplying by a matrix *transforms* one vector into another vector.  These are *linear transformations*. \n",
    "\n",
    "See the cell below for an example of a vector ($v_1 = (2,3)$) transformed by a matrix \n",
    "\n",
    "$$A = \\left(\\begin{matrix}2 & 1\\\\1&1\\end{matrix}\\right)$$\n",
    "\n",
    "so that \n",
    "\n",
    "$$v_2 = Av_1$$"
   ]
  },
  {
   "cell_type": "code",
   "execution_count": 4,
   "metadata": {},
   "outputs": [
    {
     "name": "stdout",
     "output_type": "stream",
     "text": [
      "5\n"
     ]
    },
    {
     "data": {
      "image/png": "[encoded data removed]",
      "text/plain": [
       "<Figure size 576x576 with 1 Axes>"
      ]
     },
     "metadata": {
      "needs_background": "light"
     },
     "output_type": "display_data"
    }
   ],
   "source": [
    "a1 = np.array([7,0])         # axis\n",
    "a2 = np.array([0,5])\n",
    "\n",
    "A = np.array([[2,1],[1,1]])  # transformation f in standard basis\n",
    "v2 =np.dot(A,v1)\n",
    "plt.figure(figsize=(8,8))\n",
    "plot_vectors([a1, a2])\n",
    "v1 = np.array([2,3])\n",
    "plot_vectors([v1,v2])\n",
    "plt.text(2,3,\"v1 =(2,3)\",fontsize=16)\n",
    "plt.text(6,5,\"Av1 = \", fontsize=16)\n",
    "plt.text(v2[0],v2[1],\"(7,5)\",fontsize=16)\n",
    "print(v2[1])"
   ]
  },
  {
   "cell_type": "markdown",
   "metadata": {},
   "source": [
    "Important Facts: \n",
    "\n",
    "* Any matrix defines a linear transformation\n",
    "* Every linear transformation may be represented by a matrix. This form is NOT unique (it depends on the chosen basis - more on that in a moment)\n",
    "* We need only define a transformation by saying what it does to a *basis*\n",
    "\n",
    "Suppose we have a matrix $A$ that defines some transformation.  We can take any invertible matrix $B$ and\n",
    "\n",
    "$$B^{-1}AB$$\n",
    "\n",
    "defines the same transformation.  This operation is called a *change of basis*, because we are simply expressing the transformation with respect to a different basis.\n",
    "\n",
    "This is an important concept in matrix decompositions."
   ]
  },
  {
   "cell_type": "markdown",
   "metadata": {},
   "source": [
    "### Example - Find *a* Matrix Representation of a Linear Transformation\n",
    "\n",
    "Note that we say find 'a' matrix representation - not 'the' matrix representation. That is because the matrix representation is dependent on the *choice of basis*. Just to motivate you as to why this is important, recall our linear system:\n",
    "\n",
    "$$Ax=b$$\n",
    "\n",
    "Some forms of $A$ are *much* simpler to invert. For example, suppose $A$ is diagonal. Then we can solve each equation easily:\n",
    "\n",
    "$$Ax =b \\iff \\left\\{\\begin{matrix}d_1 & 0& \\cdots &  0\\\\0 & d_2 & \\cdots & 0\\\\ \\vdots & & &\\vdots\\\\ 0 &0&\\cdots &d_n\n",
    "\\end{matrix}\\right\\}\n",
    "\\left\\{\\begin{matrix}x_1\\\\ \\vdots\\\\x_n\\end{matrix}\\right\\}= \\left\\{\\begin{matrix}b_1\\\\ \\vdots\\\\b_n\\end{matrix}\\right\\} \\iff x_1 = \\frac{b_1}{d_1},...,x_n=\\frac{b_n}{d_n}$$\n",
    "\n",
    "So, if we could find a basis in which the transformation defined by $A$ is diagonal, our system is very easily solved. Of course, this is not always possible - but we can often simplify our system via change of basis so that the resulting system is easier to solve. (These are 'matrix decomposition methods', and we will talk about them in detail, once we have the tools to do so).\n",
    "\n",
    "\n",
    "\n",
    "Now, let $f(x)$ be the linear transformation that takes $e_1=(1,0)$ to $f(e_1)=(2,3)$ and $e_2=(0,1)$ to $f(e_2) = (1,1)$.  A matrix representation of $f$ would be given by:\n",
    "\n",
    "$$A = \\left(\\begin{matrix}2 & 1\\\\3&1\\end{matrix}\\right)$$\n",
    "\n",
    "This is the matrix we use if we consider the vectors of $\\mathbb{R}^2$ to be linear combinations of the form \n",
    "\n",
    "$$c_1 e_1 + c_2 e_2$$\n",
    "\n",
    "\n",
    "### Example - Change to a Different Basis\n",
    "\n",
    "Now, consider a second pair of (linearly independent) vectors in $\\mathbb{R}^2$, say $v_1$ and $v_2$, and suppose that the coordinates of $v_1$ in the basis $e_1,e_2$ are $(1,3)$ and that the coordinates of $v_2$ in the basis $e_1,e_2$ are $(4,1)$. We first find the transformation that takes $e_1$ to $v_1$ and $e_2$ to $v_2$.  A matrix representation for this (in the $e_1, e_2$ basis) is:\n",
    "\n",
    "$$B = \\left(\\begin{matrix}1 & 4\\\\3&1\\end{matrix}\\right)$$\n",
    "\n",
    "\n",
    "Our original transformation $f$ can be expressed with respect to the basis $v_1, v_2$ via\n",
    "\n",
    "$$BAB^{-1}$$\n",
    "\n",
    "Here is what the new basis looks like:"
   ]
  },
  {
   "cell_type": "code",
   "execution_count": 5,
   "metadata": {},
   "outputs": [
    {
     "data": {
      "text/plain": [
       "<matplotlib.patches.Circle at 0x24e087353d0>"
      ]
     },
     "execution_count": 5,
     "metadata": {},
     "output_type": "execute_result"
    },
    {
     "data": {
      "image/png": "[encoded data removed]",
      "text/plain": [
       "<Figure size 576x288 with 2 Axes>"
      ]
     },
     "metadata": {
      "needs_background": "light"
     },
     "output_type": "display_data"
    }
   ],
   "source": [
    "e1 = np.array([1,0])\n",
    "e2 = np.array([0,1])\n",
    "B = np.array([[1,4],[3,1]])\n",
    "plt.figure(figsize=(8,4))\n",
    "plt.subplot(1,2,1)\n",
    "plot_vectors([e1, e2])\n",
    "plt.subplot(1,2,2)\n",
    "plot_vectors([B.dot(e1), B.dot(e2)])\n",
    "plt.Circle((0,0),2)\n",
    "#plt.show()\n",
    "#plt.tight_layout()"
   ]
  },
  {
   "cell_type": "code",
   "execution_count": 6,
   "metadata": {},
   "outputs": [
    {
     "name": "stdout",
     "output_type": "stream",
     "text": [
      "[2 3]\n",
      "[1 1]\n",
      "Av1: \n",
      "[5 6]\n",
      "Av2: \n",
      "[ 9 13]\n",
      "[[1 4]\n",
      " [3 1]]\n",
      "B B_inv \n",
      "[[ 1.00000000e+00 -5.55111512e-17]\n",
      " [ 0.00000000e+00  1.00000000e+00]]\n",
      "[[0.09090909 4.63636364]\n",
      " [0.27272727 2.90909091]]\n",
      "[[-0.09090909  0.36363636]\n",
      " [ 0.27272727 -0.09090909]]\n"
     ]
    },
    {
     "data": {
      "text/plain": [
       "array([9.09090909e-02, 6.93889390e-18])"
      ]
     },
     "execution_count": 6,
     "metadata": {},
     "output_type": "execute_result"
    }
   ],
   "source": [
    "A = np.array([[2,1],[3,1]])  # transformation f in standard basis\n",
    "e1 = np.array([1,0])         # standard basis vectors e1,e2\n",
    "e2 = np.array([0,1])\n",
    "\n",
    "print(A.dot(e1))             # demonstrate that Ae1 is (2,3)\n",
    "print(A.dot(e2))             # demonstrate that Ae2 is (1,1) \n",
    "                              \n",
    "# new basis vectors\n",
    "v1 = np.array([1,3])         \n",
    "v2 = np.array([4,1])\n",
    "\n",
    "# How v1 and v2 are transformed by A\n",
    "print(\"Av1: \")\n",
    "print(A.dot(v1))   \n",
    "print(\"Av2: \")\n",
    "print(A.dot(v2))\n",
    "\n",
    "# Change of basis from standard to v1,v2\n",
    "B = np.array([[1,4],[3,1]])\n",
    "print(B)\n",
    "B_inv = np.linalg.inv(B)\n",
    "\n",
    "print(\"B B_inv \")\n",
    "print(B.dot(B_inv))   # check inverse\n",
    "\n",
    "# Matrix of the transformation with respect to the new basis\n",
    "T = B.dot(A.dot(B_inv))        # B A B^{-1} \n",
    "\n",
    "print(T)\n",
    "\n",
    "print(B_inv)\n",
    "np.dot(B_inv,(T.dot(e1)))"
   ]
  },
  {
   "cell_type": "markdown",
   "metadata": {},
   "source": [
    "## Linear systems"
   ]
  },
  {
   "cell_type": "markdown",
   "metadata": {},
   "source": [
    "### $m < n$\n",
    "\n",
    "Infinite solutions (under-determined)"
   ]
  },
  {
   "cell_type": "markdown",
   "metadata": {},
   "source": [
    "### $m = n$\n",
    "\n",
    "Unique solution"
   ]
  },
  {
   "cell_type": "markdown",
   "metadata": {},
   "source": [
    "### $m > n$\n",
    "\n",
    "Inconsistent solutions (over-determined)"
   ]
  },
  {
   "cell_type": "markdown",
   "metadata": {},
   "source": [
    "## Gaussian elimination"
   ]
  },
  {
   "cell_type": "markdown",
   "metadata": {},
   "source": [
    "### Elementary row and matrix operations\n",
    "\n",
    "- swap\n",
    "\n",
    "![img](https://wikimedia.org/api/rest_v1/media/math/render/svg/630f56738d8a7b40d4cde3d1748df35e2f61b19f)\n",
    "\n",
    "- scalar multiplication\n",
    "\n",
    "![img](https://wikimedia.org/api/rest_v1/media/math/render/svg/62b5512bfbd5ab6f9d5f05dfd5de8ba422a0ce18)\n",
    "\n",
    "- add rows\n",
    "\n",
    "![img](https://wikimedia.org/api/rest_v1/media/math/render/svg/c99f0c921c8a5c3115858a5b678d22942296a67d)\n",
    "\n",
    "Images from [Wikipedia](https://en.wikipedia.org/wiki/Elementary_matrix#Operations)"
   ]
  },
  {
   "cell_type": "markdown",
   "metadata": {},
   "source": [
    "### Echelon forms\n",
    "\n",
    "$$\n",
    "A = \\pmatrix{\n",
    "1 & 3 & 3 & 2 \\\\\n",
    "2 & 6 & 9 & 7 \\\\\n",
    "-1 & -3 & 3 & 4\n",
    "}\n",
    "$$\n",
    "\n",
    "Row echelon form (RRF)\n",
    "\n",
    "$$\n",
    "R_1 = \\pmatrix{\n",
    "1 & 3 & 3 & 2 \\\\\n",
    "0 & 0 & 3 & 3 \\\\\n",
    "0 & 0 & 0 & 0\n",
    "}\n",
    "$$\n",
    "\n",
    "Gaussian elimination gives the REF, and we use back-substitution to solve.\n",
    "\n",
    "Reduced Row Echelon Form (RREF)\n",
    "\n",
    "$$\n",
    "R_2 = \\pmatrix{\n",
    "1 & 3 & 0 & -1 \\\\\n",
    "0 & 0 & 1 & 1 \\\\\n",
    "0 & 0 & 0 & 0\n",
    "}\n",
    "$$\n",
    "\n",
    "Gauss-Jordan elimination gives the RREF."
   ]
  },
  {
   "cell_type": "markdown",
   "metadata": {},
   "source": [
    "## Fundamental subspaces\n",
    "\n",
    "- Column space $C(A)$ or Image of $A$: dimension = $r$\n",
    "\n",
    "$$\n",
    "\\left\\{\n",
    "\\pmatrix{1 \\\\ 2 \\\\ -1}, \\pmatrix{3 \\\\ 9 \\\\ 3}\n",
    "\\right\\}\n",
    "$$\n",
    "\n",
    "- Row space $C(A^T)$ or Image of $A^T$: dimension = $r$\n",
    "\n",
    "$$\n",
    "\\left\\{\n",
    "\\pmatrix{1 \\\\ 3 \\\\ 3 \\\\ 2}, \\pmatrix{0 \\\\ 0 \\\\ 3 \\\\ 3}\n",
    "\\right\\}\n",
    "$$\n",
    "\n",
    "- Nullspace $N(A)$ or Kernel of $A$: dimension = $n - r$\n",
    "\n",
    "$$\n",
    "\\left\\{\n",
    "\\pmatrix{-3 \\\\ 1 \\\\ 0 \\\\ 0}, \\pmatrix{1 \\\\ 0 \\\\ -1 \\\\ 1}\n",
    "\\right\\}\n",
    "$$\n",
    "\n",
    "- Left nullspace $N(A^T)$ or Kernel of $A^T$: dimension = $m - r$\n",
    "\n",
    "$$\n",
    "\\left\\{\n",
    "\\pmatrix{5 \\\\ -2 \\\\ 1}\n",
    "\\right\\}\n",
    "$$"
   ]
  },
  {
   "cell_type": "markdown",
   "metadata": {},
   "source": [
    "![im](https://upload.wikimedia.org/wikipedia/commons/thumb/f/fa/The_four_subspaces.svg/600px-The_four_subspaces.svg.png)\n",
    "\n",
    "Images from [Wikipedia](https://en.wikipedia.org/wiki/Fundamental_theorem_of_linear_algebra)"
   ]
  }
 ],
 "metadata": {
  "kernelspec": {
   "display_name": "Python 3 (ipykernel)",
   "language": "python",
   "name": "python3"
  },
  "language_info": {
   "codemirror_mode": {
    "name": "ipython",
    "version": 3
   },
   "file_extension": ".py",
   "mimetype": "text/x-python",
   "name": "python",
   "nbconvert_exporter": "python",
   "pygments_lexer": "ipython3",
   "version": "3.8.11"
  }
 },
 "nbformat": 4,
 "nbformat_minor": 2
}
