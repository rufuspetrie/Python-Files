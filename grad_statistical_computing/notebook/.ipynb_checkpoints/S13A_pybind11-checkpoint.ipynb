{
 "cells": [
  {
   "cell_type": "markdown",
   "metadata": {},
   "source": [
    "# Using `pybind11`\n",
    "\n",
    "The package `pybind11` is provides an elegant way to wrap C++ code for Python, including automatic conversions for `numpy` arrays and the C++ `Eigen` linear algebra library. Used with the `cppimport` package, this provides a very nice work flow for integrating C++ and Python:\n",
    "\n",
    "- Edit C++ code\n",
    "- Run Python code"
   ]
  },
  {
   "cell_type": "markdown",
   "metadata": {},
   "source": [
    "```bash\n",
    "! pip install pybind11\n",
    "! pip install cppimport\n",
    "```"
   ]
  },
  {
   "cell_type": "markdown",
   "metadata": {},
   "source": [
    "Clone the Eigen library if necessary - no installation is required as Eigen is a header only library."
   ]
  },
  {
   "cell_type": "markdown",
   "metadata": {},
   "source": [
    "```bash\n",
    "! git clone https://github.com/RLovelett/eigen.git\n",
    "```"
   ]
  },
  {
   "cell_type": "markdown",
   "metadata": {},
   "source": [
    "## Resources\n",
    "\n",
    "- [`pybind11`](http://pybind11.readthedocs.io/en/latest/)\n",
    "- [`cppimport`](https://github.com/tbenthompson/cppimport)\n",
    "- [`Eigen`](http://eigen.tuxfamily.org)"
   ]
  },
  {
   "cell_type": "markdown",
   "metadata": {},
   "source": [
    "## Example 1 - Basic usage"
   ]
  },
  {
   "cell_type": "code",
   "execution_count": 3,
   "metadata": {},
   "outputs": [
    {
     "name": "stdout",
     "output_type": "stream",
     "text": [
      "Overwriting ex1.cpp\n"
     ]
    }
   ],
   "source": [
    "%%file ex1.cpp\n",
    "<%\n",
    "setup_pybind11(cfg)\n",
    "%>\n",
    "#include <pybind11/pybind11.h>\n",
    "namespace py = pybind11;\n",
    "\n",
    "PYBIND11_MODULE(ex1, m) {\n",
    "    m.def(\"add\", [](int a, int b) { return a + b; });\n",
    "    m.def(\"mult\", [](int a, int b) { return a * b; });\n",
    "}"
   ]
  },
  {
   "cell_type": "code",
   "execution_count": 4,
   "metadata": {},
   "outputs": [
    {
     "data": {
      "text/plain": [
       "7"
      ]
     },
     "execution_count": 4,
     "metadata": {},
     "output_type": "execute_result"
    }
   ],
   "source": [
    "import cppimport\n",
    "ex1 = cppimport.imp(\"ex1\")\n",
    "\n",
    "ex1.add(3,4)"
   ]
  },
  {
   "cell_type": "code",
   "execution_count": 5,
   "metadata": {},
   "outputs": [
    {
     "data": {
      "text/plain": [
       "12"
      ]
     },
     "execution_count": 5,
     "metadata": {},
     "output_type": "execute_result"
    }
   ],
   "source": [
    "from ex1 import mult\n",
    "\n",
    "mult(3,4)"
   ]
  },
  {
   "cell_type": "code",
   "execution_count": 6,
   "metadata": {},
   "outputs": [
    {
     "name": "stdout",
     "output_type": "stream",
     "text": [
      "\u001b[31mex1.cpython-37m-darwin.so\u001b[m\u001b[m*\r\n"
     ]
    }
   ],
   "source": [
    "ls ex1*so"
   ]
  },
  {
   "cell_type": "markdown",
   "metadata": {},
   "source": [
    "## Example 2 - Adding doc and named/default arguments"
   ]
  },
  {
   "cell_type": "code",
   "execution_count": 7,
   "metadata": {},
   "outputs": [
    {
     "name": "stdout",
     "output_type": "stream",
     "text": [
      "Writing ex2.cpp\n"
     ]
    }
   ],
   "source": [
    "%%file ex2.cpp\n",
    "<%\n",
    "setup_pybind11(cfg)\n",
    "%>\n",
    "#include <pybind11/pybind11.h>\n",
    "namespace py = pybind11;\n",
    "\n",
    "using namespace pybind11::literals;\n",
    "\n",
    "PYBIND11_MODULE(ex2, m) {\n",
    "    m.def(\"add\", \n",
    "          [](int a, int b) { return a + b; },\n",
    "          \"Add two integers.\",\n",
    "          py::arg(\"a\") = 3, \n",
    "          py::arg(\"b\") = 4);\n",
    "    m.def(\"mult\", \n",
    "          [](int a, int b) { return a * b; },\n",
    "          \"Multiply two integers.\",\n",
    "          \"a\"_a=3, \n",
    "          \"b\"_a=4);\n",
    "}"
   ]
  },
  {
   "cell_type": "code",
   "execution_count": 8,
   "metadata": {},
   "outputs": [],
   "source": [
    "import cppimport\n",
    "ex2 = cppimport.imp(\"ex2\")"
   ]
  },
  {
   "cell_type": "code",
   "execution_count": 9,
   "metadata": {},
   "outputs": [
    {
     "name": "stdout",
     "output_type": "stream",
     "text": [
      "Help on built-in function add in module ex1:\n",
      "\n",
      "add(...) method of builtins.PyCapsule instance\n",
      "    add(arg0: int, arg1: int) -> int\n",
      "\n"
     ]
    }
   ],
   "source": [
    "help(ex1.add)"
   ]
  },
  {
   "cell_type": "code",
   "execution_count": 10,
   "metadata": {},
   "outputs": [
    {
     "name": "stdout",
     "output_type": "stream",
     "text": [
      "Help on built-in function add in module ex2:\n",
      "\n",
      "add(...) method of builtins.PyCapsule instance\n",
      "    add(a: int=3, b: int=4) -> int\n",
      "    \n",
      "    Add two integers.\n",
      "\n"
     ]
    }
   ],
   "source": [
    "help(ex2.add)"
   ]
  },
  {
   "cell_type": "markdown",
   "metadata": {},
   "source": [
    "### Example 3 - Split into execution modules for efficient compilation"
   ]
  },
  {
   "cell_type": "code",
   "execution_count": 12,
   "metadata": {},
   "outputs": [
    {
     "name": "stdout",
     "output_type": "stream",
     "text": [
      "Writing funcs1.cpp\n"
     ]
    }
   ],
   "source": [
    "%%file funcs1.cpp\n",
    "#include <pybind11/pybind11.h>\n",
    "namespace py = pybind11;\n",
    "\n",
    "int add(int a, int b) {\n",
    "    return a + b;\n",
    "}\n",
    "\n",
    "void init_f1(py::module &m) {\n",
    "    m.def(\"add\", &add);\n",
    "}"
   ]
  },
  {
   "cell_type": "code",
   "execution_count": 13,
   "metadata": {},
   "outputs": [
    {
     "name": "stdout",
     "output_type": "stream",
     "text": [
      "Writing funcs2.cpp\n"
     ]
    }
   ],
   "source": [
    "%%file funcs2.cpp\n",
    "#include <pybind11/pybind11.h>\n",
    "namespace py = pybind11;\n",
    "\n",
    "int mult(int a, int b) {\n",
    "    return a + b;\n",
    "}\n",
    "\n",
    "void init_f2(py::module &m) {\n",
    "    m.def(\"mult\", &mult);\n",
    "}"
   ]
  },
  {
   "cell_type": "code",
   "execution_count": 14,
   "metadata": {},
   "outputs": [
    {
     "name": "stdout",
     "output_type": "stream",
     "text": [
      "Writing ex3.cpp\n"
     ]
    }
   ],
   "source": [
    "%%file ex3.cpp\n",
    "\n",
    "<%\n",
    "setup_pybind11(cfg)\n",
    "cfg['sources'] = ['funcs1.cpp', 'funcs2.cpp']\n",
    "%>\n",
    "#include <pybind11/pybind11.h>\n",
    "namespace py = pybind11;\n",
    "\n",
    "void init_f1(py::module &m);\n",
    "void init_f2(py::module &m);\n",
    "\n",
    "PYBIND11_MODULE(ex3, m) {\n",
    "    init_f1(m);\n",
    "    init_f2(m);\n",
    "}"
   ]
  },
  {
   "cell_type": "code",
   "execution_count": 15,
   "metadata": {},
   "outputs": [
    {
     "data": {
      "text/plain": [
       "(7, 7)"
      ]
     },
     "execution_count": 15,
     "metadata": {},
     "output_type": "execute_result"
    }
   ],
   "source": [
    "import cppimport\n",
    "ex3 = cppimport.imp(\"ex3\")\n",
    "\n",
    "ex3.add(3,4), ex3.mult(3, 4)"
   ]
  },
  {
   "cell_type": "code",
   "execution_count": 16,
   "metadata": {},
   "outputs": [],
   "source": [
    "## Example 4 - Using setup.py to create shared libraries"
   ]
  },
  {
   "cell_type": "code",
   "execution_count": 17,
   "metadata": {},
   "outputs": [
    {
     "name": "stdout",
     "output_type": "stream",
     "text": [
      "Writing funcs.hpp\n"
     ]
    }
   ],
   "source": [
    "%%file funcs.hpp\n",
    "#pragma once\n",
    "\n",
    "int add(int a, int b);\n",
    "int mult(int a, int b);"
   ]
  },
  {
   "cell_type": "code",
   "execution_count": 18,
   "metadata": {},
   "outputs": [
    {
     "name": "stdout",
     "output_type": "stream",
     "text": [
      "Writing funcs.cpp\n"
     ]
    }
   ],
   "source": [
    "%%file funcs.cpp\n",
    "\n",
    "#include \"funcs.hpp\"\n",
    "\n",
    "int add(int a, int b) {\n",
    "    return a + b;\n",
    "}\n",
    "\n",
    "int mult(int a, int b) {\n",
    "    return a * b;\n",
    "}"
   ]
  },
  {
   "cell_type": "code",
   "execution_count": 19,
   "metadata": {},
   "outputs": [
    {
     "name": "stdout",
     "output_type": "stream",
     "text": [
      "Writing ex4.cpp\n"
     ]
    }
   ],
   "source": [
    "%%file ex4.cpp\n",
    "#include \"funcs.hpp\"\n",
    "#include <pybind11/pybind11.h>\n",
    "namespace py = pybind11;\n",
    "\n",
    "PYBIND11_MODULE(ex4, m) {\n",
    "    m.def(\"add\", &add);\n",
    "    m.def(\"mult\", &mult);\n",
    "}"
   ]
  },
  {
   "cell_type": "code",
   "execution_count": 20,
   "metadata": {},
   "outputs": [
    {
     "name": "stdout",
     "output_type": "stream",
     "text": [
      "Writing setup.py\n"
     ]
    }
   ],
   "source": [
    "%%file setup.py\n",
    "import os, sys\n",
    "\n",
    "from distutils.core import setup, Extension\n",
    "from distutils import sysconfig\n",
    "\n",
    "cpp_args = ['-std=c++14'] \n",
    "\n",
    "ext_modules = [\n",
    "    Extension(\n",
    "    'ex4',\n",
    "        ['funcs.cpp', 'ex4.cpp'],\n",
    "        include_dirs=['pybind11/include'],\n",
    "    language='c++',\n",
    "    extra_compile_args = cpp_args,\n",
    "    ),\n",
    "]\n",
    "\n",
    "setup(\n",
    "    name='ex4',\n",
    "    version='0.0.1',\n",
    "    author='Cliburn Chan',\n",
    "    author_email='cliburn.chan@duke.edu',\n",
    "    description='Example',\n",
    "    ext_modules=ext_modules,\n",
    ")"
   ]
  },
  {
   "cell_type": "code",
   "execution_count": 21,
   "metadata": {},
   "outputs": [
    {
     "name": "stdout",
     "output_type": "stream",
     "text": [
      "running build_ext\n",
      "building 'ex4' extension\n",
      "creating build\n",
      "creating build/temp.macosx-10.13-x86_64-3.7\n",
      "clang -Wno-unused-result -Wsign-compare -Wunreachable-code -fno-common -dynamic -DNDEBUG -g -fwrapv -O3 -Wall -isysroot /Applications/Xcode.app/Contents/Developer/Platforms/MacOSX.platform/Developer/SDKs/MacOSX10.14.sdk -I/Applications/Xcode.app/Contents/Developer/Platforms/MacOSX.platform/Developer/SDKs/MacOSX10.14.sdk/System/Library/Frameworks/Tk.framework/Versions/8.5/Headers -I/usr/local/opt/llvm/include:-I/usr/local/opt/openssl/include -Ipybind11/include -I/usr/local/include -I/usr/local/opt/openssl/include -I/usr/local/opt/sqlite/include -I/usr/local/Cellar/python/3.7.0/Frameworks/Python.framework/Versions/3.7/include/python3.7m -c funcs.cpp -o build/temp.macosx-10.13-x86_64-3.7/funcs.o -std=c++14\n",
      "clang -Wno-unused-result -Wsign-compare -Wunreachable-code -fno-common -dynamic -DNDEBUG -g -fwrapv -O3 -Wall -isysroot /Applications/Xcode.app/Contents/Developer/Platforms/MacOSX.platform/Developer/SDKs/MacOSX10.14.sdk -I/Applications/Xcode.app/Contents/Developer/Platforms/MacOSX.platform/Developer/SDKs/MacOSX10.14.sdk/System/Library/Frameworks/Tk.framework/Versions/8.5/Headers -I/usr/local/opt/llvm/include:-I/usr/local/opt/openssl/include -Ipybind11/include -I/usr/local/include -I/usr/local/opt/openssl/include -I/usr/local/opt/sqlite/include -I/usr/local/Cellar/python/3.7.0/Frameworks/Python.framework/Versions/3.7/include/python3.7m -c ex4.cpp -o build/temp.macosx-10.13-x86_64-3.7/ex4.o -std=c++14\n",
      "clang++ -bundle -undefined dynamic_lookup -isysroot /Applications/Xcode.app/Contents/Developer/Platforms/MacOSX.platform/Developer/SDKs/MacOSX10.14.sdk -L/usr/local/opt/llvm/lib -Wl,-rpath,/usr/local/opt/llvm/lib:LDFLAGS=-L/usr/local/opt/openssl/lib -I/usr/local/opt/llvm/include:-I/usr/local/opt/openssl/include build/temp.macosx-10.13-x86_64-3.7/funcs.o build/temp.macosx-10.13-x86_64-3.7/ex4.o -L/usr/local/lib -L/usr/local/opt/openssl/lib -L/usr/local/opt/sqlite/lib -o /Users/cliburn/_teach/sta-663-2019/notebook/ex4.cpython-37m-darwin.so\n"
     ]
    }
   ],
   "source": [
    "%%bash\n",
    "\n",
    "python3 setup.py build_ext -i"
   ]
  },
  {
   "cell_type": "code",
   "execution_count": 22,
   "metadata": {},
   "outputs": [
    {
     "data": {
      "text/plain": [
       "(7, 12)"
      ]
     },
     "execution_count": 22,
     "metadata": {},
     "output_type": "execute_result"
    }
   ],
   "source": [
    "import ex4\n",
    "\n",
    "ex4.add(3,4), ex4.mult(3,4)"
   ]
  },
  {
   "cell_type": "markdown",
   "metadata": {},
   "source": [
    "## Example 5 - Using STL containers"
   ]
  },
  {
   "cell_type": "code",
   "execution_count": 23,
   "metadata": {},
   "outputs": [
    {
     "name": "stdout",
     "output_type": "stream",
     "text": [
      "Writing ex5.cpp\n"
     ]
    }
   ],
   "source": [
    "%%file ex5.cpp\n",
    "<%\n",
    "setup_pybind11(cfg)\n",
    "%>\n",
    "#include \"funcs.hpp\"\n",
    "#include <pybind11/pybind11.h>\n",
    "#include <pybind11/stl.h>\n",
    "\n",
    "#include <vector>\n",
    "namespace py = pybind11;\n",
    "\n",
    "double vsum(const std::vector<double>& vs) {\n",
    "    double res = 0;\n",
    "    for (const auto& i: vs) {\n",
    "        res += i;\n",
    "    }\n",
    "    return res;\n",
    "}\n",
    "\n",
    "std::vector<int> range(int start, int stop, int step) {\n",
    "    std::vector<int> res;\n",
    "    for (int i=start; i<stop; i+=step) {\n",
    "        res.push_back(i);\n",
    "    }\n",
    "    return res;\n",
    "}\n",
    "        \n",
    "        \n",
    "PYBIND11_MODULE(ex5, m) {\n",
    "    m.def(\"vsum\", &vsum);\n",
    "    m.def(\"range\", &range);\n",
    "}"
   ]
  },
  {
   "cell_type": "code",
   "execution_count": 24,
   "metadata": {},
   "outputs": [],
   "source": [
    "import cppimport\n",
    "ex5 = cppimport.imp(\"ex5\")"
   ]
  },
  {
   "cell_type": "code",
   "execution_count": 25,
   "metadata": {},
   "outputs": [
    {
     "data": {
      "text/plain": [
       "45.0"
      ]
     },
     "execution_count": 25,
     "metadata": {},
     "output_type": "execute_result"
    }
   ],
   "source": [
    "ex5.vsum(range(10))"
   ]
  },
  {
   "cell_type": "code",
   "execution_count": 26,
   "metadata": {},
   "outputs": [
    {
     "data": {
      "text/plain": [
       "[1, 3, 5, 7, 9]"
      ]
     },
     "execution_count": 26,
     "metadata": {},
     "output_type": "execute_result"
    }
   ],
   "source": [
    "ex5.range(1, 10, 2)"
   ]
  },
  {
   "cell_type": "markdown",
   "metadata": {},
   "source": [
    "## Using `cppimport`\n",
    "\n",
    "The `cppimport` package allows you to specify several options. See [Github page](https://github.com/tbenthompson/cppimport)"
   ]
  },
  {
   "cell_type": "markdown",
   "metadata": {},
   "source": [
    "### Use of `cppimport.imp`\n",
    "\n",
    "Note that `cppimport.imp` only needs to be called to build the shared library. Once it is called, the shared library is created and can be sued.  Any updates to the C++ files will be detected by `cppimport` and it will automatically trigger a re-build."
   ]
  },
  {
   "cell_type": "markdown",
   "metadata": {},
   "source": [
    "## Example 6: Vectorizing functions for use with `numpy` arrays\n",
    "\n",
    "Example showing how to vectorize a `square` function. Note that from here on, we don't bother to use separate header and implementation files for these code snippets, and just write them together with the wrapping code in a `code.cpp` file. This means that with `cppimport`, there are only two files that we actually code for, a C++ `code.cpp` file and a python test file."
   ]
  },
  {
   "cell_type": "code",
   "execution_count": 34,
   "metadata": {},
   "outputs": [
    {
     "name": "stdout",
     "output_type": "stream",
     "text": [
      "Overwriting ex6.cpp\n"
     ]
    }
   ],
   "source": [
    "%%file ex6.cpp\n",
    "<%\n",
    "cfg['compiler_args'] = ['-std=c++14'] \n",
    "setup_pybind11(cfg)\n",
    "%>\n",
    "\n",
    "#include <pybind11/pybind11.h>\n",
    "#include <pybind11/numpy.h>\n",
    "\n",
    "namespace py = pybind11;\n",
    "double square(double x) {\n",
    "    return x * x;\n",
    "}\n",
    "\n",
    "PYBIND11_MODULE(ex6, m) {\n",
    "    m.doc() = \"pybind11 example plugin\";\n",
    "    m.def(\"square\", py::vectorize(square), \"A vectroized square function.\");\n",
    "}"
   ]
  },
  {
   "cell_type": "code",
   "execution_count": 35,
   "metadata": {},
   "outputs": [
    {
     "data": {
      "text/plain": [
       "array([1., 4., 9.])"
      ]
     },
     "execution_count": 35,
     "metadata": {},
     "output_type": "execute_result"
    }
   ],
   "source": [
    "import cppimport\n",
    "\n",
    "ex6 = cppimport.imp(\"ex6\")\n",
    "ex6.square([1,2,3])"
   ]
  },
  {
   "cell_type": "code",
   "execution_count": 36,
   "metadata": {},
   "outputs": [
    {
     "data": {
      "text/plain": [
       "array([ 4., 16., 36.])"
      ]
     },
     "execution_count": 36,
     "metadata": {},
     "output_type": "execute_result"
    }
   ],
   "source": [
    "import ex7\n",
    "\n",
    "ex7.square([2,4,6])"
   ]
  },
  {
   "cell_type": "markdown",
   "metadata": {},
   "source": [
    "## Example 7: Using `numpy` arrays as function arguments and return values\n",
    "\n",
    "Example showing how to pass `numpy` arrays in and out of functions. These `numpy` array arguments can either be generic `py:array` or typed `py:array_t<double>`. The properties of the `numpy` array can be obtained by calling its `request` method. This returns a `struct` of the following form:\n",
    "\n",
    "```c++\n",
    "struct buffer_info {\n",
    "    void *ptr;\n",
    "    size_t itemsize;\n",
    "    std::string format;\n",
    "    int ndim;\n",
    "    std::vector<size_t> shape;\n",
    "    std::vector<size_t> strides;\n",
    "};\n",
    "```\n",
    "\n",
    "Here is C++ code for two functions - the function `twice` shows how to change a passed in `numpy` array in-place using pointers; the function `sum` shows how to sum the elements of a `numpy` array. By taking advantage of the information in `buffer_info`, the code will work for arbitrary `n-d` arrays."
   ]
  },
  {
   "cell_type": "code",
   "execution_count": 37,
   "metadata": {},
   "outputs": [
    {
     "name": "stdout",
     "output_type": "stream",
     "text": [
      "Overwriting ex7.cpp\n"
     ]
    }
   ],
   "source": [
    "%%file ex7.cpp\n",
    "<%\n",
    "cfg['compiler_args'] = ['-std=c++11']\n",
    "setup_pybind11(cfg)\n",
    "%>\n",
    "\n",
    "#include <pybind11/pybind11.h>\n",
    "#include <pybind11/numpy.h>\n",
    "\n",
    "namespace py = pybind11;\n",
    "\n",
    "// Passing in an array of doubles\n",
    "void twice(py::array_t<double> xs) {\n",
    "    py::buffer_info info = xs.request();\n",
    "    auto ptr = static_cast<double *>(info.ptr);\n",
    "\n",
    "    int n = 1;\n",
    "    for (auto r: info.shape) {\n",
    "      n *= r;\n",
    "    }\n",
    "\n",
    "    for (int i = 0; i <n; i++) {\n",
    "        *ptr++ *= 2;\n",
    "    }\n",
    "}\n",
    "\n",
    "// Passing in a generic array\n",
    "double sum(py::array xs) {\n",
    "    py::buffer_info info = xs.request();\n",
    "    auto ptr = static_cast<double *>(info.ptr);\n",
    "\n",
    "    int n = 1;\n",
    "    for (auto r: info.shape) {\n",
    "      n *= r;\n",
    "    }\n",
    "\n",
    "    double s = 0.0;\n",
    "    for (int i = 0; i <n; i++) {\n",
    "        s += *ptr++;\n",
    "    }\n",
    "\n",
    "    return s;\n",
    "}\n",
    "\n",
    "PYBIND11_MODULE(ex7, m) {\n",
    "    m.doc() = \"auto-compiled c++ extension\";\n",
    "    m.def(\"sum\", &sum);\n",
    "    m.def(\"twice\", &twice);\n",
    "}"
   ]
  },
  {
   "cell_type": "code",
   "execution_count": 38,
   "metadata": {},
   "outputs": [
    {
     "name": "stdout",
     "output_type": "stream",
     "text": [
      "Writing test_code.py\n"
     ]
    }
   ],
   "source": [
    "%%file test_code.py\n",
    "import cppimport\n",
    "import numpy as np\n",
    "\n",
    "ex7 = cppimport.imp(\"ex7\")\n",
    "\n",
    "if __name__ == '__main__':\n",
    "    xs = np.arange(12).reshape(3,4).astype('float')\n",
    "    print(xs)\n",
    "    print(\"np :\", xs.sum())\n",
    "    print(\"cpp:\", ex7.sum(xs))\n",
    "\n",
    "    print()\n",
    "    ex7.twice(xs)\n",
    "    print(xs)"
   ]
  },
  {
   "cell_type": "code",
   "execution_count": 39,
   "metadata": {},
   "outputs": [
    {
     "name": "stdout",
     "output_type": "stream",
     "text": [
      "[[ 0.  1.  2.  3.]\n",
      " [ 4.  5.  6.  7.]\n",
      " [ 8.  9. 10. 11.]]\n",
      "('np :', 66.0)\n",
      "('cpp:', 66.0)\n",
      "()\n",
      "[[ 0.  2.  4.  6.]\n",
      " [ 8. 10. 12. 14.]\n",
      " [16. 18. 20. 22.]]\n"
     ]
    }
   ],
   "source": [
    "%%bash\n",
    "\n",
    "python test_code.py"
   ]
  },
  {
   "cell_type": "markdown",
   "metadata": {},
   "source": [
    "## Example 8: More on working with `numpy` arrays (optional)\n",
    "\n",
    "This example shows how to use array access for `numpy` arrays within the C++ function. It is taken from the `pybind11` documentation, but fixes a small bug in the official version. As noted in the documentation, the function would be more easily coded using `py::vectorize`."
   ]
  },
  {
   "cell_type": "code",
   "execution_count": 40,
   "metadata": {},
   "outputs": [
    {
     "name": "stdout",
     "output_type": "stream",
     "text": [
      "Writing ex8.cpp\n"
     ]
    }
   ],
   "source": [
    "%%file ex8.cpp\n",
    "<%\n",
    "cfg['compiler_args'] = ['-std=c++11']\n",
    "setup_pybind11(cfg)\n",
    "%>\n",
    "\n",
    "#include <pybind11/pybind11.h>\n",
    "#include <pybind11/numpy.h>\n",
    "\n",
    "namespace py = pybind11;\n",
    "\n",
    "py::array_t<double> add_arrays(py::array_t<double> input1, py::array_t<double> input2) {\n",
    "    auto buf1 = input1.request(), buf2 = input2.request();\n",
    "\n",
    "    if (buf1.ndim != 1 || buf2.ndim != 1)\n",
    "        throw std::runtime_error(\"Number of dimensions must be one\");\n",
    "\n",
    "    if (buf1.shape[0] != buf2.shape[0])\n",
    "        throw std::runtime_error(\"Input shapes must match\");\n",
    "\n",
    "    auto result = py::array(py::buffer_info(\n",
    "        nullptr,            /* Pointer to data (nullptr -> ask NumPy to allocate!) */\n",
    "        sizeof(double),     /* Size of one item */\n",
    "        py::format_descriptor<double>::value, /* Buffer format */\n",
    "        buf1.ndim,          /* How many dimensions? */\n",
    "        { buf1.shape[0] },  /* Number of elements for each dimension */\n",
    "        { sizeof(double) }  /* Strides for each dimension */\n",
    "    ));\n",
    "\n",
    "    auto buf3 = result.request();\n",
    "\n",
    "    double *ptr1 = (double *) buf1.ptr,\n",
    "           *ptr2 = (double *) buf2.ptr,\n",
    "           *ptr3 = (double *) buf3.ptr;\n",
    "\n",
    "    for (size_t idx = 0; idx < buf1.shape[0]; idx++)\n",
    "        ptr3[idx] = ptr1[idx] + ptr2[idx];\n",
    "\n",
    "    return result;\n",
    "}\n",
    "\n",
    "PYBIND11_MODULE(ex8, m) {\n",
    "    m.def(\"add_arrays\", &add_arrays, \"Add two NumPy arrays\");\n",
    "}"
   ]
  },
  {
   "cell_type": "code",
   "execution_count": 41,
   "metadata": {},
   "outputs": [
    {
     "name": "stdout",
     "output_type": "stream",
     "text": [
      "[ 0  1  2  3  4  5  6  7  8  9 10 11]\n",
      "[ 0.  2.  4.  6.  8. 10. 12. 14. 16. 18. 20. 22.]\n"
     ]
    }
   ],
   "source": [
    "import cppimport\n",
    "import numpy as np\n",
    "\n",
    "code = cppimport.imp(\"ex8\")\n",
    "\n",
    "xs = np.arange(12)\n",
    "print(xs)\n",
    "\n",
    "print(code.add_arrays(xs, xs))"
   ]
  },
  {
   "cell_type": "markdown",
   "metadata": {},
   "source": [
    "## Example 9: Using the C++ `eigen` library to calculate matrix inverse and determinant\n",
    "\n",
    "Example showing how `Eigen` vectors and matrices can be passed in and out of C++ functions. Note that `Eigen` arrays are automatically converted to/from `numpy` arrays simply by including the `pybind/eigen.h` header. Because of this, it is probably simplest in most cases to work with `Eigen` vectors and matrices rather than `py::buffer` or `py::array` where `py::vectorize` is insufficient.\n",
    "\n",
    "\n",
    "**Note**: When working with matrices, you can make code using `eigen` more efficient by ensuring that the eigen Matrix and numpy array have the same data types and storage layout, and using the Eigen::Ref class to pass in arguments.  By default, numpy stores data in row major format while Eigen stores data in column major format, and this incompatibility triggers a copy which can be expensive for large matrices. There are basically 3 ways to make pass by reference work:\n",
    "\n",
    "1. Use Eigen reference with arbitrary storage order\n",
    "\n",
    "`Eigen::Ref<MatrixType, 0, Eigen::Stride<Eigen::Dynamic, Eigen::Dynamic>>`\n",
    "2. Use Eigen row order matrices\n",
    "\n",
    "`Eigen::Matrix<double, Eigen::Dynamic, Eigen::Dynamic, Eigen::RowMajor>`\n",
    "3. Create numpy arrays with column order\n",
    "\n",
    "`np.array(data, order='F')`\n",
    "\n",
    "This is an advanced topic that you can explore in the [docs](https://pybind11.readthedocs.io/en/stable/advanced/cast/eigen.html?highlight=eigen#pass-by-reference)."
   ]
  },
  {
   "cell_type": "code",
   "execution_count": 44,
   "metadata": {},
   "outputs": [
    {
     "name": "stdout",
     "output_type": "stream",
     "text": [
      "Overwriting ex9.cpp\n"
     ]
    }
   ],
   "source": [
    "%%file ex9.cpp\n",
    "<%\n",
    "cfg['compiler_args'] = ['-std=c++11']\n",
    "cfg['include_dirs'] = ['eigen']\n",
    "setup_pybind11(cfg)\n",
    "%>\n",
    "\n",
    "#include <pybind11/pybind11.h>\n",
    "#include <pybind11/eigen.h>\n",
    "\n",
    "#include <Eigen/LU>\n",
    "\n",
    "namespace py = pybind11;\n",
    "\n",
    "// convenient matrix indexing comes for free\n",
    "double get(Eigen::MatrixXd xs, int i, int j) {\n",
    "    return xs(i, j);\n",
    "}\n",
    "\n",
    "// takes numpy array as input and returns double\n",
    "double det(Eigen::MatrixXd xs) {\n",
    "    return xs.determinant();\n",
    "}\n",
    "\n",
    "// takes numpy array as input and returns another numpy array\n",
    "Eigen::MatrixXd inv(Eigen::MatrixXd xs) {\n",
    "    return xs.inverse();\n",
    "}\n",
    "\n",
    "PYBIND11_MODULE(ex9, m) {\n",
    "    m.doc() = \"auto-compiled c++ extension\";\n",
    "    m.def(\"inv\", &inv);\n",
    "    m.def(\"det\", &det);\n",
    "}"
   ]
  },
  {
   "cell_type": "code",
   "execution_count": 45,
   "metadata": {},
   "outputs": [
    {
     "name": "stdout",
     "output_type": "stream",
     "text": [
      "[[ 1  2  1]\n",
      " [ 2  1  0]\n",
      " [-1  1  2]]\n",
      "-3.0\n",
      "[[-0.66666667  1.          0.33333333]\n",
      " [ 1.33333333 -1.         -0.66666667]\n",
      " [-1.          1.          1.        ]]\n"
     ]
    }
   ],
   "source": [
    "import cppimport\n",
    "import numpy as np\n",
    "\n",
    "code = cppimport.imp(\"ex9\")\n",
    "\n",
    "A = np.array([[1,2,1],\n",
    "              [2,1,0],\n",
    "              [-1,1,2]])\n",
    "\n",
    "print(A)\n",
    "print(code.det(A))\n",
    "print(code.inv(A))"
   ]
  },
  {
   "cell_type": "markdown",
   "metadata": {},
   "source": [
    "## Example 10: Using `pybind11` with `openmp` (optional)"
   ]
  },
  {
   "cell_type": "markdown",
   "metadata": {},
   "source": [
    "Here is an example of using OpenMP to integrate the value of $\\pi$ written using `pybind11`."
   ]
  },
  {
   "cell_type": "code",
   "execution_count": 46,
   "metadata": {},
   "outputs": [
    {
     "name": "stdout",
     "output_type": "stream",
     "text": [
      "Writing ex10.cpp\n"
     ]
    }
   ],
   "source": [
    "%%file ex10.cpp\n",
    "/*\n",
    "<%\n",
    "cfg['compiler_args'] = ['-std=c++11', '-fopenmp']\n",
    "cfg['linker_args'] = ['-lgomp']\n",
    "setup_pybind11(cfg)\n",
    "%>\n",
    "*/\n",
    "#include <cmath>\n",
    "#include <omp.h>\n",
    "#include <pybind11/pybind11.h>\n",
    "#include <pybind11/numpy.h>\n",
    "\n",
    "namespace py = pybind11;\n",
    "\n",
    "// Passing in an array of doubles\n",
    "void twice(py::array_t<double> xs) {\n",
    "    py::gil_scoped_acquire acquire;\n",
    "    \n",
    "    py::buffer_info info = xs.request();\n",
    "    auto ptr = static_cast<double *>(info.ptr);\n",
    "\n",
    "    int n = 1;\n",
    "    for (auto r: info.shape) {\n",
    "      n *= r;\n",
    "    }\n",
    "\n",
    "    #pragma omp parallel for\n",
    "    for (int i = 0; i <n; i++) {\n",
    "        *ptr++ *= 2;\n",
    "    }\n",
    "}  \n",
    "\n",
    "PYBIND11_MODULE(ex10, m) {\n",
    "  m.doc() = \"auto-compiled c++ extension\";\n",
    "  m.def(\"twice\", [](py::array_t<double> xs) {\n",
    "      /* Release GIL before calling into C++ code */      \n",
    "      py::gil_scoped_release release;\n",
    "      return twice(xs);\n",
    "    });\n",
    "}"
   ]
  },
  {
   "cell_type": "code",
   "execution_count": 48,
   "metadata": {},
   "outputs": [
    {
     "data": {
      "text/plain": [
       "array([ 0.,  2.,  8.,  6.,  8., 10., 12., 14., 16.,  9.])"
      ]
     },
     "execution_count": 48,
     "metadata": {},
     "output_type": "execute_result"
    }
   ],
   "source": [
    "import cppimport\n",
    "import numpy as np\n",
    "\n",
    "code = cppimport.imp(\"ex10\")\n",
    "xs = np.arange(10).astype('double')\n",
    "code.twice(xs)\n",
    "xs"
   ]
  },
  {
   "cell_type": "code",
   "execution_count": null,
   "metadata": {},
   "outputs": [],
   "source": []
  }
 ],
 "metadata": {
  "kernelspec": {
   "display_name": "Python 3 (ipykernel)",
   "language": "python",
   "name": "python3"
  },
  "language_info": {
   "codemirror_mode": {
    "name": "ipython",
    "version": 3
   },
   "file_extension": ".py",
   "mimetype": "text/x-python",
   "name": "python",
   "nbconvert_exporter": "python",
   "pygments_lexer": "ipython3",
   "version": "3.8.11"
  },
  "latex_envs": {
   "bibliofile": "biblio.bib",
   "cite_by": "apalike",
   "current_citInitial": 1,
   "eqLabelWithNumbers": true,
   "eqNumInitial": 0
  }
 },
 "nbformat": 4,
 "nbformat_minor": 1
}
