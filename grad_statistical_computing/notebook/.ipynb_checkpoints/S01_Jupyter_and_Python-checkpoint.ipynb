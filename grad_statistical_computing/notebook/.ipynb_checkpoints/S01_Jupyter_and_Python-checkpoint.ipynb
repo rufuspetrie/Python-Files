{
 "cells": [
  {
   "cell_type": "markdown",
   "metadata": {},
   "source": [
    "# Crash course in Jupyter and Python\n",
    "\n",
    "- Introduction to Jupyter\n",
    "    - Using Markdown\n",
    "    - Magic functions\n",
    "    - REPL\n",
    "    - Saving and exporting Jupyter notebooks\n",
    "- Python\n",
    "    - Data types\n",
    "    - Operators\n",
    "    - Collections\n",
    "    - Functions and methods\n",
    "    - Control flow\n",
    "    - Loops, comprehension\n",
    "    - Packages and namespace\n",
    "    - Coding style\n",
    "    - Understanding error messages\n",
    "    - Getting help"
   ]
  },
  {
   "cell_type": "markdown",
   "metadata": {},
   "source": [
    "## Class Repository\n",
    "\n",
    "Course material will be posted here. Please make any personal modifications to a **copy** of the notebook to avoid merge conflicts.\n",
    "\n",
    "https://github.com/cliburn/sta-663-2019.git"
   ]
  },
  {
   "cell_type": "markdown",
   "metadata": {},
   "source": [
    "## Introduction to Jupyter\n",
    "\n",
    "- [Official Jupyter docs](https://jupyter.readthedocs.io/en/latest/)\n",
    "- User interface and kernels\n",
    "- Notebook, editor, terminal\n",
    "- Literate programming\n",
    "- Code and markdown cells\n",
    "- Menu and toolbar\n",
    "- Key bindings\n",
    "- Polyglot programming"
   ]
  },
  {
   "cell_type": "code",
   "execution_count": null,
   "metadata": {},
   "outputs": [],
   "source": []
  },
  {
   "cell_type": "markdown",
   "metadata": {},
   "source": [
    "### Using Markdown\n",
    "\n",
    "- What is markdown?\n",
    "- Headers\n",
    "- Formatting text\n",
    "- Syntax-highlighted code\n",
    "- Lists\n",
    "- Hyperlinks and images\n",
    "- LaTeX"
   ]
  },
  {
   "cell_type": "code",
   "execution_count": null,
   "metadata": {},
   "outputs": [],
   "source": []
  },
  {
   "cell_type": "markdown",
   "metadata": {},
   "source": [
    "### Magic functions\n",
    "\n",
    "- [List of magic functions](https://ipython.readthedocs.io/en/stable/interactive/magics.html)\n",
    "- `%magic`\n",
    "- Shell access\n",
    "- Convenience functions\n",
    "- Quick and dirty text files"
   ]
  },
  {
   "cell_type": "code",
   "execution_count": 3,
   "metadata": {},
   "outputs": [],
   "source": []
  },
  {
   "cell_type": "markdown",
   "metadata": {},
   "source": [
    "### REPL\n",
    "\n",
    "- Read, Eval, Print, Loop\n",
    "- Learn by experimentation"
   ]
  },
  {
   "cell_type": "code",
   "execution_count": null,
   "metadata": {},
   "outputs": [],
   "source": []
  },
  {
   "cell_type": "markdown",
   "metadata": {},
   "source": [
    "### Saving and exporting Jupyter notebooks\n",
    "\n",
    "- The File menu item\n",
    "- Save and Checkpoint\n",
    "- Exporting\n",
    "- Close and Halt\n",
    "- Cleaning up with the Running tab"
   ]
  },
  {
   "cell_type": "code",
   "execution_count": null,
   "metadata": {},
   "outputs": [],
   "source": []
  },
  {
   "cell_type": "markdown",
   "metadata": {},
   "source": [
    "## Introduction to Python\n",
    "\n",
    "- [Official Python docs](https://docs.python.org/3/)\n",
    "- [Why Python?](https://insights.stackoverflow.com/trends?tags=python%2Cjavascript%2Cjava%2Cc%2B%2B%2Cr%2Cjulia-lang%2Cscala&utm_source=so-owned&utm_medium=blog&utm_campaign=gen-blog&utm_content=blog-link&utm_term=incredible-growth-python)\n",
    "- General purpose language (web, databases, introductory programming classes)\n",
    "- Language for scientific computation (physics, engineering, statistics, ML, AI)\n",
    "- Human readable\n",
    "- Interpreted\n",
    "- Dynamic typing\n",
    "- Strong typing\n",
    "- Multi-paradigm\n",
    "- Implementations (CPython, PyPy, Jython, IronPython)"
   ]
  },
  {
   "cell_type": "code",
   "execution_count": null,
   "metadata": {},
   "outputs": [],
   "source": []
  },
  {
   "cell_type": "markdown",
   "metadata": {},
   "source": [
    "### Data types\n",
    "\n",
    "- boolean \n",
    "- int, double, complex\n",
    "- strings\n",
    "- None"
   ]
  },
  {
   "cell_type": "code",
   "execution_count": null,
   "metadata": {},
   "outputs": [],
   "source": []
  },
  {
   "cell_type": "markdown",
   "metadata": {},
   "source": [
    "### Operators\n",
    "\n",
    "- mathematical\n",
    "- logical\n",
    "- bitwise\n",
    "- membership\n",
    "- identity\n",
    "- assignment and in-place operators\n",
    "- operator precedence"
   ]
  },
  {
   "cell_type": "code",
   "execution_count": null,
   "metadata": {},
   "outputs": [],
   "source": []
  },
  {
   "cell_type": "markdown",
   "metadata": {},
   "source": [
    "### Collections\n",
    "\n",
    "- Sequence containers - list, tuple\n",
    "- Mapping containers - set, dict\n",
    "- The [`collections`](https://docs.python.org/2/library/collections.html) module"
   ]
  },
  {
   "cell_type": "code",
   "execution_count": null,
   "metadata": {},
   "outputs": [],
   "source": []
  },
  {
   "cell_type": "markdown",
   "metadata": {},
   "source": [
    "### Functions and methods\n",
    "\n",
    "- Anatomy of a function\n",
    "- Docstrings\n",
    "- Class methods"
   ]
  },
  {
   "cell_type": "markdown",
   "metadata": {},
   "source": [
    "### Control flow\n",
    "\n",
    "- if and the ternary operator\n",
    "- Checking conditions - what evaluates as true/false?\n",
    "- if-elif-else\n",
    "- while\n",
    "- break, continue\n",
    "- pass"
   ]
  },
  {
   "cell_type": "code",
   "execution_count": null,
   "metadata": {},
   "outputs": [],
   "source": []
  },
  {
   "cell_type": "markdown",
   "metadata": {},
   "source": [
    "### Loops and comprehensions\n",
    "\n",
    "- for, range, enumerate\n",
    "- lazy and eager evaluation\n",
    "- list, set, dict comprehensions\n",
    "- generator expression"
   ]
  },
  {
   "cell_type": "code",
   "execution_count": null,
   "metadata": {},
   "outputs": [],
   "source": []
  },
  {
   "cell_type": "markdown",
   "metadata": {},
   "source": [
    "### Packages and namespace\n",
    "\n",
    "- Modules (file)\n",
    "- Package (hierarchical modules)\n",
    "- Namespace and naming conflicts\n",
    "- Using `import`\n",
    "- [Batteries included](https://docs.python.org/3/library/index.html)"
   ]
  },
  {
   "cell_type": "code",
   "execution_count": null,
   "metadata": {},
   "outputs": [],
   "source": []
  },
  {
   "cell_type": "markdown",
   "metadata": {},
   "source": [
    "### Coding style\n",
    "\n",
    "- [PEP 8 — the Style Guide for Python Code](https://pep8.org/)\n"
   ]
  },
  {
   "cell_type": "code",
   "execution_count": null,
   "metadata": {},
   "outputs": [],
   "source": []
  },
  {
   "cell_type": "markdown",
   "metadata": {},
   "source": [
    "### Understanding error messages\n",
    "\n",
    "- [Built-in exceptions](https://docs.python.org/3/library/exceptions.html)"
   ]
  },
  {
   "cell_type": "code",
   "execution_count": null,
   "metadata": {},
   "outputs": [],
   "source": []
  },
  {
   "cell_type": "markdown",
   "metadata": {},
   "source": [
    "### Getting help\n",
    "\n",
    "- `?foo`, `foo?`, `help(foo)`\n",
    "- Use a search engine\n",
    "- Use `StackOverflow`\n",
    "- Ask your TA"
   ]
  },
  {
   "cell_type": "code",
   "execution_count": null,
   "metadata": {},
   "outputs": [],
   "source": []
  }
 ],
 "metadata": {
  "kernelspec": {
   "display_name": "Python 3 (ipykernel)",
   "language": "python",
   "name": "python3"
  },
  "language_info": {
   "codemirror_mode": {
    "name": "ipython",
    "version": 3
   },
   "file_extension": ".py",
   "mimetype": "text/x-python",
   "name": "python",
   "nbconvert_exporter": "python",
   "pygments_lexer": "ipython3",
   "version": "3.8.11"
  }
 },
 "nbformat": 4,
 "nbformat_minor": 2
}
