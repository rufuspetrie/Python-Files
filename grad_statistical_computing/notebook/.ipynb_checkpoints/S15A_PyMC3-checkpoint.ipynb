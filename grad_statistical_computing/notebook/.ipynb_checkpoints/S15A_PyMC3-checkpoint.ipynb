{
 "cells": [
  {
   "cell_type": "markdown",
   "metadata": {},
   "source": [
    "# Using PyMC3\n",
    "\n",
    "PyMC3 is a Python package for doing MCMC using a variety of samplers, including Metropolis, Slice and Hamiltonian Monte Carlo. See [Probabilistic Programming in Python using PyMC](http://arxiv.org/abs/1507.08050) for a description. The GitHub [site](https://github.com/pymc-devs/pymc3) also has many examples and links for further exploration."
   ]
  },
  {
   "cell_type": "markdown",
   "metadata": {},
   "source": [
    "```bash\n",
    "! pip install --quiet arviz\n",
    "! pip install --quiet pymc3\n",
    "! pip install --quiet daft\n",
    "! pip install --quiet seaborn\n",
    "```"
   ]
  },
  {
   "cell_type": "markdown",
   "metadata": {},
   "source": [
    "```bash\n",
    "! conda install --yes --quiet mkl-service\n",
    "```"
   ]
  },
  {
   "cell_type": "code",
   "execution_count": 1,
   "metadata": {},
   "outputs": [],
   "source": [
    "import warnings\n",
    "\n",
    "warnings.simplefilter('ignore', UserWarning)"
   ]
  },
  {
   "cell_type": "markdown",
   "metadata": {},
   "source": [
    "**Other resources**\n",
    "\n",
    "Some examples are adapted from:\n",
    "\n",
    "- [Probabilistic Programming & Bayesian Methods for Hackers](http://camdavidsonpilon.github.io/Probabilistic-Programming-and-Bayesian-Methods-for-Hackers/)\n",
    "- [MCMC tutorial series](https://theclevermachine.wordpress.com/2012/11/19/a-gentle-introduction-to-markov-chain-monte-carlo-mcmc/)"
   ]
  },
  {
   "cell_type": "code",
   "execution_count": 2,
   "metadata": {},
   "outputs": [],
   "source": [
    "%matplotlib inline"
   ]
  },
  {
   "cell_type": "code",
   "execution_count": 3,
   "metadata": {},
   "outputs": [
    {
     "name": "stderr",
     "output_type": "stream",
     "text": [
      "/Users/cliburn/anaconda3/lib/python3.6/site-packages/dask/config.py:168: YAMLLoadWarning: calling yaml.load() without Loader=... is deprecated, as the default Loader is unsafe. Please read https://msg.pyyaml.org/load for full details.\n",
      "  data = yaml.load(f.read()) or {}\n",
      "/Users/cliburn/anaconda3/lib/python3.6/site-packages/distributed/config.py:20: YAMLLoadWarning: calling yaml.load() without Loader=... is deprecated, as the default Loader is unsafe. Please read https://msg.pyyaml.org/load for full details.\n",
      "  defaults = yaml.load(f)\n"
     ]
    }
   ],
   "source": [
    "import numpy as np\n",
    "import numpy.random as rng\n",
    "import matplotlib.pyplot as plt\n",
    "import seaborn as sns\n",
    "import pandas as pd\n",
    "import pymc3 as pm\n",
    "import scipy.stats as stats\n",
    "import daft\n",
    "import arviz as az"
   ]
  },
  {
   "cell_type": "code",
   "execution_count": 4,
   "metadata": {},
   "outputs": [],
   "source": [
    "import theano\n",
    "theano.config.warn.round=False"
   ]
  },
  {
   "cell_type": "code",
   "execution_count": 5,
   "metadata": {},
   "outputs": [],
   "source": [
    "sns.set_context('notebook')\n",
    "plt.style.use('seaborn-darkgrid')"
   ]
  },
  {
   "cell_type": "markdown",
   "metadata": {},
   "source": [
    "## Introduction to PyMC3"
   ]
  },
  {
   "cell_type": "markdown",
   "metadata": {},
   "source": [
    "### Distributions in pymc3"
   ]
  },
  {
   "cell_type": "code",
   "execution_count": 6,
   "metadata": {},
   "outputs": [
    {
     "name": "stdout",
     "output_type": "stream",
     "text": [
      "AR\n",
      "AR1\n",
      "Bernoulli\n",
      "Beta\n",
      "BetaBinomial\n",
      "Binomial\n",
      "Bound\n",
      "Categorical\n",
      "Cauchy\n",
      "ChiSquared\n",
      "Constant\n",
      "ConstantDist\n",
      "Continuous\n",
      "DensityDist\n",
      "Dirichlet\n",
      "Discrete\n",
      "DiscreteUniform\n",
      "DiscreteWeibull\n",
      "Distribution\n",
      "ExGaussian\n",
      "Exponential\n",
      "Flat\n",
      "GARCH11\n",
      "Gamma\n",
      "GaussianRandomWalk\n",
      "Geometric\n",
      "Gumbel\n",
      "HalfCauchy\n",
      "HalfFlat\n",
      "HalfNormal\n",
      "HalfStudentT\n",
      "Interpolated\n",
      "InverseGamma\n",
      "KroneckerNormal\n",
      "Kumaraswamy\n",
      "LKJCholeskyCov\n",
      "LKJCorr\n",
      "Laplace\n",
      "Logistic\n",
      "LogitNormal\n",
      "Lognormal\n",
      "MatrixNormal\n",
      "Mixture\n",
      "Multinomial\n",
      "MvGaussianRandomWalk\n",
      "MvNormal\n",
      "MvStudentT\n",
      "MvStudentTRandomWalk\n",
      "NegativeBinomial\n",
      "NoDistribution\n",
      "Normal\n",
      "NormalMixture\n",
      "OrderedLogistic\n",
      "Pareto\n",
      "Poisson\n",
      "Rice\n",
      "SkewNormal\n",
      "StudentT\n",
      "TensorType\n",
      "Triangular\n",
      "TruncatedNormal\n",
      "Uniform\n",
      "VonMises\n",
      "Wald\n",
      "Weibull\n",
      "Wishart\n",
      "WishartBartlett\n",
      "ZeroInflatedBinomial\n",
      "ZeroInflatedNegativeBinomial\n",
      "ZeroInflatedPoisson\n"
     ]
    }
   ],
   "source": [
    "print('\\n'.join([d for d in dir(pm.distributions) if d[0].isupper()]))"
   ]
  },
  {
   "cell_type": "code",
   "execution_count": 7,
   "metadata": {},
   "outputs": [],
   "source": [
    "d = pm.Normal.dist(mu=0, sd=1)"
   ]
  },
  {
   "cell_type": "code",
   "execution_count": 8,
   "metadata": {},
   "outputs": [
    {
     "data": {
      "text/latex": [
       "$\\text{None} \\sim \\text{Normal}(\\mathit{mu}=0,~\\mathit{sd}=1.0)$"
      ],
      "text/plain": [
       "<pymc3.distributions.continuous.Normal at 0x11fc118d0>"
      ]
     },
     "execution_count": 8,
     "metadata": {},
     "output_type": "execute_result"
    }
   ],
   "source": [
    "d.dist()"
   ]
  },
  {
   "cell_type": "markdown",
   "metadata": {},
   "source": [
    "Random samples"
   ]
  },
  {
   "cell_type": "code",
   "execution_count": 9,
   "metadata": {},
   "outputs": [
    {
     "data": {
      "text/plain": [
       "array([-1.04374916,  0.82779499,  0.63210758, -1.25758947,  0.54865016])"
      ]
     },
     "execution_count": 9,
     "metadata": {},
     "output_type": "execute_result"
    }
   ],
   "source": [
    "d.random(size=5)"
   ]
  },
  {
   "cell_type": "markdown",
   "metadata": {},
   "source": [
    "Log probability"
   ]
  },
  {
   "cell_type": "code",
   "execution_count": 10,
   "metadata": {},
   "outputs": [
    {
     "data": {
      "text/plain": [
       "array(-0.91893853)"
      ]
     },
     "execution_count": 10,
     "metadata": {},
     "output_type": "execute_result"
    }
   ],
   "source": [
    "d.logp(0).eval()"
   ]
  },
  {
   "cell_type": "markdown",
   "metadata": {},
   "source": [
    "#### Custom distributions\n",
    "\n",
    "The pymc3 algorithms generally only work with the log probability of a distribution. Hence it is easy to define custom distributions to use in your models by providing a `logp` function."
   ]
  },
  {
   "cell_type": "code",
   "execution_count": 11,
   "metadata": {},
   "outputs": [],
   "source": [
    "def logp(x, μ=0, σ=1):\n",
    "    \"\"\"Normal distribtuion.\"\"\"\n",
    "    return -0.5*np.log(2*np.pi) - np.log(σ) - (x-μ)**2/(2*σ**2)"
   ]
  },
  {
   "cell_type": "code",
   "execution_count": 12,
   "metadata": {},
   "outputs": [],
   "source": [
    "d = pm.DensityDist.dist(logp)"
   ]
  },
  {
   "cell_type": "code",
   "execution_count": 13,
   "metadata": {},
   "outputs": [
    {
     "data": {
      "text/plain": [
       "-0.9189385332046727"
      ]
     },
     "execution_count": 13,
     "metadata": {},
     "output_type": "execute_result"
    }
   ],
   "source": [
    "d.logp(0)"
   ]
  },
  {
   "cell_type": "markdown",
   "metadata": {},
   "source": [
    "## Example: Estimating coin bias\n",
    "\n",
    "We start with the simplest model - that of determining the bias of a coin from observed outcomes."
   ]
  },
  {
   "cell_type": "markdown",
   "metadata": {},
   "source": [
    "### Setting up the model    "
   ]
  },
  {
   "cell_type": "code",
   "execution_count": 14,
   "metadata": {},
   "outputs": [],
   "source": [
    "n = 100\n",
    "heads = 61"
   ]
  },
  {
   "cell_type": "markdown",
   "metadata": {},
   "source": [
    "#### Analytical solution"
   ]
  },
  {
   "cell_type": "code",
   "execution_count": 15,
   "metadata": {},
   "outputs": [
    {
     "data": {
      "image/png": "[encoded data removed]",
      "text/plain": [
       "<Figure size 432x288 with 1 Axes>"
      ]
     },
     "metadata": {},
     "output_type": "display_data"
    }
   ],
   "source": [
    "a, b = 10, 10\n",
    "prior = stats.beta(a, b)\n",
    "post = stats.beta(heads+a, n-heads+b)\n",
    "ci = post.interval(0.95)\n",
    "\n",
    "xs = np.linspace(0, 1, 100)\n",
    "plt.plot(prior.pdf(xs), label='Prior')\n",
    "plt.plot(post.pdf(xs), c='green', label='Posterior')\n",
    "plt.axvline(100*heads/n, c='red', alpha=0.4, label='MLE')\n",
    "plt.xlim([0, 100])\n",
    "plt.axhline(0.3, ci[0], ci[1], c='black', linewidth=2, label='95% CI');\n",
    "plt.legend()\n",
    "pass"
   ]
  },
  {
   "cell_type": "markdown",
   "metadata": {},
   "source": [
    "#### Graphical model"
   ]
  },
  {
   "cell_type": "code",
   "execution_count": 16,
   "metadata": {},
   "outputs": [
    {
     "data": {
      "image/png": "[encoded data removed]",
      "text/plain": [
       "<Figure size 141.732x170.079 with 1 Axes>"
      ]
     },
     "metadata": {},
     "output_type": "display_data"
    }
   ],
   "source": [
    "pgm = daft.PGM(shape=[2.5, 3.0], origin=[0, -0.5])\n",
    "\n",
    "pgm.add_node(daft.Node(\"alpha\", r\"$\\alpha$\", 0.5, 2, fixed=True))\n",
    "pgm.add_node(daft.Node(\"beta\", r\"$\\beta$\", 1.5, 2, fixed=True))\n",
    "pgm.add_node(daft.Node(\"p\", r\"$p$\", 1, 1))\n",
    "pgm.add_node(daft.Node(\"n\", r\"$n$\", 2, 0, fixed=True))\n",
    "pgm.add_node(daft.Node(\"y\", r\"$y$\", 1, 0, observed=True))\n",
    "\n",
    "pgm.add_edge(\"alpha\", \"p\")\n",
    "pgm.add_edge(\"beta\", \"p\")\n",
    "pgm.add_edge(\"n\", \"y\")\n",
    "pgm.add_edge(\"p\", \"y\")\n",
    "\n",
    "pgm.render()\n",
    "pass"
   ]
  },
  {
   "cell_type": "markdown",
   "metadata": {},
   "source": [
    "### The Model context\n",
    "\n",
    "When you specify a model, you are adding nodes to a computation graph. When executed, the graph is compiled via Theno. Hence, `pymc3` uses the Model context manager to automatically add new nodes."
   ]
  },
  {
   "cell_type": "code",
   "execution_count": 17,
   "metadata": {},
   "outputs": [
    {
     "name": "stderr",
     "output_type": "stream",
     "text": [
      "Auto-assigning NUTS sampler...\n",
      "Initializing NUTS using jitter+adapt_diag...\n",
      "Multiprocess sampling (2 chains in 2 jobs)\n",
      "NUTS: [p]\n",
      "Sampling 2 chains: 100%|██████████| 5000/5000 [00:03<00:00, 1456.13draws/s]\n"
     ]
    }
   ],
   "source": [
    "niter = 2000\n",
    "with pm.Model() as coin_context:\n",
    "    p = pm.Beta('p', alpha=2, beta=2)\n",
    "    y = pm.Binomial('y', n=n, p=p, observed=heads)\n",
    "    trace = pm.sample(niter)"
   ]
  },
  {
   "cell_type": "code",
   "execution_count": 18,
   "metadata": {},
   "outputs": [
    {
     "data": {
      "text/latex": [
       "$$\n",
       "            \\begin{array}{rcl}\n",
       "            \\text{p} &\\sim & \\text{Beta}(\\mathit{alpha}=2,~\\mathit{beta}=2)\\\\\\text{y} &\\sim & \\text{Binomial}(\\mathit{n}=100,~\\mathit{p}=\\text{p})\n",
       "            \\end{array}\n",
       "            $$"
      ],
      "text/plain": [
       "<pymc3.model.Model at 0x1c299bf4a8>"
      ]
     },
     "execution_count": 18,
     "metadata": {},
     "output_type": "execute_result"
    }
   ],
   "source": [
    "coin_context"
   ]
  },
  {
   "cell_type": "markdown",
   "metadata": {},
   "source": [
    "#### Transformed prior variables"
   ]
  },
  {
   "cell_type": "code",
   "execution_count": 19,
   "metadata": {},
   "outputs": [
    {
     "data": {
      "text/plain": [
       "[p_logodds__]"
      ]
     },
     "execution_count": 19,
     "metadata": {},
     "output_type": "execute_result"
    }
   ],
   "source": [
    "coin_context.free_RVs"
   ]
  },
  {
   "cell_type": "markdown",
   "metadata": {},
   "source": [
    "#### Prior variables"
   ]
  },
  {
   "cell_type": "code",
   "execution_count": 20,
   "metadata": {},
   "outputs": [
    {
     "data": {
      "text/plain": [
       "[p]"
      ]
     },
     "execution_count": 20,
     "metadata": {},
     "output_type": "execute_result"
    }
   ],
   "source": [
    "coin_context.deterministics"
   ]
  },
  {
   "cell_type": "markdown",
   "metadata": {},
   "source": [
    "#### Variables in likelihood"
   ]
  },
  {
   "cell_type": "code",
   "execution_count": 21,
   "metadata": {},
   "outputs": [
    {
     "data": {
      "text/plain": [
       "[y]"
      ]
     },
     "execution_count": 21,
     "metadata": {},
     "output_type": "execute_result"
    }
   ],
   "source": [
    "coin_context.observed_RVs"
   ]
  },
  {
   "cell_type": "markdown",
   "metadata": {},
   "source": [
    "### Under the hood"
   ]
  },
  {
   "cell_type": "markdown",
   "metadata": {},
   "source": [
    "### Theano\n",
    "\n",
    "Theano builds functions as mathematical expression graphs and compiles them into C for actual computation, making use of GPU resources where available.\n",
    "\n",
    "Performing calculations in Theano generally follows the following 3 steps (from official docs):\n",
    "\n",
    "- declare variables (a,b) and give their types\n",
    "- build expressions for how to put those variables together\n",
    "- compile expression graphs to functions in order to use them for computation."
   ]
  },
  {
   "cell_type": "code",
   "execution_count": 22,
   "metadata": {},
   "outputs": [],
   "source": [
    "import theano\n",
    "import theano.tensor as tt\n",
    "theano.config.compute_test_value = \"off\""
   ]
  },
  {
   "cell_type": "markdown",
   "metadata": {},
   "source": [
    "This part builds symbolic expressions."
   ]
  },
  {
   "cell_type": "code",
   "execution_count": 23,
   "metadata": {},
   "outputs": [],
   "source": [
    "a = tt.iscalar('a')\n",
    "b = tt.iscalar('x')\n",
    "c = a + b"
   ]
  },
  {
   "cell_type": "markdown",
   "metadata": {},
   "source": [
    "This step compiles a function whose inputs are [a, b] and outputs are [c]."
   ]
  },
  {
   "cell_type": "code",
   "execution_count": 24,
   "metadata": {},
   "outputs": [],
   "source": [
    "f = theano.function([a, b], [c])"
   ]
  },
  {
   "cell_type": "code",
   "execution_count": 25,
   "metadata": {},
   "outputs": [
    {
     "data": {
      "text/plain": [
       "<theano.compile.function_module.Function at 0x1c2a3d6fd0>"
      ]
     },
     "execution_count": 25,
     "metadata": {},
     "output_type": "execute_result"
    }
   ],
   "source": [
    "f"
   ]
  },
  {
   "cell_type": "code",
   "execution_count": 26,
   "metadata": {},
   "outputs": [
    {
     "data": {
      "text/plain": [
       "[array(7, dtype=int32)]"
      ]
     },
     "execution_count": 26,
     "metadata": {},
     "output_type": "execute_result"
    }
   ],
   "source": [
    "f(3, 4)"
   ]
  },
  {
   "cell_type": "markdown",
   "metadata": {},
   "source": [
    "Within a model context, \n",
    "\n",
    "- when you add an unbounded variable, it is defined as a Theano variable and added to the prior part of the log posterior function\n",
    "- when you add a bounded variable, a transformed version is defined as a Theano variable and and added to the log posterior function\n",
    "    - The inverse transformation is used to define the original variable - this is a deterministic variable\n",
    "- when you add an observed variable bound to data, the data is added to the likelihood part of the log posterior\n",
    "\n",
    "See [PyMC3 and Theano](https://docs.pymc.io/PyMC3_and_Theano.html) for details."
   ]
  },
  {
   "cell_type": "code",
   "execution_count": 27,
   "metadata": {
    "scrolled": false
   },
   "outputs": [
    {
     "name": "stdout",
     "output_type": "stream",
     "text": [
      "Help on function sample in module pymc3.sampling:\n",
      "\n",
      "sample(draws=500, step=None, init='auto', n_init=200000, start=None, trace=None, chain_idx=0, chains=None, cores=None, tune=500, nuts_kwargs=None, step_kwargs=None, progressbar=True, model=None, random_seed=None, live_plot=False, discard_tuned_samples=True, live_plot_kwargs=None, compute_convergence_checks=True, use_mmap=False, **kwargs)\n",
      "    Draw samples from the posterior using the given step methods.\n",
      "    \n",
      "    Multiple step methods are supported via compound step methods.\n",
      "    \n",
      "    Parameters\n",
      "    ----------\n",
      "    draws : int\n",
      "        The number of samples to draw. Defaults to 500. The number of tuned samples are discarded\n",
      "        by default. See discard_tuned_samples.\n",
      "    step : function or iterable of functions\n",
      "        A step function or collection of functions. If there are variables without a step methods,\n",
      "        step methods for those variables will be assigned automatically.\n",
      "    init : str\n",
      "        Initialization method to use for auto-assigned NUTS samplers.\n",
      "    \n",
      "        * auto : Choose a default initialization method automatically.\n",
      "          Currently, this is `'jitter+adapt_diag'`, but this can change in the future.\n",
      "          If you depend on the exact behaviour, choose an initialization method explicitly.\n",
      "        * adapt_diag : Start with a identity mass matrix and then adapt a diagonal based on the\n",
      "          variance of the tuning samples. All chains use the test value (usually the prior mean)\n",
      "          as starting point.\n",
      "        * jitter+adapt_diag : Same as `adapt_diag`, but add uniform jitter in [-1, 1] to the\n",
      "          starting point in each chain.\n",
      "        * advi+adapt_diag : Run ADVI and then adapt the resulting diagonal mass matrix based on the\n",
      "          sample variance of the tuning samples.\n",
      "        * advi+adapt_diag_grad : Run ADVI and then adapt the resulting diagonal mass matrix based\n",
      "          on the variance of the gradients during tuning. This is **experimental** and might be\n",
      "          removed in a future release.\n",
      "        * advi : Run ADVI to estimate posterior mean and diagonal mass matrix.\n",
      "        * advi_map: Initialize ADVI with MAP and use MAP as starting point.\n",
      "        * map : Use the MAP as starting point. This is discouraged.\n",
      "        * nuts : Run NUTS and estimate posterior mean and mass matrix from the trace.\n",
      "    n_init : int\n",
      "        Number of iterations of initializer. Only works for 'nuts' and 'ADVI'.\n",
      "        If 'ADVI', number of iterations, if 'nuts', number of draws.\n",
      "    start : dict, or array of dict\n",
      "        Starting point in parameter space (or partial point)\n",
      "        Defaults to trace.point(-1)) if there is a trace provided and model.test_point if not\n",
      "        (defaults to empty dict). Initialization methods for NUTS (see `init` keyword) can\n",
      "        overwrite the default. For 'SMC' if should be a list of dict with length `chains`.\n",
      "    trace : backend, list, or MultiTrace\n",
      "        This should be a backend instance, a list of variables to track, or a MultiTrace object\n",
      "        with past values. If a MultiTrace object is given, it must contain samples for the chain\n",
      "        number `chain`. If None or a list of variables, the NDArray backend is used.\n",
      "        Passing either \"text\" or \"sqlite\" is taken as a shortcut to set up the corresponding\n",
      "        backend (with \"mcmc\" used as the base name). Ignored when using 'SMC'.\n",
      "    chain_idx : int\n",
      "        Chain number used to store sample in backend. If `chains` is greater than one, chain\n",
      "        numbers will start here. Ignored when using 'SMC'.\n",
      "    chains : int\n",
      "        The number of chains to sample. Running independent chains is important for some\n",
      "        convergence statistics and can also reveal multiple modes in the posterior. If `None`,\n",
      "        then set to either `cores` or 2, whichever is larger. For SMC the number of chains is the\n",
      "        number of draws.\n",
      "    cores : int\n",
      "        The number of chains to run in parallel. If `None`, set to the number of CPUs in the\n",
      "        system, but at most 4 (for 'SMC' defaults to 1). Keep in mind that some chains might\n",
      "        themselves be multithreaded via openmp or BLAS. In those cases it might be faster to set\n",
      "        this to 1.\n",
      "    tune : int\n",
      "        Number of iterations to tune, defaults to 500. Ignored when using 'SMC'. Samplers adjust\n",
      "        the step sizes, scalings or similar during tuning. Tuning samples will be drawn in addition\n",
      "        to the number specified in the `draws` argument, and will be discarded unless\n",
      "        `discard_tuned_samples` is set to False.\n",
      "    nuts_kwargs : dict\n",
      "        Options for the NUTS sampler. See the docstring of NUTS for a complete list of options.\n",
      "        Common options are:\n",
      "    \n",
      "        * target_accept: float in [0, 1]. The step size is tuned such that we approximate this\n",
      "          acceptance rate. Higher values like 0.9 or 0.95 often work better for problematic\n",
      "          posteriors.\n",
      "        * max_treedepth: The maximum depth of the trajectory tree.\n",
      "        * step_scale: float, default 0.25\n",
      "          The initial guess for the step size scaled down by `1/n**(1/4)`.\n",
      "    \n",
      "        If you want to pass options to other step methods, please use `step_kwargs`.\n",
      "    step_kwargs : dict\n",
      "        Options for step methods. Keys are the lower case names of the step method, values are\n",
      "        dicts of keyword arguments. You can find a full list of arguments in the docstring of the\n",
      "        step methods. If you want to pass arguments only to nuts, you can use `nuts_kwargs`.\n",
      "    progressbar : bool\n",
      "        Whether or not to display a progress bar in the command line. The bar shows the percentage\n",
      "        of completion, the sampling speed in samples per second (SPS), and the estimated remaining\n",
      "        time until completion (\"expected time of arrival\"; ETA).\n",
      "    model : Model (optional if in `with` context)\n",
      "    random_seed : int or list of ints\n",
      "        A list is accepted if `cores` is greater than one.\n",
      "    live_plot : bool\n",
      "        Flag for live plotting the trace while sampling. Ignored when using 'SMC'.\n",
      "    live_plot_kwargs : dict\n",
      "        Options for traceplot. Example: live_plot_kwargs={'varnames': ['x']}.\n",
      "        Ignored when using 'SMC'\n",
      "    discard_tuned_samples : bool\n",
      "        Whether to discard posterior samples of the tune interval. Ignored when using 'SMC'\n",
      "    compute_convergence_checks : bool, default=True\n",
      "        Whether to compute sampler statistics like gelman-rubin and effective_n.\n",
      "        Ignored when using 'SMC'\n",
      "    use_mmap : bool, default=False\n",
      "        Whether to use joblib's memory mapping to share numpy arrays when sampling across multiple\n",
      "        cores. Ignored when using 'SMC'\n",
      "    \n",
      "    Returns\n",
      "    -------\n",
      "    trace : pymc3.backends.base.MultiTrace\n",
      "        A `MultiTrace` object that contains the samples.\n",
      "    \n",
      "    Examples\n",
      "    --------\n",
      "    .. code:: ipython\n",
      "    \n",
      "        >>> import pymc3 as pm\n",
      "        ... n = 100\n",
      "        ... h = 61\n",
      "        ... alpha = 2\n",
      "        ... beta = 2\n",
      "    \n",
      "    .. code:: ipython\n",
      "    \n",
      "        >>> with pm.Model() as model: # context management\n",
      "        ...     p = pm.Beta('p', alpha=alpha, beta=beta)\n",
      "        ...     y = pm.Binomial('y', n=n, p=p, observed=h)\n",
      "        ...     trace = pm.sample(2000, tune=1000, cores=4)\n",
      "        >>> pm.summary(trace)\n",
      "               mean        sd  mc_error   hpd_2.5  hpd_97.5\n",
      "        p  0.604625  0.047086   0.00078  0.510498  0.694774\n",
      "\n"
     ]
    }
   ],
   "source": [
    "help(pm.sample)"
   ]
  },
  {
   "cell_type": "markdown",
   "metadata": {},
   "source": [
    "### Specifying sampler (step) and multiple chains"
   ]
  },
  {
   "cell_type": "code",
   "execution_count": 28,
   "metadata": {},
   "outputs": [
    {
     "name": "stderr",
     "output_type": "stream",
     "text": [
      "Multiprocess sampling (8 chains in 2 jobs)\n",
      "Metropolis: [p]\n",
      "Sampling 8 chains: 100%|██████████| 20000/20000 [00:05<00:00, 3712.51draws/s]\n",
      "The number of effective samples is smaller than 25% for some parameters.\n"
     ]
    }
   ],
   "source": [
    "with coin_context:\n",
    "    step = pm.Metropolis()\n",
    "    t = pm.sample(niter, step=step, chains=8, random_seed=123)"
   ]
  },
  {
   "cell_type": "markdown",
   "metadata": {},
   "source": [
    "### Samplers available\n",
    "\n",
    "For continuous distributions, it is hard to beat NUTS and hence this is the default. To learn more, see [A Conceptual Introduction to Hamiltonian Monte Carlo](https://arxiv.org/pdf/1701.02434.pdf)."
   ]
  },
  {
   "cell_type": "code",
   "execution_count": 29,
   "metadata": {},
   "outputs": [
    {
     "name": "stdout",
     "output_type": "stream",
     "text": [
      "BinaryGibbsMetropolis\n",
      "BinaryMetropolis\n",
      "CSG\n",
      "CategoricalGibbsMetropolis\n",
      "CauchyProposal\n",
      "CompoundStep\n",
      "DEMetropolis\n",
      "ElemwiseCategorical\n",
      "EllipticalSlice\n",
      "HamiltonianMC\n",
      "LaplaceProposal\n",
      "Metropolis\n",
      "MultivariateNormalProposal\n",
      "NUTS\n",
      "NormalProposal\n",
      "PoissonProposal\n",
      "SGFS\n",
      "SMC\n",
      "Slice\n"
     ]
    }
   ],
   "source": [
    "print('\\n'.join(m for m in dir(pm.step_methods) if m[0].isupper()))"
   ]
  },
  {
   "cell_type": "markdown",
   "metadata": {},
   "source": [
    "Generally, the sampler will be automatically selected based on the type of the variable (discrete or continuous), but there are many samples that you can explicitly specify if you want to learn more about them or understand why an alternative would be better than the default for your problem."
   ]
  },
  {
   "cell_type": "code",
   "execution_count": 30,
   "metadata": {},
   "outputs": [
    {
     "name": "stderr",
     "output_type": "stream",
     "text": [
      "Multiprocess sampling (2 chains in 2 jobs)\n",
      "CompoundStep\n",
      ">Slice: [mu]\n",
      ">Metropolis: [sd]\n",
      "Sampling 2 chains: 100%|██████████| 5000/5000 [00:02<00:00, 1691.48draws/s]\n",
      "The number of effective samples is smaller than 10% for some parameters.\n"
     ]
    }
   ],
   "source": [
    "niter = 2000\n",
    "with pm.Model() as normal_context:\n",
    "    mu = pm.Normal('mu', mu=0, sd=100)\n",
    "    sd = pm.HalfCauchy('sd', beta=2)\n",
    "    y = pm.Normal('y', mu=mu, sd=sd, observed=xs)\n",
    "    \n",
    "    step1 = pm.Slice(vars=mu)\n",
    "    step2 = pm.Metropolis(vars=sd)\n",
    "    \n",
    "    t = pm.sample(niter, step=[step1, step2])"
   ]
  },
  {
   "cell_type": "code",
   "execution_count": 32,
   "metadata": {},
   "outputs": [
    {
     "data": {
      "image/png": "[encoded data removed]",
      "text/plain": [
       "<Figure size 864x288 with 4 Axes>"
      ]
     },
     "metadata": {},
     "output_type": "display_data"
    }
   ],
   "source": [
    "pm.traceplot(t)\n",
    "pass"
   ]
  },
  {
   "cell_type": "markdown",
   "metadata": {},
   "source": [
    "#### MAP estimate"
   ]
  },
  {
   "cell_type": "code",
   "execution_count": 33,
   "metadata": {},
   "outputs": [
    {
     "name": "stderr",
     "output_type": "stream",
     "text": [
      "/Users/cliburn/anaconda3/lib/python3.6/site-packages/pymc3/tuning/starting.py:61: UserWarning: find_MAP should not be used to initialize the NUTS sampler, simply call pymc3.sample() and it will automatically initialize NUTS in a better way.\n",
      "  warnings.warn('find_MAP should not be used to initialize the NUTS sampler, simply call pymc3.sample() and it will automatically initialize NUTS in a better way.')\n",
      "logp = -4.5407, ||grad|| = 11: 100%|██████████| 6/6 [00:00<00:00, 563.70it/s]\n"
     ]
    }
   ],
   "source": [
    "with pm.Model() as m:\n",
    "    p = pm.Beta('p', alpha=2, beta=2)\n",
    "    y = pm.Binomial('y', n=n, p=p, observed=heads)\n",
    "    θ = pm.find_MAP()"
   ]
  },
  {
   "cell_type": "code",
   "execution_count": 34,
   "metadata": {},
   "outputs": [
    {
     "data": {
      "text/plain": [
       "{'p_logodds__': array(0.43825493), 'p': array(0.60784314)}"
      ]
     },
     "execution_count": 34,
     "metadata": {},
     "output_type": "execute_result"
    }
   ],
   "source": [
    "θ"
   ]
  },
  {
   "cell_type": "markdown",
   "metadata": {},
   "source": [
    "#### Getting values from the trace"
   ]
  },
  {
   "cell_type": "markdown",
   "metadata": {},
   "source": [
    "All the information about the posterior is in the trace, and it also provides statistics about the sampler."
   ]
  },
  {
   "cell_type": "code",
   "execution_count": 35,
   "metadata": {
    "scrolled": false
   },
   "outputs": [
    {
     "name": "stdout",
     "output_type": "stream",
     "text": [
      "Help on MultiTrace in module pymc3.backends.base object:\n",
      "\n",
      "class MultiTrace(builtins.object)\n",
      " |  Main interface for accessing values from MCMC results\n",
      " |  \n",
      " |  The core method to select values is `get_values`. The method\n",
      " |  to select sampler statistics is `get_sampler_stats`. Both kinds of\n",
      " |  values can also be accessed by indexing the MultiTrace object.\n",
      " |  Indexing can behave in four ways:\n",
      " |  \n",
      " |  1. Indexing with a variable or variable name (str) returns all\n",
      " |     values for that variable, combining values for all chains.\n",
      " |  \n",
      " |     >>> trace[varname]\n",
      " |  \n",
      " |     Slicing after the variable name can be used to burn and thin\n",
      " |     the samples.\n",
      " |  \n",
      " |     >>> trace[varname, 1000:]\n",
      " |  \n",
      " |     For convenience during interactive use, values can also be\n",
      " |     accessed using the variable as an attribute.\n",
      " |  \n",
      " |     >>> trace.varname\n",
      " |  \n",
      " |  2. Indexing with an integer returns a dictionary with values for\n",
      " |     each variable at the given index (corresponding to a single\n",
      " |     sampling iteration).\n",
      " |  \n",
      " |  3. Slicing with a range returns a new trace with the number of draws\n",
      " |     corresponding to the range.\n",
      " |  \n",
      " |  4. Indexing with the name of a sampler statistic that is not also\n",
      " |     the name of a variable returns those values from all chains.\n",
      " |     If there is more than one sampler that provides that statistic,\n",
      " |     the values are concatenated along a new axis.\n",
      " |  \n",
      " |  For any methods that require a single trace (e.g., taking the length\n",
      " |  of the MultiTrace instance, which returns the number of draws), the\n",
      " |  trace with the highest chain number is always used.\n",
      " |  \n",
      " |  Methods defined here:\n",
      " |  \n",
      " |  __getattr__(self, name)\n",
      " |  \n",
      " |  __getitem__(self, idx)\n",
      " |  \n",
      " |  __init__(self, straces)\n",
      " |      Initialize self.  See help(type(self)) for accurate signature.\n",
      " |  \n",
      " |  __len__(self)\n",
      " |  \n",
      " |  __repr__(self)\n",
      " |      Return repr(self).\n",
      " |  \n",
      " |  add_values(self, vals, overwrite=False)\n",
      " |      add variables to traces.\n",
      " |      \n",
      " |      Parameters\n",
      " |      ----------\n",
      " |      vals : dict (str: array-like)\n",
      " |           The keys should be the names of the new variables. The values are expected to be\n",
      " |           array-like object. For traces with more than one chain the length of each value\n",
      " |           should match the number of total samples already in the trace (chains * iterations),\n",
      " |           otherwise a warning is raised.\n",
      " |      overwrite : bool\n",
      " |          If `False` (default) a ValueError is raised if the variable already exists.\n",
      " |          Change to `True` to overwrite the values of variables\n",
      " |  \n",
      " |  get_sampler_stats(self, varname, burn=0, thin=1, combine=True, chains=None, squeeze=True)\n",
      " |      Get sampler statistics from the trace.\n",
      " |      \n",
      " |      Parameters\n",
      " |      ----------\n",
      " |      varname : str\n",
      " |      sampler_idx : int or None\n",
      " |      burn : int\n",
      " |      thin : int\n",
      " |      \n",
      " |      Returns\n",
      " |      -------\n",
      " |      If the `sampler_idx` is specified, return the statistic with\n",
      " |      the given name in a numpy array. If it is not specified and there\n",
      " |      is more than one sampler that provides this statistic, return\n",
      " |      a numpy array of shape (m, n), where `m` is the number of\n",
      " |      such samplers, and `n` is the number of samples.\n",
      " |  \n",
      " |  get_values(self, varname, burn=0, thin=1, combine=True, chains=None, squeeze=True)\n",
      " |      Get values from traces.\n",
      " |      \n",
      " |      Parameters\n",
      " |      ----------\n",
      " |      varname : str\n",
      " |      burn : int\n",
      " |      thin : int\n",
      " |      combine : bool\n",
      " |          If True, results from `chains` will be concatenated.\n",
      " |      chains : int or list of ints\n",
      " |          Chains to retrieve. If None, all chains are used. A single\n",
      " |          chain value can also be given.\n",
      " |      squeeze : bool\n",
      " |          Return a single array element if the resulting list of\n",
      " |          values only has one element. If False, the result will\n",
      " |          always be a list of arrays, even if `combine` is True.\n",
      " |      \n",
      " |      Returns\n",
      " |      -------\n",
      " |      A list of NumPy arrays or a single NumPy array (depending on\n",
      " |      `squeeze`).\n",
      " |  \n",
      " |  point(self, idx, chain=None)\n",
      " |      Return a dictionary of point values at `idx`.\n",
      " |      \n",
      " |      Parameters\n",
      " |      ----------\n",
      " |      idx : int\n",
      " |      chain : int\n",
      " |          If a chain is not given, the highest chain number is used.\n",
      " |  \n",
      " |  points(self, chains=None)\n",
      " |      Return an iterator over all or some of the sample points\n",
      " |      \n",
      " |      Parameters\n",
      " |      ----------\n",
      " |      chains : list of int or N\n",
      " |          The chains whose points should be inlcuded in the iterator.  If\n",
      " |          chains is not given, include points from all chains.\n",
      " |  \n",
      " |  remove_values(self, name)\n",
      " |      remove variables from traces.\n",
      " |      \n",
      " |      Parameters\n",
      " |      ----------\n",
      " |      name : str\n",
      " |          Name of the variable to remove. Raises KeyError if the variable is not present\n",
      " |  \n",
      " |  ----------------------------------------------------------------------\n",
      " |  Data descriptors defined here:\n",
      " |  \n",
      " |  __dict__\n",
      " |      dictionary for instance variables (if defined)\n",
      " |  \n",
      " |  __weakref__\n",
      " |      list of weak references to the object (if defined)\n",
      " |  \n",
      " |  chains\n",
      " |  \n",
      " |  nchains\n",
      " |  \n",
      " |  report\n",
      " |  \n",
      " |  stat_names\n",
      " |  \n",
      " |  varnames\n",
      "\n"
     ]
    }
   ],
   "source": [
    "help(trace)"
   ]
  },
  {
   "cell_type": "code",
   "execution_count": 36,
   "metadata": {},
   "outputs": [
    {
     "data": {
      "text/plain": [
       "{'depth',\n",
       " 'diverging',\n",
       " 'energy',\n",
       " 'energy_error',\n",
       " 'max_energy_error',\n",
       " 'mean_tree_accept',\n",
       " 'model_logp',\n",
       " 'step_size',\n",
       " 'step_size_bar',\n",
       " 'tree_size',\n",
       " 'tune'}"
      ]
     },
     "execution_count": 36,
     "metadata": {},
     "output_type": "execute_result"
    }
   ],
   "source": [
    "trace.stat_names"
   ]
  },
  {
   "cell_type": "code",
   "execution_count": 37,
   "metadata": {},
   "outputs": [
    {
     "data": {
      "image/png": "[encoded data removed]",
      "text/plain": [
       "<Figure size 432x288 with 1 Axes>"
      ]
     },
     "metadata": {},
     "output_type": "display_data"
    }
   ],
   "source": [
    "sns.distplot(trace.get_sampler_stats('model_logp'))\n",
    "pass"
   ]
  },
  {
   "cell_type": "code",
   "execution_count": 38,
   "metadata": {},
   "outputs": [
    {
     "data": {
      "text/plain": [
       "(4000,)"
      ]
     },
     "execution_count": 38,
     "metadata": {},
     "output_type": "execute_result"
    }
   ],
   "source": [
    "p = trace.get_values('p')\n",
    "p.shape"
   ]
  },
  {
   "cell_type": "code",
   "execution_count": 39,
   "metadata": {},
   "outputs": [
    {
     "data": {
      "text/plain": [
       "(4000,)"
      ]
     },
     "execution_count": 39,
     "metadata": {},
     "output_type": "execute_result"
    }
   ],
   "source": [
    "trace['p'].shape"
   ]
  },
  {
   "cell_type": "markdown",
   "metadata": {},
   "source": [
    "#### Convert to `pandas` data frame for downstream processing"
   ]
  },
  {
   "cell_type": "code",
   "execution_count": 40,
   "metadata": {},
   "outputs": [
    {
     "data": {
      "text/html": [
       "<div>\n",
       "<style scoped>\n",
       "    .dataframe tbody tr th:only-of-type {\n",
       "        vertical-align: middle;\n",
       "    }\n",
       "\n",
       "    .dataframe tbody tr th {\n",
       "        vertical-align: top;\n",
       "    }\n",
       "\n",
       "    .dataframe thead th {\n",
       "        text-align: right;\n",
       "    }\n",
       "</style>\n",
       "<table border=\"1\" class=\"dataframe\">\n",
       "  <thead>\n",
       "    <tr style=\"text-align: right;\">\n",
       "      <th></th>\n",
       "      <th>p</th>\n",
       "    </tr>\n",
       "  </thead>\n",
       "  <tbody>\n",
       "    <tr>\n",
       "      <th>0</th>\n",
       "      <td>0.597814</td>\n",
       "    </tr>\n",
       "    <tr>\n",
       "      <th>1</th>\n",
       "      <td>0.588101</td>\n",
       "    </tr>\n",
       "    <tr>\n",
       "      <th>2</th>\n",
       "      <td>0.576538</td>\n",
       "    </tr>\n",
       "    <tr>\n",
       "      <th>3</th>\n",
       "      <td>0.577302</td>\n",
       "    </tr>\n",
       "    <tr>\n",
       "      <th>4</th>\n",
       "      <td>0.550194</td>\n",
       "    </tr>\n",
       "  </tbody>\n",
       "</table>\n",
       "</div>"
      ],
      "text/plain": [
       "          p\n",
       "0  0.597814\n",
       "1  0.588101\n",
       "2  0.576538\n",
       "3  0.577302\n",
       "4  0.550194"
      ]
     },
     "execution_count": 40,
     "metadata": {},
     "output_type": "execute_result"
    }
   ],
   "source": [
    "df = pm.trace_to_dataframe(trace)\n",
    "df.head()"
   ]
  },
  {
   "cell_type": "markdown",
   "metadata": {},
   "source": [
    "#### Posterior distribution"
   ]
  },
  {
   "cell_type": "code",
   "execution_count": 41,
   "metadata": {},
   "outputs": [
    {
     "data": {
      "image/png": "[encoded data removed]",
      "text/plain": [
       "<Figure size 432x288 with 1 Axes>"
      ]
     },
     "metadata": {},
     "output_type": "display_data"
    }
   ],
   "source": [
    "sns.distplot(trace['p'])\n",
    "pass"
   ]
  },
  {
   "cell_type": "markdown",
   "metadata": {},
   "source": [
    "#### Autocorrelation plot"
   ]
  },
  {
   "cell_type": "code",
   "execution_count": 43,
   "metadata": {},
   "outputs": [
    {
     "data": {
      "image/png": "[encoded data removed]",
      "text/plain": [
       "<Figure size 864x144 with 2 Axes>"
      ]
     },
     "metadata": {},
     "output_type": "display_data"
    }
   ],
   "source": [
    "pm.autocorrplot(trace, varnames=['p'])\n",
    "pass"
   ]
  },
  {
   "cell_type": "markdown",
   "metadata": {},
   "source": [
    "#### Calculate effective sample size\n",
    "\n",
    "$$\n",
    "\\hat{n}_{eff} = \\frac{mn}{1 + 2 \\sum_{t=1}^T \\hat{\\rho}_t}\n",
    "$$\n",
    "\n",
    "where $m$ is the number of chains, $n$ the number of steps per chain, $T$ the time when the autocorrelation first becomes negative, and $\\hat{\\rho}_t$ the autocorrelation at lag $t$."
   ]
  },
  {
   "cell_type": "code",
   "execution_count": 44,
   "metadata": {},
   "outputs": [
    {
     "data": {
      "text/plain": [
       "{'p': 1639.0804767244163}"
      ]
     },
     "execution_count": 44,
     "metadata": {},
     "output_type": "execute_result"
    }
   ],
   "source": [
    "pm.effective_n(trace)"
   ]
  },
  {
   "cell_type": "markdown",
   "metadata": {},
   "source": [
    "## Evaluate convergence"
   ]
  },
  {
   "cell_type": "markdown",
   "metadata": {},
   "source": [
    "##### Gelman-Rubin\n",
    "\n",
    "$$\n",
    "\\hat{R} = \\frac{\\hat{V}}{W}\n",
    "$$\n",
    "\n",
    "where $W$ is the within-chain variance and $\\hat{V}$ is the posterior variance estimate for the pooled traces.  Values greater than one indicate that one or more chains have not yet converged.\n",
    "\n",
    "Discrad burn-in steps for each chain. The idea is to see if the starting values of each chain come from the same distribution as the stationary state. \n",
    "\n",
    "- $W$ is the number of chains $m \\times$ the variacne of each individual chain\n",
    "- $B$ is the number of steps $n \\times$ the variance of the chain means\n",
    "- $\\hat{V}$ is the weigthed average $(1 - \\frac{1}{n})W + \\frac{1}{n}B$\n",
    "\n",
    "The idea is that $\\hat{V}$ is an unbiased estimator of $W$ if the starting values of each chain come from the same distribution as the stationary state. Hence if $\\hat{R}$ differs significantly from 1, there is probsbly no convergence and we need more iterations. This is done for each parameter $\\theta$."
   ]
  },
  {
   "cell_type": "code",
   "execution_count": 45,
   "metadata": {},
   "outputs": [
    {
     "data": {
      "text/plain": [
       "{'p': 1.0011843767338002}"
      ]
     },
     "execution_count": 45,
     "metadata": {},
     "output_type": "execute_result"
    }
   ],
   "source": [
    "pm.gelman_rubin(trace)"
   ]
  },
  {
   "cell_type": "markdown",
   "metadata": {},
   "source": [
    "##### Geweke\n",
    "\n",
    "Compares mean of initial with later segments of a trace for a parameter. Should have absolute value less than 1 at convergence."
   ]
  },
  {
   "cell_type": "code",
   "execution_count": 46,
   "metadata": {},
   "outputs": [
    {
     "data": {
      "image/png": "[encoded data removed]",
      "text/plain": [
       "<Figure size 432x288 with 1 Axes>"
      ]
     },
     "metadata": {},
     "output_type": "display_data"
    }
   ],
   "source": [
    "plt.plot(pm.geweke(trace['p'])[:,1], 'o')\n",
    "plt.axhline(1, c='red')\n",
    "plt.axhline(-1, c='red')\n",
    "plt.gca().margins(0.05)\n",
    "pass"
   ]
  },
  {
   "cell_type": "markdown",
   "metadata": {},
   "source": [
    "#### Textual summary"
   ]
  },
  {
   "cell_type": "code",
   "execution_count": 47,
   "metadata": {},
   "outputs": [
    {
     "data": {
      "text/html": [
       "<div>\n",
       "<style scoped>\n",
       "    .dataframe tbody tr th:only-of-type {\n",
       "        vertical-align: middle;\n",
       "    }\n",
       "\n",
       "    .dataframe tbody tr th {\n",
       "        vertical-align: top;\n",
       "    }\n",
       "\n",
       "    .dataframe thead th {\n",
       "        text-align: right;\n",
       "    }\n",
       "</style>\n",
       "<table border=\"1\" class=\"dataframe\">\n",
       "  <thead>\n",
       "    <tr style=\"text-align: right;\">\n",
       "      <th></th>\n",
       "      <th>mean</th>\n",
       "      <th>sd</th>\n",
       "      <th>mc_error</th>\n",
       "      <th>hpd_2.5</th>\n",
       "      <th>hpd_97.5</th>\n",
       "      <th>n_eff</th>\n",
       "      <th>Rhat</th>\n",
       "    </tr>\n",
       "  </thead>\n",
       "  <tbody>\n",
       "    <tr>\n",
       "      <th>p</th>\n",
       "      <td>0.607161</td>\n",
       "      <td>0.047751</td>\n",
       "      <td>0.001174</td>\n",
       "      <td>0.513838</td>\n",
       "      <td>0.699736</td>\n",
       "      <td>1639.080477</td>\n",
       "      <td>1.001184</td>\n",
       "    </tr>\n",
       "  </tbody>\n",
       "</table>\n",
       "</div>"
      ],
      "text/plain": [
       "       mean        sd  mc_error   hpd_2.5  hpd_97.5        n_eff      Rhat\n",
       "p  0.607161  0.047751  0.001174  0.513838  0.699736  1639.080477  1.001184"
      ]
     },
     "execution_count": 47,
     "metadata": {},
     "output_type": "execute_result"
    }
   ],
   "source": [
    "pm.summary(trace, varnames=['p'])"
   ]
  },
  {
   "cell_type": "markdown",
   "metadata": {},
   "source": [
    "#### Visual summary"
   ]
  },
  {
   "cell_type": "code",
   "execution_count": 50,
   "metadata": {},
   "outputs": [
    {
     "data": {
      "image/png": "[encoded data removed]",
      "text/plain": [
       "<Figure size 864x144 with 2 Axes>"
      ]
     },
     "metadata": {},
     "output_type": "display_data"
    }
   ],
   "source": [
    "pm.traceplot(trace, varnames=['p'])\n",
    "pass"
   ]
  },
  {
   "cell_type": "code",
   "execution_count": 53,
   "metadata": {},
   "outputs": [
    {
     "data": {
      "image/png": "[encoded data removed]",
      "text/plain": [
       "<Figure size 432x288 with 2 Axes>"
      ]
     },
     "metadata": {},
     "output_type": "display_data"
    }
   ],
   "source": [
    "pm.forestplot(trace)\n",
    "pass"
   ]
  },
  {
   "cell_type": "code",
   "execution_count": 54,
   "metadata": {},
   "outputs": [
    {
     "data": {
      "image/png": "[encoded data removed]",
      "text/plain": [
       "<Figure size 432x288 with 1 Axes>"
      ]
     },
     "metadata": {},
     "output_type": "display_data"
    }
   ],
   "source": [
    "pm.plot_posterior(trace)\n",
    "pass"
   ]
  },
  {
   "cell_type": "markdown",
   "metadata": {},
   "source": [
    "#### Prior predictive samples"
   ]
  },
  {
   "cell_type": "code",
   "execution_count": 55,
   "metadata": {},
   "outputs": [],
   "source": [
    "with coin_context:\n",
    "    ps = pm.sample_prior_predictive(samples=1000)"
   ]
  },
  {
   "cell_type": "code",
   "execution_count": 56,
   "metadata": {},
   "outputs": [
    {
     "data": {
      "image/png": "[encoded data removed]",
      "text/plain": [
       "<Figure size 432x288 with 1 Axes>"
      ]
     },
     "metadata": {},
     "output_type": "display_data"
    }
   ],
   "source": [
    "sns.distplot(ps['y'])\n",
    "plt.axvline(heads, c='red')\n",
    "pass"
   ]
  },
  {
   "cell_type": "markdown",
   "metadata": {},
   "source": [
    "#### Posterior predictive samples"
   ]
  },
  {
   "cell_type": "code",
   "execution_count": 57,
   "metadata": {},
   "outputs": [
    {
     "name": "stderr",
     "output_type": "stream",
     "text": [
      "100%|██████████| 1000/1000 [00:00<00:00, 1386.64it/s]\n"
     ]
    }
   ],
   "source": [
    "with coin_context:\n",
    "    ps = pm.sample_posterior_predictive(trace, samples=1000)"
   ]
  },
  {
   "cell_type": "code",
   "execution_count": 58,
   "metadata": {},
   "outputs": [
    {
     "data": {
      "image/png": "[encoded data removed]",
      "text/plain": [
       "<Figure size 432x288 with 1 Axes>"
      ]
     },
     "metadata": {},
     "output_type": "display_data"
    }
   ],
   "source": [
    "sns.distplot(ps['y'])\n",
    "plt.axvline(heads, c='red')\n",
    "pass"
   ]
  },
  {
   "cell_type": "markdown",
   "metadata": {},
   "source": [
    "## Saving traces"
   ]
  },
  {
   "cell_type": "code",
   "execution_count": 59,
   "metadata": {},
   "outputs": [
    {
     "data": {
      "text/plain": [
       "'my_trace'"
      ]
     },
     "execution_count": 59,
     "metadata": {},
     "output_type": "execute_result"
    }
   ],
   "source": [
    "pm.save_trace(trace, 'my_trace', overwrite=True)"
   ]
  },
  {
   "cell_type": "markdown",
   "metadata": {},
   "source": [
    "You need to re-initialize the model when reloading."
   ]
  },
  {
   "cell_type": "code",
   "execution_count": 60,
   "metadata": {},
   "outputs": [],
   "source": [
    "with pm.Model() as my_trace:\n",
    "    p = pm.Beta('p', alpha=2, beta=2)\n",
    "    y = pm.Binomial('y', n=n, p=p, observed=heads)\n",
    "    tr = pm.load_trace('my_trace')"
   ]
  },
  {
   "cell_type": "code",
   "execution_count": 61,
   "metadata": {},
   "outputs": [
    {
     "data": {
      "text/html": [
       "<div>\n",
       "<style scoped>\n",
       "    .dataframe tbody tr th:only-of-type {\n",
       "        vertical-align: middle;\n",
       "    }\n",
       "\n",
       "    .dataframe tbody tr th {\n",
       "        vertical-align: top;\n",
       "    }\n",
       "\n",
       "    .dataframe thead th {\n",
       "        text-align: right;\n",
       "    }\n",
       "</style>\n",
       "<table border=\"1\" class=\"dataframe\">\n",
       "  <thead>\n",
       "    <tr style=\"text-align: right;\">\n",
       "      <th></th>\n",
       "      <th>mean</th>\n",
       "      <th>sd</th>\n",
       "      <th>mc_error</th>\n",
       "      <th>hpd_2.5</th>\n",
       "      <th>hpd_97.5</th>\n",
       "      <th>n_eff</th>\n",
       "      <th>Rhat</th>\n",
       "    </tr>\n",
       "  </thead>\n",
       "  <tbody>\n",
       "    <tr>\n",
       "      <th>p</th>\n",
       "      <td>0.607161</td>\n",
       "      <td>0.047751</td>\n",
       "      <td>0.001174</td>\n",
       "      <td>0.513838</td>\n",
       "      <td>0.699736</td>\n",
       "      <td>1639.080477</td>\n",
       "      <td>1.001184</td>\n",
       "    </tr>\n",
       "  </tbody>\n",
       "</table>\n",
       "</div>"
      ],
      "text/plain": [
       "       mean        sd  mc_error   hpd_2.5  hpd_97.5        n_eff      Rhat\n",
       "p  0.607161  0.047751  0.001174  0.513838  0.699736  1639.080477  1.001184"
      ]
     },
     "execution_count": 61,
     "metadata": {},
     "output_type": "execute_result"
    }
   ],
   "source": [
    "pm.summary(tr)"
   ]
  },
  {
   "cell_type": "markdown",
   "metadata": {},
   "source": [
    "It is probably a good practice to make model reuse convenient"
   ]
  },
  {
   "cell_type": "code",
   "execution_count": 62,
   "metadata": {},
   "outputs": [],
   "source": [
    "def build_model():\n",
    "    with pm.Model() as m:\n",
    "        p = pm.Beta('p', alpha=2, beta=2)\n",
    "        y = pm.Binomial('y', n=n, p=p, observed=heads)\n",
    "    return m"
   ]
  },
  {
   "cell_type": "code",
   "execution_count": 63,
   "metadata": {},
   "outputs": [],
   "source": [
    "m = build_model()"
   ]
  },
  {
   "cell_type": "code",
   "execution_count": 64,
   "metadata": {},
   "outputs": [],
   "source": [
    "with m:\n",
    "    tr1 = pm.load_trace('my_trace')"
   ]
  },
  {
   "cell_type": "code",
   "execution_count": 65,
   "metadata": {},
   "outputs": [
    {
     "data": {
      "text/html": [
       "<div>\n",
       "<style scoped>\n",
       "    .dataframe tbody tr th:only-of-type {\n",
       "        vertical-align: middle;\n",
       "    }\n",
       "\n",
       "    .dataframe tbody tr th {\n",
       "        vertical-align: top;\n",
       "    }\n",
       "\n",
       "    .dataframe thead th {\n",
       "        text-align: right;\n",
       "    }\n",
       "</style>\n",
       "<table border=\"1\" class=\"dataframe\">\n",
       "  <thead>\n",
       "    <tr style=\"text-align: right;\">\n",
       "      <th></th>\n",
       "      <th>mean</th>\n",
       "      <th>sd</th>\n",
       "      <th>mc_error</th>\n",
       "      <th>hpd_2.5</th>\n",
       "      <th>hpd_97.5</th>\n",
       "      <th>n_eff</th>\n",
       "      <th>Rhat</th>\n",
       "    </tr>\n",
       "  </thead>\n",
       "  <tbody>\n",
       "    <tr>\n",
       "      <th>p</th>\n",
       "      <td>0.607161</td>\n",
       "      <td>0.047751</td>\n",
       "      <td>0.001174</td>\n",
       "      <td>0.513838</td>\n",
       "      <td>0.699736</td>\n",
       "      <td>1639.080477</td>\n",
       "      <td>1.001184</td>\n",
       "    </tr>\n",
       "  </tbody>\n",
       "</table>\n",
       "</div>"
      ],
      "text/plain": [
       "       mean        sd  mc_error   hpd_2.5  hpd_97.5        n_eff      Rhat\n",
       "p  0.607161  0.047751  0.001174  0.513838  0.699736  1639.080477  1.001184"
      ]
     },
     "execution_count": 65,
     "metadata": {},
     "output_type": "execute_result"
    }
   ],
   "source": [
    "pm.summary(tr1)"
   ]
  },
  {
   "cell_type": "markdown",
   "metadata": {},
   "source": [
    "## Sampling from prior\n",
    "\n",
    "Just omit the `observed=` argument."
   ]
  },
  {
   "cell_type": "code",
   "execution_count": 66,
   "metadata": {},
   "outputs": [
    {
     "name": "stderr",
     "output_type": "stream",
     "text": [
      "Multiprocess sampling (2 chains in 2 jobs)\n",
      "CompoundStep\n",
      ">Metropolis: [mu]\n",
      ">Metropolis: [sigma]\n",
      "Sampling 2 chains: 100%|██████████| 5000/5000 [00:01<00:00, 2753.43draws/s]\n",
      "The number of effective samples is smaller than 10% for some parameters.\n"
     ]
    }
   ],
   "source": [
    "with pm.Model() as prior_context:\n",
    "    sigma = pm.Gamma('sigma', alpha=2.0, beta=1.0)\n",
    "    mu = pm.Normal('mu', mu=0, sd=sigma)\n",
    "    trace = pm.sample(niter, step=pm.Metropolis())"
   ]
  },
  {
   "cell_type": "code",
   "execution_count": 68,
   "metadata": {},
   "outputs": [
    {
     "data": {
      "image/png": "[encoded data removed]",
      "text/plain": [
       "<Figure size 864x288 with 4 Axes>"
      ]
     },
     "metadata": {},
     "output_type": "display_data"
    }
   ],
   "source": [
    "pm.traceplot(trace, varnames=['mu', 'sigma'])\n",
    "pass"
   ]
  },
  {
   "cell_type": "markdown",
   "metadata": {},
   "source": [
    "## Sampling from posterior"
   ]
  },
  {
   "cell_type": "code",
   "execution_count": 69,
   "metadata": {},
   "outputs": [
    {
     "name": "stderr",
     "output_type": "stream",
     "text": [
      "Auto-assigning NUTS sampler...\n",
      "Initializing NUTS using jitter+adapt_diag...\n",
      "Multiprocess sampling (2 chains in 2 jobs)\n",
      "NUTS: [sd, mu]\n",
      "Sampling 2 chains: 100%|██████████| 5000/5000 [00:03<00:00, 1307.56draws/s]\n"
     ]
    }
   ],
   "source": [
    "niter = 2000\n",
    "with pm.Model() as normal_context:\n",
    "    mu = pm.Normal('mu', mu=0, sd=100)\n",
    "    sd = pm.HalfCauchy('sd', beta=2)\n",
    "    y = pm.Normal('y', mu=mu, sd=sd, observed=xs)\n",
    "    trace = pm.sample(niter)"
   ]
  },
  {
   "cell_type": "markdown",
   "metadata": {},
   "source": [
    "#### Find Highest Posterior Density (Credible intervals)"
   ]
  },
  {
   "cell_type": "code",
   "execution_count": 70,
   "metadata": {},
   "outputs": [
    {
     "data": {
      "text/plain": [
       "array([0.44162207, 0.55971851])"
      ]
     },
     "execution_count": 70,
     "metadata": {},
     "output_type": "execute_result"
    }
   ],
   "source": [
    "hpd = pm.hpd(trace['mu'], alpha=0.05)\n",
    "hpd"
   ]
  },
  {
   "cell_type": "code",
   "execution_count": 72,
   "metadata": {},
   "outputs": [
    {
     "data": {
      "image/png": "[encoded data removed]",
      "text/plain": [
       "<Figure size 864x144 with 2 Axes>"
      ]
     },
     "metadata": {},
     "output_type": "display_data"
    }
   ],
   "source": [
    "ax = pm.traceplot(trace, varnames=['mu'],)\n",
    "\n",
    "ymin, ymax = ax[0,0].get_ylim()\n",
    "y = ymin + 0.05*(ymax-ymin)\n",
    "ax[0, 0].plot(hpd, [y,y], c='red')\n",
    "pass"
   ]
  },
  {
   "cell_type": "markdown",
   "metadata": {},
   "source": [
    "## Evaluating goodness-of-fit\n",
    "\n",
    "DIC, WAIC and BPIC are approximations to the out-of-sample error and can be used for model comparison. Likelihood is dependent on model complexity and should not be used for model comparisons."
   ]
  },
  {
   "cell_type": "code",
   "execution_count": 73,
   "metadata": {},
   "outputs": [
    {
     "data": {
      "text/plain": [
       "mu          0.500164\n",
       "sd_log__   -1.218045\n",
       "sd          0.296556\n",
       "Name: mean, dtype: float64"
      ]
     },
     "execution_count": 73,
     "metadata": {},
     "output_type": "execute_result"
    }
   ],
   "source": [
    "post_mean = pm.summary(trace, varnames=trace.varnames)['mean']\n",
    "post_mean"
   ]
  },
  {
   "cell_type": "markdown",
   "metadata": {},
   "source": [
    "#### Likelihood"
   ]
  },
  {
   "cell_type": "code",
   "execution_count": 74,
   "metadata": {},
   "outputs": [
    {
     "data": {
      "text/plain": [
       "array(-26.57766616)"
      ]
     },
     "execution_count": 74,
     "metadata": {},
     "output_type": "execute_result"
    }
   ],
   "source": [
    "normal_context.logp(post_mean)"
   ]
  },
  {
   "cell_type": "markdown",
   "metadata": {},
   "source": [
    "#### Cross-validation"
   ]
  },
  {
   "cell_type": "code",
   "execution_count": 75,
   "metadata": {},
   "outputs": [
    {
     "name": "stderr",
     "output_type": "stream",
     "text": [
      "/Users/cliburn/anaconda3/lib/python3.6/site-packages/pymc3/stats.py:167: FutureWarning: arrays to stack must be passed as a \"sequence\" type such as list or tuple. Support for non-sequence iterables such as generators is deprecated as of NumPy 1.16 and will raise an error in the future.\n",
      "  return np.stack(logp)\n"
     ]
    },
    {
     "name": "stdout",
     "output_type": "stream",
     "text": [
      "LOO_r(LOO=40.743463301462626, LOO_se=8.891566223871754, p_LOO=1.3902023282742455, shape_warn=0)\n"
     ]
    }
   ],
   "source": [
    "with normal_context:\n",
    "    print(pm.loo(trace))"
   ]
  },
  {
   "cell_type": "markdown",
   "metadata": {},
   "source": [
    "#### WAIC"
   ]
  },
  {
   "cell_type": "code",
   "execution_count": 76,
   "metadata": {},
   "outputs": [
    {
     "name": "stdout",
     "output_type": "stream",
     "text": [
      "WAIC_r(WAIC=40.74205569255692, WAIC_se=8.891356706673374, p_WAIC=1.3894985238213904, var_warn=0)\n"
     ]
    }
   ],
   "source": [
    "with normal_context:\n",
    "    print(pm.waic(trace))"
   ]
  },
  {
   "cell_type": "markdown",
   "metadata": {},
   "source": [
    "## Using a custom likelihood"
   ]
  },
  {
   "cell_type": "code",
   "execution_count": 77,
   "metadata": {},
   "outputs": [],
   "source": [
    "def logp(x, μ=0, σ=1):\n",
    "    \"\"\"Normal distribtuion.\"\"\"\n",
    "    return -0.5*np.log(2*np.pi) - np.log(σ) - (x-μ)**2/(2*σ**2)"
   ]
  },
  {
   "cell_type": "code",
   "execution_count": 78,
   "metadata": {},
   "outputs": [
    {
     "name": "stderr",
     "output_type": "stream",
     "text": [
      "Auto-assigning NUTS sampler...\n",
      "Initializing NUTS using jitter+adapt_diag...\n",
      "Multiprocess sampling (2 chains in 2 jobs)\n",
      "NUTS: [sd, mu]\n",
      "Sampling 2 chains: 100%|██████████| 5000/5000 [00:03<00:00, 1316.85draws/s]\n"
     ]
    }
   ],
   "source": [
    "with pm.Model() as prior_context:\n",
    "    mu = pm.Normal('mu', mu=0, sd=100)\n",
    "    sd = pm.HalfCauchy('sd', beta=2)\n",
    "    y = pm.DensityDist('y', logp, observed=dict(x=xs, μ=mu, σ=sd))\n",
    "    custom_trace = pm.sample(niter)"
   ]
  },
  {
   "cell_type": "code",
   "execution_count": 79,
   "metadata": {},
   "outputs": [
    {
     "data": {
      "text/plain": [
       "mu    0.499692\n",
       "sd    0.296759\n",
       "dtype: float64"
      ]
     },
     "execution_count": 79,
     "metadata": {},
     "output_type": "execute_result"
    }
   ],
   "source": [
    "pm.trace_to_dataframe(custom_trace).mean()"
   ]
  },
  {
   "cell_type": "markdown",
   "metadata": {},
   "source": [
    "### Variational methods available\n",
    "\n",
    "To use a variational method, use `pm.fit` instead of `pm.sample`. We'll see examples of usage in another notebook."
   ]
  },
  {
   "cell_type": "code",
   "execution_count": 80,
   "metadata": {},
   "outputs": [
    {
     "name": "stdout",
     "output_type": "stream",
     "text": [
      "ADVI\n",
      "ASVGD\n",
      "Approximation\n",
      "Empirical\n",
      "FullRank\n",
      "FullRankADVI\n",
      "Group\n",
      "ImplicitGradient\n",
      "Inference\n",
      "KLqp\n",
      "MeanField\n",
      "NFVI\n",
      "NormalizingFlow\n",
      "SVGD\n",
      "Stein\n"
     ]
    }
   ],
   "source": [
    "print('\\n'.join(m for m in dir(pm.variational) if m[0].isupper()))"
   ]
  },
  {
   "cell_type": "code",
   "execution_count": null,
   "metadata": {},
   "outputs": [],
   "source": []
  }
 ],
 "metadata": {
  "kernelspec": {
   "display_name": "Python 3 (ipykernel)",
   "language": "python",
   "name": "python3"
  },
  "language_info": {
   "codemirror_mode": {
    "name": "ipython",
    "version": 3
   },
   "file_extension": ".py",
   "mimetype": "text/x-python",
   "name": "python",
   "nbconvert_exporter": "python",
   "pygments_lexer": "ipython3",
   "version": "3.8.11"
  }
 },
 "nbformat": 4,
 "nbformat_minor": 1
}
