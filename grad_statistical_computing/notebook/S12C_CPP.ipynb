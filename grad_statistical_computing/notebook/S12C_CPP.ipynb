{
 "cells": [
  {
   "cell_type": "markdown",
   "metadata": {},
   "source": [
    "# Introduction to C++"
   ]
  },
  {
   "cell_type": "markdown",
   "metadata": {},
   "source": [
    "## Hello world"
   ]
  },
  {
   "cell_type": "code",
   "execution_count": 1,
   "metadata": {},
   "outputs": [
    {
     "name": "stdout",
     "output_type": "stream",
     "text": [
      "Overwriting hello.cpp\n"
     ]
    }
   ],
   "source": [
    "%%file hello.cpp\n",
    "\n",
    "#include <iostream>\n",
    "\n",
    "int main() {\n",
    "    std::cout << \"Hello, world!\" << std::endl;\n",
    "}"
   ]
  },
  {
   "cell_type": "markdown",
   "metadata": {},
   "source": [
    "### Compilation"
   ]
  },
  {
   "cell_type": "code",
   "execution_count": 2,
   "metadata": {},
   "outputs": [],
   "source": [
    "%%bash\n",
    "\n",
    "g++ hello.cpp -o hello.exe"
   ]
  },
  {
   "cell_type": "markdown",
   "metadata": {},
   "source": [
    "### Execution"
   ]
  },
  {
   "cell_type": "code",
   "execution_count": 3,
   "metadata": {},
   "outputs": [
    {
     "name": "stdout",
     "output_type": "stream",
     "text": [
      "Hello, world!\n"
     ]
    }
   ],
   "source": [
    "%%bash\n",
    "\n",
    "./hello.exe"
   ]
  },
  {
   "cell_type": "markdown",
   "metadata": {},
   "source": [
    "## Namespaces\n",
    "\n",
    "Just like Python, C++ has namespaces that allow us to build large libraries without worrying about name collisions. In the `Hello world` program, we used the explicit name `std::cout` indicating that `cout` is a member of the standard workspace. We can also use the `using` keyword to import selected functions or classes from a namespace. \n",
    "\n",
    "```c++\n",
    "using std::cout;\n",
    "\n",
    "int main()\n",
    "{\n",
    "    cout << \"Hello, world!\\n\";\n",
    "}\n",
    "```\n",
    "\n",
    "For small programs, we sometimes import the entire namespace for convenience, but this may cause namespace collisions in larger programs.\n",
    "\n",
    "```c++\n",
    "using namespace std;\n",
    "\n",
    "int main()\n",
    "{\n",
    "    cout << \"Hello, world!\\n\";\n",
    "}\n",
    "```\n",
    "\n",
    "You can easily create your own namespace.\n",
    "\n",
    "```c++\n",
    "namespace sta_663 {\n",
    "    const double pi=2.14159;\n",
    "\n",
    "    void greet(string name) {\n",
    "        cout << \"\\nTraditional first program\\n\";\n",
    "        cout << \"Hello, \" << name << \"\\n\";\n",
    "    }\n",
    "}\n",
    "\n",
    "int main() \n",
    "{\n",
    "    cout << \"\\nUsing namespaces\\n\";\n",
    "    string name = \"Tom\";\n",
    "    cout << sta_663::pi << \"\\n\";\n",
    "    sta_663::greet(name);\n",
    "}\n",
    "```"
   ]
  },
  {
   "cell_type": "markdown",
   "metadata": {},
   "source": [
    "## Types"
   ]
  },
  {
   "cell_type": "code",
   "execution_count": 4,
   "metadata": {},
   "outputs": [
    {
     "name": "stdout",
     "output_type": "stream",
     "text": [
      "Overwriting dtypes.cpp\n"
     ]
    }
   ],
   "source": [
    "%%file dtypes.cpp\n",
    "\n",
    "#include <iostream>\n",
    "#include <complex>\n",
    "\n",
    "using std::cout;\n",
    "\n",
    "int main() {\n",
    "    // Boolean\n",
    "    bool a = true, b = false;  \n",
    "    \n",
    "    cout << \"and            \" << (a and b) << \"\\n\";\n",
    "    cout << \"&&             \" << (a && b) << \"\\n\";\n",
    "    cout << \"or             \" << (a or b) << \"\\n\";\n",
    "    cout << \"||             \" << (a || b) << \"\\n\";\n",
    "    cout << \"not            \" << not (a or b) << \"\\n\";\n",
    "    cout << \"!              \" << !(a or b) << \"\\n\";\n",
    "\n",
    "    // Integral numbers\n",
    "    cout << \"char           \" << sizeof(char) << \"\\n\";\n",
    "    cout << \"short int      \" << sizeof(short int) << \"\\n\";\n",
    "    cout << \"int            \" << sizeof(int) << \"\\n\";\n",
    "    cout << \"long           \" << sizeof(long) << \"\\n\";\n",
    "\n",
    "    // Floating point numbers\n",
    "    cout << \"float          \" << sizeof(float) << \"\\n\";\n",
    "    cout << \"double         \" << sizeof(double) << \"\\n\";\n",
    "    cout << \"long double    \" << sizeof(long double) << \"\\n\";\n",
    "    cout << \"complex double \" << sizeof(std::complex<double>) << \"\\n\";\n",
    "    \n",
    "    // Characters and strings\n",
    "    char c = 'a'; // Note single quotes\n",
    "    char word[] = \"hello\"; // C char arrays\n",
    "    std::string s = \"hello\"; // C++ string\n",
    "    \n",
    "    cout << c << \"\\n\";\n",
    "    cout << word << \"\\n\";\n",
    "    cout << s << \"\\n\";   \n",
    "}"
   ]
  },
  {
   "cell_type": "code",
   "execution_count": 5,
   "metadata": {},
   "outputs": [
    {
     "name": "stdout",
     "output_type": "stream",
     "text": [
      "and            0\n",
      "&&             0\n",
      "or             1\n",
      "||             1\n",
      "not            0\n",
      "!              0\n",
      "char           1\n",
      "short int      2\n",
      "int            4\n",
      "long           8\n",
      "float          4\n",
      "double         8\n",
      "long double    16\n",
      "complex double 16\n",
      "a\n",
      "hello\n",
      "hello\n"
     ]
    }
   ],
   "source": [
    "%%bash\n",
    "\n",
    "g++ dtypes.cpp -o dtypes.exe\n",
    "./dtypes.exe"
   ]
  },
  {
   "cell_type": "markdown",
   "metadata": {},
   "source": [
    "## Type conversions"
   ]
  },
  {
   "cell_type": "code",
   "execution_count": 6,
   "metadata": {},
   "outputs": [
    {
     "name": "stdout",
     "output_type": "stream",
     "text": [
      "Overwriting type.cpp\n"
     ]
    }
   ],
   "source": [
    "%%file type.cpp\n",
    "#include <iostream>\n",
    "using std::cout;\n",
    "using std::string;\n",
    "using std::stoi;\n",
    "        \n",
    "int main() {\n",
    "    char c = '3'; // A char is an integer type\n",
    "    string s = \"3\"; // A string is not an integer type\n",
    "    int i = 3;\n",
    "    float f = 3;\n",
    "    double d = 3;\n",
    "    \n",
    "    cout << c << \"\\n\";\n",
    "    cout << i << \"\\n\";\n",
    "    cout << f << \"\\n\";\n",
    "    cout << d << \"\\n\";\n",
    "    \n",
    "    cout << \"c + i is \" << c + i << \"\\n\";\n",
    "    cout << \"c + i is \" << c - '0' + i << \"\\n\";\n",
    "    cout << \"s + i is \" << stoi(s) + i << \"\\n\"; // Use std::stod to convert to double\n",
    "}\n"
   ]
  },
  {
   "cell_type": "code",
   "execution_count": 7,
   "metadata": {},
   "outputs": [],
   "source": [
    "%%bash\n",
    "\n",
    "g++ -o type.exe type.cpp -std=c++14"
   ]
  },
  {
   "cell_type": "code",
   "execution_count": 8,
   "metadata": {},
   "outputs": [
    {
     "name": "stdout",
     "output_type": "stream",
     "text": [
      "3\n",
      "3\n",
      "3\n",
      "3\n",
      "c + i is 54\n",
      "c + i is 6\n",
      "s + i is 6\n"
     ]
    }
   ],
   "source": [
    "%%bash\n",
    "\n",
    "./type.exe"
   ]
  },
  {
   "cell_type": "markdown",
   "metadata": {},
   "source": [
    "## Command line inputs"
   ]
  },
  {
   "cell_type": "code",
   "execution_count": 9,
   "metadata": {},
   "outputs": [
    {
     "name": "stdout",
     "output_type": "stream",
     "text": [
      "Overwriting command_args.cpp\n"
     ]
    }
   ],
   "source": [
    "%%file command_args.cpp\n",
    "#include <iostream>\n",
    "#include <exception>\n",
    "using std::cout;\n",
    "using std::stoi;\n",
    "\n",
    "int main(int argc, char *argv[]) {\n",
    "    for (int i=0; i<argc; i++) {\n",
    "        cout << i << \": \" << argv[i];\n",
    "        try {\n",
    "            stoi(argv[i]);\n",
    "            cout << \" is an integer\\n\";\n",
    "        } catch (std::exception& e) {\n",
    "            cout << \" is not an integer\\n\";\n",
    "        }\n",
    "    }\n",
    "}"
   ]
  },
  {
   "cell_type": "code",
   "execution_count": 10,
   "metadata": {},
   "outputs": [],
   "source": [
    "%%bash\n",
    "\n",
    "g++ -o command_args.exe command_args.cpp -std=c++14"
   ]
  },
  {
   "cell_type": "code",
   "execution_count": 11,
   "metadata": {},
   "outputs": [
    {
     "name": "stdout",
     "output_type": "stream",
     "text": [
      "0: ./command_args.exe is not an integer\n",
      "1: 1 is an integer\n",
      "2: 2 is an integer\n",
      "3: hello is not an integer\n",
      "4: goodbye is not an integer\n"
     ]
    }
   ],
   "source": [
    "%%bash\n",
    "\n",
    "./command_args.exe  1 2 hello goodbye"
   ]
  },
  {
   "cell_type": "markdown",
   "metadata": {},
   "source": [
    "## Header, implementation and driver files"
   ]
  },
  {
   "cell_type": "markdown",
   "metadata": {},
   "source": [
    "### Header file(s)"
   ]
  },
  {
   "cell_type": "code",
   "execution_count": 12,
   "metadata": {},
   "outputs": [
    {
     "name": "stdout",
     "output_type": "stream",
     "text": [
      "Overwriting func02.hpp\n"
     ]
    }
   ],
   "source": [
    "%%file func02.hpp\n",
    "\n",
    "double add(double x, double y);\n",
    "double mult(double x, double y);"
   ]
  },
  {
   "cell_type": "markdown",
   "metadata": {},
   "source": [
    "### Implementation file(s)"
   ]
  },
  {
   "cell_type": "code",
   "execution_count": 13,
   "metadata": {},
   "outputs": [
    {
     "name": "stdout",
     "output_type": "stream",
     "text": [
      "Overwriting func02.cpp\n"
     ]
    }
   ],
   "source": [
    "%%file func02.cpp\n",
    "\n",
    "double add(double x, double y) {\n",
    "    return x + y;\n",
    "}\n",
    "\n",
    "double mult(double x, double y) {\n",
    "    return x * y;\n",
    "}"
   ]
  },
  {
   "cell_type": "markdown",
   "metadata": {},
   "source": [
    "### Driver program"
   ]
  },
  {
   "cell_type": "code",
   "execution_count": 14,
   "metadata": {},
   "outputs": [
    {
     "name": "stdout",
     "output_type": "stream",
     "text": [
      "Overwriting test_func02.cpp\n"
     ]
    }
   ],
   "source": [
    "%%file test_func02.cpp\n",
    "\n",
    "#include <iostream>\n",
    "#include \"func02.hpp\"\n",
    "\n",
    "int main() {\n",
    "    double a = 3;\n",
    "    double b = 4;\n",
    "    \n",
    "    std::cout << add(a, b) << std::endl;\n",
    "    std::cout << mult(a, b) << std::endl;\n",
    "    \n",
    "}"
   ]
  },
  {
   "cell_type": "markdown",
   "metadata": {},
   "source": [
    "### Compilation"
   ]
  },
  {
   "cell_type": "code",
   "execution_count": 15,
   "metadata": {},
   "outputs": [],
   "source": [
    "%%bash\n",
    "\n",
    "g++ test_func02.cpp func02.cpp -o test_func02.exe"
   ]
  },
  {
   "cell_type": "markdown",
   "metadata": {},
   "source": [
    "### Execution"
   ]
  },
  {
   "cell_type": "code",
   "execution_count": 16,
   "metadata": {},
   "outputs": [
    {
     "name": "stdout",
     "output_type": "stream",
     "text": [
      "7\n",
      "12\n"
     ]
    }
   ],
   "source": [
    "%%bash\n",
    "\n",
    "./test_func02.exe"
   ]
  },
  {
   "cell_type": "markdown",
   "metadata": {},
   "source": [
    "## Using `make`"
   ]
  },
  {
   "cell_type": "code",
   "execution_count": 17,
   "metadata": {},
   "outputs": [
    {
     "name": "stdout",
     "output_type": "stream",
     "text": [
      "Overwriting Makefile\n"
     ]
    }
   ],
   "source": [
    "%%file Makefile\n",
    "\n",
    "test_func02.exe: test_func02.o func02.o\n",
    "\t g++ -o test_func02.exe test_func02.o func02.o\n",
    "        \n",
    "test_func02.o: test_func02.cpp func02.hpp\n",
    "\t g++ -c test_func02.cpp\n",
    "        \n",
    "func02.o: func02.cpp\n",
    "\t g++ -c func02.cpp"
   ]
  },
  {
   "cell_type": "markdown",
   "metadata": {},
   "source": [
    "### Compilation"
   ]
  },
  {
   "cell_type": "code",
   "execution_count": 18,
   "metadata": {},
   "outputs": [
    {
     "name": "stdout",
     "output_type": "stream",
     "text": [
      "g++ -c test_func02.cpp\n",
      "g++ -c func02.cpp\n",
      "g++ -o test_func02.exe test_func02.o func02.o\n"
     ]
    }
   ],
   "source": [
    "%%bash\n",
    "\n",
    "make"
   ]
  },
  {
   "cell_type": "markdown",
   "metadata": {},
   "source": [
    "### Execution"
   ]
  },
  {
   "cell_type": "code",
   "execution_count": 19,
   "metadata": {},
   "outputs": [
    {
     "name": "stdout",
     "output_type": "stream",
     "text": [
      "7\n",
      "12\n"
     ]
    }
   ],
   "source": [
    "%%bash\n",
    "\n",
    "./test_func02.exe"
   ]
  },
  {
   "cell_type": "markdown",
   "metadata": {},
   "source": [
    "## A more flexible Makefile"
   ]
  },
  {
   "cell_type": "code",
   "execution_count": 20,
   "metadata": {},
   "outputs": [
    {
     "name": "stdout",
     "output_type": "stream",
     "text": [
      "Overwriting Makefile2\n"
     ]
    }
   ],
   "source": [
    "%%file Makefile2\n",
    "\n",
    "CC=g++\n",
    "CFLAGS=-Wall -std=c++14\n",
    "\n",
    "test_func02.exe: test_func02.o func02.o\n",
    "\t $(CC) $(CFLAGS) -o test_func02.exe test_func02.o func02.o\n",
    "        \n",
    "test_func02.o: test_func02.cpp func02.hpp\n",
    "\t $(CC) $(CFLAGS) -c test_func02.cpp\n",
    "        \n",
    "func02.o: func02.cpp\n",
    "\t $(CC) $(CFLAGS) -c func02.cpp"
   ]
  },
  {
   "cell_type": "markdown",
   "metadata": {},
   "source": [
    "### Compilation"
   ]
  },
  {
   "cell_type": "markdown",
   "metadata": {},
   "source": [
    "Note that no re-compilation occurs!"
   ]
  },
  {
   "cell_type": "code",
   "execution_count": 21,
   "metadata": {},
   "outputs": [
    {
     "name": "stdout",
     "output_type": "stream",
     "text": [
      "make: `test_func02.exe' is up to date.\n"
     ]
    }
   ],
   "source": [
    "%%bash\n",
    "\n",
    "make -f Makefile2"
   ]
  },
  {
   "cell_type": "markdown",
   "metadata": {},
   "source": [
    "### Execution"
   ]
  },
  {
   "cell_type": "code",
   "execution_count": 22,
   "metadata": {},
   "outputs": [
    {
     "name": "stdout",
     "output_type": "stream",
     "text": [
      "7\n",
      "12\n"
     ]
    }
   ],
   "source": [
    "%%bash \n",
    "\n",
    "./test_func02.exe"
   ]
  },
  {
   "cell_type": "markdown",
   "metadata": {},
   "source": [
    "## Input and output"
   ]
  },
  {
   "cell_type": "code",
   "execution_count": 23,
   "metadata": {},
   "outputs": [
    {
     "name": "stdout",
     "output_type": "stream",
     "text": [
      "Overwriting data.txt\n"
     ]
    }
   ],
   "source": [
    "%%file data.txt\n",
    "9 6"
   ]
  },
  {
   "cell_type": "code",
   "execution_count": 24,
   "metadata": {},
   "outputs": [
    {
     "name": "stdout",
     "output_type": "stream",
     "text": [
      "Overwriting io.cpp\n"
     ]
    }
   ],
   "source": [
    "%%file io.cpp\n",
    "\n",
    "#include <fstream>\n",
    "#include \"func02.hpp\"\n",
    "\n",
    "int main() {\n",
    "    std::ifstream fin(\"data.txt\");\n",
    "    std::ofstream fout(\"result.txt\");\n",
    "    \n",
    "    double a, b;\n",
    "    \n",
    "    fin >> a >> b;\n",
    "    fin.close();\n",
    "    \n",
    "    fout << add(a, b) << std::endl;\n",
    "    fout << mult(a, b) << std::endl;\n",
    "    fout.close();\n",
    "}"
   ]
  },
  {
   "cell_type": "code",
   "execution_count": 25,
   "metadata": {},
   "outputs": [],
   "source": [
    "%%bash\n",
    "\n",
    "g++ io.cpp -o io.exe func02.cpp "
   ]
  },
  {
   "cell_type": "code",
   "execution_count": 26,
   "metadata": {},
   "outputs": [],
   "source": [
    "%%bash\n",
    "\n",
    "./io.exe"
   ]
  },
  {
   "cell_type": "code",
   "execution_count": 27,
   "metadata": {},
   "outputs": [
    {
     "name": "stdout",
     "output_type": "stream",
     "text": [
      "15\r\n",
      "54\r\n"
     ]
    }
   ],
   "source": [
    "! cat result.txt"
   ]
  },
  {
   "cell_type": "markdown",
   "metadata": {},
   "source": [
    "## Arrays"
   ]
  },
  {
   "cell_type": "code",
   "execution_count": 28,
   "metadata": {},
   "outputs": [
    {
     "name": "stdout",
     "output_type": "stream",
     "text": [
      "Overwriting array.cpp\n"
     ]
    }
   ],
   "source": [
    "%%file array.cpp\n",
    "\n",
    "#include <iostream>\n",
    "using std::cout;\n",
    "using std::endl;\n",
    "        \n",
    "int main() {\n",
    "    \n",
    "    int N = 3;\n",
    "    double counts[N];\n",
    "    \n",
    "    counts[0] = 1;\n",
    "    counts[1] = 3;\n",
    "    counts[2] = 3;\n",
    "\n",
    "    double avg = (counts[0] + counts[1] + counts[2])/3;\n",
    "    \n",
    "    cout << avg << endl;    \n",
    "}"
   ]
  },
  {
   "cell_type": "code",
   "execution_count": 29,
   "metadata": {},
   "outputs": [],
   "source": [
    "%%bash\n",
    "\n",
    "g++ -o array.exe array.cpp "
   ]
  },
  {
   "cell_type": "code",
   "execution_count": 30,
   "metadata": {},
   "outputs": [
    {
     "name": "stdout",
     "output_type": "stream",
     "text": [
      "2.33333\n"
     ]
    }
   ],
   "source": [
    "%%bash\n",
    "\n",
    "./array.exe"
   ]
  },
  {
   "cell_type": "markdown",
   "metadata": {},
   "source": [
    "## Loops"
   ]
  },
  {
   "cell_type": "code",
   "execution_count": 31,
   "metadata": {},
   "outputs": [
    {
     "name": "stdout",
     "output_type": "stream",
     "text": [
      "Overwriting loop.cpp\n"
     ]
    }
   ],
   "source": [
    "%%file loop.cpp\n",
    "\n",
    "#include <iostream>\n",
    "using std::cout;\n",
    "using std::endl;\n",
    "using std::begin;\n",
    "using std::end;\n",
    "\n",
    "int main() \n",
    "{\n",
    "    int x[] = {1, 2, 3, 4, 5};\n",
    "\n",
    "    cout << \"\\nTraditional for loop\\n\";\n",
    "    for (int i=0; i < sizeof(x)/sizeof(x[0]); i++) {\n",
    "        cout << i << endl;\n",
    "    }\n",
    "\n",
    "    cout << \"\\nUsing iterators\\n\";\n",
    "    for (auto it=begin(x); it != end(x); it++) {\n",
    "        cout << *it << endl;\n",
    "    }\n",
    "    \n",
    "    cout << \"\\nRanged for loop\\n\\n\";\n",
    "    for (auto &i : x) {\n",
    "        cout << i << endl;\n",
    "    }\n",
    "}"
   ]
  },
  {
   "cell_type": "code",
   "execution_count": 32,
   "metadata": {},
   "outputs": [],
   "source": [
    "%%bash\n",
    "\n",
    "g++ -o loop.exe loop.cpp -std=c++14"
   ]
  },
  {
   "cell_type": "code",
   "execution_count": 33,
   "metadata": {},
   "outputs": [
    {
     "name": "stdout",
     "output_type": "stream",
     "text": [
      "\n",
      "Traditional for loop\n",
      "0\n",
      "1\n",
      "2\n",
      "3\n",
      "4\n",
      "\n",
      "Using iterators\n",
      "1\n",
      "2\n",
      "3\n",
      "4\n",
      "5\n",
      "\n",
      "Ranged for loop\n",
      "\n",
      "1\n",
      "2\n",
      "3\n",
      "4\n",
      "5\n"
     ]
    }
   ],
   "source": [
    "%%bash\n",
    "\n",
    "./loop.exe"
   ]
  },
  {
   "cell_type": "markdown",
   "metadata": {},
   "source": [
    "## Function arguments"
   ]
  },
  {
   "cell_type": "code",
   "execution_count": 34,
   "metadata": {},
   "outputs": [
    {
     "name": "stdout",
     "output_type": "stream",
     "text": [
      "Overwriting func_arg.cpp\n"
     ]
    }
   ],
   "source": [
    "%%file func_arg.cpp\n",
    "\n",
    "#include <iostream>\n",
    "using std::cout;\n",
    "using std::endl;\n",
    "    \n",
    "// Value parameter\n",
    "void f1(int x) {\n",
    "    x *= 2;\n",
    "    cout << \"In f1    : x=\" << x << endl;\n",
    "}\n",
    "\n",
    "// Reference parameter\n",
    "void f2(int &x) {\n",
    "    x *= 2;\n",
    "    cout << \"In f2    : x=\" << x << endl;\n",
    "}\n",
    "\n",
    "/* Note\n",
    "If you want to avoid side effects \n",
    "but still use references to avoid a copy operation\n",
    "use a const refernece like this to indicate that x cannot be changed\n",
    "\n",
    "void f2(const int &x) \n",
    "*/\n",
    "\n",
    "/* Note \n",
    "Raw pointers are prone to error and \n",
    "generally avoided in modern C++\n",
    "See unique_ptr and shared_ptr\n",
    "*/\n",
    "\n",
    "// Raw pointer parameter\n",
    "void f3(int *x) {\n",
    "    *x *= 2;\n",
    "    cout << \"In f3    : x=\" << *x << endl;\n",
    "}\n",
    "    \n",
    "int main() {\n",
    "    int x = 1;\n",
    "    \n",
    "    cout << \"Before f1: x=\" << x << \"\\n\";\n",
    "    f1(x);\n",
    "    cout << \"After f1 : x=\" << x << \"\\n\";\n",
    "    \n",
    "    cout << \"Before f2: x=\" << x << \"\\n\";\n",
    "    f2(x);\n",
    "    cout << \"After f2 : x=\" << x << \"\\n\";\n",
    "    \n",
    "    cout << \"Before f3: x=\" << x << \"\\n\";\n",
    "    f3(&x);\n",
    "    cout << \"After f3 : x=\" << x << \"\\n\";\n",
    "}"
   ]
  },
  {
   "cell_type": "code",
   "execution_count": 35,
   "metadata": {},
   "outputs": [],
   "source": [
    "%%bash\n",
    "\n",
    "c++ -o func_arg.exe func_arg.cpp --std=c++14"
   ]
  },
  {
   "cell_type": "code",
   "execution_count": 36,
   "metadata": {},
   "outputs": [
    {
     "name": "stdout",
     "output_type": "stream",
     "text": [
      "Before f1: x=1\n",
      "In f1    : x=2\n",
      "After f1 : x=1\n",
      "Before f2: x=1\n",
      "In f2    : x=2\n",
      "After f2 : x=2\n",
      "Before f3: x=2\n",
      "In f3    : x=4\n",
      "After f3 : x=4\n"
     ]
    }
   ],
   "source": [
    "%%bash \n",
    "\n",
    "./func_arg.exe"
   ]
  },
  {
   "cell_type": "markdown",
   "metadata": {},
   "source": [
    "## Arrays, pointers and dynamic memory\n",
    "\n",
    "We generally avoid using raw pointers in C++, but this is standard in C and you should at least understand what is going on.\n",
    "\n",
    "In C++, we typically use smart pointers, STL containers or convenient array constructs provided by libraries such as Eigen and Armadillo."
   ]
  },
  {
   "cell_type": "markdown",
   "metadata": {},
   "source": [
    "### Pointers and addresses"
   ]
  },
  {
   "cell_type": "code",
   "execution_count": 37,
   "metadata": {},
   "outputs": [
    {
     "name": "stdout",
     "output_type": "stream",
     "text": [
      "Overwriting p01.cpp\n"
     ]
    }
   ],
   "source": [
    "%%file p01.cpp\n",
    "\n",
    "#include <iostream>\n",
    "\n",
    "using std::cout;\n",
    "\n",
    "int main() {\n",
    "    int x = 23;\n",
    "    int *xp;\n",
    "    xp = &x;\n",
    "    \n",
    "    cout << \"x                    \" << x << \"\\n\";\n",
    "    cout << \"Address of x         \" << &x << \"\\n\";\n",
    "    cout << \"Pointer to x         \" << xp << \"\\n\";\n",
    "    cout << \"Value at pointer to x \" << *xp << \"\\n\";\n",
    "}"
   ]
  },
  {
   "cell_type": "code",
   "execution_count": 38,
   "metadata": {},
   "outputs": [
    {
     "name": "stdout",
     "output_type": "stream",
     "text": [
      "x                    23\n",
      "Address of x         0x7ffee96d66dc\n",
      "Pointer to x         0x7ffee96d66dc\n",
      "Value at pointer to x 23\n"
     ]
    }
   ],
   "source": [
    "%%bash\n",
    "\n",
    "g++ -o p01.exe p01.cpp -std=c++14\n",
    "./p01.exe"
   ]
  },
  {
   "cell_type": "markdown",
   "metadata": {},
   "source": [
    "### Arrays"
   ]
  },
  {
   "cell_type": "code",
   "execution_count": 39,
   "metadata": {},
   "outputs": [
    {
     "name": "stdout",
     "output_type": "stream",
     "text": [
      "Overwriting p02.cpp\n"
     ]
    }
   ],
   "source": [
    "%%file p02.cpp\n",
    "\n",
    "#include <iostream>\n",
    "\n",
    "using std::cout;\n",
    "using std::begin;\n",
    "using std::end;\n",
    "\n",
    "int main() {\n",
    "    int xs[] = {1,2,3,4,5};\n",
    "    \n",
    "    int ys[3];\n",
    "    for (int i=0; i<5; i++) {\n",
    "        ys[i] = i*i;\n",
    "    }\n",
    "    \n",
    "    for (auto x=begin(xs); x!=end(xs); x++) {\n",
    "        cout << *x << \" \";\n",
    "    }\n",
    "    cout << \"\\n\";\n",
    "    \n",
    "    for (auto x=begin(ys); x!=end(ys); x++) {\n",
    "        cout << *x << \" \";\n",
    "    }\n",
    "    cout << \"\\n\";\n",
    "}"
   ]
  },
  {
   "cell_type": "code",
   "execution_count": 40,
   "metadata": {},
   "outputs": [
    {
     "name": "stdout",
     "output_type": "stream",
     "text": [
      "9 16 3 4 5 \n",
      "0 1 4 \n"
     ]
    }
   ],
   "source": [
    "%%bash\n",
    "\n",
    "g++ -o p02.exe p02.cpp -std=c++14\n",
    "./p02.exe"
   ]
  },
  {
   "cell_type": "markdown",
   "metadata": {},
   "source": [
    "### Dynamic memory"
   ]
  },
  {
   "cell_type": "code",
   "execution_count": 41,
   "metadata": {},
   "outputs": [
    {
     "name": "stdout",
     "output_type": "stream",
     "text": [
      "Overwriting p03.cpp\n"
     ]
    }
   ],
   "source": [
    "%%file p03.cpp\n",
    "\n",
    "#include <iostream>\n",
    "\n",
    "using std::cout;\n",
    "using std::begin;\n",
    "using std::end;\n",
    "\n",
    "int main() {\n",
    "    \n",
    "    // declare memory \n",
    "    int *z = new int; // single integer\n",
    "    *z = 23;\n",
    "    \n",
    "    // Allocate on heap\n",
    "    int *zs = new int[3]; // array of 3 integers\n",
    "    for (int i=0; i<3; i++) {\n",
    "        zs[i] = 10*i;\n",
    "    }\n",
    "\n",
    "    cout << *z << \"\\n\";\n",
    "    \n",
    "    for (int i=0; i < 3; i++) {\n",
    "        cout << zs[i] << \" \";\n",
    "    }\n",
    "    cout << \"\\n\";\n",
    "    \n",
    "    // need for manual management of dynamically assigned memory\n",
    "    delete z;\n",
    "    delete[] zs; \n",
    "}"
   ]
  },
  {
   "cell_type": "code",
   "execution_count": 42,
   "metadata": {},
   "outputs": [
    {
     "name": "stdout",
     "output_type": "stream",
     "text": [
      "23\n",
      "0 10 20 \n"
     ]
    }
   ],
   "source": [
    "%%bash\n",
    "\n",
    "g++ -o p03.exe p03.cpp -std=c++14\n",
    "./p03.exe"
   ]
  },
  {
   "cell_type": "markdown",
   "metadata": {},
   "source": [
    "### Pointer arithmetic"
   ]
  },
  {
   "cell_type": "code",
   "execution_count": 43,
   "metadata": {},
   "outputs": [
    {
     "name": "stdout",
     "output_type": "stream",
     "text": [
      "Overwriting p04.cpp\n"
     ]
    }
   ],
   "source": [
    "%%file p04.cpp\n",
    "\n",
    "#include <iostream>\n",
    "\n",
    "using std::cout;\n",
    "using std::begin;\n",
    "using std::end;\n",
    "\n",
    "int main() {\n",
    "    int xs[] = {100,200,300,400,500,600,700,800,900,1000};\n",
    "    \n",
    "    cout << xs << \": \" << *xs  << \"\\n\";\n",
    "    cout << &xs << \": \" << *xs  << \"\\n\";\n",
    "    cout << &xs[3] << \": \" << xs[3] << \"\\n\";\n",
    "    cout << xs+3 << \": \" << *(xs+3)  << \"\\n\"; \n",
    "}"
   ]
  },
  {
   "cell_type": "code",
   "execution_count": 44,
   "metadata": {},
   "outputs": [
    {
     "name": "stdout",
     "output_type": "stream",
     "text": [
      "0x7ffee28046b0: 100\n",
      "0x7ffee28046b0: 100\n",
      "0x7ffee28046bc: 400\n",
      "0x7ffee28046bc: 400\n"
     ]
    }
   ],
   "source": [
    "%%bash\n",
    "\n",
    "g++ -o p04.exe p04.cpp\n",
    "./p04.exe"
   ]
  },
  {
   "cell_type": "markdown",
   "metadata": {},
   "source": [
    "### C style dynamic memory for jagged array (\"matrix\")"
   ]
  },
  {
   "cell_type": "code",
   "execution_count": 45,
   "metadata": {},
   "outputs": [
    {
     "name": "stdout",
     "output_type": "stream",
     "text": [
      "Overwriting p05.cpp\n"
     ]
    }
   ],
   "source": [
    "%%file p05.cpp\n",
    "\n",
    "#include <iostream>\n",
    "\n",
    "using std::cout;\n",
    "using std::begin;\n",
    "using std::end;\n",
    "\n",
    "int main() {\n",
    "    int m = 3;\n",
    "    int n = 4;\n",
    "    int **xss = new int*[m]; // assign memory for m pointers to int\n",
    "    for (int i=0; i<m; i++) {\n",
    "        xss[i] = new int[n]; // assign memory for array of n ints\n",
    "        for (int j=0; j<n; j++) {\n",
    "            xss[i][j] = i*10 + j;\n",
    "        }\n",
    "    }    \n",
    "    \n",
    "    for (int i=0; i<m; i++) {\n",
    "        for (int j=0; j<n; j++) {\n",
    "            cout << xss[i][j] << \"\\t\";\n",
    "        }\n",
    "        cout << \"\\n\";\n",
    "    }\n",
    "    \n",
    "    // Free memory\n",
    "    for (int i=0; i<m; i++) {\n",
    "        delete[] xss[i];\n",
    "    }\n",
    "    delete[] xss;\n",
    "}"
   ]
  },
  {
   "cell_type": "code",
   "execution_count": 46,
   "metadata": {
    "scrolled": false
   },
   "outputs": [
    {
     "name": "stdout",
     "output_type": "stream",
     "text": [
      "0\t1\t2\t3\t\n",
      "10\t11\t12\t13\t\n",
      "20\t21\t22\t23\t\n"
     ]
    }
   ],
   "source": [
    "%%bash\n",
    "\n",
    "g++ -o p05.exe p05.cpp\n",
    "./p05.exe"
   ]
  },
  {
   "cell_type": "markdown",
   "metadata": {},
   "source": [
    "## Functions"
   ]
  },
  {
   "cell_type": "code",
   "execution_count": 47,
   "metadata": {},
   "outputs": [
    {
     "name": "stdout",
     "output_type": "stream",
     "text": [
      "Overwriting func01.cpp\n"
     ]
    }
   ],
   "source": [
    "%%file func01.cpp\n",
    "\n",
    "#include <iostream>\n",
    "\n",
    "double add(double x, double y) {\n",
    "    return x + y;\n",
    "}\n",
    "\n",
    "double mult(double x, double y) {\n",
    "    return x * y;\n",
    "}\n",
    "\n",
    "int main() {\n",
    "    double a = 3;\n",
    "    double b = 4;\n",
    "    \n",
    "    std::cout << add(a, b) << std::endl;\n",
    "    std::cout << mult(a, b) << std::endl;\n",
    "    \n",
    "}"
   ]
  },
  {
   "cell_type": "code",
   "execution_count": 48,
   "metadata": {},
   "outputs": [
    {
     "name": "stdout",
     "output_type": "stream",
     "text": [
      "7\n",
      "12\n"
     ]
    }
   ],
   "source": [
    "%%bash\n",
    "\n",
    "g++ -o func01.exe func01.cpp  -std=c++14\n",
    "./func01.exe"
   ]
  },
  {
   "cell_type": "markdown",
   "metadata": {},
   "source": [
    "### Function parameters"
   ]
  },
  {
   "cell_type": "code",
   "execution_count": 49,
   "metadata": {},
   "outputs": [
    {
     "name": "stdout",
     "output_type": "stream",
     "text": [
      "Overwriting func02.cpp\n"
     ]
    }
   ],
   "source": [
    "%%file func02.cpp\n",
    "\n",
    "#include <iostream>\n",
    "\n",
    "double* add(double *x, double *y, int n) {\n",
    "    double *res = new double[n];\n",
    "    \n",
    "    for (int i=0; i<n; i++) {\n",
    "        res[i] = x[i] + y[i];\n",
    "    }\n",
    "    return res;\n",
    "}\n",
    "\n",
    "int main() {\n",
    "    double a[] = {1,2,3};\n",
    "    double b[] = {4,5,6};\n",
    "    \n",
    "    int n = 3;\n",
    "    double *c = add(a, b, n);\n",
    "    \n",
    "    for (int i=0; i<n; i++) {\n",
    "        std::cout << c[i] << \" \";    \n",
    "    }\n",
    "    std::cout << \"\\n\";\n",
    "    \n",
    "    delete[] c; // Note difficulty of book-keeping when using raw pointers!\n",
    "}"
   ]
  },
  {
   "cell_type": "code",
   "execution_count": 50,
   "metadata": {},
   "outputs": [
    {
     "name": "stdout",
     "output_type": "stream",
     "text": [
      "5 7 9 \n"
     ]
    }
   ],
   "source": [
    "%%bash\n",
    "\n",
    "g++ -o func02.exe func02.cpp  -std=c++14\n",
    "./func02.exe"
   ]
  },
  {
   "cell_type": "code",
   "execution_count": 51,
   "metadata": {},
   "outputs": [
    {
     "name": "stdout",
     "output_type": "stream",
     "text": [
      "Overwriting func03.cpp\n"
     ]
    }
   ],
   "source": [
    "%%file func03.cpp\n",
    "\n",
    "#include <iostream>\n",
    "using std::cout;\n",
    "\n",
    "// Using value\n",
    "void foo1(int x) {\n",
    "    x = x + 1;\n",
    "}\n",
    "\n",
    "\n",
    "// Using pointer\n",
    "void foo2(int *x) {\n",
    "    *x = *x + 1;\n",
    "}\n",
    "\n",
    "// Using ref\n",
    "void foo3(int &x) {\n",
    "    x = x + 1;\n",
    "}\n",
    "\n",
    "int main() {\n",
    "    int x = 0;\n",
    "    \n",
    "    cout << x << \"\\n\";\n",
    "    foo1(x);\n",
    "    cout << x << \"\\n\";\n",
    "    foo2(&x);\n",
    "    cout << x << \"\\n\";\n",
    "    foo3(x);\n",
    "    cout << x << \"\\n\";\n",
    "}"
   ]
  },
  {
   "cell_type": "code",
   "execution_count": 52,
   "metadata": {},
   "outputs": [
    {
     "name": "stdout",
     "output_type": "stream",
     "text": [
      "0\n",
      "0\n",
      "1\n",
      "2\n"
     ]
    }
   ],
   "source": [
    "%%bash\n",
    "\n",
    "g++ -o func03.exe func03.cpp  -std=c++14\n",
    "./func03.exe"
   ]
  },
  {
   "cell_type": "markdown",
   "metadata": {},
   "source": [
    "## Generic programming with templates"
   ]
  },
  {
   "cell_type": "code",
   "execution_count": 53,
   "metadata": {},
   "outputs": [
    {
     "name": "stdout",
     "output_type": "stream",
     "text": [
      "Overwriting template.cpp\n"
     ]
    }
   ],
   "source": [
    "%%file template.cpp\n",
    "\n",
    "#include <iostream>\n",
    "\n",
    "template<typename T>\n",
    "T add(T a, T b) {\n",
    "    return a + b;\n",
    "}\n",
    "\n",
    "int main() {\n",
    "    int m =2, n =3;\n",
    "    double u = 2.5, v = 4.5;\n",
    "    \n",
    "    std::cout << add(m, n) << std::endl;\n",
    "    std::cout << add(u, v) << std::endl;\n",
    "}"
   ]
  },
  {
   "cell_type": "code",
   "execution_count": 54,
   "metadata": {},
   "outputs": [],
   "source": [
    "%%bash\n",
    "\n",
    "g++ -o template.exe template.cpp"
   ]
  },
  {
   "cell_type": "code",
   "execution_count": 55,
   "metadata": {},
   "outputs": [
    {
     "name": "stdout",
     "output_type": "stream",
     "text": [
      "5\n",
      "7\n"
     ]
    }
   ],
   "source": [
    "%%bash\n",
    "\n",
    "./template.exe"
   ]
  },
  {
   "cell_type": "markdown",
   "metadata": {},
   "source": [
    "## Anonymous functions"
   ]
  },
  {
   "cell_type": "code",
   "execution_count": 56,
   "metadata": {},
   "outputs": [
    {
     "name": "stdout",
     "output_type": "stream",
     "text": [
      "Overwriting lambda.cpp\n"
     ]
    }
   ],
   "source": [
    "%%file lambda.cpp\n",
    "\n",
    "#include <iostream>\n",
    "using std::cout;\n",
    "using std::endl;\n",
    "\n",
    "int main() {\n",
    "\n",
    "    int a = 3, b = 4;\n",
    "    int c = 0;\n",
    "\n",
    "    // Lambda function with no capture\n",
    "    auto add1 = [] (int a, int b) { return a + b; };\n",
    "    // Lambda function with value capture\n",
    "    auto add2 = [c] (int a, int b) { return c * (a + b); };\n",
    "    // Lambda funciton with reference capture   \n",
    "    auto add3 = [&c] (int a, int b) { return c * (a + b); };\n",
    "\n",
    "    // Change value of c after function definition\n",
    "    c += 5;\n",
    "\n",
    "    cout << \"Lambda function\\n\";\n",
    "    cout << add1(a, b) <<  endl;\n",
    "    cout << \"Lambda function with value capture\\n\";\n",
    "    cout << add2(a, b) <<  endl;\n",
    "    cout << \"Lambda function with reference capture\\n\";\n",
    "    cout << add3(a, b) <<  endl;\n",
    "\n",
    "}"
   ]
  },
  {
   "cell_type": "code",
   "execution_count": 57,
   "metadata": {},
   "outputs": [],
   "source": [
    "%%bash\n",
    "\n",
    "c++ -o lambda.exe lambda.cpp --std=c++14"
   ]
  },
  {
   "cell_type": "code",
   "execution_count": 58,
   "metadata": {},
   "outputs": [
    {
     "name": "stdout",
     "output_type": "stream",
     "text": [
      "Lambda function\n",
      "7\n",
      "Lambda function with value capture\n",
      "0\n",
      "Lambda function with reference capture\n",
      "35\n"
     ]
    }
   ],
   "source": [
    "%%bash\n",
    "\n",
    "./lambda.exe"
   ]
  },
  {
   "cell_type": "markdown",
   "metadata": {},
   "source": [
    "## Function pointers"
   ]
  },
  {
   "cell_type": "code",
   "execution_count": 59,
   "metadata": {},
   "outputs": [
    {
     "name": "stdout",
     "output_type": "stream",
     "text": [
      "Overwriting func_pointer.cpp\n"
     ]
    }
   ],
   "source": [
    "%%file func_pointer.cpp\n",
    "\n",
    "#include <iostream>\n",
    "#include <vector>\n",
    "#include <functional>\n",
    "\n",
    "using std::cout;\n",
    "using std::endl;\n",
    "using std::function;\n",
    "using std::vector;\n",
    "\n",
    "int main() \n",
    "{\n",
    "    cout << \"\\nUsing generalized function pointers\\n\";\n",
    "    using func = function<double(double, double)>;\n",
    "\n",
    "    auto f1 = [](double x, double y) { return x + y; };\n",
    "    auto f2 = [](double x, double y) { return x * y; };\n",
    "    auto f3 = [](double x, double y) { return x + y*y; };\n",
    "\n",
    "    double x = 3, y = 4;\n",
    "\n",
    "    vector<func> funcs = {f1, f2, f3,};\n",
    "\n",
    "    for (auto& f : funcs) {\n",
    "        cout << f(x, y) << \"\\n\";\n",
    "    }\n",
    "}"
   ]
  },
  {
   "cell_type": "code",
   "execution_count": 60,
   "metadata": {},
   "outputs": [],
   "source": [
    "%%bash\n",
    "\n",
    "g++ -o func_pointer.exe func_pointer.cpp -std=c++14"
   ]
  },
  {
   "cell_type": "code",
   "execution_count": 61,
   "metadata": {
    "scrolled": true
   },
   "outputs": [
    {
     "name": "stdout",
     "output_type": "stream",
     "text": [
      "\n",
      "Using generalized function pointers\n",
      "7\n",
      "12\n",
      "19\n"
     ]
    }
   ],
   "source": [
    "%%bash\n",
    "\n",
    "./func_pointer.exe"
   ]
  },
  {
   "cell_type": "markdown",
   "metadata": {},
   "source": [
    "## Standard template library (STL)"
   ]
  },
  {
   "cell_type": "code",
   "execution_count": 62,
   "metadata": {},
   "outputs": [
    {
     "name": "stdout",
     "output_type": "stream",
     "text": [
      "Overwriting stl.cpp\n"
     ]
    }
   ],
   "source": [
    "%%file stl.cpp\n",
    "\n",
    "#include <iostream>\n",
    "#include <vector>\n",
    "#include <map>\n",
    "#include <unordered_map>\n",
    "\n",
    "using std::vector;\n",
    "using std::map;\n",
    "using std::unordered_map;\n",
    "using std::string;\n",
    "using std::cout;\n",
    "using std::endl;\n",
    "        \n",
    "struct Point{\n",
    "    int x;\n",
    "    int y;\n",
    "    \n",
    "    Point(int x_, int y_) : \n",
    "      x(x_), y(y_) {};\n",
    "};\n",
    "\n",
    "int main() {\n",
    "    vector<int> v1 = {1,2,3};\n",
    "    v1.push_back(4);\n",
    "    v1.push_back(5);\n",
    "    \n",
    "    cout << \"Vecotr<int>\" << endl;\n",
    "    for (auto n: v1) {\n",
    "        cout << n << endl;\n",
    "    }\n",
    "    cout << endl;\n",
    "    \n",
    "    vector<Point> v2;\n",
    "    v2.push_back(Point(1, 2));\n",
    "    v2.emplace_back(3,4);\n",
    "    \n",
    "    cout <<  \"Vector<Point>\" << endl;\n",
    "    for (auto p: v2) {\n",
    "        cout << \"(\" << p.x << \", \" << p.y << \")\" << endl;\n",
    "    }\n",
    "    cout << endl;\n",
    "    \n",
    "    map<string, int> v3 = {{\"foo\", 1}, {\"bar\", 2}};\n",
    "    v3[\"hello\"] = 3;\n",
    "    v3.insert({\"goodbye\", 4});    \n",
    "    \n",
    "    // Note the a C++ map is ordered\n",
    "    // Note using (traditional) iterators instead of ranged for loop\n",
    "    cout << \"Map<string, int>\" << endl;\n",
    "    for (auto iter=v3.begin(); iter != v3.end(); iter++) {\n",
    "        cout << iter->first << \": \" << iter->second << endl;\n",
    "    }\n",
    "    cout << endl;\n",
    "    \n",
    "    unordered_map<string, int> v4 = {{\"foo\", 1}, {\"bar\", 2}};\n",
    "    v4[\"hello\"] = 3;\n",
    "    v4.insert({\"goodbye\", 4});    \n",
    "    \n",
    "    // Note the unordered_map is similar to Python' dict.'\n",
    "    // Note using ranged for loop with const ref to avoid copying or mutation\n",
    "    cout << \"Unordered_map<string, int>\" << endl;\n",
    "    for (const auto& i: v4) {\n",
    "        cout << i.first << \": \" << i.second << endl;\n",
    "    }\n",
    "    cout << endl;\n",
    "}"
   ]
  },
  {
   "cell_type": "code",
   "execution_count": 63,
   "metadata": {},
   "outputs": [],
   "source": [
    "%%bash\n",
    "\n",
    "g++ -o stl.exe stl.cpp -std=c++14"
   ]
  },
  {
   "cell_type": "code",
   "execution_count": 64,
   "metadata": {},
   "outputs": [
    {
     "name": "stdout",
     "output_type": "stream",
     "text": [
      "Vecotr<int>\n",
      "1\n",
      "2\n",
      "3\n",
      "4\n",
      "5\n",
      "\n",
      "Vector<Point>\n",
      "(1, 2)\n",
      "(3, 4)\n",
      "\n",
      "Map<string, int>\n",
      "bar: 2\n",
      "foo: 1\n",
      "goodbye: 4\n",
      "hello: 3\n",
      "\n",
      "Unordered_map<string, int>\n",
      "goodbye: 4\n",
      "hello: 3\n",
      "bar: 2\n",
      "foo: 1\n",
      "\n"
     ]
    }
   ],
   "source": [
    "%%bash\n",
    "\n",
    "./stl.exe"
   ]
  },
  {
   "cell_type": "markdown",
   "metadata": {},
   "source": [
    "## STL algorithms"
   ]
  },
  {
   "cell_type": "code",
   "execution_count": 65,
   "metadata": {},
   "outputs": [
    {
     "name": "stdout",
     "output_type": "stream",
     "text": [
      "Overwriting stl_algorithm.cpp\n"
     ]
    }
   ],
   "source": [
    "%%file stl_algorithm.cpp\n",
    "\n",
    "#include <vector>\n",
    "#include <iostream>\n",
    "#include <numeric>\n",
    "\n",
    "using std::cout;\n",
    "using std::endl;\n",
    "using std::vector;\n",
    "using std::begin;\n",
    "using std::end;\n",
    "        \n",
    "int main() {\n",
    "    vector<int> v(10);\n",
    "\n",
    "    // iota is somewhat like range\n",
    "    std::iota(v.begin(), v.end(), 1);\n",
    "    \n",
    "    for (auto i: v) {\n",
    "        cout << i << \" \";\n",
    "    }\n",
    "    cout << endl;\n",
    "    \n",
    "    // C++ version of reduce    \n",
    "    cout << std::accumulate(begin(v), end(v), 0) << endl;\n",
    "    \n",
    "    // Accumulate with lambda\n",
    "    cout << std::accumulate(begin(v), end(v), 1, [](int a, int b){return a * b; }) << endl;\n",
    "}"
   ]
  },
  {
   "cell_type": "code",
   "execution_count": 66,
   "metadata": {},
   "outputs": [],
   "source": [
    "%%bash\n",
    "\n",
    "g++ -o stl_algorithm.exe stl_algorithm.cpp -std=c++14"
   ]
  },
  {
   "cell_type": "code",
   "execution_count": 67,
   "metadata": {},
   "outputs": [
    {
     "name": "stdout",
     "output_type": "stream",
     "text": [
      "1 2 3 4 5 6 7 8 9 10 \n",
      "55\n",
      "3628800\n"
     ]
    }
   ],
   "source": [
    "%%bash\n",
    "\n",
    "./stl_algorithm.exe"
   ]
  },
  {
   "cell_type": "markdown",
   "metadata": {},
   "source": [
    "## Random numbers"
   ]
  },
  {
   "cell_type": "code",
   "execution_count": 68,
   "metadata": {},
   "outputs": [
    {
     "name": "stdout",
     "output_type": "stream",
     "text": [
      "Overwriting random.cpp\n"
     ]
    }
   ],
   "source": [
    "%%file random.cpp\n",
    "\n",
    "#include <iostream>\n",
    "#include <random>\n",
    "#include <functional>\n",
    "\n",
    "using std::cout;\n",
    "using std::random_device;\n",
    "using std::mt19937;\n",
    "using std::default_random_engine;\n",
    "using std::uniform_int_distribution;\n",
    "using std::poisson_distribution;\n",
    "using std::student_t_distribution;\n",
    "using std::bind;\n",
    "        \n",
    "// start random number engine with fixed seed\n",
    "// Note default_random_engine may give differnet values on different platforms\n",
    "// default_random_engine re(1234);\n",
    "\n",
    "// or\n",
    "// Using a named engine will work the same on differnt platforms\n",
    "// mt19937 re(1234);\n",
    "\n",
    "// start random number generator with random seed\n",
    "random_device rd;\n",
    "mt19937 re(rd());\n",
    "\n",
    "uniform_int_distribution<int> uniform(1,6); // lower and upper bounds\n",
    "poisson_distribution<int> poisson(30); // rate\n",
    "student_t_distribution<double> t(10); // degrees of freedom      \n",
    "\n",
    "int main() \n",
    "{\n",
    "    cout << \"\\nGenerating random numbers\\n\";\n",
    "\n",
    "    auto runif = bind (uniform, re);\n",
    "    auto rpois = bind(poisson, re);\n",
    "    auto rt = bind(t, re);\n",
    "\n",
    "    for (int i=0; i<10; i++) {\n",
    "        cout << runif() << \", \" << rpois() <<  \", \" << rt() << \"\\n\";\n",
    "\n",
    "    }\n",
    "}"
   ]
  },
  {
   "cell_type": "code",
   "execution_count": 69,
   "metadata": {},
   "outputs": [],
   "source": [
    "%%bash\n",
    "\n",
    "g++ -o random.exe random.cpp -std=c++14"
   ]
  },
  {
   "cell_type": "code",
   "execution_count": 70,
   "metadata": {},
   "outputs": [
    {
     "name": "stdout",
     "output_type": "stream",
     "text": [
      "\n",
      "Generating random numbers\n",
      "2, 28, -0.189118\n",
      "6, 40, 0.271387\n",
      "3, 27, 1.87313\n",
      "6, 38, -0.110778\n",
      "1, 27, 0.918611\n",
      "6, 30, 1.07302\n",
      "4, 34, 0.886518\n",
      "2, 34, -0.550586\n",
      "1, 23, 1.86504\n",
      "4, 30, 0.178585\n"
     ]
    }
   ],
   "source": [
    "%%bash\n",
    "\n",
    "./random.exe"
   ]
  },
  {
   "cell_type": "markdown",
   "metadata": {},
   "source": [
    "## Statistics\n",
    "\n",
    "A nicer library for working with probability distributions. Show integration with Armadillo. Integration with Eigen is also possible."
   ]
  },
  {
   "cell_type": "code",
   "execution_count": 71,
   "metadata": {},
   "outputs": [],
   "source": [
    "import os\n",
    "\n",
    "if not os.path.exists('./stats'):\n",
    "    ! git clone https://github.com/kthohr/stats.git"
   ]
  },
  {
   "cell_type": "code",
   "execution_count": 72,
   "metadata": {},
   "outputs": [
    {
     "name": "stdout",
     "output_type": "stream",
     "text": [
      "Overwriting stats.cpp\n"
     ]
    }
   ],
   "source": [
    "%%file stats.cpp\n",
    "#define STATS_USE_ARMA\n",
    "#include <iostream>\n",
    "#include \"stats.hpp\"\n",
    "\n",
    "using std::cout;\n",
    "using std::endl;\n",
    "\n",
    "// set seed for randome engine to 1776\n",
    "std::mt19937_64 engine(1776);\n",
    "        \n",
    "int main() {\n",
    "    // evaluate the normal PDF at x = 1, mu = 0, sigma = 1\n",
    "    double dval_1 = stats::dnorm(1.0,0.0,1.0);\n",
    "\n",
    "    // evaluate the normal PDF at x = 1, mu = 0, sigma = 1, and return the log value\n",
    "    double dval_2 = stats::dnorm(1.0,0.0,1.0,true);\n",
    "\n",
    "    // evaluate the normal CDF at x = 1, mu = 0, sigma = 1\n",
    "    double pval = stats::pnorm(1.0,0.0,1.0);\n",
    "\n",
    "    // evaluate the Laplacian quantile at p = 0.1, mu = 0, sigma = 1\n",
    "    double qval = stats::qlaplace(0.1,0.0,1.0);\n",
    "\n",
    "    // draw from a t-distribution dof = 30\n",
    "    double rval = stats::rt(30);\n",
    "\n",
    "    // matrix output\n",
    "    arma::mat beta_rvs = stats::rbeta<arma::mat>(5,5,3.0,2.0);\n",
    "    // matrix input\n",
    "    arma::mat beta_cdf_vals = stats::pbeta(beta_rvs,3.0,2.0);\n",
    "\n",
    "    cout << \"evaluate the normal PDF at x = 1, mu = 0, sigma = 1\" << endl;\n",
    "    cout << dval_1 << endl;\n",
    "    cout << \"evaluate the normal PDF at x = 1, mu = 0, sigma = 1, and return the log value\" << endl;\n",
    "    cout << dval_2 << endl;\n",
    "    cout << \"evaluate the normal CDF at x = 1, mu = 0, sigma = 1\" << endl;\n",
    "    cout << pval << endl;\n",
    "    cout << \"evaluate the Laplacian quantile at p = 0.1, mu = 0, sigma = 1\" << endl;\n",
    "    cout << qval << endl;\n",
    "    cout << \"draw from a t-distribution dof = 30\" << endl;\n",
    "    cout << rval << endl;\n",
    "    cout << \"draws from a beta distribuiotn to populate Armadillo matrix\" << endl;\n",
    "    cout << beta_rvs << endl;\n",
    "    cout << \"evaluaate CDF for beta draws\" << endl;\n",
    "    cout << beta_cdf_vals << endl;\n",
    "}"
   ]
  },
  {
   "cell_type": "code",
   "execution_count": 73,
   "metadata": {},
   "outputs": [],
   "source": [
    "%%bash\n",
    "\n",
    "g++ -std=c++11 -I./stats/include stats.cpp -o stats.exe"
   ]
  },
  {
   "cell_type": "code",
   "execution_count": 74,
   "metadata": {},
   "outputs": [
    {
     "name": "stdout",
     "output_type": "stream",
     "text": [
      "evaluate the normal PDF at x = 1, mu = 0, sigma = 1\n",
      "0.241971\n",
      "evaluate the normal PDF at x = 1, mu = 0, sigma = 1, and return the log value\n",
      "-1.41894\n",
      "evaluate the normal CDF at x = 1, mu = 0, sigma = 1\n",
      "0.841345\n",
      "evaluate the Laplacian quantile at p = 0.1, mu = 0, sigma = 1\n",
      "-1.60944\n",
      "draw from a t-distribution dof = 30\n",
      "-1.80271\n",
      "draws from a beta distribuiotn to populate Armadillo matrix\n",
      "   0.7117   0.6939   0.3855   0.2690   0.3303\n",
      "   0.5459   0.5328   0.6257   0.3173   0.5513\n",
      "   0.8201   0.6763   0.8341   0.3584   0.7111\n",
      "   0.8470   0.5821   0.6299   0.7157   0.5238\n",
      "   0.6388   0.8524   0.8932   0.5235   0.6822\n",
      "\n",
      "evaluaate CDF for beta draws\n",
      "   0.6723   0.6410   0.1629   0.0622   0.1085\n",
      "   0.3843   0.3632   0.5200   0.0974   0.3931\n",
      "   0.8493   0.6098   0.8691   0.1346   0.6711\n",
      "   0.8865   0.4445   0.5274   0.6793   0.3490\n",
      "   0.5431   0.8935   0.9409   0.3485   0.6203\n",
      "\n"
     ]
    }
   ],
   "source": [
    "%%bash\n",
    "\n",
    "./stats.exe"
   ]
  },
  {
   "cell_type": "markdown",
   "metadata": {},
   "source": [
    "## Numerics\n"
   ]
  },
  {
   "cell_type": "markdown",
   "metadata": {},
   "source": [
    "### Using Armadillo"
   ]
  },
  {
   "cell_type": "code",
   "execution_count": 75,
   "metadata": {},
   "outputs": [
    {
     "name": "stdout",
     "output_type": "stream",
     "text": [
      "Overwriting test_arma.cpp\n"
     ]
    }
   ],
   "source": [
    "%%file test_arma.cpp\n",
    "\n",
    "#include <iostream>\n",
    "#include <armadillo>\n",
    "\n",
    "using std::cout;\n",
    "using std::endl;\n",
    "        \n",
    "int main() \n",
    "{\n",
    "    using namespace arma;\n",
    "\n",
    "    vec u = linspace<vec>(0,1,5);\n",
    "    vec v = ones<vec>(5);\n",
    "    mat A = randu<mat>(4,5); // uniform random deviates\n",
    "    mat B = randn<mat>(4,5); // normal random deviates\n",
    "\n",
    "    cout << \"\\nVecotrs in Armadillo\\n\";\n",
    "    cout << u << endl;\n",
    "    cout << v << endl;\n",
    "    cout << u.t() * v << endl;\n",
    "\n",
    "    cout << \"\\nRandom matrices in Armadillo\\n\";\n",
    "    cout << A << endl;\n",
    "    cout << B << endl;\n",
    "    cout << A * B.t() << endl;\n",
    "    cout << A * v << endl;\n",
    "\n",
    "    cout << \"\\nQR in Armadillo\\n\";\n",
    "    mat Q, R;\n",
    "    qr(Q, R, A.t() * A);\n",
    "    cout << Q << endl;\n",
    "    cout << R << endl;\n",
    "}"
   ]
  },
  {
   "cell_type": "code",
   "execution_count": 76,
   "metadata": {},
   "outputs": [],
   "source": [
    "%%bash\n",
    "\n",
    "g++ -o test_arma.exe test_arma.cpp -std=c++14 -larmadillo"
   ]
  },
  {
   "cell_type": "code",
   "execution_count": 77,
   "metadata": {},
   "outputs": [
    {
     "name": "stdout",
     "output_type": "stream",
     "text": [
      "\n",
      "Vecotrs in Armadillo\n",
      "        0\n",
      "   0.2500\n",
      "   0.5000\n",
      "   0.7500\n",
      "   1.0000\n",
      "\n",
      "   1.0000\n",
      "   1.0000\n",
      "   1.0000\n",
      "   1.0000\n",
      "   1.0000\n",
      "\n",
      "   2.5000\n",
      "\n",
      "\n",
      "Random matrices in Armadillo\n",
      "   7.8264e-06   5.3277e-01   6.7930e-01   8.3097e-01   6.7115e-01\n",
      "   1.3154e-01   2.1896e-01   9.3469e-01   3.4572e-02   7.6982e-03\n",
      "   7.5561e-01   4.7045e-02   3.8350e-01   5.3462e-02   3.8342e-01\n",
      "   4.5865e-01   6.7886e-01   5.1942e-01   5.2970e-01   6.6842e-02\n",
      "\n",
      "  -0.7649   1.2041  -0.7020   1.1862   0.8284\n",
      "   1.7313   0.0937   1.6814  -0.8631   0.9426\n",
      "   0.1454  -0.6920   0.2742   0.6810   0.2091\n",
      "   0.7032   0.2610   0.1752   1.3165  -0.5897\n",
      "\n",
      "   1.7063   1.1075   0.5238   0.9563\n",
      "  -0.4457   1.7973   0.1490   0.3544\n",
      "  -0.4095   2.2726   0.2990   0.4551\n",
      "   0.7857   1.3368   0.1140   1.2487\n",
      "\n",
      "   2.7142\n",
      "   1.3275\n",
      "   1.6230\n",
      "   2.2535\n",
      "\n",
      "\n",
      "QR in Armadillo\n",
      "  -0.6776   0.6377   0.3253   0.0944  -0.1395\n",
      "  -0.3188  -0.4409   0.3521   0.4177   0.6368\n",
      "  -0.5524  -0.2366  -0.7774   0.1504  -0.1092\n",
      "  -0.2443  -0.5816   0.4071  -0.1709  -0.6380\n",
      "  -0.2727  -0.0688  -0.0099  -0.8745   0.3950\n",
      "\n",
      "  -1.1785e+00  -1.3394e+00  -2.1015e+00  -1.3527e+00  -1.0229e+00\n",
      "            0  -8.3421e-01  -9.7607e-01  -9.9515e-01  -5.3245e-01\n",
      "            0            0  -4.6336e-01   7.6793e-02  -4.0376e-03\n",
      "            0            0            0  -2.0273e-01  -3.2745e-01\n",
      "            0            0            0            0   1.1102e-16\n",
      "\n"
     ]
    }
   ],
   "source": [
    "%%bash\n",
    "\n",
    "./test_arma.exe"
   ]
  },
  {
   "cell_type": "markdown",
   "metadata": {},
   "source": [
    "### Using Eigen"
   ]
  },
  {
   "cell_type": "code",
   "execution_count": 78,
   "metadata": {},
   "outputs": [
    {
     "name": "stdout",
     "output_type": "stream",
     "text": [
      "Overwriting test_eigen.cpp\n"
     ]
    }
   ],
   "source": [
    "%%file test_eigen.cpp\n",
    "#include <iostream>\n",
    "#include <fstream>\n",
    "#include <random>\n",
    "#include <Eigen/Dense>\n",
    "#include <functional>\n",
    "\n",
    "using std::cout;\n",
    "using std::endl;\n",
    "using std::ofstream;\n",
    "        \n",
    "using std::default_random_engine;\n",
    "using std::normal_distribution;\n",
    "using std::bind;\n",
    "        \n",
    "// start random number engine with fixed seed\n",
    "default_random_engine re{12345};\n",
    "\n",
    "normal_distribution<double> norm(5,2); // mean and standard deviation\n",
    "auto rnorm = bind(norm, re);  \n",
    "                              \n",
    "int main() \n",
    "{\n",
    "    using namespace Eigen;\n",
    "\n",
    "    VectorXd x1(6);\n",
    "    x1 << 1, 2, 3, 4, 5, 6;\n",
    "    VectorXd x2 = VectorXd::LinSpaced(6, 1, 2);\n",
    "    VectorXd x3 = VectorXd::Zero(6);\n",
    "    VectorXd x4 = VectorXd::Ones(6);\n",
    "    VectorXd x5 = VectorXd::Constant(6, 3);\n",
    "    VectorXd x6 = VectorXd::Random(6);\n",
    "    \n",
    "    double data[] = {6,5,4,3,2,1};\n",
    "    Map<VectorXd> x7(data, 6);\n",
    "\n",
    "    VectorXd x8 = x6 + x7;\n",
    "    \n",
    "    MatrixXd A1(3,3);\n",
    "    A1 << 1 ,2, 3,\n",
    "          4, 5, 6,\n",
    "          7, 8, 9;\n",
    "    MatrixXd A2 = MatrixXd::Constant(3, 4, 1);\n",
    "    MatrixXd A3 = MatrixXd::Identity(3, 3);\n",
    "    \n",
    "    Map<MatrixXd> A4(data, 3, 2);\n",
    "    \n",
    "    MatrixXd A5 = A4.transpose() * A4;\n",
    "    MatrixXd A6 = x7 * x7.transpose();\n",
    "    MatrixXd A7 = A4.array() * A4.array();\n",
    "    MatrixXd A8 = A7.array().log();\n",
    "    MatrixXd A9 = A8.unaryExpr([](double x) { return exp(x); });\n",
    "    MatrixXd A10 = MatrixXd::Zero(3,4).unaryExpr([](double x) { return rnorm(); });\n",
    "\n",
    "    VectorXd x9 = A1.colwise().norm();\n",
    "    VectorXd x10 = A1.rowwise().sum();\n",
    "    \n",
    "    MatrixXd A11(x1.size(), 3);\n",
    "    A11 << x1, x2, x3;\n",
    "    \n",
    "    MatrixXd A12(3, x1.size());\n",
    "    A12 << x1.transpose(),\n",
    "          x2.transpose(),\n",
    "          x3.transpose();\n",
    "    \n",
    "    JacobiSVD<MatrixXd> svd(A10, ComputeThinU | ComputeThinV);\n",
    "    \n",
    "    \n",
    "    cout << \"x1: comman initializer\\n\" << x1.transpose() << \"\\n\\n\";\n",
    "    cout << \"x2: linspace\\n\" << x2.transpose() << \"\\n\\n\";\n",
    "    cout << \"x3: zeors\\n\" << x3.transpose() << \"\\n\\n\";\n",
    "    cout << \"x4: ones\\n\" << x4.transpose() << \"\\n\\n\";\n",
    "    cout << \"x5: constant\\n\" << x5.transpose() << \"\\n\\n\";\n",
    "    cout << \"x6: rand\\n\" << x6.transpose() << \"\\n\\n\";\n",
    "    cout << \"x7: mapping\\n\" << x7.transpose() << \"\\n\\n\";\n",
    "    cout << \"x8: element-wise addition\\n\" << x8.transpose() << \"\\n\\n\";\n",
    "    \n",
    "    cout << \"max of A1\\n\";\n",
    "    cout << A1.maxCoeff() << \"\\n\\n\";\n",
    "    cout << \"x9: norm of columns of A1\\n\" << x9.transpose() << \"\\n\\n\";\n",
    "    cout << \"x10: sum of rows of A1\\n\" << x10.transpose() << \"\\n\\n\"; \n",
    "    \n",
    "    cout << \"head\\n\";\n",
    "    cout << x1.head(3).transpose() << \"\\n\\n\";\n",
    "    cout << \"tail\\n\";\n",
    "    cout << x1.tail(3).transpose() << \"\\n\\n\";\n",
    "    cout << \"slice\\n\";\n",
    "    cout << x1.segment(2, 3).transpose() << \"\\n\\n\";\n",
    "    \n",
    "    cout << \"Reverse\\n\";\n",
    "    cout << x1.reverse().transpose() << \"\\n\\n\";\n",
    "    \n",
    "    cout << \"Indexing vector\\n\";\n",
    "    cout << x1(0);\n",
    "    cout << \"\\n\\n\";\n",
    "    \n",
    "    cout << \"A1: comma initilizer\\n\";\n",
    "    cout << A1 << \"\\n\\n\";\n",
    "    cout << \"A2: constant\\n\";\n",
    "    cout << A2 << \"\\n\\n\";\n",
    "    cout << \"A3: eye\\n\";\n",
    "    cout << A3 << \"\\n\\n\";\n",
    "    cout << \"A4: mapping\\n\";\n",
    "    cout << A4 << \"\\n\\n\";\n",
    "    cout << \"A5: matrix multiplication\\n\";\n",
    "    cout << A5 << \"\\n\\n\";\n",
    "    cout << \"A6: outer product\\n\";\n",
    "    cout << A6 << \"\\n\\n\";    \n",
    "    cout << \"A7: element-wise multiplication\\n\";\n",
    "    cout << A7 << \"\\n\\n\";     \n",
    "    cout << \"A8: ufunc log\\n\";\n",
    "    cout << A8 << \"\\n\\n\";  \n",
    "    cout << \"A9: custom ufucn\\n\";\n",
    "    cout << A9 << \"\\n\\n\";  \n",
    "    cout << \"A10: custom ufunc for normal deviates\\n\";\n",
    "    cout << A10 << \"\\n\\n\";  \n",
    "    cout << \"A11: np.c_\\n\";\n",
    "    cout << A11 << \"\\n\\n\";  \n",
    "    cout << \"A12: np.r_\\n\";\n",
    "    cout << A12 << \"\\n\\n\";      \n",
    "    \n",
    "    cout << \"2x2 block startign at (0,1)\\n\";\n",
    "    cout << A1.block(0,1,2,2) << \"\\n\\n\";\n",
    "    cout << \"top 2 rows of A1\\n\";\n",
    "    cout << A1.topRows(2) << \"\\n\\n\";\n",
    "    cout << \"bottom 2 rows of A1\";\n",
    "    cout << A1.bottomRows(2) << \"\\n\\n\";\n",
    "    cout << \"leftmost 2 cols of A1\";\n",
    "    cout << A1.leftCols(2) << \"\\n\\n\";\n",
    "    cout << \"rightmost 2 cols of A1\";\n",
    "    cout << A1.rightCols(2) << \"\\n\\n\";\n",
    "\n",
    "    cout << \"Diagonal elements of A1\\n\";\n",
    "    cout << A1.diagonal() << \"\\n\\n\";\n",
    "    A1.diagonal() = A1.diagonal().array().square();\n",
    "    cout << \"Transforming diagonal eelemtns of A1\\n\";\n",
    "    cout << A1 << \"\\n\\n\";\n",
    "    \n",
    "    cout << \"Indexing matrix\\n\";\n",
    "    cout << A1(0,0) << \"\\n\\n\";\n",
    "    \n",
    "    cout << \"singular values\\n\";\n",
    "    cout << svd.singularValues() << \"\\n\\n\";\n",
    "    \n",
    "    cout << \"U\\n\";\n",
    "    cout << svd.matrixU() << \"\\n\\n\";\n",
    "    \n",
    "    cout << \"V\\n\";\n",
    "    cout << svd.matrixV() << \"\\n\\n\";\n",
    "}"
   ]
  },
  {
   "cell_type": "code",
   "execution_count": 79,
   "metadata": {},
   "outputs": [],
   "source": [
    "import os\n",
    "if not os.path.exists('./eigen'):\n",
    "    ! hg clone https://bitbucket.org/eigen/eigen/"
   ]
  },
  {
   "cell_type": "code",
   "execution_count": 80,
   "metadata": {},
   "outputs": [],
   "source": [
    "%%bash\n",
    "\n",
    "g++ -o test_eigen.exe test_eigen.cpp -std=c++14 -I./eigen"
   ]
  },
  {
   "cell_type": "code",
   "execution_count": 81,
   "metadata": {
    "scrolled": false
   },
   "outputs": [
    {
     "name": "stdout",
     "output_type": "stream",
     "text": [
      "x1: comman initializer\n",
      "1 2 3 4 5 6\n",
      "\n",
      "x2: linspace\n",
      "  1 1.2 1.4 1.6 1.8   2\n",
      "\n",
      "x3: zeors\n",
      "0 0 0 0 0 0\n",
      "\n",
      "x4: ones\n",
      "1 1 1 1 1 1\n",
      "\n",
      "x5: constant\n",
      "3 3 3 3 3 3\n",
      "\n",
      "x6: rand\n",
      " -0.999984  -0.736924   0.511211 -0.0826997  0.0655345  -0.562082\n",
      "\n",
      "x7: mapping\n",
      "6 5 4 3 2 1\n",
      "\n",
      "x8: element-wise addition\n",
      " 5.00002  4.26308  4.51121   2.9173  2.06553 0.437918\n",
      "\n",
      "max of A1\n",
      "9\n",
      "\n",
      "x9: norm of columns of A1\n",
      "8.12404 9.64365  11.225\n",
      "\n",
      "x10: sum of rows of A1\n",
      " 6 15 24\n",
      "\n",
      "head\n",
      "1 2 3\n",
      "\n",
      "tail\n",
      "4 5 6\n",
      "\n",
      "slice\n",
      "3 4 5\n",
      "\n",
      "Reverse\n",
      "6 5 4 3 2 1\n",
      "\n",
      "Indexing vector\n",
      "1\n",
      "\n",
      "A1: comma initilizer\n",
      "1 2 3\n",
      "4 5 6\n",
      "7 8 9\n",
      "\n",
      "A2: constant\n",
      "1 1 1 1\n",
      "1 1 1 1\n",
      "1 1 1 1\n",
      "\n",
      "A3: eye\n",
      "1 0 0\n",
      "0 1 0\n",
      "0 0 1\n",
      "\n",
      "A4: mapping\n",
      "6 3\n",
      "5 2\n",
      "4 1\n",
      "\n",
      "A5: matrix multiplication\n",
      "77 32\n",
      "32 14\n",
      "\n",
      "A6: outer product\n",
      "36 30 24 18 12  6\n",
      "30 25 20 15 10  5\n",
      "24 20 16 12  8  4\n",
      "18 15 12  9  6  3\n",
      "12 10  8  6  4  2\n",
      " 6  5  4  3  2  1\n",
      "\n",
      "A7: element-wise multiplication\n",
      "36  9\n",
      "25  4\n",
      "16  1\n",
      "\n",
      "A8: ufunc log\n",
      "3.58352 2.19722\n",
      "3.21888 1.38629\n",
      "2.77259       0\n",
      "\n",
      "A9: custom ufucn\n",
      "36  9\n",
      "25  4\n",
      "16  1\n",
      "\n",
      "A10: custom ufunc for normal deviates\n",
      "5.17237 3.73572 6.29422 6.55268\n",
      "5.33713 3.88883 1.93637 4.39812\n",
      "8.22086 6.94502 6.36617  6.5961\n",
      "\n",
      "A11: np.c_\n",
      "  1   1   0\n",
      "  2 1.2   0\n",
      "  3 1.4   0\n",
      "  4 1.6   0\n",
      "  5 1.8   0\n",
      "  6   2   0\n",
      "\n",
      "A12: np.r_\n",
      "  1   2   3   4   5   6\n",
      "  1 1.2 1.4 1.6 1.8   2\n",
      "  0   0   0   0   0   0\n",
      "\n",
      "2x2 block startign at (0,1)\n",
      "2 3\n",
      "5 6\n",
      "\n",
      "top 2 rows of A1\n",
      "1 2 3\n",
      "4 5 6\n",
      "\n",
      "bottom 2 rows of A14 5 6\n",
      "7 8 9\n",
      "\n",
      "leftmost 2 cols of A11 2\n",
      "4 5\n",
      "7 8\n",
      "\n",
      "rightmost 2 cols of A12 3\n",
      "5 6\n",
      "8 9\n",
      "\n",
      "Diagonal elements of A1\n",
      "1\n",
      "5\n",
      "9\n",
      "\n",
      "Transforming diagonal eelemtns of A1\n",
      " 1  2  3\n",
      " 4 25  6\n",
      " 7  8 81\n",
      "\n",
      "Indexing matrix\n",
      "1\n",
      "\n",
      "singular values\n",
      "19.5001\n",
      "2.80674\n",
      "1.29869\n",
      "\n",
      "U\n",
      "  -0.5585   0.75124  0.351733\n",
      "-0.406818 -0.617595  0.673109\n",
      "-0.722895  -0.23284 -0.650544\n",
      "\n",
      "V\n",
      "-0.564245 -0.471949 0.0490777\n",
      "-0.445586 -0.431952 -0.451578\n",
      "-0.456672  0.730484 -0.480641\n",
      "-0.523957  0.238904  0.750102\n",
      "\n"
     ]
    }
   ],
   "source": [
    "%%bash\n",
    "\n",
    "./test_eigen.exe"
   ]
  },
  {
   "cell_type": "markdown",
   "metadata": {},
   "source": [
    "### Check SVD"
   ]
  },
  {
   "cell_type": "code",
   "execution_count": 82,
   "metadata": {},
   "outputs": [],
   "source": [
    "import numpy as np\n",
    "\n",
    "A10 = np.array([\n",
    "    [5.17237, 3.73572, 6.29422, 6.55268],\n",
    "    [5.33713, 3.88883, 1.93637, 4.39812],\n",
    "    [8.22086, 6.94502, 6.36617,  6.5961]\n",
    "])\n",
    "\n",
    "U, s, Vt = np.linalg.svd(A10, full_matrices=False)"
   ]
  },
  {
   "cell_type": "code",
   "execution_count": 83,
   "metadata": {},
   "outputs": [
    {
     "data": {
      "text/plain": [
       "array([19.50007376,  2.80674189,  1.29869186])"
      ]
     },
     "execution_count": 83,
     "metadata": {},
     "output_type": "execute_result"
    }
   ],
   "source": [
    "s"
   ]
  },
  {
   "cell_type": "code",
   "execution_count": 84,
   "metadata": {},
   "outputs": [
    {
     "data": {
      "text/plain": [
       "array([[-0.55849978, -0.75124103, -0.3517313 ],\n",
       "       [-0.40681745,  0.61759344, -0.67311062],\n",
       "       [-0.72289526,  0.2328417 ,  0.65054376]])"
      ]
     },
     "execution_count": 84,
     "metadata": {},
     "output_type": "execute_result"
    }
   ],
   "source": [
    "U"
   ]
  },
  {
   "cell_type": "code",
   "execution_count": 85,
   "metadata": {},
   "outputs": [
    {
     "data": {
      "text/plain": [
       "array([[-0.56424535,  0.47194895, -0.04907563],\n",
       "       [-0.44558625,  0.43195279,  0.45157518],\n",
       "       [-0.45667231, -0.73048295,  0.48064272],\n",
       "       [-0.52395657, -0.23890509, -0.75010267]])"
      ]
     },
     "execution_count": 85,
     "metadata": {},
     "output_type": "execute_result"
    }
   ],
   "source": [
    "Vt.T"
   ]
  },
  {
   "cell_type": "code",
   "execution_count": null,
   "metadata": {},
   "outputs": [],
   "source": []
  }
 ],
 "metadata": {
  "kernelspec": {
   "display_name": "Python 3 (ipykernel)",
   "language": "python",
   "name": "python3"
  },
  "language_info": {
   "codemirror_mode": {
    "name": "ipython",
    "version": 3
   },
   "file_extension": ".py",
   "mimetype": "text/x-python",
   "name": "python",
   "nbconvert_exporter": "python",
   "pygments_lexer": "ipython3",
   "version": "3.8.11"
  }
 },
 "nbformat": 4,
 "nbformat_minor": 2
}
