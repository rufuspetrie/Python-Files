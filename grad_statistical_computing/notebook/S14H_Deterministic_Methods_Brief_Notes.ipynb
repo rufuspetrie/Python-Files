{
 "cells": [
  {
   "cell_type": "markdown",
   "metadata": {},
   "source": [
    "# Deterministic methods"
   ]
  },
  {
   "cell_type": "markdown",
   "metadata": {},
   "source": [
    "## Point estimates\n",
    "\n",
    "If we just want to find the parameter value that maximizes the posterior probability, we can just use numerical optimization over $p(y \\mid \\theta)p(\\theta)$. The value found is known as the Maximum a Posteriori (or MAP), and is the Bayesian counterpart of the Maximum Likelihood Estimate (MLE). However, a point estimate gives relatively little information and may be highly misleading, and hence we are usually interested in estimating the full posterior distribution. \n",
    "\n",
    "As we have seen, MCMC is one method for estimating the posterior. However, MCMC is relatively slow, and an alternative is to use deterministic Variational Inference (VI) methods which are usually much faster. The trade-off is that VI methods can only find an approximation of the true posterior, and the approximation may not be very good. "
   ]
  },
  {
   "cell_type": "markdown",
   "metadata": {},
   "source": [
    "## Laplace approximation\n",
    "\n",
    "The basic idea is to use a Gaussian $N(\\mu, \\Sigma)$ centered at the mode of the log posterior distribution as an approximation. This can be done by first finding the mode using numerical optimization and using that for $\\mu$, then estimating the covariance as the inverse of the Hessian at the mode.\n",
    "\n",
    "Note that for a Gaussian, the negative log likelihood basically has the form $a + b + \\frac{1}{2}x^T A x$ where $A = \\Sigma^{-1}$ and $a, b$ are terms that don't depend on $x$. By differentiating, we get that the Hessian is the inverse covariance matrix.\n",
    "\n",
    "Notes and illustrations in class."
   ]
  },
  {
   "cell_type": "markdown",
   "metadata": {},
   "source": [
    "## Entropy\n",
    "\n",
    "$$\n",
    "H(p) = -\\sum_{i} p_i \\log(p_i)\n",
    "$$"
   ]
  },
  {
   "cell_type": "code",
   "execution_count": 8,
   "metadata": {},
   "outputs": [],
   "source": [
    "%matplotlib inline"
   ]
  },
  {
   "cell_type": "code",
   "execution_count": 9,
   "metadata": {},
   "outputs": [],
   "source": [
    "import matplotlib.pyplot as plt"
   ]
  },
  {
   "cell_type": "code",
   "execution_count": 3,
   "metadata": {},
   "outputs": [],
   "source": [
    "import numpy as np"
   ]
  },
  {
   "cell_type": "code",
   "execution_count": 19,
   "metadata": {},
   "outputs": [],
   "source": [
    "import scipy.stats as stats"
   ]
  },
  {
   "cell_type": "code",
   "execution_count": 2,
   "metadata": {},
   "outputs": [],
   "source": [
    "def entropy(p):\n",
    "    \"\"\"Calculate entropy.\"\"\"\n",
    "    return -np.sum(p * np.log(p))"
   ]
  },
  {
   "cell_type": "code",
   "execution_count": 31,
   "metadata": {},
   "outputs": [
    {
     "name": "stdout",
     "output_type": "stream",
     "text": [
      "N(1,   1) entropy = 1.42\n",
      "N(1,  10) entropy = 3.72\n",
      "N(1, 100) entropy = 6.02\n"
     ]
    }
   ],
   "source": [
    "for σ in 1, 10, 100:\n",
    "    print('N(1, %3d) entropy = %.2f' % (σ, stats.norm(0, σ).entropy()))"
   ]
  },
  {
   "cell_type": "markdown",
   "metadata": {},
   "source": [
    "## Kullback-Leibler divergence (relative entropy)\n",
    "\n",
    "$$\n",
    "D_{\\text{KL}}(p \\vert\\vert q) = \\sum_i p_i \\log \\frac{p_i}{q_i}\n",
    "$$\n",
    "\n",
    "In the usual interpretation, $p$ is the true distribution (e.g. posterior probability), and $q$ is an approximation (e.g. prior probability). $D_{\\text{KL}}(p \\vert\\vert q)$ is a measure of how well $q$ approximates $p$, and hence is usually read as the Kullback Leibler divergence from $q$ to $p$.\n",
    "\n",
    "Properties of  $D_{\\text{KL}}(p \\vert\\vert q)$\n",
    "\n",
    "- non-negative (e.g. use Jensen's inequality)\n",
    "$$\n",
    "D_{\\text{KL}}(p \\vert\\vert q) = \\sum_i p_i \\log \\frac{p_i}{q_i} =  -\\sum_i p_i \\log \\frac{q_i}{p_i} \\ge -\\log\\sum_i p_i  \\frac{q_i}{p_i} = 0\n",
    "$$\n",
    "- equal to zero only if $p = q$ almost everywhere\n",
    "- invariant under parameter transforms\n",
    "- Suppose $p(x) = p_1(x) p_2(x)$ and $q(x) = q_1(x) q_2(x)$, then \n",
    "$$D_{\\text{KL}}(p \\vert\\vert q) = D_{\\text{KL}}(p_1 \\vert\\vert q_1) + D_{\\text{KL}}(p_2 \\vert\\vert q_2)$$\n",
    "\n",
    "Note:\n",
    "\n",
    "- If $p_i = 0$ then $i$ contributes 0 to DKL\n",
    "- If $q_i = 0$ and $p_i = 0$, then $i$ contributes 0 to DKL\n",
    "- If $q_i = 0$ and $p_i \\ne 0$, then DKL is undefined."
   ]
  },
  {
   "cell_type": "code",
   "execution_count": 50,
   "metadata": {},
   "outputs": [],
   "source": [
    "xs = np.random.poisson(5, 1000)"
   ]
  },
  {
   "cell_type": "code",
   "execution_count": 51,
   "metadata": {},
   "outputs": [
    {
     "data": {
      "image/png": "[encoded data removed]",
      "text/plain": [
       "<Figure size 432x288 with 1 Axes>"
      ]
     },
     "metadata": {
      "needs_background": "light"
     },
     "output_type": "display_data"
    }
   ],
   "source": [
    "ys = np.bincount(xs)\n",
    "ys = ys/ys.sum()\n",
    "plt.stem(ys)\n",
    "pass"
   ]
  },
  {
   "cell_type": "code",
   "execution_count": 52,
   "metadata": {},
   "outputs": [],
   "source": [
    "r = np.arange(len(ys))"
   ]
  },
  {
   "cell_type": "code",
   "execution_count": 53,
   "metadata": {},
   "outputs": [
    {
     "data": {
      "text/plain": [
       "array([ 0,  1,  2,  3,  4,  5,  6,  7,  8,  9, 10, 11, 12])"
      ]
     },
     "execution_count": 53,
     "metadata": {},
     "output_type": "execute_result"
    }
   ],
   "source": [
    "r"
   ]
  },
  {
   "cell_type": "code",
   "execution_count": 69,
   "metadata": {},
   "outputs": [
    {
     "data": {
      "image/png": "[encoded data removed]",
      "text/plain": [
       "<Figure size 864x216 with 3 Axes>"
      ]
     },
     "metadata": {
      "needs_background": "light"
     },
     "output_type": "display_data"
    }
   ],
   "source": [
    "fig, axes = plt.subplots(1,3,figsize=(12,3), sharey=True)\n",
    "for ax, λ in zip(axes, (4, 5,6)):\n",
    "    ax.stem(ys)\n",
    "    ax.stem(r+0.3, stats.poisson(λ).pmf(r), linefmt='C3-', markerfmt='C3o')\n",
    "    ax.set_title('DKL(p, Poisson(%d}) = %.2f' % (λ, stats.entropy(ys, stats.poisson(λ).pmf(r))))"
   ]
  },
  {
   "cell_type": "markdown",
   "metadata": {},
   "source": [
    "## Evidence lower bound (ELBO)\n",
    "\n",
    "We want to approximate the posterior distribution $p(\\theta \\mid y)$ with $q(\\theta)$. In the usual approach, we want to minimize \n",
    "\n",
    "\\begin{array}\n",
    "\\\\\n",
    "D_{\\text{KL}}(q(\\theta) \\vert\\vert p(\\theta | y)) &= \\int q(\\theta) \\log \\frac{q(\\theta)}{p(\\theta \\mid y)} \\ d\\theta \\\\\n",
    "&= \\int q(\\theta) \\log \\frac{q(\\theta)}{p(\\theta, y)}p(y) \\ d\\theta \\\\\n",
    "&= \\int q(\\theta) \\left( \\log \\frac{q(\\theta)}{p(\\theta, y)} + \\log p(y) \\right) \\ d\\theta \\\\\n",
    "&= \\int q(\\theta)  \\log \\frac{q(\\theta)}{p(\\theta, y)} \\ d\\theta + \\int q(\\theta) \\log p(y) \\ d\\theta \\\\\n",
    "&= - \\int q(\\theta) \\log \\frac{p(\\theta, y)}{q(\\theta)} \\ d\\theta + \\log p(y)\n",
    "\\end{array}\n",
    "\n",
    "Since the Kullback-Leibler divergence $\\ge 0$, the marginal likelihood or evidence $p(y) \\ge \\int q(\\theta) \\log \\frac{p(\\theta, y)}{q(\\theta)} \\ d\\theta$ and $\\int q(\\theta) \\log \\frac{p(\\theta, y)}{q(\\theta)} \\ d\\theta$ is known as the Evidence Lower Bound (ELBO). The ELBO can also be seen as $E_q[\\log p(\\theta, y)] - E[\\log q(\\theta)]$, where the second term is the entropy (or differential entropy).\n",
    "\n",
    "Hence if $q(\\theta)$ is a family of (simple) distributions with tuning parameters $\\lambda$, finding the values of $\\lambda$ that maximize the ELBO is equivalent to minimizing $D_{\\text{KL}}(q(\\theta) \\vert\\vert p(\\theta | y))$."
   ]
  },
  {
   "cell_type": "markdown",
   "metadata": {},
   "source": [
    "### Variational Inference with a mean field approximation\n",
    "\n",
    "To estimate $\\theta = (\\theta_1, \\theta_2, \\ldots, \\theta_n)$, the mean field approximation assumes that \n",
    "\n",
    "$$\n",
    "q(\\theta) = \\prod_{i=1}^{n} q(\\theta_i)\n",
    "$$\n",
    "\n",
    "The factorization gives a form of the ELBO that can be solved by numerical optimization. Note that the solution found will usually not be the true posterior, since the mean field approximations assume that the variables are independent.\n"
   ]
  },
  {
   "cell_type": "markdown",
   "metadata": {},
   "source": [
    "![img](https://ai2-s2-public.s3.amazonaws.com/figures/2017-08-08/0dffe45c7df96e18d3300ce1d0f08d9debed4a38/9-Figure1-1.png)\n",
    "\n",
    "Source: [Variational Inference: A Review for Statisticians](https://arxiv.org/pdf/1601.00670.pdf)"
   ]
  },
  {
   "cell_type": "markdown",
   "metadata": {},
   "source": [
    "## ADVI\n",
    "\n",
    "The optimization is usually done with gradient information with derivatives found by automatic differentiation, and hence this family of probabilistic inference engines is known as Automatic Differentiation Variational Inference (ADVI).\n",
    "\n",
    "For further reading, see [Variational Inference: A Review for Statisticians](https://arxiv.org/pdf/1601.00670.pdf)"
   ]
  },
  {
   "cell_type": "code",
   "execution_count": null,
   "metadata": {},
   "outputs": [],
   "source": []
  }
 ],
 "metadata": {
  "kernelspec": {
   "display_name": "Python 3 (ipykernel)",
   "language": "python",
   "name": "python3"
  },
  "language_info": {
   "codemirror_mode": {
    "name": "ipython",
    "version": 3
   },
   "file_extension": ".py",
   "mimetype": "text/x-python",
   "name": "python",
   "nbconvert_exporter": "python",
   "pygments_lexer": "ipython3",
   "version": "3.8.11"
  }
 },
 "nbformat": 4,
 "nbformat_minor": 2
}
