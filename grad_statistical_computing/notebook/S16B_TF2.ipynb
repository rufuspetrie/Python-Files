{
 "cells": [
  {
   "cell_type": "markdown",
   "metadata": {},
   "source": [
    "# Tensorflow"
   ]
  },
  {
   "cell_type": "code",
   "execution_count": 1,
   "metadata": {},
   "outputs": [],
   "source": [
    "%matplotlib inline"
   ]
  },
  {
   "cell_type": "code",
   "execution_count": 2,
   "metadata": {},
   "outputs": [],
   "source": [
    "import warnings\n",
    "warnings.simplefilter('ignore', RuntimeWarning)"
   ]
  },
  {
   "cell_type": "code",
   "execution_count": 3,
   "metadata": {},
   "outputs": [],
   "source": [
    "import matplotlib.pyplot as plt\n",
    "import numpy as np\n",
    "import seaborn as sns"
   ]
  },
  {
   "cell_type": "markdown",
   "metadata": {},
   "source": [
    "We work with TF1 but ask it to emulate TF2 behavior"
   ]
  },
  {
   "cell_type": "code",
   "execution_count": 4,
   "metadata": {},
   "outputs": [],
   "source": [
    "import tensorflow.compat.v2 as tf\n",
    "tf.enable_v2_behavior()"
   ]
  },
  {
   "cell_type": "code",
   "execution_count": 5,
   "metadata": {},
   "outputs": [],
   "source": [
    "%%capture\n",
    "import tensorflow_probability as tfp\n",
    "tfd = tfp.distributions"
   ]
  },
  {
   "cell_type": "markdown",
   "metadata": {},
   "source": [
    "## Working with tensors\n",
    "\n",
    "Almost exaclty like numpy arrays.`m"
   ]
  },
  {
   "cell_type": "code",
   "execution_count": 6,
   "metadata": {},
   "outputs": [
    {
     "data": {
      "text/plain": [
       "<tf.Tensor: id=0, shape=(3,), dtype=float32, numpy=array([1., 2., 3.], dtype=float32)>"
      ]
     },
     "execution_count": 6,
     "metadata": {},
     "output_type": "execute_result"
    }
   ],
   "source": [
    "tf.constant([1., 2., 3.])"
   ]
  },
  {
   "cell_type": "code",
   "execution_count": 7,
   "metadata": {},
   "outputs": [],
   "source": [
    "x = tf.Variable([[1.,2.,3.], [4.,5.,6.]])"
   ]
  },
  {
   "cell_type": "code",
   "execution_count": 8,
   "metadata": {},
   "outputs": [
    {
     "data": {
      "text/plain": [
       "TensorShape([2, 3])"
      ]
     },
     "execution_count": 8,
     "metadata": {},
     "output_type": "execute_result"
    }
   ],
   "source": [
    "x.shape"
   ]
  },
  {
   "cell_type": "code",
   "execution_count": 9,
   "metadata": {},
   "outputs": [
    {
     "data": {
      "text/plain": [
       "tf.float32"
      ]
     },
     "execution_count": 9,
     "metadata": {},
     "output_type": "execute_result"
    }
   ],
   "source": [
    "x.dtype"
   ]
  },
  {
   "cell_type": "markdown",
   "metadata": {},
   "source": [
    "### Conversin to numpy"
   ]
  },
  {
   "cell_type": "code",
   "execution_count": 10,
   "metadata": {},
   "outputs": [
    {
     "data": {
      "text/plain": [
       "array([[1., 2., 3.],\n",
       "       [4., 5., 6.]], dtype=float32)"
      ]
     },
     "execution_count": 10,
     "metadata": {},
     "output_type": "execute_result"
    }
   ],
   "source": [
    "x.numpy()"
   ]
  },
  {
   "cell_type": "markdown",
   "metadata": {},
   "source": [
    "### Indexing"
   ]
  },
  {
   "cell_type": "code",
   "execution_count": 11,
   "metadata": {},
   "outputs": [
    {
     "data": {
      "text/plain": [
       "<tf.Tensor: id=16, shape=(2, 2), dtype=float32, numpy=\n",
       "array([[1., 2.],\n",
       "       [4., 5.]], dtype=float32)>"
      ]
     },
     "execution_count": 11,
     "metadata": {},
     "output_type": "execute_result"
    }
   ],
   "source": [
    "x[:, :2]"
   ]
  },
  {
   "cell_type": "markdown",
   "metadata": {},
   "source": [
    "### Assignment"
   ]
  },
  {
   "cell_type": "code",
   "execution_count": 12,
   "metadata": {},
   "outputs": [
    {
     "data": {
      "text/plain": [
       "<tf.Variable 'UnreadVariable' shape=(2, 3) dtype=float32, numpy=\n",
       "array([[3., 2., 1.],\n",
       "       [4., 5., 6.]], dtype=float32)>"
      ]
     },
     "execution_count": 12,
     "metadata": {},
     "output_type": "execute_result"
    }
   ],
   "source": [
    "x[0,:].assign([3.,2.,1.])"
   ]
  },
  {
   "cell_type": "code",
   "execution_count": 13,
   "metadata": {},
   "outputs": [
    {
     "data": {
      "text/plain": [
       "<tf.Variable 'Variable:0' shape=(2, 3) dtype=float32, numpy=\n",
       "array([[3., 2., 1.],\n",
       "       [4., 5., 6.]], dtype=float32)>"
      ]
     },
     "execution_count": 13,
     "metadata": {},
     "output_type": "execute_result"
    }
   ],
   "source": [
    "x"
   ]
  },
  {
   "cell_type": "markdown",
   "metadata": {},
   "source": [
    "### Reductions"
   ]
  },
  {
   "cell_type": "code",
   "execution_count": 14,
   "metadata": {},
   "outputs": [
    {
     "data": {
      "text/plain": [
       "<tf.Tensor: id=30, shape=(3,), dtype=float32, numpy=array([3.5, 3.5, 3.5], dtype=float32)>"
      ]
     },
     "execution_count": 14,
     "metadata": {},
     "output_type": "execute_result"
    }
   ],
   "source": [
    "tf.reduce_mean(x, axis=0)"
   ]
  },
  {
   "cell_type": "code",
   "execution_count": 15,
   "metadata": {},
   "outputs": [
    {
     "data": {
      "text/plain": [
       "<tf.Tensor: id=34, shape=(2,), dtype=float32, numpy=array([ 6., 15.], dtype=float32)>"
      ]
     },
     "execution_count": 15,
     "metadata": {},
     "output_type": "execute_result"
    }
   ],
   "source": [
    "tf.reduce_sum(x, axis=1)"
   ]
  },
  {
   "cell_type": "markdown",
   "metadata": {},
   "source": [
    "### Broadcasting"
   ]
  },
  {
   "cell_type": "code",
   "execution_count": 16,
   "metadata": {},
   "outputs": [
    {
     "data": {
      "text/plain": [
       "<tf.Tensor: id=38, shape=(2, 3), dtype=float32, numpy=\n",
       "array([[13., 12., 11.],\n",
       "       [14., 15., 16.]], dtype=float32)>"
      ]
     },
     "execution_count": 16,
     "metadata": {},
     "output_type": "execute_result"
    }
   ],
   "source": [
    "x + 10"
   ]
  },
  {
   "cell_type": "code",
   "execution_count": 17,
   "metadata": {},
   "outputs": [
    {
     "data": {
      "text/plain": [
       "<tf.Tensor: id=42, shape=(2, 3), dtype=float32, numpy=\n",
       "array([[30., 20., 10.],\n",
       "       [40., 50., 60.]], dtype=float32)>"
      ]
     },
     "execution_count": 17,
     "metadata": {},
     "output_type": "execute_result"
    }
   ],
   "source": [
    "x * 10"
   ]
  },
  {
   "cell_type": "code",
   "execution_count": 18,
   "metadata": {},
   "outputs": [
    {
     "data": {
      "text/plain": [
       "<tf.Tensor: id=52, shape=(2, 3), dtype=float32, numpy=\n",
       "array([[ 1.,  0., -1.],\n",
       "       [-1.,  0.,  1.]], dtype=float32)>"
      ]
     },
     "execution_count": 18,
     "metadata": {},
     "output_type": "execute_result"
    }
   ],
   "source": [
    "x - tf.reduce_mean(x, axis=1)[:, tf.newaxis]"
   ]
  },
  {
   "cell_type": "markdown",
   "metadata": {},
   "source": [
    "### Matrix operations"
   ]
  },
  {
   "cell_type": "code",
   "execution_count": 19,
   "metadata": {},
   "outputs": [
    {
     "data": {
      "text/plain": [
       "<tf.Tensor: id=58, shape=(2, 2), dtype=float32, numpy=\n",
       "array([[14., 28.],\n",
       "       [28., 77.]], dtype=float32)>"
      ]
     },
     "execution_count": 19,
     "metadata": {},
     "output_type": "execute_result"
    }
   ],
   "source": [
    "x @ tf.transpose(x)"
   ]
  },
  {
   "cell_type": "markdown",
   "metadata": {},
   "source": [
    "### Ufuncs"
   ]
  },
  {
   "cell_type": "code",
   "execution_count": 20,
   "metadata": {},
   "outputs": [
    {
     "data": {
      "text/plain": [
       "<tf.Tensor: id=61, shape=(2, 3), dtype=float32, numpy=\n",
       "array([[ 20.085537 ,   7.389056 ,   2.7182817],\n",
       "       [ 54.59815  , 148.41316  , 403.4288   ]], dtype=float32)>"
      ]
     },
     "execution_count": 20,
     "metadata": {},
     "output_type": "execute_result"
    }
   ],
   "source": [
    "tf.exp(x)"
   ]
  },
  {
   "cell_type": "code",
   "execution_count": 21,
   "metadata": {},
   "outputs": [
    {
     "data": {
      "text/plain": [
       "<tf.Tensor: id=64, shape=(2, 3), dtype=float32, numpy=\n",
       "array([[1.7320508, 1.4142135, 1.       ],\n",
       "       [2.       , 2.236068 , 2.4494898]], dtype=float32)>"
      ]
     },
     "execution_count": 21,
     "metadata": {},
     "output_type": "execute_result"
    }
   ],
   "source": [
    "tf.sqrt(x)"
   ]
  },
  {
   "cell_type": "markdown",
   "metadata": {},
   "source": [
    "### Random numbers"
   ]
  },
  {
   "cell_type": "code",
   "execution_count": 22,
   "metadata": {},
   "outputs": [],
   "source": [
    "X = tf.random.normal(shape=(10,4))\n",
    "y = tf.random.normal(shape=(10,1))"
   ]
  },
  {
   "cell_type": "markdown",
   "metadata": {},
   "source": [
    "### Linear algebra"
   ]
  },
  {
   "cell_type": "code",
   "execution_count": 23,
   "metadata": {},
   "outputs": [
    {
     "data": {
      "text/plain": [
       "<tf.Tensor: id=82, shape=(4, 1), dtype=float32, numpy=\n",
       "array([[-0.20034605],\n",
       "       [-0.18362193],\n",
       "       [-0.77986723],\n",
       "       [-0.558746  ]], dtype=float32)>"
      ]
     },
     "execution_count": 23,
     "metadata": {},
     "output_type": "execute_result"
    }
   ],
   "source": [
    "tf.linalg.lstsq(X, y)"
   ]
  },
  {
   "cell_type": "markdown",
   "metadata": {},
   "source": [
    "### Vectorization"
   ]
  },
  {
   "cell_type": "code",
   "execution_count": 24,
   "metadata": {},
   "outputs": [],
   "source": [
    "X = tf.random.normal(shape=(1000,10,4))\n",
    "y = tf.random.normal(shape=(1000,10,1))"
   ]
  },
  {
   "cell_type": "code",
   "execution_count": 25,
   "metadata": {},
   "outputs": [
    {
     "data": {
      "text/plain": [
       "<tf.Tensor: id=100, shape=(1000, 4, 1), dtype=float32, numpy=\n",
       "array([[[ 0.04171363],\n",
       "        [ 0.8832583 ],\n",
       "        [ 0.5841526 ],\n",
       "        [-0.48581767]],\n",
       "\n",
       "       [[-0.73950046],\n",
       "        [-0.22255968],\n",
       "        [ 0.7190923 ],\n",
       "        [ 0.5090183 ]],\n",
       "\n",
       "       [[ 0.74239963],\n",
       "        [-0.5741371 ],\n",
       "        [-0.19040915],\n",
       "        [ 0.1790382 ]],\n",
       "\n",
       "       ...,\n",
       "\n",
       "       [[-0.21469031],\n",
       "        [-0.5195575 ],\n",
       "        [-0.08611798],\n",
       "        [ 0.2624016 ]],\n",
       "\n",
       "       [[ 0.01139675],\n",
       "        [ 0.3803665 ],\n",
       "        [-0.1892877 ],\n",
       "        [ 0.27254012]],\n",
       "\n",
       "       [[ 0.21505316],\n",
       "        [ 0.43938717],\n",
       "        [-0.4075264 ],\n",
       "        [-0.12740411]]], dtype=float32)>"
      ]
     },
     "execution_count": 25,
     "metadata": {},
     "output_type": "execute_result"
    }
   ],
   "source": [
    "tf.linalg.lstsq(X, y)"
   ]
  },
  {
   "cell_type": "markdown",
   "metadata": {},
   "source": [
    "### Automatic differntiation"
   ]
  },
  {
   "cell_type": "code",
   "execution_count": 26,
   "metadata": {},
   "outputs": [],
   "source": [
    "def f(x,y):\n",
    "    return x**2 + 2*y**2 + 3*x*y"
   ]
  },
  {
   "cell_type": "markdown",
   "metadata": {},
   "source": [
    "#### Gradient"
   ]
  },
  {
   "cell_type": "code",
   "execution_count": 27,
   "metadata": {},
   "outputs": [],
   "source": [
    "x, y = tf.Variable(1.0), tf.Variable(2.0)"
   ]
  },
  {
   "cell_type": "code",
   "execution_count": 28,
   "metadata": {},
   "outputs": [],
   "source": [
    "with tf.GradientTape() as tape:\n",
    "    z = f(x, y)"
   ]
  },
  {
   "cell_type": "code",
   "execution_count": 29,
   "metadata": {},
   "outputs": [
    {
     "data": {
      "text/plain": [
       "[<tf.Tensor: id=186, shape=(), dtype=float32, numpy=8.0>,\n",
       " <tf.Tensor: id=187, shape=(), dtype=float32, numpy=11.0>]"
      ]
     },
     "execution_count": 29,
     "metadata": {},
     "output_type": "execute_result"
    }
   ],
   "source": [
    "tape.gradient(z, [x,y])"
   ]
  },
  {
   "cell_type": "markdown",
   "metadata": {},
   "source": [
    "#### Hessian"
   ]
  },
  {
   "cell_type": "code",
   "execution_count": 30,
   "metadata": {},
   "outputs": [],
   "source": [
    "with tf.GradientTape(persistent=True) as H_tape:\n",
    "    with tf.GradientTape() as J_tape:\n",
    "        z = f(x, y)\n",
    "    Js = J_tape.gradient(z, [x,y])\n",
    "Hs = [H_tape.gradient(J, [x,y]) for J in Js]\n",
    "del H_tape                    "
   ]
  },
  {
   "cell_type": "code",
   "execution_count": 31,
   "metadata": {},
   "outputs": [
    {
     "data": {
      "text/plain": [
       "array([[2., 3.],\n",
       "       [3., 4.]], dtype=float32)"
      ]
     },
     "execution_count": 31,
     "metadata": {},
     "output_type": "execute_result"
    }
   ],
   "source": [
    "np.array(Hs)"
   ]
  },
  {
   "cell_type": "markdown",
   "metadata": {},
   "source": [
    "## Keras"
   ]
  },
  {
   "cell_type": "code",
   "execution_count": 32,
   "metadata": {},
   "outputs": [],
   "source": [
    "from sklearn.datasets import fetch_california_housing\n",
    "from sklearn.model_selection import train_test_split\n",
    "from sklearn.preprocessing import StandardScaler"
   ]
  },
  {
   "cell_type": "code",
   "execution_count": 33,
   "metadata": {},
   "outputs": [],
   "source": [
    "data = fetch_california_housing()"
   ]
  },
  {
   "cell_type": "code",
   "execution_count": 34,
   "metadata": {},
   "outputs": [],
   "source": [
    "X_train, X_test, y_train, y_test = train_test_split(data.data, data.target)"
   ]
  },
  {
   "cell_type": "code",
   "execution_count": 35,
   "metadata": {},
   "outputs": [
    {
     "data": {
      "text/plain": [
       "(0.14999, 5.00001)"
      ]
     },
     "execution_count": 35,
     "metadata": {},
     "output_type": "execute_result"
    }
   ],
   "source": [
    "y_train.min(), y_train.max()"
   ]
  },
  {
   "cell_type": "code",
   "execution_count": 36,
   "metadata": {},
   "outputs": [],
   "source": [
    "scalar = StandardScaler()\n",
    "X_train_s = scalar.fit_transform(X_train)\n",
    "X_test_s = scalar.transform(X_test)"
   ]
  },
  {
   "cell_type": "code",
   "execution_count": 37,
   "metadata": {},
   "outputs": [],
   "source": [
    "import tensorflow.keras as keras"
   ]
  },
  {
   "cell_type": "code",
   "execution_count": 38,
   "metadata": {},
   "outputs": [],
   "source": [
    "Dense = keras.layers.Dense"
   ]
  },
  {
   "cell_type": "markdown",
   "metadata": {},
   "source": [
    "We can consider a DL model as just a black box with a bunch of unnown parameters. For exanple, when the outoput is a Dense layer with just one node, the entire network model is just doing some form of regression. Hence we can replace a linear regression model with such a neural network model and run MCMC or VI as usual."
   ]
  },
  {
   "cell_type": "code",
   "execution_count": 39,
   "metadata": {},
   "outputs": [],
   "source": [
    "model = keras.models.Sequential([\n",
    "    Dense(30, \n",
    "          activation='elu', \n",
    "          input_shape=X_train.shape[1:]),\n",
    "    Dense(1)\n",
    "])"
   ]
  },
  {
   "cell_type": "code",
   "execution_count": 40,
   "metadata": {},
   "outputs": [],
   "source": [
    "model.compile(loss=\"mse\", optimizer=\"nadam\", metrics=[\"mae\"])"
   ]
  },
  {
   "cell_type": "code",
   "execution_count": 41,
   "metadata": {},
   "outputs": [
    {
     "name": "stdout",
     "output_type": "stream",
     "text": [
      "Model: \"sequential\"\n",
      "_________________________________________________________________\n",
      "Layer (type)                 Output Shape              Param #   \n",
      "=================================================================\n",
      "dense (Dense)                (None, 30)                270       \n",
      "_________________________________________________________________\n",
      "dense_1 (Dense)              (None, 1)                 31        \n",
      "=================================================================\n",
      "Total params: 301\n",
      "Trainable params: 301\n",
      "Non-trainable params: 0\n",
      "_________________________________________________________________\n"
     ]
    }
   ],
   "source": [
    "model.summary()"
   ]
  },
  {
   "cell_type": "code",
   "execution_count": 42,
   "metadata": {},
   "outputs": [
    {
     "data": {
      "text/plain": [
       "[<tensorflow.python.keras.layers.core.Dense at 0x1a2fad3cc0>,\n",
       " <tensorflow.python.keras.layers.core.Dense at 0x1a2fc2b080>]"
      ]
     },
     "execution_count": 42,
     "metadata": {},
     "output_type": "execute_result"
    }
   ],
   "source": [
    "model.layers"
   ]
  },
  {
   "cell_type": "code",
   "execution_count": 43,
   "metadata": {},
   "outputs": [
    {
     "data": {
      "text/plain": [
       "'dense'"
      ]
     },
     "execution_count": 43,
     "metadata": {},
     "output_type": "execute_result"
    }
   ],
   "source": [
    "model.layers[0].name"
   ]
  },
  {
   "cell_type": "code",
   "execution_count": 44,
   "metadata": {},
   "outputs": [
    {
     "data": {
      "text/plain": [
       "<function tensorflow.python.keras.activations.elu(x, alpha=1.0)>"
      ]
     },
     "execution_count": 44,
     "metadata": {},
     "output_type": "execute_result"
    }
   ],
   "source": [
    "model.layers[0].activation"
   ]
  },
  {
   "cell_type": "code",
   "execution_count": 45,
   "metadata": {},
   "outputs": [
    {
     "name": "stdout",
     "output_type": "stream",
     "text": [
      "Train on 12384 samples, validate on 3096 samples\n",
      "Epoch 1/10\n",
      "12384/12384 [==============================] - 1s 118us/sample - loss: 1.8582 - mae: 0.9963 - val_loss: 0.5784 - val_mae: 0.5518\n",
      "Epoch 2/10\n",
      "12384/12384 [==============================] - 1s 73us/sample - loss: 0.5320 - mae: 0.5257 - val_loss: 0.4855 - val_mae: 0.5058\n",
      "Epoch 3/10\n",
      "12384/12384 [==============================] - 1s 73us/sample - loss: 0.4773 - mae: 0.4980 - val_loss: 0.4502 - val_mae: 0.4890\n",
      "Epoch 4/10\n",
      "12384/12384 [==============================] - 1s 78us/sample - loss: 0.4565 - mae: 0.4889 - val_loss: 0.4334 - val_mae: 0.4801\n",
      "Epoch 5/10\n",
      "12384/12384 [==============================] - 1s 79us/sample - loss: 0.4521 - mae: 0.4853 - val_loss: 0.4253 - val_mae: 0.4713\n",
      "Epoch 6/10\n",
      "12384/12384 [==============================] - 1s 77us/sample - loss: 0.4385 - mae: 0.4791 - val_loss: 0.4205 - val_mae: 0.4684\n",
      "Epoch 7/10\n",
      "12384/12384 [==============================] - 1s 79us/sample - loss: 0.4371 - mae: 0.4756 - val_loss: 0.4212 - val_mae: 0.4678\n",
      "Epoch 8/10\n",
      "12384/12384 [==============================] - 1s 81us/sample - loss: 0.4282 - mae: 0.4719 - val_loss: 0.4136 - val_mae: 0.4633\n",
      "Epoch 9/10\n",
      "12384/12384 [==============================] - 1s 73us/sample - loss: 0.4227 - mae: 0.4691 - val_loss: 0.4069 - val_mae: 0.4545\n",
      "Epoch 10/10\n",
      "12384/12384 [==============================] - 1s 60us/sample - loss: 0.4159 - mae: 0.4650 - val_loss: 0.4172 - val_mae: 0.4628\n"
     ]
    }
   ],
   "source": [
    "hist = model.fit(X_train_s, \n",
    "                 y_train,\n",
    "                 epochs=10,\n",
    "                 validation_split=0.2)"
   ]
  },
  {
   "cell_type": "code",
   "execution_count": 46,
   "metadata": {},
   "outputs": [],
   "source": [
    "import pandas as pd"
   ]
  },
  {
   "cell_type": "code",
   "execution_count": 47,
   "metadata": {},
   "outputs": [],
   "source": [
    "df = pd.DataFrame(hist.history)"
   ]
  },
  {
   "cell_type": "code",
   "execution_count": 48,
   "metadata": {},
   "outputs": [
    {
     "data": {
      "text/html": [
       "<div>\n",
       "<style scoped>\n",
       "    .dataframe tbody tr th:only-of-type {\n",
       "        vertical-align: middle;\n",
       "    }\n",
       "\n",
       "    .dataframe tbody tr th {\n",
       "        vertical-align: top;\n",
       "    }\n",
       "\n",
       "    .dataframe thead th {\n",
       "        text-align: right;\n",
       "    }\n",
       "</style>\n",
       "<table border=\"1\" class=\"dataframe\">\n",
       "  <thead>\n",
       "    <tr style=\"text-align: right;\">\n",
       "      <th></th>\n",
       "      <th>loss</th>\n",
       "      <th>mae</th>\n",
       "      <th>val_loss</th>\n",
       "      <th>val_mae</th>\n",
       "    </tr>\n",
       "  </thead>\n",
       "  <tbody>\n",
       "    <tr>\n",
       "      <th>0</th>\n",
       "      <td>1.858223</td>\n",
       "      <td>0.996252</td>\n",
       "      <td>0.578439</td>\n",
       "      <td>0.551837</td>\n",
       "    </tr>\n",
       "    <tr>\n",
       "      <th>1</th>\n",
       "      <td>0.532025</td>\n",
       "      <td>0.525739</td>\n",
       "      <td>0.485485</td>\n",
       "      <td>0.505817</td>\n",
       "    </tr>\n",
       "    <tr>\n",
       "      <th>2</th>\n",
       "      <td>0.477273</td>\n",
       "      <td>0.497998</td>\n",
       "      <td>0.450215</td>\n",
       "      <td>0.489029</td>\n",
       "    </tr>\n",
       "    <tr>\n",
       "      <th>3</th>\n",
       "      <td>0.456520</td>\n",
       "      <td>0.488940</td>\n",
       "      <td>0.433416</td>\n",
       "      <td>0.480149</td>\n",
       "    </tr>\n",
       "    <tr>\n",
       "      <th>4</th>\n",
       "      <td>0.452106</td>\n",
       "      <td>0.485341</td>\n",
       "      <td>0.425300</td>\n",
       "      <td>0.471301</td>\n",
       "    </tr>\n",
       "  </tbody>\n",
       "</table>\n",
       "</div>"
      ],
      "text/plain": [
       "       loss       mae  val_loss   val_mae\n",
       "0  1.858223  0.996252  0.578439  0.551837\n",
       "1  0.532025  0.525739  0.485485  0.505817\n",
       "2  0.477273  0.497998  0.450215  0.489029\n",
       "3  0.456520  0.488940  0.433416  0.480149\n",
       "4  0.452106  0.485341  0.425300  0.471301"
      ]
     },
     "execution_count": 48,
     "metadata": {},
     "output_type": "execute_result"
    }
   ],
   "source": [
    "df.head()"
   ]
  },
  {
   "cell_type": "code",
   "execution_count": 49,
   "metadata": {},
   "outputs": [
    {
     "data": {
      "image/png": "[encoded data removed]",
      "text/plain": [
       "<Figure size 432x288 with 1 Axes>"
      ]
     },
     "metadata": {
      "needs_background": "light"
     },
     "output_type": "display_data"
    }
   ],
   "source": [
    "df.plot()\n",
    "pass"
   ]
  },
  {
   "cell_type": "code",
   "execution_count": 50,
   "metadata": {},
   "outputs": [
    {
     "name": "stdout",
     "output_type": "stream",
     "text": [
      "5160/5160 [==============================] - 0s 35us/sample - loss: 0.4270 - mae: 0.4642\n"
     ]
    },
    {
     "data": {
      "text/plain": [
       "[0.4270468956278276, 0.46417126]"
      ]
     },
     "execution_count": 50,
     "metadata": {},
     "output_type": "execute_result"
    }
   ],
   "source": [
    "model.evaluate(X_test_s, y_test)"
   ]
  },
  {
   "cell_type": "code",
   "execution_count": 51,
   "metadata": {},
   "outputs": [
    {
     "data": {
      "text/plain": [
       "array([[0.97243857, 1.04      ],\n",
       "       [1.58840811, 1.65      ],\n",
       "       [0.96830416, 0.83      ]])"
      ]
     },
     "execution_count": 51,
     "metadata": {},
     "output_type": "execute_result"
    }
   ],
   "source": [
    "np.c_[model.predict(X_test_s[:3, :]), y_test[:3]]"
   ]
  },
  {
   "cell_type": "code",
   "execution_count": 80,
   "metadata": {},
   "outputs": [],
   "source": [
    "model.save('housing.h5')"
   ]
  },
  {
   "cell_type": "code",
   "execution_count": 81,
   "metadata": {},
   "outputs": [],
   "source": [
    "model = keras.models.load_model('housing.h5')"
   ]
  },
  {
   "cell_type": "markdown",
   "metadata": {},
   "source": [
    "## Tensorflow proability"
   ]
  },
  {
   "cell_type": "markdown",
   "metadata": {},
   "source": [
    "### Distributions"
   ]
  },
  {
   "cell_type": "code",
   "execution_count": 52,
   "metadata": {},
   "outputs": [
    {
     "data": {
      "text/plain": [
       "['ConditionalDistribution',\n",
       " 'Autoregressive',\n",
       " 'BatchReshape',\n",
       " 'Bernoulli',\n",
       " 'Beta',\n",
       " 'Multinomial',\n",
       " 'Binomial',\n",
       " 'Blockwise',\n",
       " 'Categorical',\n",
       " 'Cauchy',\n",
       " 'Gamma',\n",
       " 'TransformedDistribution',\n",
       " '_BaseDeterministic',\n",
       " '_BaseDeterministic',\n",
       " 'Dirichlet',\n",
       " 'DirichletMultinomial',\n",
       " 'Empirical',\n",
       " 'GammaGamma',\n",
       " 'Normal',\n",
       " 'Geometric',\n",
       " 'Uniform',\n",
       " 'HalfCauchy',\n",
       " 'HalfNormal',\n",
       " 'HiddenMarkovModel',\n",
       " 'Horseshoe',\n",
       " 'Independent',\n",
       " 'InverseGamma',\n",
       " 'InverseGaussian',\n",
       " 'JointDistribution',\n",
       " 'Laplace',\n",
       " 'LinearGaussianStateSpaceModel',\n",
       " 'LKJ',\n",
       " 'Logistic',\n",
       " 'Mixture',\n",
       " 'MixtureSameFamily',\n",
       " 'MultivariateStudentTLinearOperator',\n",
       " 'NegativeBinomial',\n",
       " 'OneHotCategorical',\n",
       " 'Pareto',\n",
       " 'Poisson',\n",
       " 'PoissonLogNormalQuadratureCompound',\n",
       " 'QuantizedDistribution',\n",
       " 'ExpRelaxedOneHotCategorical',\n",
       " 'Sample',\n",
       " 'StudentT',\n",
       " 'Triangular',\n",
       " 'TruncatedNormal',\n",
       " 'VectorDiffeomixture',\n",
       " 'VonMises',\n",
       " 'VonMisesFisher',\n",
       " '_WishartLinearOperator',\n",
       " 'Zipf',\n",
       " '_TensorCoercible']"
      ]
     },
     "execution_count": 52,
     "metadata": {},
     "output_type": "execute_result"
    }
   ],
   "source": [
    "[str(x).split('.')[-1][:-2] for x in tfd.distribution.Distribution.__subclasses__()]"
   ]
  },
  {
   "cell_type": "code",
   "execution_count": 53,
   "metadata": {},
   "outputs": [],
   "source": [
    "dist = tfd.Normal(loc=100, scale=15)"
   ]
  },
  {
   "cell_type": "code",
   "execution_count": 54,
   "metadata": {},
   "outputs": [
    {
     "data": {
      "text/plain": [
       "<tf.Tensor: id=40381, shape=(3, 4), dtype=float32, numpy=\n",
       "array([[ 85.994514,  97.646706,  94.947174, 117.32828 ],\n",
       "       [111.22745 , 102.00683 , 107.21807 , 101.29047 ],\n",
       "       [ 92.01316 , 111.45788 ,  97.36463 , 124.13283 ]], dtype=float32)>"
      ]
     },
     "execution_count": 54,
     "metadata": {},
     "output_type": "execute_result"
    }
   ],
   "source": [
    "x = dist.sample((3,4))\n",
    "x"
   ]
  },
  {
   "cell_type": "code",
   "execution_count": 55,
   "metadata": {},
   "outputs": [
    {
     "data": {
      "image/png": "[encoded data removed]",
      "text/plain": [
       "<Figure size 432x288 with 1 Axes>"
      ]
     },
     "metadata": {
      "needs_background": "light"
     },
     "output_type": "display_data"
    }
   ],
   "source": [
    "n = 100\n",
    "xs = dist.sample(n)\n",
    "plt.hist(xs, density=True)\n",
    "xp = tf.linspace(50., 150., 100)\n",
    "plt.plot(xp, dist.prob(xp))\n",
    "pass"
   ]
  },
  {
   "cell_type": "markdown",
   "metadata": {},
   "source": [
    "### Broadcasting"
   ]
  },
  {
   "cell_type": "code",
   "execution_count": 56,
   "metadata": {},
   "outputs": [],
   "source": [
    "dist = tfd.Normal(loc=[3,4,5,6], scale=0.5)"
   ]
  },
  {
   "cell_type": "code",
   "execution_count": 57,
   "metadata": {},
   "outputs": [
    {
     "data": {
      "text/plain": [
       "<tf.Tensor: id=40506, shape=(5, 4), dtype=float32, numpy=\n",
       "array([[2.9720945, 4.0878305, 5.4115677, 5.4803023],\n",
       "       [2.3959792, 4.4667177, 5.6659327, 5.7601957],\n",
       "       [4.26844  , 3.9352567, 5.9535723, 6.14893  ],\n",
       "       [2.587455 , 3.4145675, 4.2401953, 6.1878347],\n",
       "       [3.5405107, 3.9414463, 4.8362327, 6.335392 ]], dtype=float32)>"
      ]
     },
     "execution_count": 57,
     "metadata": {},
     "output_type": "execute_result"
    }
   ],
   "source": [
    "dist.sample(5)"
   ]
  },
  {
   "cell_type": "code",
   "execution_count": 58,
   "metadata": {},
   "outputs": [
    {
     "data": {
      "image/png": "[encoded data removed]",
      "text/plain": [
       "<Figure size 432x288 with 1 Axes>"
      ]
     },
     "metadata": {
      "needs_background": "light"
     },
     "output_type": "display_data"
    }
   ],
   "source": [
    "xp = tf.linspace(0., 9., 100)[:, tf.newaxis]\n",
    "plt.plot(np.tile(xp, dist.batch_shape), dist.prob(xp))\n",
    "pass"
   ]
  },
  {
   "cell_type": "markdown",
   "metadata": {},
   "source": [
    "### Mixtures"
   ]
  },
  {
   "cell_type": "code",
   "execution_count": 59,
   "metadata": {},
   "outputs": [],
   "source": [
    "tfd.MixtureSameFamily?"
   ]
  },
  {
   "cell_type": "code",
   "execution_count": 60,
   "metadata": {},
   "outputs": [],
   "source": [
    "gmm = tfd.MixtureSameFamily(\n",
    "    mixture_distribution=tfd.Categorical(\n",
    "        probs=[0.4, 0.1, 0.2, 0.3]\n",
    "    ),\n",
    "    components_distribution=tfd.Normal(\n",
    "      loc=[3., 4., 5., 6.],      \n",
    "      scale=[0.1, 0.5, 0.5, .1])\n",
    ")"
   ]
  },
  {
   "cell_type": "code",
   "execution_count": 61,
   "metadata": {},
   "outputs": [],
   "source": [
    "n = 10000\n",
    "xs = gmm.sample(n)"
   ]
  },
  {
   "cell_type": "code",
   "execution_count": 62,
   "metadata": {},
   "outputs": [
    {
     "data": {
      "image/png": "[encoded data removed]",
      "text/plain": [
       "<Figure size 432x288 with 1 Axes>"
      ]
     },
     "metadata": {
      "needs_background": "light"
     },
     "output_type": "display_data"
    }
   ],
   "source": [
    "sns.distplot(xs)\n",
    "pass"
   ]
  },
  {
   "cell_type": "markdown",
   "metadata": {},
   "source": [
    "### Transformations"
   ]
  },
  {
   "cell_type": "code",
   "execution_count": 63,
   "metadata": {},
   "outputs": [
    {
     "data": {
      "text/plain": [
       "['AbsoluteValue',\n",
       " 'Affine',\n",
       " 'AffineLinearOperator',\n",
       " 'AffineScalar',\n",
       " 'AutoregressiveLayer',\n",
       " 'BatchNormalization',\n",
       " 'Bijector',\n",
       " 'Blockwise',\n",
       " 'Chain',\n",
       " 'CholeskyOuterProduct',\n",
       " 'CholeskyToInvCholesky',\n",
       " 'ConditionalBijector',\n",
       " 'DiscreteCosineTransform',\n",
       " 'Exp',\n",
       " 'Expm1',\n",
       " 'FillTriangular',\n",
       " 'Gumbel',\n",
       " 'Identity',\n",
       " 'Inline',\n",
       " 'Invert',\n",
       " 'IteratedSigmoidCentered',\n",
       " 'Kumaraswamy',\n",
       " 'MaskedAutoregressiveFlow',\n",
       " 'MatrixInverseTriL',\n",
       " 'MatvecLU',\n",
       " 'NormalCDF',\n",
       " 'Ordered',\n",
       " 'Permute',\n",
       " 'PowerTransform',\n",
       " 'RealNVP',\n",
       " 'Reciprocal',\n",
       " 'Reshape',\n",
       " 'ScaleTriL',\n",
       " 'Sigmoid',\n",
       " 'SinhArcsinh',\n",
       " 'SoftmaxCentered',\n",
       " 'Softplus',\n",
       " 'Softsign',\n",
       " 'Square',\n",
       " 'Tanh',\n",
       " 'TransformDiagonal',\n",
       " 'Transpose',\n",
       " 'Weibull']"
      ]
     },
     "execution_count": 63,
     "metadata": {},
     "output_type": "execute_result"
    }
   ],
   "source": [
    "[x for x in dir(tfp.bijectors) if x[0].isupper()]"
   ]
  },
  {
   "cell_type": "code",
   "execution_count": 64,
   "metadata": {},
   "outputs": [],
   "source": [
    "lognormal = tfp.bijectors.Exp()(tfd.Normal(0, 0.5))"
   ]
  },
  {
   "cell_type": "code",
   "execution_count": 65,
   "metadata": {},
   "outputs": [
    {
     "name": "stderr",
     "output_type": "stream",
     "text": [
      "W0417 16:08:27.311493 4643866048 deprecation_wrapper.py:76] From /Users/cliburn/anaconda3/lib/python3.6/site-packages/tensorflow_probability/python/bijectors/bijector.py:992: The name shape is deprecated. Please use compat.v1.shape instead.\n",
      "\n",
      "W0417 16:08:27.312743 4643866048 deprecation_wrapper.py:76] From /Users/cliburn/anaconda3/lib/python3.6/site-packages/tensorflow_probability/python/bijectors/bijector.py:1283: The name size is deprecated. Please use compat.v1.size instead.\n",
      "\n"
     ]
    },
    {
     "data": {
      "image/png": "[encoded data removed]",
      "text/plain": [
       "<Figure size 432x288 with 1 Axes>"
      ]
     },
     "metadata": {
      "needs_background": "light"
     },
     "output_type": "display_data"
    }
   ],
   "source": [
    "xs = lognormal.sample(1000)\n",
    "sns.distplot(xs)\n",
    "xp = np.linspace(tf.reduce_min(xs), tf.reduce_max(xs), 100)\n",
    "plt.plot(xp, tfd.LogNormal(loc=0, scale=0.5).prob(xp))\n",
    "pass"
   ]
  },
  {
   "cell_type": "markdown",
   "metadata": {},
   "source": [
    "## Regression"
   ]
  },
  {
   "cell_type": "code",
   "execution_count": 66,
   "metadata": {},
   "outputs": [],
   "source": [
    "xs = tf.Variable([0., 1., 2., 5., 6., 8.])\n",
    "ys = tf.sin(xs) + tfd.Normal(loc=0, scale=0.5).sample(xs.shape[0])"
   ]
  },
  {
   "cell_type": "code",
   "execution_count": 67,
   "metadata": {},
   "outputs": [
    {
     "data": {
      "text/plain": [
       "(TensorShape([6]), TensorShape([6]))"
      ]
     },
     "execution_count": 67,
     "metadata": {},
     "output_type": "execute_result"
    }
   ],
   "source": [
    "xs.shape, ys.shape"
   ]
  },
  {
   "cell_type": "code",
   "execution_count": 68,
   "metadata": {},
   "outputs": [
    {
     "data": {
      "text/plain": [
       "array([0., 1., 2., 5., 6., 8.], dtype=float32)"
      ]
     },
     "execution_count": 68,
     "metadata": {},
     "output_type": "execute_result"
    }
   ],
   "source": [
    "xs.numpy()"
   ]
  },
  {
   "cell_type": "code",
   "execution_count": 69,
   "metadata": {},
   "outputs": [
    {
     "data": {
      "text/plain": [
       "array([ 0.31766635,  0.5954742 ,  0.7167998 , -0.06919491, -0.2230027 ,\n",
       "        1.228898  ], dtype=float32)"
      ]
     },
     "execution_count": 69,
     "metadata": {},
     "output_type": "execute_result"
    }
   ],
   "source": [
    "ys.numpy()"
   ]
  },
  {
   "cell_type": "code",
   "execution_count": 70,
   "metadata": {},
   "outputs": [
    {
     "data": {
      "image/png": "[encoded data removed]",
      "text/plain": [
       "<Figure size 432x288 with 1 Axes>"
      ]
     },
     "metadata": {
      "needs_background": "light"
     },
     "output_type": "display_data"
    }
   ],
   "source": [
    "xp = tf.linspace(-1., 9., 100)[:, None]\n",
    "plt.scatter(xs.numpy(), ys.numpy())\n",
    "plt.plot(xp, tf.sin(xp))\n",
    "pass"
   ]
  },
  {
   "cell_type": "code",
   "execution_count": 71,
   "metadata": {},
   "outputs": [],
   "source": [
    "kernel = tfp.positive_semidefinite_kernels.ExponentiatedQuadratic(length_scale=1.5)\n",
    "reg = tfd.GaussianProcessRegressionModel(\n",
    "    kernel, xp[:, tf.newaxis], xs[:, tf.newaxis], ys\n",
    ")"
   ]
  },
  {
   "cell_type": "code",
   "execution_count": 72,
   "metadata": {
    "scrolled": true
   },
   "outputs": [
    {
     "data": {
      "image/png": "[encoded data removed]",
      "text/plain": [
       "<Figure size 432x288 with 1 Axes>"
      ]
     },
     "metadata": {
      "needs_background": "light"
     },
     "output_type": "display_data"
    }
   ],
   "source": [
    "ub, lb = reg.mean() + [2*reg.stddev(), -2*reg.stddev()]\n",
    "plt.fill_between(xp[..., 0], ub[...,0], lb[...,0], alpha=0.2)\n",
    "plt.plot(xp, reg.mean(), c='red', linewidth=2)\n",
    "plt.scatter(xs[:], ys[:], s=50, c='k')\n",
    "pass"
   ]
  },
  {
   "cell_type": "markdown",
   "metadata": {},
   "source": [
    "### Modeling\n",
    "\n",
    "Sampling from a normal distribuiton using HMC (prior predictive samples)"
   ]
  },
  {
   "cell_type": "code",
   "execution_count": 73,
   "metadata": {},
   "outputs": [
    {
     "data": {
      "text/plain": [
       "['CheckpointableStatesAndTrace',\n",
       " 'HamiltonianMonteCarlo',\n",
       " 'MetropolisAdjustedLangevinAlgorithm',\n",
       " 'MetropolisHastings',\n",
       " 'RandomWalkMetropolis',\n",
       " 'ReplicaExchangeMC',\n",
       " 'SimpleStepSizeAdaptation',\n",
       " 'SliceSampler',\n",
       " 'StatesAndTrace',\n",
       " 'TransformedTransitionKernel',\n",
       " 'TransitionKernel',\n",
       " 'UncalibratedHamiltonianMonteCarlo',\n",
       " 'UncalibratedLangevin',\n",
       " 'UncalibratedRandomWalk']"
      ]
     },
     "execution_count": 73,
     "metadata": {},
     "output_type": "execute_result"
    }
   ],
   "source": [
    "[x for x in dir(tfp.mcmc) if x[0].isupper()]"
   ]
  },
  {
   "cell_type": "code",
   "execution_count": 74,
   "metadata": {},
   "outputs": [
    {
     "data": {
      "text/plain": [
       "['__builtins__',\n",
       " '__cached__',\n",
       " '__doc__',\n",
       " '__file__',\n",
       " '__loader__',\n",
       " '__name__',\n",
       " '__package__',\n",
       " '__path__',\n",
       " '__spec__',\n",
       " '_allowed_symbols',\n",
       " 'amari_alpha',\n",
       " 'arithmetic_geometric',\n",
       " 'chi_square',\n",
       " 'csiszar_vimco',\n",
       " 'csiszar_vimco_helper',\n",
       " 'dual_csiszar_function',\n",
       " 'jeffreys',\n",
       " 'jensen_shannon',\n",
       " 'kl_forward',\n",
       " 'kl_reverse',\n",
       " 'log1p_abs',\n",
       " 'modified_gan',\n",
       " 'monte_carlo_csiszar_f_divergence',\n",
       " 'pearson',\n",
       " 'squared_hellinger',\n",
       " 'symmetrized_csiszar_function',\n",
       " 't_power',\n",
       " 'total_variation',\n",
       " 'triangular']"
      ]
     },
     "execution_count": 74,
     "metadata": {},
     "output_type": "execute_result"
    }
   ],
   "source": [
    "dir(tfp.vi)"
   ]
  },
  {
   "cell_type": "code",
   "execution_count": 75,
   "metadata": {},
   "outputs": [],
   "source": [
    "from tensorflow_probability import edward2 as ed"
   ]
  },
  {
   "cell_type": "code",
   "execution_count": 76,
   "metadata": {},
   "outputs": [
    {
     "name": "stderr",
     "output_type": "stream",
     "text": [
      "W0417 16:08:28.351274 4643866048 deprecation_wrapper.py:76] From /Users/cliburn/anaconda3/lib/python3.6/site-packages/tensorflow_probability/python/mcmc/hmc.py:784: The name zeros_like is deprecated. Please use compat.v1.zeros_like instead.\n",
      "\n",
      "W0417 16:08:28.354593 4643866048 deprecation_wrapper.py:76] From /Users/cliburn/anaconda3/lib/python3.6/site-packages/tensorflow_probability/python/mcmc/metropolis_hastings.py:272: The name ones_like is deprecated. Please use compat.v1.ones_like instead.\n",
      "\n"
     ]
    }
   ],
   "source": [
    "# From example in help docs\n",
    "\n",
    "def unnormalized_log_prob(x):\n",
    "    return -x - x**2.\n",
    " \n",
    "# Initialize the HMC transition kernel.\n",
    "num_results = int(1e2)\n",
    "num_burnin_steps = int(1e2)\n",
    "adaptive_hmc = tfp.mcmc.SimpleStepSizeAdaptation(\n",
    "    tfp.mcmc.HamiltonianMonteCarlo(\n",
    "        target_log_prob_fn=unnormalized_log_prob,\n",
    "        num_leapfrog_steps=3,\n",
    "        step_size=1.),\n",
    "    num_adaptation_steps=int(num_burnin_steps * 0.8))\n",
    " \n",
    "# Run the chain (with burn-in).\n",
    "samples, is_accepted = tfp.mcmc.sample_chain(\n",
    "    num_results=num_results,\n",
    "    num_burnin_steps=num_burnin_steps,\n",
    "    current_state=1.,\n",
    "    kernel=adaptive_hmc,\n",
    "    trace_fn=lambda _, pkr: pkr.inner_results.is_accepted)\n",
    " \n",
    "sample_mean = tf.reduce_mean(samples)\n",
    "sample_stddev = tf.math.reduce_std(samples)"
   ]
  },
  {
   "cell_type": "code",
   "execution_count": 77,
   "metadata": {},
   "outputs": [
    {
     "data": {
      "text/plain": [
       "<tf.Tensor: id=136175, shape=(), dtype=float32, numpy=-0.6822989>"
      ]
     },
     "execution_count": 77,
     "metadata": {},
     "output_type": "execute_result"
    }
   ],
   "source": [
    "sample_mean"
   ]
  },
  {
   "cell_type": "code",
   "execution_count": 78,
   "metadata": {},
   "outputs": [
    {
     "data": {
      "text/plain": [
       "<tf.Tensor: id=136182, shape=(), dtype=float32, numpy=0.7804036>"
      ]
     },
     "execution_count": 78,
     "metadata": {},
     "output_type": "execute_result"
    }
   ],
   "source": [
    "sample_stddev"
   ]
  },
  {
   "cell_type": "code",
   "execution_count": 79,
   "metadata": {},
   "outputs": [
    {
     "data": {
      "image/png": "[encoded data removed]",
      "text/plain": [
       "<Figure size 432x288 with 1 Axes>"
      ]
     },
     "metadata": {
      "needs_background": "light"
     },
     "output_type": "display_data"
    }
   ],
   "source": [
    "sns.distplot(samples)\n",
    "plt.axvline(sample_mean.numpy(), c='red')\n",
    "plt.plot([sample_mean - 2*sample_stddev, sample_mean + 2*sample_stddev], \n",
    "         [0.01, 0.01], c='k', linewidth=3)\n",
    "pass"
   ]
  },
  {
   "cell_type": "code",
   "execution_count": null,
   "metadata": {},
   "outputs": [],
   "source": []
  }
 ],
 "metadata": {
  "kernelspec": {
   "display_name": "Python 3",
   "language": "python",
   "name": "python3"
  },
  "language_info": {
   "codemirror_mode": {
    "name": "ipython",
    "version": 3
   },
   "file_extension": ".py",
   "mimetype": "text/x-python",
   "name": "python",
   "nbconvert_exporter": "python",
   "pygments_lexer": "ipython3",
   "version": "3.6.8"
  }
 },
 "nbformat": 4,
 "nbformat_minor": 2
}
