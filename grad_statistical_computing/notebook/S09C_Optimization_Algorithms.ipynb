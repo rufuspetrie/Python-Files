{
 "cells": [
  {
   "cell_type": "code",
   "execution_count": 1,
   "metadata": {},
   "outputs": [],
   "source": [
    "import os\n",
    "import sys\n",
    "import glob\n",
    "import operator as op\n",
    "import itertools as it\n",
    "from functools import reduce, partial\n",
    "import numpy as np\n",
    "import pandas as pd\n",
    "from pandas import DataFrame, Series\n",
    "import matplotlib.pyplot as plt\n",
    "import seaborn as sns\n",
    "sns.set_context(\"notebook\", font_scale=1.5)\n",
    "%matplotlib inline\n",
    "\n",
    "from sympy import symbols, hessian, Function, N"
   ]
  },
  {
   "cell_type": "markdown",
   "metadata": {},
   "source": [
    "# Algorithms for Optimization and Root Finding for Multivariate Problems"
   ]
  },
  {
   "cell_type": "markdown",
   "metadata": {},
   "source": [
    "**Note**: much of the following notes are taken from Nodecal, J., and S. J. Wright. \"Numerical optimization.\" (2006). It is available online via the library."
   ]
  },
  {
   "cell_type": "markdown",
   "metadata": {},
   "source": [
    "## Convexity\n",
    "\n",
    "A subset $A\\subset \\mathbb{R}^n$ is *convex* if for any two points $x,y\\in A$, the line segment:\n",
    "\n",
    "$$tx + (1-t)y \\;\\;\\;\\;\\;\\; t\\in [0,1]$$\n",
    "is also in $A$\n",
    "\n",
    "A function $f:\\mathbb{R}^n \\rightarrow \\mathbb{R}$ is *convex* if its domain $D$ is a convex set and for any two points $x,y\\in D$, the graph of $f$ (a subset of $\\mathbb{R}^{n+1})$ lies below the line:\n",
    "\n",
    "$$tf(x) + (1-t)f(y)\\;\\;\\;\\;\\;t\\in [0,1]$$\n",
    "\n",
    "i.e. \n",
    "$$f(tx+(1-t)y) \\leq tf(x) + (1-t)f(y)\\;\\;\\;\\;\\;t\\in [0,1]$$\n",
    "\n",
    "#### Convexity guarantees that if an optimizer converges, it converges to the global minimum.\n",
    "\n",
    "Luckily, we often encounter convex problems in statistics."
   ]
  },
  {
   "cell_type": "markdown",
   "metadata": {},
   "source": [
    "## Line Search Methods\n",
    "\n",
    "There are essentially two classes of multivariate optimization methods. We'll cover line search methods, but refer the reader to Nodecal and Wright for discussion of 'trust region methods'. We should note that all of these methods require that we are 'close' to the minimum (maximum) we are seeking, and that 'noisy' functions or ill-behaved functions are beyond our scope.\n",
    "\n",
    "A line search method is exactly as it sounds - we search on a line (in $n$ dimensional space) and try to find a minimum.  We start with an initial point, and use an iterative method:\n",
    "\n",
    "$$x_{k+1} = x_k + \\alpha_k p_k$$\n",
    "\n",
    "where $\\alpha_k$ is the *step size* and $p_k$ is the search direction. These are the critical choices that change the behavior of the search. \n",
    "\n",
    "#### Step Size\n",
    "\n",
    "Ideally, (given a choice of direction, $p_k$) we would want to minimize:\n",
    "\n",
    "$$\\varphi(\\alpha) = f(x_k + \\alpha p_k)$$\n",
    "\n",
    "with respect to $\\alpha$. This is usually computationally intensive, so in practice, a sequence of $\\alpha$ candidates are generated, and then the 'best' is chosen according to some 'conditions'. We won't be going into detail regarding these. The important thing to know is that they ensure that $f$ decreases sufficiently, according to some conditions. Interested students should see Nodecal."
   ]
  },
  {
   "cell_type": "markdown",
   "metadata": {},
   "source": [
    "## Steepest Descent\n",
    "\n",
    "In steepest descent, one chooses $p_k=\\nabla f_k = \\nabla f(x_k)$. It is so named, because the gradient points in the direction of steepest ascent, thus, $-\\nabla f_k$ will point in the direction of steepest descent. We'll consider this method in its ideal case, that of a quadratic:\n",
    "\n",
    "$$f(x) = \\frac12 x^TQx - b^Tx$$\n",
    "\n",
    "where $Q$ is positive-definite and symmetric. Note that:\n",
    "\n",
    "$$\\nabla f = Qx -b$$\n",
    "\n",
    "so the minimum occurs at $x$ such that\n",
    "\n",
    "$$Qx= b$$\n",
    "\n",
    "Clearly, we can solve this easily, but let's walk through the algorithm and first find the (ideal) step length:\n",
    "\n",
    "$$f(x_k - \\alpha \\nabla f_k) = \\frac12\\left(x_k - \\alpha \\nabla f_k\\right)^TQ\\left(x_k - \\alpha \\nabla f_k\\right) - b^T \\left(x_k - \\alpha \\nabla f_k\\right) $$\n",
    "\n",
    "If we differentiate this with respect to $\\alpha$ and find the zero, we obtain:\n",
    "\n",
    "$$\\alpha_k = \\frac{\\nabla f_k^T\\nabla f_k}{\\nabla f_k^TQ\\nabla f_k}$$\n",
    "\n",
    "Thus, \n",
    "\n",
    "$$x_{k+1} = x_k - \\frac{\\nabla f_k^T\\nabla f_k}{\\nabla f_k^TQ\\nabla f_k} \\nabla f_k$$\n",
    "\n",
    "But we know that $\\nabla f_k = Qx_k -b$, so we have a closed form solution for $x_{k+1}$. This allows us to compute an error bound. Again, details can be found in the text, but here is the result:\n",
    "\n",
    "$$||x_{k+1} - x^*||_Q^2 \\leq \\left(\\frac{\\lambda_n - \\lambda_1}{\\lambda_n+\\lambda_1}\\right)^2 ||x_{k} - x^*||_Q^2$$\n",
    "\n",
    "where $0<\\lambda_1\\leq ... \\leq \\lambda_n$ and $x^*$ denotes the minimizer.\n",
    "\n",
    "Now, if $\\lambda_1=...=\\lambda_n = \\lambda$, then $Q=\\lambda I$, the algorithm converges in one step. Geometrically, the contours are ellipsoids, the value of $\\frac{\\lambda_n}{\\lambda_1}$ elongates the axes and causes the steps to 'zig-zag'. Because of this, convergence slows as $\\frac{\\lambda_n}{\\lambda_1}$ increases.\n"
   ]
  },
  {
   "cell_type": "markdown",
   "metadata": {},
   "source": [
    "## Newton's Method\n",
    "\n",
    "Newton's method is another line-search, and here \n",
    "\n",
    "$$p_k = -H^{-1}\\nabla f_k$$\n",
    "\n",
    "Note that if the Hessian is not positive definite, this may not always be a descent direction.\n",
    "\n",
    "In the neighborhood of a local minimum, the Hessian *will* be positive definite. Now, if $x_0$ is 'close enough' to the minimizer $x^*$, the step size $\\alpha_k =1$ gives quadratic convergence. \n",
    "\n",
    "The advantage of multiplying the gradient by the inverse of the Hessian is that the gradient is corrected for curvature, and the new direction points toward the minimum."
   ]
  },
  {
   "cell_type": "code",
   "execution_count": 2,
   "metadata": {},
   "outputs": [],
   "source": [
    "\n",
    "#def Quad(x):\n",
    "#    return (x[1:])*np.sin(x[:-1])**2.0)\n",
    "\n",
    "#def DQuad(x,y):\n",
    "#    return (np.array([np.cos(x)*np.sin(y)**2.0,2.0*np.sin(x)*np.cos(y)**2.0]))\n",
    "\n",
    "def Quad(x):\n",
    "    return ((x[1:])**2.0 + 5*(x[:-1])**2.0)\n",
    "\n",
    "def DQuad(x,y):\n",
    "    return (np.array([2.0*x,10.0*y]))"
   ]
  },
  {
   "cell_type": "code",
   "execution_count": 3,
   "metadata": {},
   "outputs": [],
   "source": [
    "x = np.linspace(-20,20, 100)\n",
    "y = np.linspace(-20,20, 100)\n",
    "X, Y = np.meshgrid(x, y)\n",
    "Z = Quad(np.vstack([X.ravel(), Y.ravel()])).reshape((100,100))\n",
    "Hinv=-np.array([[0.5,0],[0,0.1]])"
   ]
  },
  {
   "cell_type": "code",
   "execution_count": 4,
   "metadata": {},
   "outputs": [
    {
     "data": {
      "image/png": "[encoded data removed]",
      "text/plain": [
       "<Figure size 864x288 with 2 Axes>"
      ]
     },
     "metadata": {
      "needs_background": "light"
     },
     "output_type": "display_data"
    }
   ],
   "source": [
    "plt.figure(figsize=(12,4))\n",
    "plt.subplot(121)\n",
    "\n",
    "plt.contour(X,Y,Z);\n",
    "plt.title(\"Steepest Descent\");\n",
    "step=-0.25\n",
    "X0 = 10.0\n",
    "Y0 = 1.0\n",
    "\n",
    "Ngrad=Hinv.dot(DQuad(X0,Y0))\n",
    "\n",
    "sgrad = step*DQuad(X0,Y0)\n",
    "plt.quiver(X0,Y0,sgrad[0],sgrad[1],color='red',angles='xy',scale_units='xy',scale=1);\n",
    "X1 = X0 + sgrad[0]\n",
    "Y1 = Y0 + sgrad[1]\n",
    "sgrad = step*DQuad(X1,Y1)\n",
    "plt.quiver(X1,Y1,sgrad[0],sgrad[1],color='green',angles='xy',scale_units='xy',scale=1);\n",
    "X2 = X1 + sgrad[0]\n",
    "Y2 = Y1 + sgrad[1]\n",
    "sgrad = step*DQuad(X2,Y2)\n",
    "plt.quiver(X2,Y2,sgrad[0],sgrad[1],color='purple',angles='xy',scale_units='xy',scale=1);\n",
    "\n",
    "\n",
    "plt.subplot(122)\n",
    "plt.contour(X,Y,Z);\n",
    "plt.title(\"Newton's Method\")\n",
    "plt.quiver(X0,Y0,Ngrad[0],Ngrad[1],color='purple',angles='xy',scale_units='xy',scale=1);\n",
    "\n",
    "#Compute Hessian and plot again.\n"
   ]
  },
  {
   "cell_type": "markdown",
   "metadata": {},
   "source": [
    "## Coordinate Descent\n",
    "\n",
    "Another method is called 'coordinate' descent, and it involves searching along coordinate directions (cyclically), i.e.:\n",
    "\n",
    "$$p_{mk} = e_{k} \\;\\;\\;\\;\\;\\; k=1,...,n$$\n",
    "\n",
    "where $m$ is the number of steps.\n",
    "\n",
    "The main advantage is that $\\nabla f$ is not required. It can behave reasonably well, if coordinates are not tightly coupled. "
   ]
  },
  {
   "cell_type": "markdown",
   "metadata": {},
   "source": [
    "### Newton CG Algorithm"
   ]
  },
  {
   "cell_type": "markdown",
   "metadata": {},
   "source": [
    "Features:\n",
    "\n",
    "* Minimizes a 'true' quadratic on $\\mathbb{R}^n$ in $n$ steps\n",
    "* Does NOT require storage or inversion of an $n \\times n$ matrix."
   ]
  },
  {
   "cell_type": "markdown",
   "metadata": {},
   "source": [
    "We begin with $:\\mathbb{R}^n\\rightarrow \\mathbb{R}$.  Take a quadratic approximation to $f$:\n",
    "\n",
    "$$f(x) \\approx \\frac12 x^T H x + b^Tx + c$$\n",
    "\n",
    "Note that in the neighborhood of a minimum, $H$ will be positive-definite (and symmetric). (If we are maximizing, just consider $-H$).\n",
    "\n",
    "This reduces the optimization problem to finding the zeros of \n",
    "\n",
    "$$Hx = -b$$\n",
    "\n",
    "This is a linear problem, which is nice.  The dimension $n$ may be very large - which is not so nice."
   ]
  },
  {
   "cell_type": "markdown",
   "metadata": {},
   "source": [
    "#### General Inner Product"
   ]
  },
  {
   "cell_type": "markdown",
   "metadata": {},
   "source": [
    "Recall the axiomatic definition of an inner product $<,>_A$:\n",
    "\n",
    "* For any two vectors $v,w$ we have\n",
    "$$<v,w>_A = <w,v>_A$$\n",
    "* For any vector $v$\n",
    "$$<v,v>_A \\;\\geq 0$$\n",
    "   with equality $\\iff$ $v=0$.\n",
    "* For $c\\in\\mathbb{R}$ and $u,v,w\\in\\mathbb{R}^n$, we have\n",
    "$$<cv+w,u> = c<v,u> + <w,u>$$\n",
    "\n",
    "These properties are known as symmetric, positive definite and bilinear, respectively.\n",
    "\n",
    "Fact: If we denote the standard inner product on $\\mathbb{R}^n$ as $<,>$ (this is the 'dot product'), any symmetric, positive definite $n\\times n$ matrix $A$ defines an inner product on $\\mathbb{R}^n$ via:\n",
    "\n",
    "$$<v,w>_A \\; = <v,Aw> = v^TAw$$"
   ]
  },
  {
   "cell_type": "markdown",
   "metadata": {},
   "source": [
    "Just as with the standard inner product, general inner products define for us a notion of 'orthogonality'. Recall that with respect to the standard product, 2 vectors are orthogonal if their product vanishes. The same applies to $<,>_A$:\n",
    "\n",
    "$$<v,w>_A = 0 $$\n",
    "\n",
    "means that $v$ and $w$ are orthogonal under the inner product induced by $A$.  Equivalently, if $v,w$ are orthogonal under $A$, we have:\n",
    "\n",
    "$$v^TAw = 0$$\n",
    "\n",
    "This is also called *conjugate* (thus the name of the method)."
   ]
  },
  {
   "cell_type": "markdown",
   "metadata": {},
   "source": [
    "#### Conjugate Vectors"
   ]
  },
  {
   "cell_type": "markdown",
   "metadata": {},
   "source": [
    "Suppose we have a set of $n$ vectors $p_1,...,p_n$ that are mutually conjugate.  These vectors form a basis of $\\mathbb{R}^n$.  Getting back to the problem at hand, this means that our solution vector $x$ to the linear problem may be written as follows:\n",
    "\n",
    "$$x = \\sum\\limits_{i=1}^n \\alpha_i p_i$$\n",
    "\n",
    "So, finding $x$ reduces to finding a conjugate basis and the coefficients for $x$ in that basis."
   ]
  },
  {
   "cell_type": "markdown",
   "metadata": {},
   "source": [
    "If we let $A=H$,note that:\n",
    "\n",
    "$${p}_k^{T} {-b}={p}_k^{T} {A}{x}$$\n",
    "\n",
    "and because $x = \\sum\\limits_{i=1}^n \\alpha_i p_i$, we have:\n",
    "$$p^TAx = \\sum\\limits_{i=1}^n \\alpha_i p^TA p_i$$\n",
    "\n",
    "we can solve for $\\alpha_k$:\n",
    "\n",
    "$$\\alpha_k = \\frac{{p}_k^{T}{(-b)}}{{p}_k^{T} {A}{p}_k} = -\\frac{\\langle {p}_k, {b}\\rangle}{\\,\\,\\,\\langle {p}_k,  {p}_k\\rangle_{A}} = -\\frac{\\langle{p}_k, {b}\\rangle}{\\,\\,\\,\\|{p}_k\\|_{A}^2}.$$\n"
   ]
  },
  {
   "cell_type": "markdown",
   "metadata": {},
   "source": [
    "Now, all we need are the $p_k$'s."
   ]
  },
  {
   "cell_type": "markdown",
   "metadata": {},
   "source": [
    "A nice initial guess would be the gradient at some initial point $x_1$.  So, we set $p_1 = \\nabla f(x_1)$. Then set:\n",
    "\n",
    "$$x_2 = x_1 + \\alpha_1p_1$$"
   ]
  },
  {
   "cell_type": "markdown",
   "metadata": {},
   "source": [
    "This should look familiar.  In fact, it is gradient descent.  For $p_2$, we want $p_1$ and $p_2$ to be conjugate (under $A$).  That just means orthogonal under the inner product induced by $A$.  We set \n",
    "\n",
    "$$p_2 = \\nabla f(x_2) - \\frac{p_1^TA\\nabla f(x_2)}{{p}_1^{T}{A}{p}_1} {p}_1$$"
   ]
  },
  {
   "cell_type": "markdown",
   "metadata": {},
   "source": [
    "I.e. We take the gradient at $x_1$ and subtract its projection onto $p_1$.  This is the same as Gram-Schmidt orthogonalization.\n",
    "\n",
    "The $k^{th}$ conjugate vector is:\n",
    "\n",
    "$$p_{k} = \\nabla f(x_k) - \\sum\\limits_{i=1}^{k-1}\\frac{p_i^T A \\nabla f(x_k)}{p_i^TAp_i} p_i$$"
   ]
  },
  {
   "cell_type": "markdown",
   "metadata": {},
   "source": [
    "The 'trick' is that in general, we do not need all $n$ conjugate vectors. In fact, it turns out that $\\nabla f(x_k) = b-Ax_k$ is conjugate to all the $p_i$ for $i=1,...,k-2$. Therefore, we need only the last term in the sum."
   ]
  },
  {
   "cell_type": "markdown",
   "metadata": {},
   "source": [
    "Convergence rate is dependent on sparsity and condition number of $A$.  Worst case is $n^2$."
   ]
  },
  {
   "cell_type": "markdown",
   "metadata": {},
   "source": [
    "### BFGS - Broyden–Fletcher–Goldfarb–Shanno"
   ]
  },
  {
   "cell_type": "markdown",
   "metadata": {},
   "source": [
    "BFGS is a 'quasi' Newton method of optimization.  Such methods are variants of the Newton method, where the Hessian $H$ is replaced by some approximation.  We we wish to solve the equation:\n",
    "\n",
    "$$B_k{p}_k = -\\nabla f({x}_k)$$\n",
    "\n",
    "for $p_k$. This gives our search direction, and the next candidate point is given by:\n",
    "\n",
    "$$x_{k+1} = x_k + \\alpha_k p_k$$.\n",
    "\n",
    "where $\\alpha_k$ is a step size."
   ]
  },
  {
   "cell_type": "markdown",
   "metadata": {},
   "source": [
    "At each step, we require that the new approximate $H$ meets the secant condition:\n",
    "\n",
    "$$B_{k+1}(x_{k+1}-x_k) = \\nabla f(x_{k+1}) -\\nabla f(x_k)$$\n",
    "\n",
    "There is a unique, rank one update that satisfies the above:\n",
    "\n",
    "$$B_{k+1} = B_k + c_k v_kv_k^T$$\n",
    "\n",
    "where\n",
    "\n",
    "$$ c_k = -\\frac{1}{\\left(B_k(x_{k+1}-x_k) - (\\nabla f(x_{k+1})-\\nabla f(x_k)\\right)^T (x_{k+1}-x_k) }$$ \n",
    "\n",
    "and\n",
    "\n",
    "$$v_k = B_k(x_{k+1}-x_k) - (\\nabla f(x_{k+1})-\\nabla f(x_k))$$"
   ]
  },
  {
   "cell_type": "markdown",
   "metadata": {},
   "source": [
    "Note that the update does NOT preserve positive definiteness if $c_k<0$.  In this case, there are several options for the rank one correction, but we will not address them here.  Instead, we will describe the BFGS method, which almost always guarantees a positive-definite correction.  Specifically:\n",
    "\n",
    "$$B_{k+1} = B_k + b_k g_k g_k^T + c_k B_k d_k d_k^TB_k$$ "
   ]
  },
  {
   "cell_type": "markdown",
   "metadata": {},
   "source": [
    "where we have introduced the shorthand:\n",
    "\n",
    "$$g_k = \\nabla f(x_{k+1}) - \\nabla f(x_k) \\;\\;\\;\\;\\;\\;\\;\\ \\mathrm{ and }\\;\\;\\;\\;\\;\\;\\; d_k = x_{k+1} - x_k$$"
   ]
  },
  {
   "cell_type": "markdown",
   "metadata": {},
   "source": [
    "If we set:\n",
    "\n",
    "$$b_k = \\frac{1}{g_k^Td_k} \\;\\;\\;\\;\\; \\mathrm{ and } \\;\\;\\;\\;\\; c_k = \\frac{1}{d_k^TB_kd_k}$$\n",
    "\n",
    "we satisfy the secant condition."
   ]
  },
  {
   "cell_type": "markdown",
   "metadata": {},
   "source": [
    "### Nelder-Mead Simplex"
   ]
  },
  {
   "cell_type": "markdown",
   "metadata": {},
   "source": [
    "While Newton's method is considered a 'second order method' (requires the second derivative), and quasi-Newton methods are first order (require only first derivatives), Nelder-Mead is a zero-order method.  I.e. NM requires only the function itself - no derivatives.\n",
    "\n",
    "For $f:\\mathbb{R}^n\\rightarrow \\mathbb{R}$, the algorithm computes the values of the function on a simplex of dimension $n$, constructed from $n+1$ vertices.  For a univariate function, the simplex is a line segment.  In two dimensions, the simplex is a triangle, in 3D, a tetrahedral solid, and so on.\n",
    "\n",
    "The algorithm begins with $n+1$ starting points and then the follwing steps are repeated until convergence:\n",
    "\n",
    "* Compute the function at each of the points\n",
    "* Sort the function values so that \n",
    "$$f(x_1)\\leq ...\\leq f(x_{n+1})$$\n",
    "* Compute the centroid $x_c$ of the n-dimensional region defined by $x_1,...,x_n$\n",
    "* Reflect $x_{n+1}$ about the centroid to get $x_r$\n",
    "$$x_r = x_c + \\alpha (x_c - x_{n+1})$$\n",
    "* Create a new simplex according to the following rules:\n",
    "    - If $f(x_1)\\leq f(x_r) < f(x_n)$, replace $x_{n+1}$ with $x_r$\n",
    "    - If $f(x_r)<f(x_1)$, expand the simplex through $x_r$:\n",
    "    $$x_e = x_c + \\gamma (x_c - x_{n+1})$$\n",
    "      If $f(x_e)<f(x_r)$, replace $x_{n+1}$ with $x_e$, otherwise, replace $x_{n+1}$ with $x_r$\n",
    "    - If $f({x}_{r}) \\geq f({x}_{n})$, compute $x_p = x_c + \\rho(x_c - x_{n+1})$.  If $f({x}_{p}) < f({x}_{n+1})$, replace $x_{n+1}$ with $x_p$\n",
    "    - If all else fails, replace *all* points except $x_1$ according to\n",
    "    $$x_i = {x}_{1} + \\sigma({x}_{i} - {x}_{1})$$\n",
    "    \n",
    "The default values of $\\alpha, \\gamma,\\rho$ and $\\sigma$ in scipy are not listed in the documentation, nor are they inputs to the function."
   ]
  },
  {
   "cell_type": "markdown",
   "metadata": {},
   "source": [
    "### Powell's Method"
   ]
  },
  {
   "cell_type": "markdown",
   "metadata": {},
   "source": [
    "Powell's method is another derivative-free optimization method that is similar to conjugate-gradient.  The algorithm steps are as follows:\n",
    "\n",
    "Begin with a point $p_0$ (an initial guess) and a set of vectors $\\xi_1,...,\\xi_n$, initially the standard basis of $\\mathbb{R}^n$.  \n",
    "\n",
    "- Compute for $i=1,...,n$, find $\\lambda_i$ that minimizes $f(p_{i-1} +\\lambda_i \\xi_i)$ and set $p_i = p_{i-1} + \\lambda_i\\xi_i$\n",
    "- For $i=1,...,n-1$, replace $\\xi_{i}$ with $\\xi_{i+1}$ and then replace $\\xi_n$ with $p_n - p_0$\n",
    "- Choose $\\lambda$ so that $f(p_0 + \\lambda(p_n-p_0)$ is minimum and replace $p_0$ with $p_0 + \\lambda(p_n-p_0)$\n",
    "\n",
    "Essentially, the algorithm performs line searches and tries to find fruitful directions to search."
   ]
  },
  {
   "cell_type": "markdown",
   "metadata": {},
   "source": [
    "## Solvers"
   ]
  },
  {
   "cell_type": "markdown",
   "metadata": {},
   "source": [
    "### Levenberg-Marquardt (Damped Least Squares)"
   ]
  },
  {
   "cell_type": "markdown",
   "metadata": {},
   "source": [
    "Recall the least squares problem:\n",
    "    \n",
    "Given a set of data points $(x_i, y_i)$ where $x_i$'s are independent variables (in $\\mathbb{R}^n$ and the $y_i$'s are response variables (in $\\mathbb{R}$), find the parameter values of $\\beta$ for the model $f(x;\\beta)$ so that\n",
    "\n",
    "$$S(\\beta) = \\sum\\limits_{i=1}^m \\left(y_i - f(x_i;\\beta)\\right)^2$$\n",
    "is minimized.\n",
    "\n",
    "If we were to use Newton's method, our update step would look like:\n",
    "\n",
    "$$\\beta_{k+1} = \\beta_k - H^{-1}\\nabla S(\\beta_k)$$\n",
    "\n",
    "Gradient descent, on the other hand, would yield:\n",
    "\n",
    "$$\\beta_{k+1} = \\beta_k - \\gamma\\nabla S(\\beta_k)$$\n",
    "\n",
    "Levenberg-Marquardt adaptively switches between Newton's method and gradient descent.  \n",
    "\n",
    "$$\\beta_{k+1} = \\beta_k - (H + \\lambda I)^{-1}\\nabla S(\\beta_k)$$\n",
    "\n",
    "When $\\lambda$ is small, the update is essentially Newton-Gauss, while for $\\lambda$ large, the update is gradient descent."
   ]
  },
  {
   "cell_type": "markdown",
   "metadata": {},
   "source": [
    "### Newton-Krylov"
   ]
  },
  {
   "cell_type": "markdown",
   "metadata": {},
   "source": [
    "The notion of a Krylov space comes from the Cayley-Hamilton theorem (CH).  CH states that a matrix $A$ satisfies its characteristic polynomial.  A direct corollary is that $A^{-1}$ may be written as a linear combination of powers of the matrix (where the highest power is $n-1$).  \n",
    "\n",
    "The Krylov space of order $r$ generated by an $n\\times n$ matrix $A$ and an $n$-dimensional vector $b$ is given by:\n",
    "\n",
    "$$\\mathcal{K}_r(A,b) = \\operatorname{span} \\, \\{ b, Ab, A^2b, \\ldots, A^{r-1}b \\}$$\n",
    "\n",
    "These are actually the subspaces spanned by the conjugate vectors we mentioned in Newton-CG, so, technically speaking, Newton-CG is a Krylov method.\n",
    "\n",
    "Now, the scipy.optimize newton-krylov solver is what is known as a 'Jacobian Free Newton Krylov'.  It is a very efficient algorithm for solving *large* $n\\times n$ non-linear systems.  We won't go into detail of the algorithm's steps, as this is really more applicable to problems in physics and non-linear dynamics."
   ]
  },
  {
   "cell_type": "markdown",
   "metadata": {},
   "source": [
    "## GLM Estimation and IRLS"
   ]
  },
  {
   "cell_type": "markdown",
   "metadata": {},
   "source": [
    "Recall generalized linear models are models with the following components:\n",
    "\n",
    "* A linear predictor $\\eta = X\\beta$\n",
    "* A response variable with distribution in the exponential family\n",
    "* An invertible 'link' function $g$ such that\n",
    "$$E(Y) = \\mu = g^{-1}(\\eta)$$\n",
    "\n",
    "We may write the log-likelihood:\n",
    "\n",
    "$$\\ell(\\eta) = \\sum\\limits_{i=1}^m (y_i \\log(\\eta_i) + (\\eta_i - y_i)\\log(1-\\eta_i) $$\n",
    "\n",
    "where $\\eta_i = \\eta(x_i,\\beta)$.\n",
    "\n",
    "Differentiating, we obtain:\n",
    "\n",
    "$$\\frac{\\partial L}{\\partial \\beta} = \\frac{\\partial \\eta}{\\partial \\beta}^T\\frac{\\partial L}{\\partial \\eta} = 0$$\n",
    "\n",
    "Written slightly differently than we have in the previous sections, the Newton update to find $\\beta$ would be:\n",
    "\n",
    "$$-\\frac{\\partial^2 L}{\\partial \\beta \\beta^T} \\left(\\beta_{k+1} -\\beta_k\\right) = \\frac{\\partial \\eta}{\\partial \\beta}^T\\frac{\\partial L}{\\partial \\eta}$$\n",
    "\n",
    "Now, if we compute:\n",
    "\n",
    "$$-\\frac{\\partial^2 L}{\\partial \\beta \\beta^T} = \\sum \\frac{\\partial L}{\\partial \\eta_i}\\frac{\\partial^2 \\eta_i}{\\partial \\beta \\beta^T} - \\frac{\\partial \\eta}{\\partial \\beta}^T \\frac{\\partial^2 L}{\\partial \\eta \\eta^T}  \\frac{\\partial \\eta}{\\partial \\beta}$$\n",
    "\n",
    "Taking expected values on the right hand side and noting:\n",
    "\n",
    "$$E\\left(\\frac{\\partial L}{\\partial \\eta_i} \\right) = 0$$\n",
    "\n",
    "and \n",
    "\n",
    "$$E\\left(-\\frac{\\partial^2 L}{\\partial \\eta \\eta^T} \\right) = E\\left(\\frac{\\partial L}{\\partial \\eta}\\frac{\\partial L}{\\partial \\eta}^T\\right) \\equiv A$$\n",
    "\n",
    "So if we replace the Hessian in Newton's method with its expected value, we obtain:\n",
    "\n",
    "$$\\frac{\\partial \\eta}{\\partial \\beta}^TA\\frac{\\partial \\eta}{\\partial \\beta}\\left(\\beta_{k+1} -\\beta_k\\right) = \\frac{\\partial \\eta}{\\partial \\beta}^T\\frac{\\partial L}{\\partial \\eta} $$\n",
    "\n",
    "Now, these actually have the form of the normal equations for a weighted least squares problem.  \n",
    "\n",
    "$$\\min_{\\beta_{k+1}}\\left(A^{-1}\\frac{\\partial L}{\\partial \\eta} + \\frac{\\partial \\eta}{\\partial \\beta}\\left(\\beta_{k+1} -\\beta_k\\right)\\right)^T A \\left(A^{-1}\\frac{\\partial L}{\\partial \\eta} + \\frac{\\partial \\eta}{\\partial \\beta}\\left(\\beta_{k+1} -\\beta_k\\right)\\right)$$\n",
    "\n",
    "$A$ is a weight matrix, and changes with iteration - thus this technique is *iteratively reweighted least squares*."
   ]
  },
  {
   "cell_type": "markdown",
   "metadata": {},
   "source": [
    "### Constrained Optimization and Lagrange Multipliers"
   ]
  },
  {
   "cell_type": "markdown",
   "metadata": {},
   "source": [
    "Often, we want to optimize a function subject to a constraint or multiple constraints.  The most common analytical technique for this is called 'Lagrange multipliers'.  The theory is based on the following:\n",
    "\n",
    "If we wish to optimize a function $f(x,y)$ subject to the constraint $g(x,y)=c$, we are really looking for points at which the gradient of $f$ and the gradient of $g$ are in the same direction.  This amounts to:\n",
    "\n",
    "$$\\nabla_{(x,y)}f = \\lambda \\nabla_{(x,y)}g$$\n",
    "\n",
    "(often, this is written with a (-) sign in front of $\\lambda$). The 2-d problem above defines two equations in three unknowns.  The original constraint, $g(x,y)=c$ yields a third equation.  Additional constraints are handled by finding:\n",
    "\n",
    "$$\\nabla_{(x,y)}f = \\lambda_1 \\nabla_{(x,y)}g_1 + ... + \\lambda_k \\nabla_{(x,y)}g_k$$\n",
    "\n"
   ]
  },
  {
   "cell_type": "markdown",
   "metadata": {},
   "source": [
    "![Lagrange Multipliers](figs/Lagrange_multiplier.png)"
   ]
  },
  {
   "cell_type": "markdown",
   "metadata": {},
   "source": [
    "\n",
    "\n",
    "\n",
    "The generalization to functions on $\\mathbb{R}^n$ is also trivial:\n",
    "\n",
    "$$\\nabla_{x}f = \\lambda \\nabla_{x}g$$"
   ]
  }
 ],
 "metadata": {
  "kernelspec": {
   "display_name": "Python 3 (ipykernel)",
   "language": "python",
   "name": "python3"
  },
  "language_info": {
   "codemirror_mode": {
    "name": "ipython",
    "version": 3
   },
   "file_extension": ".py",
   "mimetype": "text/x-python",
   "name": "python",
   "nbconvert_exporter": "python",
   "pygments_lexer": "ipython3",
   "version": "3.8.11"
  },
  "latex_envs": {
   "bibliofile": "biblio.bib",
   "cite_by": "apalike",
   "current_citInitial": 1,
   "eqLabelWithNumbers": true,
   "eqNumInitial": 0
  }
 },
 "nbformat": 4,
 "nbformat_minor": 1
}
