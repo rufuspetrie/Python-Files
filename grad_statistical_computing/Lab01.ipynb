{
 "cells": [
  {
   "cell_type": "markdown",
   "metadata": {},
   "source": [
    "# Lab01: Python data types, collections and flow control"
   ]
  },
  {
   "cell_type": "markdown",
   "metadata": {},
   "source": [
    "For this first set of exercises, we want to practice using only Python standard libaries. In particular, do not include `numpy`. Use `math` and `random` instead."
   ]
  },
  {
   "cell_type": "markdown",
   "metadata": {},
   "source": [
    "**1**. Make a list of the first 10 odd square numbers. (10 points)"
   ]
  },
  {
   "cell_type": "code",
   "execution_count": 1,
   "metadata": {},
   "outputs": [
    {
     "name": "stdout",
     "output_type": "stream",
     "text": [
      "[1, 9, 25, 49, 81, 121, 169, 225, 289, 361]\n"
     ]
    }
   ],
   "source": [
    "print([i**2 for i in range(1, 21, 2)])"
   ]
  },
  {
   "cell_type": "markdown",
   "metadata": {},
   "source": [
    "**2**. Some code is given below to generate two long lists of random interges. Find the integers present in both lists. (10 points)"
   ]
  },
  {
   "cell_type": "code",
   "execution_count": 2,
   "metadata": {},
   "outputs": [],
   "source": [
    "import random\n",
    "\n",
    "random.seed(123)\n",
    "\n",
    "lower = 0\n",
    "upper = 100000\n",
    "n = 1000\n",
    "\n",
    "x = [random.randint(lower, upper) for i in range(n)]\n",
    "y = [random.randint(lower, upper) for i in range(n)]"
   ]
  },
  {
   "cell_type": "code",
   "execution_count": 3,
   "metadata": {},
   "outputs": [
    {
     "name": "stdout",
     "output_type": "stream",
     "text": [
      "[49492, 2137, 56780, 8420, 35160, 25227, 8509, 88500, 99469, 59512, 18836]\n"
     ]
    }
   ],
   "source": [
    "print([i for i in x if i in y])"
   ]
  },
  {
   "cell_type": "markdown",
   "metadata": {},
   "source": [
    "**3**. Make a list of the first 100 [triangular numbers](https://en.wikipedia.org/wiki/Triangular_number) starting from 0. (20 points)"
   ]
  },
  {
   "cell_type": "code",
   "execution_count": 4,
   "metadata": {},
   "outputs": [
    {
     "name": "stdout",
     "output_type": "stream",
     "text": [
      "[0.0, 1.0, 3.0, 6.0, 10.0, 15.0, 21.0, 28.0, 36.0, 45.0, 55.0, 66.0, 78.0, 91.0, 105.0, 120.0, 136.0, 153.0, 171.0, 190.0, 210.0, 231.0, 253.0, 276.0, 300.0, 325.0, 351.0, 378.0, 406.0, 435.0, 465.0, 496.0, 528.0, 561.0, 595.0, 630.0, 666.0, 703.0, 741.0, 780.0, 820.0, 861.0, 903.0, 946.0, 990.0, 1035.0, 1081.0, 1128.0, 1176.0, 1225.0, 1275.0, 1326.0, 1378.0, 1431.0, 1485.0, 1540.0, 1596.0, 1653.0, 1711.0, 1770.0, 1830.0, 1891.0, 1953.0, 2016.0, 2080.0, 2145.0, 2211.0, 2278.0, 2346.0, 2415.0, 2485.0, 2556.0, 2628.0, 2701.0, 2775.0, 2850.0, 2926.0, 3003.0, 3081.0, 3160.0, 3240.0, 3321.0, 3403.0, 3486.0, 3570.0, 3655.0, 3741.0, 3828.0, 3916.0, 4005.0, 4095.0, 4186.0, 4278.0, 4371.0, 4465.0, 4560.0, 4656.0, 4753.0, 4851.0, 4950.0]\n"
     ]
    }
   ],
   "source": [
    "print([n*(n+1)/2 for n in range(100)])"
   ]
  },
  {
   "cell_type": "markdown",
   "metadata": {},
   "source": [
    "**4**. A DNA seqeunce is provided below. It should be treated as a single seqeunce - it is borken into multiple lines for display purposes.\n",
    "\n",
    "- Find the ratio of the base 'G' to the base 'C'\n",
    "- What is the reverse complement of the DNA sequence? (The complementary bases are A=T, C=G)\n",
    "- Make a dictionary of counts for each letter in the sequence. Do not count the newline character.\n",
    "\n",
    "(20 points)"
   ]
  },
  {
   "cell_type": "code",
   "execution_count": 5,
   "metadata": {},
   "outputs": [],
   "source": [
    "dna = \"\"\"\n",
    "TTTAAATTCCCTGGCACCCGCTGGAGTTCTCGATTTCGAC\n",
    "CAACCACGACGGTGTGATTCTGAATGTAGTTAGTATCTAC\n",
    "CCAGAGCTCAGGTCATATCGCGCCAAGCATAAAGGTGGCT\n",
    "GTTGAAAGTCGATGTCCGTATAAGTTCCGTTTCCTAATGA\n",
    "AACTGCTACGTAAGTCTAAAGTTATGAGCGCGGGCCGGGT\n",
    "TAAGGAAGCCCTACGGTTACTATATTACGCCAATATTTCT\n",
    "CATTCCCTTGCTTTGTTGATTAGGACAGAGGTCACCACAC\n",
    "CCGGAAGCCCGGTTCACGAGCTCCATCCAACGAGCCTTGC\n",
    "GAGGTATCGAGCAAACCAATATACTGCTAGGATCCGGTCT\n",
    "GGCGTTTTACCCCCATGAGATATAGTCCAGGTACTAAAAC\n",
    "CCTTCACCAGGGCAGAAGCGGGGTATACGCTGCCTACTCG\n",
    "TCATACAATTTCGGCTGGAGTTCGGTACGATAGACCGAGT\n",
    "CTGTCGGATACCCGGAAGAGTCACTCTGAAGTTGTACGAG\n",
    "GTGACTAGCTCAAAAGGAAGGGCGAAGAATGGTATGGTAC\n",
    "TCTAGAGCAGGCCATCTTTTACATAGGGCCCTTTGTTACC\n",
    "TTATGTAATGAACGTGGGAGCCCCGGACGTAAATTCTTTA\n",
    "GTCTCCCTAGACGCGTGGTCCCCACTAAATATACATGGTG\n",
    "AGCATCGCAGATACATGGCTTATCGAGGCCCGGGTCGTCA\n",
    "GAAAACGCGGTAAGTCATACGCATGTGCGGCGAATTAGCT\n",
    "TAGGGTGCGCATCTTCAAGCGGAAGTTCCCCCCGAGTGTC\n",
    "GACGCGTTCGTGCCATTAAAGCGTCTTCGAGTACGAATTA\n",
    "GACCAAGTCTGACGAAATTGCCTGAAGTTATAGGGGAAGT\n",
    "AGTCGAAGGGGACGGAGAACTTGTGAATCATAGCGCATGA\n",
    "GGAGATTAAGTCGGTTCATCAGCGTAACCACTTTAACCAC\n",
    "TAGTACGACCCCTGGATGAGTATTGTTCGTGTGTTTCCTC\n",
    "\"\"\""
   ]
  },
  {
   "cell_type": "code",
   "execution_count": 6,
   "metadata": {},
   "outputs": [
    {
     "name": "stdout",
     "output_type": "stream",
     "text": [
      "1.0886075949367089\n"
     ]
    }
   ],
   "source": [
    "dna = ''.join(dna.split())\n",
    "print(dna.count(\"G\")/dna.count(\"C\"))"
   ]
  },
  {
   "cell_type": "code",
   "execution_count": 7,
   "metadata": {},
   "outputs": [
    {
     "name": "stdout",
     "output_type": "stream",
     "text": [
      "GAGGAAACACACGAACAATACTCATCCAGGGGTCGTACTAGTGGTTAAAGTGGTTACGCTGATGAACCGACTTAATCTCCTCATGCGCTATGATTCACAAGTTCTCCGTCCCCTTCGACTACTTCCCCTATAACTTCAGGCAATTTCGTCAGACTTGGTCTAATTCGTACTCGAAGACGCTTTAATGGCACGAACGCGTCGACACTCGGGGGGAACTTCCGCTTGAAGATGCGCACCCTAAGCTAATTCGCCGCACATGCGTATGACTTACCGCGTTTTCTGACGACCCGGGCCTCGATAAGCCATGTATCTGCGATGCTCACCATGTATATTTAGTGGGGACCACGCGTCTAGGGAGACTAAAGAATTTACGTCCGGGGCTCCCACGTTCATTACATAAGGTAACAAAGGGCCCTATGTAAAAGATGGCCTGCTCTAGAGTACCATACCATTCTTCGCCCTTCCTTTTGAGCTAGTCACCTCGTACAACTTCAGAGTGACTCTTCCGGGTATCCGACAGACTCGGTCTATCGTACCGAACTCCAGCCGAAATTGTATGACGAGTAGGCAGCGTATACCCCGCTTCTGCCCTGGTGAAGGGTTTTAGTACCTGGACTATATCTCATGGGGGTAAAACGCCAGACCGGATCCTAGCAGTATATTGGTTTGCTCGATACCTCGCAAGGCTCGTTGGATGGAGCTCGTGAACCGGGCTTCCGGGTGTGGTGACCTCTGTCCTAATCAACAAAGCAAGGGAATGAGAAATATTGGCGTAATATAGTAACCGTAGGGCTTCCTTAACCCGGCCCGCGCTCATAACTTTAGACTTACGTAGCAGTTTCATTAGGAAACGGAACTTATACGGACATCGACTTTCAACAGCCACCTTTATGCTTGGCGCGATATGACCTGAGCTCTGGGTAGATACTAACTACATTCAGAATCACACCGTCGTGGTTGGTCGAAATCGAGAACTCCAGCGGGTGCCAGGGAATTTAAA\n"
     ]
    }
   ],
   "source": [
    "import string\n",
    "table = str.maketrans(\"ACTG\", \"TGAC\")\n",
    "dna_comp = dna.translate(table)\n",
    "print(dna_comp[::-1])"
   ]
  },
  {
   "cell_type": "code",
   "execution_count": 8,
   "metadata": {},
   "outputs": [
    {
     "name": "stdout",
     "output_type": "stream",
     "text": [
      "{'T': 251, 'A': 254, 'C': 237, 'G': 258}\n"
     ]
    }
   ],
   "source": [
    "counts = {}\n",
    "for i in range(len(dna)):\n",
    "    if dna[i] in counts.keys():\n",
    "        counts[dna[i]] += 1\n",
    "    else:\n",
    "        counts[dna[i]] = 1\n",
    "print(counts)"
   ]
  },
  {
   "cell_type": "markdown",
   "metadata": {},
   "source": [
    "**5**. Buffon's needle is a mathematical thought experiment.\n",
    "\n",
    "Suppose there exist an infinite number of equally spaced parallel lines, and we were to randomly toss a needle whose length is less than or equal to the distance between adjacent lines. What is the probability that the needle will cross a line? The formula is \n",
    "$P = \\frac{2L}{\\pi D}$, where $D$ is the distance between two adjacent lines, and $L$ is the length of the needle.\n",
    "\n",
    "[Source: Wikipedia](https://en.wikipedia.org/wiki/Buffon%27s_noodle)\n",
    "\n",
    "Use a Monte Carlo simulaiton and elemntary trignometry to esitmate $\\pi$ using Buffon's needle by dropping 1 million  needles. (40 points)"
   ]
  },
  {
   "cell_type": "code",
   "execution_count": 9,
   "metadata": {},
   "outputs": [],
   "source": [
    "# Note:\n",
    "    # Center of the needle defined by unif(0,1) (random.random())\n",
    "    # Angle of needle defined by unif(0, pi) (np.random.uniform(0, np.pi))\n",
    "    # Upper/lower coordinates of needle are found by calculating center +- 0.5sin(angle)\n",
    "    # Crosses occur when upper/lower are more/less than 1 and 0, respectively\n",
    "# Let L = D = 1, n = 10^6\n",
    "\n",
    "import numpy as np\n",
    "import math\n",
    "n = 10**6\n",
    "crosses = 0\n",
    "for i in range(n):\n",
    "    center = random.random()\n",
    "    angle = np.random.uniform(0, np.pi)\n",
    "    upper = center + 0.5 * math.sin(angle)\n",
    "    lower = center - 0.5 * math.sin(angle)\n",
    "    if upper > 1 or lower < 0:\n",
    "        crosses += 1"
   ]
  },
  {
   "cell_type": "code",
   "execution_count": 10,
   "metadata": {},
   "outputs": [
    {
     "name": "stdout",
     "output_type": "stream",
     "text": [
      "3.140890945125494\n"
     ]
    }
   ],
   "source": [
    "# Compute pi\n",
    "pi = 2/(crosses/n)\n",
    "print(pi)"
   ]
  }
 ],
 "metadata": {
  "kernelspec": {
   "display_name": "Python 3",
   "language": "python",
   "name": "python3"
  },
  "language_info": {
   "codemirror_mode": {
    "name": "ipython",
    "version": 3
   },
   "file_extension": ".py",
   "mimetype": "text/x-python",
   "name": "python",
   "nbconvert_exporter": "python",
   "pygments_lexer": "ipython3",
   "version": "3.8.8"
  }
 },
 "nbformat": 4,
 "nbformat_minor": 2
}
