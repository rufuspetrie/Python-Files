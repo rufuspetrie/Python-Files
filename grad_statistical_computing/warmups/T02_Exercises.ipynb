{
 "cells": [
  {
   "cell_type": "markdown",
   "metadata": {},
   "source": [
    "**1**. \n",
    "\n",
    "Convert this string\n",
    "\n",
    "`123-456-789`\n",
    "\n",
    "into this string\n",
    "\n",
    "`321:654:987`"
   ]
  },
  {
   "cell_type": "code",
   "execution_count": 1,
   "metadata": {},
   "outputs": [
    {
     "data": {
      "text/plain": [
       "'321:654:987'"
      ]
     },
     "execution_count": 1,
     "metadata": {},
     "output_type": "execute_result"
    }
   ],
   "source": [
    "s = \"123-456-789\"\n",
    "s = s.split(\"-\")\n",
    "s = [i[::-1] for i in s]\n",
    "s = \":\".join(s)\n",
    "s"
   ]
  },
  {
   "cell_type": "markdown",
   "metadata": {},
   "source": [
    "**2**.\n",
    "\n",
    "Read the DNA sequence in the file `dan.fasta` and find the longest run of a single nucleotide. For example, the longest run in `GATTACA` is T with a length of 2. Ignore lines beginning with `>`."
   ]
  },
  {
   "cell_type": "code",
   "execution_count": 2,
   "metadata": {},
   "outputs": [],
   "source": [
    "# fasta files ==> ignore lines with \">\" at the beginning (these are comments)\n",
    "lines = []\n",
    "with open(\"dna.fasta\") as f:\n",
    "    for i in f:\n",
    "        if not i.startswith(\">\"):\n",
    "            lines.append(i.strip())\n",
    "dna = \"\".join(lines)"
   ]
  },
  {
   "cell_type": "code",
   "execution_count": 3,
   "metadata": {},
   "outputs": [],
   "source": [
    "# Use regex to find every subsequence containing only one letter\n",
    "import re\n",
    "runs = re.findall(\"(A+|T+|C+|G+)\", dna)"
   ]
  },
  {
   "cell_type": "code",
   "execution_count": 4,
   "metadata": {},
   "outputs": [
    {
     "data": {
      "text/plain": [
       "'AAAAAA'"
      ]
     },
     "execution_count": 4,
     "metadata": {},
     "output_type": "execute_result"
    }
   ],
   "source": [
    "max(runs, key=len)"
   ]
  }
 ],
 "metadata": {
  "kernelspec": {
   "display_name": "Python 3 (ipykernel)",
   "language": "python",
   "name": "python3"
  },
  "language_info": {
   "codemirror_mode": {
    "name": "ipython",
    "version": 3
   },
   "file_extension": ".py",
   "mimetype": "text/x-python",
   "name": "python",
   "nbconvert_exporter": "python",
   "pygments_lexer": "ipython3",
   "version": "3.8.11"
  }
 },
 "nbformat": 4,
 "nbformat_minor": 2
}
