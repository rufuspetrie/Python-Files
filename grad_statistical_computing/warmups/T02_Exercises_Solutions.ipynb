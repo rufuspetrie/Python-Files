{
 "cells": [
  {
   "cell_type": "markdown",
   "metadata": {},
   "source": [
    "**1**. \n",
    "\n",
    "Convert this string\n",
    "\n",
    "`123-456-789`\n",
    "\n",
    "into this string\n",
    "\n",
    "`321:654:987`"
   ]
  },
  {
   "cell_type": "code",
   "execution_count": 1,
   "metadata": {},
   "outputs": [],
   "source": [
    "s = '123-456-789'"
   ]
  },
  {
   "cell_type": "markdown",
   "metadata": {},
   "source": [
    "Method 1"
   ]
  },
  {
   "cell_type": "code",
   "execution_count": 2,
   "metadata": {},
   "outputs": [
    {
     "data": {
      "text/plain": [
       "'321:654:987'"
      ]
     },
     "execution_count": 2,
     "metadata": {},
     "output_type": "execute_result"
    }
   ],
   "source": [
    "':'.join(item[::-1] for item in s.split('-'))"
   ]
  },
  {
   "cell_type": "markdown",
   "metadata": {},
   "source": [
    "Method 2"
   ]
  },
  {
   "cell_type": "code",
   "execution_count": 3,
   "metadata": {},
   "outputs": [
    {
     "data": {
      "text/plain": [
       "'321:654:987'"
      ]
     },
     "execution_count": 3,
     "metadata": {},
     "output_type": "execute_result"
    }
   ],
   "source": [
    "s.translate(str.maketrans('123456789-', '321654987:'))"
   ]
  },
  {
   "cell_type": "markdown",
   "metadata": {},
   "source": [
    "**2**.\n",
    "\n",
    "Read the DNA sequence in the file `dan.fasta` and find the longest run of a single nucleotide. For example, the longest run in `GATTACA` is T with a length of 2. Ignore lines beginning with `>`."
   ]
  },
  {
   "cell_type": "code",
   "execution_count": 4,
   "metadata": {},
   "outputs": [],
   "source": [
    "lines = []\n",
    "with open('dna.fasta') as f:\n",
    "    for line in f:\n",
    "        if not line.startswith('>'):\n",
    "            lines.append(line.strip())\n",
    "dna = ''.join(lines)"
   ]
  },
  {
   "cell_type": "code",
   "execution_count": 5,
   "metadata": {},
   "outputs": [
    {
     "data": {
      "text/plain": [
       "'ATGAATAAAATATACTACATAATCTTTTTAAGCGCCCAGTGCCTTGTGCACATTGGGAAGTGCGGGCGAAACCATAAGCCGAGCAGGCTGACCCGTAGCGCCAACAACGTTCTACTGGAAAAGGGGCCTACCGTTGAGAGAAGCACACGAATGAGTAACCCCTGGAAAGCGTTCATGGAAAAATACGACATCGAAAGAACACACAGTTCTGGGGTTCGAGTGGATTTAGGGGAAGATGCAGAAGTGGAAAATGCAAAGTACAGAATTCCAGCTGGAAGATGTCCTGTTTTTGGAAAGGGTATCGTCATAGAGAATTCCGCTGTTAGCTTCTTAACCCCTGTGGCTACAGGAGATCAGAGGCTGAAGGATGGAGGTTTCGCCTTCCCCAAAGCGGATGACCATATCTCCCCCATGACATTAGCGAACCTTAAGGAAAGGTATAAAGACAATGTAGAGATGATGAAGTTAAACGATATAGCTTTGTGCAGAACCCACGCAGCTAGCTTTGTCATGGCAGGGGATCAAAATTCGTCCTACAGACACCCAGCTGTATACGACGAAAAGGAAAAAACATGCCACATGTTGTATTTATCAGCGCAGGAAAATATGGGTCCGAGGTACTGCAGCTCAGATGCACAAAATAGAGATGCCGTGTTCTGCTTCAAGCCAGATAAAAATGTAGATTTTGAAAACCTGGTGTATTTGAGCAAAAATGTGCGTAATGATTGGGATAAAAAATGTCCCCGTAAAAATTTAGGAAACGCCAAGTTCGGATTATGGGTGGATGGGAACTGCGAAGAAATTCCATACGTTAAAGAAGTGGAGGCAAAGGATCTGCGCGAATGCAACCGAATCGTTTTCGAAGCGAGTGCCTCAGATCAACCAACTCAGTATGAAGAAGAAATGACGGATTATCAAAAAATACAACAAGGGTTTAGACAAAACAACCGAGAGATGATTAAAAGTGCCTTTCTTCCAGTGGGTGCATTCAACTCGGATAATTTCAAAAGTAAAGGAAGAGGATTTAACTGGGCAAATTTCGATTCTGTAAAAAAGAAGTGTTACATTTTTAATACCAAACCGACTTGCCTCATTAATGACAAAAATTTTATTGCAACAACGGCGTTATCTCACCCACAAGAAGTAGACCGGGATTTCCCCTGCAGCATATATAAAGACGAAATTGAAAGAGAAATTAGGAAACAATCGAGGAACATGAATCTGTACAGTGTTGATGGGGAACGCATTGTCCTGCCGAGGATATTTATCTCCAACGATAAGGAGAGTATCAAATGTCCCTGCGAACCTGAGCACATTTCCAACAGTACCTGCAACTTTTACGTTTGTAACTGTGTAGAGAAAAGGGCGGAAATTAAGGAAAATAACCAAGTTGTTATAAAGGAAGAATTTAGGGATTATTACGAAAATGGGGAGGAAAAATCGAACAAGCAGATGCTACTAATCATTATCGGAATAACTGGTGGCGTGTGCGTCGTCGCGCTGGCCTCTATGGCCTACTTCAAGAAGAAGGCTAACAATGATAAGTATGACAAGATGGACCAGGCAGAGGGGTACGGGAAGCCCACCACCAGGAAGGACGAGATGCTCGACCCCGAGGCCTCCTTCTGGGGCGAGGACAAGCGGGCCTCCCACACCACGCCCGTGCTGATGGAGAAGCCGTACTACTGA'"
      ]
     },
     "execution_count": 5,
     "metadata": {},
     "output_type": "execute_result"
    }
   ],
   "source": [
    "dna"
   ]
  },
  {
   "cell_type": "markdown",
   "metadata": {},
   "source": [
    "Method 1\n",
    "\n",
    "Using a finite state machine with two states (INCR and RESET)"
   ]
  },
  {
   "cell_type": "code",
   "execution_count": 6,
   "metadata": {},
   "outputs": [],
   "source": [
    "best = 0\n",
    "nuc = dna[0]\n",
    "count = 1\n",
    "best_nuc = None\n",
    "for x in dna[1:]:\n",
    "    # INCR\n",
    "    if x == nuc:\n",
    "        count += 1\n",
    "    # RESET\n",
    "    else:\n",
    "        if count > best:\n",
    "            best = count\n",
    "            best_nuc = nuc\n",
    "        nuc = x\n",
    "        count =1"
   ]
  },
  {
   "cell_type": "code",
   "execution_count": 7,
   "metadata": {},
   "outputs": [
    {
     "data": {
      "text/plain": [
       "('A', 6)"
      ]
     },
     "execution_count": 7,
     "metadata": {},
     "output_type": "execute_result"
    }
   ],
   "source": [
    "best_nuc, best"
   ]
  },
  {
   "cell_type": "markdown",
   "metadata": {},
   "source": [
    "Method 2\n",
    "\n",
    "Using regular expressions"
   ]
  },
  {
   "cell_type": "code",
   "execution_count": 8,
   "metadata": {},
   "outputs": [],
   "source": [
    "import re"
   ]
  },
  {
   "cell_type": "code",
   "execution_count": 9,
   "metadata": {},
   "outputs": [],
   "source": [
    "runs = re.findall('(A+|T+|C+|G+)', dna)"
   ]
  },
  {
   "cell_type": "code",
   "execution_count": 10,
   "metadata": {},
   "outputs": [
    {
     "data": {
      "text/plain": [
       "'AAAAAA'"
      ]
     },
     "execution_count": 10,
     "metadata": {},
     "output_type": "execute_result"
    }
   ],
   "source": [
    "max(runs, key=len)"
   ]
  },
  {
   "cell_type": "code",
   "execution_count": null,
   "metadata": {},
   "outputs": [],
   "source": []
  }
 ],
 "metadata": {
  "kernelspec": {
   "display_name": "Python 3 (ipykernel)",
   "language": "python",
   "name": "python3"
  },
  "language_info": {
   "codemirror_mode": {
    "name": "ipython",
    "version": 3
   },
   "file_extension": ".py",
   "mimetype": "text/x-python",
   "name": "python",
   "nbconvert_exporter": "python",
   "pygments_lexer": "ipython3",
   "version": "3.8.11"
  }
 },
 "nbformat": 4,
 "nbformat_minor": 2
}
