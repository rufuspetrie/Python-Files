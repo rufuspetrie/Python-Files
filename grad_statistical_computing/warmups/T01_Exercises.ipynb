{
 "cells": [
  {
   "cell_type": "markdown",
   "metadata": {},
   "source": [
    "# Warm-up exercises"
   ]
  },
  {
   "cell_type": "markdown",
   "metadata": {},
   "source": [
    "**1**. Print `Hello world!`"
   ]
  },
  {
   "cell_type": "code",
   "execution_count": 1,
   "metadata": {},
   "outputs": [
    {
     "name": "stdout",
     "output_type": "stream",
     "text": [
      "Hello world!\n"
     ]
    }
   ],
   "source": [
    "print(\"Hello world!\")"
   ]
  },
  {
   "cell_type": "markdown",
   "metadata": {},
   "source": [
    "**2**. Find the squares of the numbers from 1 to 10."
   ]
  },
  {
   "cell_type": "code",
   "execution_count": 2,
   "metadata": {},
   "outputs": [
    {
     "name": "stdout",
     "output_type": "stream",
     "text": [
      "55\n"
     ]
    }
   ],
   "source": [
    "total = 0\n",
    "for i in range(1, 11):\n",
    "    total += i\n",
    "print(total)"
   ]
  },
  {
   "cell_type": "markdown",
   "metadata": {},
   "source": [
    "**3**. Find all odd positive integers less than 20."
   ]
  },
  {
   "cell_type": "code",
   "execution_count": 3,
   "metadata": {},
   "outputs": [
    {
     "name": "stdout",
     "output_type": "stream",
     "text": [
      "1,3,5,7,9,11,13,15,17,19,"
     ]
    }
   ],
   "source": [
    "for i in range(20):\n",
    "    if i%2 == 1:\n",
    "        print(i, end=\",\")"
   ]
  },
  {
   "cell_type": "markdown",
   "metadata": {},
   "source": [
    "**4**. Do the FizzBuzz problem in Python.\n",
    "\n",
    "```\n",
    "\"Write a program that prints the numbers from 1 to 100. But for multiples of three print “Fizz” instead of the number and for the multiples of five print “Buzz”. For numbers which are multiples of both three and five print “FizzBuzz”.\"\n",
    "```"
   ]
  },
  {
   "cell_type": "code",
   "execution_count": 4,
   "metadata": {},
   "outputs": [
    {
     "name": "stdout",
     "output_type": "stream",
     "text": [
      "1,2,Fizz,4,Buzz,Fizz,7,8,Fizz,Buzz,11,Fizz,13,14,FizzBuzz,16,17,Fizz,19,Buzz,Fizz,22,23,Fizz,Buzz,26,Fizz,28,29,FizzBuzz,31,32,Fizz,34,Buzz,Fizz,37,38,Fizz,Buzz,41,Fizz,43,44,FizzBuzz,46,47,Fizz,49,Buzz,Fizz,52,53,Fizz,Buzz,56,Fizz,58,59,FizzBuzz,61,62,Fizz,64,Buzz,Fizz,67,68,Fizz,Buzz,71,Fizz,73,74,FizzBuzz,76,77,Fizz,79,Buzz,Fizz,82,83,Fizz,Buzz,86,Fizz,88,89,FizzBuzz,91,92,Fizz,94,Buzz,Fizz,97,98,Fizz,Buzz,"
     ]
    }
   ],
   "source": [
    "for i in range(1, 101):\n",
    "    if i%3==0 and i%5==0:\n",
    "        print(\"FizzBuzz\", end=\",\")\n",
    "    elif i%3==0:\n",
    "        print(\"Fizz\", end=\",\")\n",
    "    elif i%5==0:\n",
    "        print(\"Buzz\", end=\",\")\n",
    "    else:\n",
    "        print(i, end=\",\")"
   ]
  },
  {
   "cell_type": "markdown",
   "metadata": {},
   "source": [
    "**5**. Find all unique Pythagorean triples $(a, b, c)$ such that ($a^2 + b^2 = c^2)$ for $c < 50$. Only use positive integers."
   ]
  },
  {
   "cell_type": "code",
   "execution_count": 5,
   "metadata": {},
   "outputs": [
    {
     "data": {
      "text/plain": [
       "[(3, 4, 5),\n",
       " (5, 12, 13),\n",
       " (6, 8, 10),\n",
       " (7, 24, 25),\n",
       " (8, 15, 17),\n",
       " (9, 12, 15),\n",
       " (9, 40, 41),\n",
       " (10, 24, 26),\n",
       " (12, 16, 20),\n",
       " (12, 35, 37),\n",
       " (15, 20, 25),\n",
       " (15, 36, 39),\n",
       " (16, 30, 34),\n",
       " (18, 24, 30),\n",
       " (20, 21, 29),\n",
       " (21, 28, 35),\n",
       " (24, 32, 40),\n",
       " (27, 36, 45)]"
      ]
     },
     "execution_count": 5,
     "metadata": {},
     "output_type": "execute_result"
    }
   ],
   "source": [
    "triples = []\n",
    "for a in range(1, 50):\n",
    "    for b in range(a, 50):\n",
    "        for c in range(b, 50):\n",
    "            if a**2 + b**2 == c**2:\n",
    "                triples.append((a, b, c))\n",
    "triples"
   ]
  },
  {
   "cell_type": "markdown",
   "metadata": {},
   "source": [
    "**6**. Working with strings\n",
    "\n",
    "- Count the number of times 'Mary' occurs in the nursery rhyme\n",
    "- Replace Mary with Margie\n",
    "- Find all the words that end a line. You should get a list that begins with `lamb` and ends with `reply`. The words should not include punctuation."
   ]
  },
  {
   "cell_type": "code",
   "execution_count": 6,
   "metadata": {},
   "outputs": [],
   "source": [
    "s = \"\"\"Mary had a little lamb,\n",
    "whose fleece was white as snow.\n",
    "\n",
    "And everywhere that Mary went,\n",
    "the lamb was sure to go.\n",
    "\n",
    "It followed her to school one day\n",
    "which was against the rules.\n",
    "\n",
    "It made the children laugh and play,\n",
    "to see a lamb at school.\n",
    "\n",
    "And so the teacher turned it out,\n",
    "but still it lingered near,\n",
    "\n",
    "And waited patiently about,\n",
    "till Mary did appear.\n",
    "\n",
    "“Why does the lamb love Mary so?\"\n",
    "the eager children cry.\n",
    "\n",
    "“Why, Mary loves the lamb, you know.\"\n",
    "the teacher did reply\"\"\""
   ]
  },
  {
   "cell_type": "code",
   "execution_count": 7,
   "metadata": {},
   "outputs": [
    {
     "data": {
      "text/plain": [
       "5"
      ]
     },
     "execution_count": 7,
     "metadata": {},
     "output_type": "execute_result"
    }
   ],
   "source": [
    "# Alternately: s.count(\"Mary\")\n",
    "total = 0\n",
    "for i in s.split():\n",
    "    if i == \"Mary\": total += 1\n",
    "total"
   ]
  },
  {
   "cell_type": "code",
   "execution_count": 8,
   "metadata": {},
   "outputs": [
    {
     "name": "stdout",
     "output_type": "stream",
     "text": [
      "Margie had a little lamb,\n",
      "whose fleece was white as snow.\n",
      "\n",
      "And everywhere that Margie went,\n",
      "the lamb was sure to go.\n",
      "\n",
      "It followed her to school one day\n",
      "which was against the rules.\n",
      "\n",
      "It made the children laugh and play,\n",
      "to see a lamb at school.\n",
      "\n",
      "And so the teacher turned it out,\n",
      "but still it lingered near,\n",
      "\n",
      "And waited patiently about,\n",
      "till Margie did appear.\n",
      "\n",
      "“Why does the lamb love Margie so?\"\n",
      "the eager children cry.\n",
      "\n",
      "“Why, Margie loves the lamb, you know.\"\n",
      "the teacher did reply\n"
     ]
    }
   ],
   "source": [
    "print(s.replace(\"Mary\", \"Margie\"))"
   ]
  },
  {
   "cell_type": "code",
   "execution_count": 9,
   "metadata": {},
   "outputs": [
    {
     "data": {
      "text/plain": [
       "['lamb',\n",
       " 'snow',\n",
       " 'went',\n",
       " 'go',\n",
       " 'day',\n",
       " 'rules',\n",
       " 'play',\n",
       " 'school',\n",
       " 'out',\n",
       " 'near',\n",
       " 'about',\n",
       " 'appear',\n",
       " 'so',\n",
       " 'cry',\n",
       " 'know',\n",
       " 'reply']"
      ]
     },
     "execution_count": 9,
     "metadata": {},
     "output_type": "execute_result"
    }
   ],
   "source": [
    "import re\n",
    "\n",
    "pat = r'([\\w]+?)[\\.\\?,\"]*$'\n",
    "re.findall(pat, s, re.MULTILINE)"
   ]
  }
 ],
 "metadata": {
  "kernelspec": {
   "display_name": "Python 3 (ipykernel)",
   "language": "python",
   "name": "python3"
  },
  "language_info": {
   "codemirror_mode": {
    "name": "ipython",
    "version": 3
   },
   "file_extension": ".py",
   "mimetype": "text/x-python",
   "name": "python",
   "nbconvert_exporter": "python",
   "pygments_lexer": "ipython3",
   "version": "3.8.11"
  }
 },
 "nbformat": 4,
 "nbformat_minor": 2
}
