{
 "cells": [
  {
   "cell_type": "markdown",
   "id": "246c42f3",
   "metadata": {},
   "source": [
    "# torva profit for ironmen"
   ]
  },
  {
   "cell_type": "code",
   "execution_count": 1,
   "id": "4247a006",
   "metadata": {},
   "outputs": [],
   "source": [
    "# Libraries\n",
    "import numpy as np\n",
    "import matplotlib.pyplot as plt\n",
    "import seaborn as sns\n",
    "%matplotlib inline"
   ]
  },
  {
   "cell_type": "code",
   "execution_count": 2,
   "id": "a2b717cb",
   "metadata": {},
   "outputs": [],
   "source": [
    "# Vector convention: [helmet, chest, legs, horn, vambraces, hilt]\n",
    "probs = np.array([1/6, 1/6, 1/6, 1/6, 1/4, 1/12])\n",
    "prices = np.array([177000000, 403444000, 385223000, 353326000, 190133000, 36875000])"
   ]
  },
  {
   "cell_type": "code",
   "execution_count": 3,
   "id": "75841cfe",
   "metadata": {},
   "outputs": [],
   "source": [
    "def gen_dupes():\n",
    "    \n",
    "    # Roll from boss until full torva\n",
    "    xs = np.zeros(6)\n",
    "    while xs[0] == 0 or xs[1] == 0 or xs[2] == 0:\n",
    "        xs += np.random.multinomial(1, probs)\n",
    "    \n",
    "    # Subtract torva from output\n",
    "    xs -= np.array([1, 1, 1, 0, 0, 0])\n",
    "    \n",
    "    # Keep at least one of any other unique\n",
    "    for i in range(3, 6):\n",
    "        if xs[i] >= 1:\n",
    "            xs[i] -= 1\n",
    "    return xs"
   ]
  },
  {
   "cell_type": "code",
   "execution_count": 4,
   "id": "056ec945",
   "metadata": {},
   "outputs": [],
   "source": [
    "def gen_profits(N):\n",
    "    \n",
    "    xs = np.zeros(N)\n",
    "    for i in range(N):\n",
    "        xs[i] = gen_dupes() @ prices.T\n",
    "    return xs"
   ]
  },
  {
   "cell_type": "code",
   "execution_count": 5,
   "id": "d68f3028",
   "metadata": {},
   "outputs": [],
   "source": [
    "# Generate profit data for 4096 ironmen\n",
    "N = 2**12\n",
    "profits = gen_profits(N)"
   ]
  },
  {
   "cell_type": "code",
   "execution_count": 6,
   "id": "91a456eb",
   "metadata": {},
   "outputs": [
    {
     "data": {
      "text/plain": [
       "1134065000.0"
      ]
     },
     "execution_count": 6,
     "metadata": {},
     "output_type": "execute_result"
    }
   ],
   "source": [
    "# Median profit\n",
    "np.median(profits)"
   ]
  },
  {
   "cell_type": "code",
   "execution_count": 7,
   "id": "2730e717",
   "metadata": {},
   "outputs": [
    {
     "data": {
      "text/plain": [
       "13125499000.0"
      ]
     },
     "execution_count": 7,
     "metadata": {},
     "output_type": "execute_result"
    }
   ],
   "source": [
    "# Maximum profit\n",
    "np.max(profits)"
   ]
  },
  {
   "cell_type": "code",
   "execution_count": 8,
   "id": "95e47cd4",
   "metadata": {},
   "outputs": [
    {
     "data": {
      "text/plain": [
       "3661"
      ]
     },
     "execution_count": 8,
     "metadata": {},
     "output_type": "execute_result"
    }
   ],
   "source": [
    "# Look at middle 99% of distribution\n",
    "a = np.percentile(profits, 0.5)\n",
    "b = np.percentile(profits, 99.5)\n",
    "x = (profits[(profits<b) & (profits>a)])\n",
    "np.size(x)"
   ]
  },
  {
   "cell_type": "code",
   "execution_count": 9,
   "id": "3b710eef",
   "metadata": {},
   "outputs": [
    {
     "data": {
      "image/png": "[encoded data removed]",
      "text/plain": [
       "<Figure size 576x576 with 1 Axes>"
      ]
     },
     "metadata": {},
     "output_type": "display_data"
    }
   ],
   "source": [
    "plt.style.use(\"seaborn-whitegrid\")\n",
    "fig, ax = plt.subplots(figsize=(8,8))\n",
    "plt.title(\"Torva profit for ironmen\")\n",
    "plt.xlabel(\"Profit in billions\")\n",
    "ax.spines[\"top\"].set_visible(False)\n",
    "ax.spines[\"right\"].set_visible(False)\n",
    "ax.hist(x, bins = 25, ec = \"black\");"
   ]
  }
 ],
 "metadata": {
  "kernelspec": {
   "display_name": "Python 3 (ipykernel)",
   "language": "python",
   "name": "python3"
  },
  "language_info": {
   "codemirror_mode": {
    "name": "ipython",
    "version": 3
   },
   "file_extension": ".py",
   "mimetype": "text/x-python",
   "name": "python",
   "nbconvert_exporter": "python",
   "pygments_lexer": "ipython3",
   "version": "3.8.11"
  }
 },
 "nbformat": 4,
 "nbformat_minor": 5
}
