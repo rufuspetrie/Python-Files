{
 "cells": [
  {
   "cell_type": "markdown",
   "metadata": {},
   "source": [
    "# Vectorization Example\n",
    "\n",
    "Consider the following question:\n",
    "- You have two dice with six sides\n",
    "- One die has sides [0, 0, 9, 9, 9, 9], and another has sides [3, 3, 3, 3, 11, 11]\n",
    "- The second die will win on average because P(A wins) = P(A != 0) * P(B != 11) = (2/3)*(2/3) = 4/9\n",
    "- How can we write a program to simulate this probability?"
   ]
  },
  {
   "cell_type": "code",
   "execution_count": 1,
   "metadata": {},
   "outputs": [],
   "source": [
    "# Import packages\n",
    "import numpy as np\n",
    "from time import time\n",
    "from random import randint"
   ]
  },
  {
   "cell_type": "code",
   "execution_count": 2,
   "metadata": {},
   "outputs": [],
   "source": [
    "# Function using for loop\n",
    "def sim(reps = 100):\n",
    "    a = [0, 0, 9, 9, 9, 9]\n",
    "    b = [3, 3, 3, 3, 11, 11]\n",
    "    results = []\n",
    "    for i in range(reps):\n",
    "        a_rand = randint(0,5)\n",
    "        b_rand = randint(0,5)\n",
    "        a_roll = a[a_rand]\n",
    "        b_roll = b[b_rand]\n",
    "        if a_roll>b_roll:\n",
    "            results.append(1)\n",
    "        else:\n",
    "            results.append(0)\n",
    "    return(sum(results)/reps)"
   ]
  },
  {
   "cell_type": "code",
   "execution_count": 3,
   "metadata": {},
   "outputs": [],
   "source": [
    "# Program using vectorized approach\n",
    "def vec_sim(reps = 100):\n",
    "    a = np.array([0, 0, 9, 9, 9, 9])\n",
    "    b = np.array([3, 3, 3, 3, 11, 11])\n",
    "    a_rolls = np.random.randint(0, 6, reps)\n",
    "    b_rolls = np.random.randint(0, 6, reps)\n",
    "    return(sum(a[a_rolls]>b[b_rolls])/reps)"
   ]
  },
  {
   "cell_type": "code",
   "execution_count": 4,
   "metadata": {},
   "outputs": [],
   "source": [
    "# Benchmark testing\n",
    "n=[10,100,1000,10000,100000,1000000,10000000]\n",
    "samples=5\n",
    "times={'sim':[],'vec_sim':[]}\n",
    "\n",
    "for size in n:\n",
    "    tot_time=0.0\n",
    "    for _ in range(samples):\n",
    "        t0=time()\n",
    "        s=sim(size)\n",
    "        t1=time()\n",
    "        tot_time+=(t1-t0)\n",
    "    times['sim'].append(tot_time/samples)\n",
    "    \n",
    "    tot_time=0.0\n",
    "    for _ in range(samples):\n",
    "        t0=time()\n",
    "        s=vec_sim(size)\n",
    "        t1=time()\n",
    "        tot_time+=(t1-t0)\n",
    "    times['vec_sim'].append(tot_time/samples)"
   ]
  },
  {
   "cell_type": "code",
   "execution_count": 5,
   "metadata": {},
   "outputs": [
    {
     "name": "stdout",
     "output_type": "stream",
     "text": [
      "n\tsim\tvec_sim\n",
      "________________________________________\n",
      "10\t0.0000\t0.0000\n",
      "100\t0.0002\t0.0004\n",
      "1000\t0.0034\t0.0036\n",
      "10000\t0.0256\t0.0266\n",
      "100000\t0.2683\t0.2952\n",
      "1000000\t2.7117\t2.8734\n",
      "10000000\t24.7618\t26.2052\n"
     ]
    }
   ],
   "source": [
    "# Check results\n",
    "print(\"n\\tsim\\tvec_sim\")\n",
    "print(40*\"_\")\n",
    "for i, size in enumerate(n):\n",
    "    print(\"%d\\t%0.4f\\t%0.4f\"%(\n",
    "    size,\n",
    "    times['sim'][i],\n",
    "    times['vec_sim'][i]))"
   ]
  }
 ],
 "metadata": {
  "kernelspec": {
   "display_name": "Python 3",
   "language": "python",
   "name": "python3"
  },
  "language_info": {
   "codemirror_mode": {
    "name": "ipython",
    "version": 3
   },
   "file_extension": ".py",
   "mimetype": "text/x-python",
   "name": "python",
   "nbconvert_exporter": "python",
   "pygments_lexer": "ipython3",
   "version": "3.8.5"
  }
 },
 "nbformat": 4,
 "nbformat_minor": 4
}
