{
 "cells": [
  {
   "cell_type": "code",
   "execution_count": 1,
   "id": "5a3b1c8b",
   "metadata": {},
   "outputs": [],
   "source": [
    "import numpy as np\n",
    "import matplotlib.pyplot as plt\n",
    "import seaborn as sns\n",
    "%matplotlib inline"
   ]
  },
  {
   "cell_type": "code",
   "execution_count": 2,
   "id": "f27d711f",
   "metadata": {},
   "outputs": [],
   "source": [
    "n = 2**10\n",
    "p = 1/27"
   ]
  },
  {
   "cell_type": "code",
   "execution_count": 3,
   "id": "95625532",
   "metadata": {},
   "outputs": [],
   "source": [
    "def gen_b2b():\n",
    "    rolls = 2\n",
    "    first = np.random.binomial(1, p)\n",
    "    last = np.random.binomial(1, p)\n",
    "    while first != 1 or last != 1:\n",
    "        first = last\n",
    "        last = np.random.binomial(1, p)\n",
    "        rolls += 1\n",
    "    return rolls"
   ]
  },
  {
   "cell_type": "code",
   "execution_count": 4,
   "id": "7a361ce9",
   "metadata": {},
   "outputs": [],
   "source": [
    "def gen_data(n):\n",
    "    xs = np.zeros(n)\n",
    "    for i in range(n):\n",
    "        xs[i] = gen_b2b()\n",
    "    return xs"
   ]
  },
  {
   "cell_type": "code",
   "execution_count": 5,
   "id": "7f1170b7",
   "metadata": {},
   "outputs": [],
   "source": [
    "xs = gen_data(n)"
   ]
  },
  {
   "cell_type": "code",
   "execution_count": 6,
   "id": "7cbc5fe4",
   "metadata": {},
   "outputs": [
    {
     "data": {
      "text/plain": [
       "534.0"
      ]
     },
     "execution_count": 6,
     "metadata": {},
     "output_type": "execute_result"
    }
   ],
   "source": [
    "np.median(xs)"
   ]
  },
  {
   "cell_type": "code",
   "execution_count": 7,
   "id": "e766a1fc",
   "metadata": {},
   "outputs": [
    {
     "data": {
      "text/plain": [
       "760.2373046875"
      ]
     },
     "execution_count": 7,
     "metadata": {},
     "output_type": "execute_result"
    }
   ],
   "source": [
    "np.mean(xs)"
   ]
  },
  {
   "cell_type": "code",
   "execution_count": 10,
   "id": "bf342d66",
   "metadata": {},
   "outputs": [
    {
     "data": {
      "image/png": "[encoded data removed]",
      "text/plain": [
       "<Figure size 576x576 with 1 Axes>"
      ]
     },
     "metadata": {},
     "output_type": "display_data"
    }
   ],
   "source": [
    "plt.style.use(\"seaborn-whitegrid\")\n",
    "fig, ax = plt.subplots(figsize=(8,8))\n",
    "plt.title(\"KC required for b2b\")\n",
    "plt.xlabel(\"KC\")\n",
    "ax.spines[\"top\"].set_visible(False)\n",
    "ax.spines[\"right\"].set_visible(False)\n",
    "ax.hist(xs, bins = 25, ec = \"black\");"
   ]
  },
  {
   "cell_type": "code",
   "execution_count": null,
   "id": "acbdf9b0",
   "metadata": {},
   "outputs": [],
   "source": []
  }
 ],
 "metadata": {
  "kernelspec": {
   "display_name": "Python 3 (ipykernel)",
   "language": "python",
   "name": "python3"
  },
  "language_info": {
   "codemirror_mode": {
    "name": "ipython",
    "version": 3
   },
   "file_extension": ".py",
   "mimetype": "text/x-python",
   "name": "python",
   "nbconvert_exporter": "python",
   "pygments_lexer": "ipython3",
   "version": "3.8.11"
  }
 },
 "nbformat": 4,
 "nbformat_minor": 5
}
