{
 "cells": [
  {
   "cell_type": "markdown",
   "id": "d44dbec1",
   "metadata": {},
   "source": [
    "# DNA search\n",
    "- Genes are represented by sequences of the letters A, C, G, and T\n",
    "- A, C, G, and T are called nucleotides\n",
    "- Combinations of three nucleotides are called codons\n",
    "- We can describe genes using lists of codons"
   ]
  },
  {
   "cell_type": "code",
   "execution_count": 1,
   "id": "b34ad2f7",
   "metadata": {},
   "outputs": [],
   "source": [
    "# Represent nucleotides as ints (similar to c structure)\n",
    "from enum import IntEnum\n",
    "from typing import Tuple, List\n",
    "Nucleotide: IntEnum = IntEnum('Nucleotide', ('A', 'C', 'G', 'T'))"
   ]
  },
  {
   "cell_type": "code",
   "execution_count": 2,
   "id": "b8b8fbb4",
   "metadata": {},
   "outputs": [],
   "source": [
    "# Type aliases for codons and genes\n",
    "Codon = Tuple[Nucleotide, Nucleotide, Nucleotide]\n",
    "Gene = List[Codon]"
   ]
  },
  {
   "cell_type": "code",
   "execution_count": 3,
   "id": "00416392",
   "metadata": {},
   "outputs": [],
   "source": [
    "# Example DNA\n",
    "gene_str: str = \"ACGTGGCTCTCTAACGTACGTACGTACGGGGTTTATATATACCCTAGGACTCCCTTT\""
   ]
  },
  {
   "cell_type": "code",
   "execution_count": 4,
   "id": "ca0f218e",
   "metadata": {},
   "outputs": [],
   "source": [
    "# Convert DNA string into Gene (list of codons)\n",
    "def string_to_gene(s: str) -> Gene:\n",
    "    gene: Gene = []\n",
    "    for i in range(0, len(s), 3):\n",
    "        if (i + 2) >= len(s): # don't run off end!\n",
    "            return gene\n",
    "        codon: Codon = (Nucleotide[s[i]], Nucleotide[s[i + 1]], Nucleotide[s[i + 2]])\n",
    "        gene.append(codon) # add codon to gene\n",
    "    return gene"
   ]
  },
  {
   "cell_type": "code",
   "execution_count": 5,
   "id": "b1f8c028",
   "metadata": {},
   "outputs": [],
   "source": [
    "# Example usage\n",
    "my_gene: Gene = string_to_gene(gene_str)"
   ]
  },
  {
   "cell_type": "code",
   "execution_count": 6,
   "id": "8f9a8e87",
   "metadata": {},
   "outputs": [],
   "source": [
    "# Function to search gene for a codon\n",
    "def linear_contains(gene: Gene, key_codon: Codon) -> bool:\n",
    "    for codon in gene:\n",
    "        if codon == key_codon:\n",
    "            return True\n",
    "    return False"
   ]
  },
  {
   "cell_type": "code",
   "execution_count": 7,
   "id": "29908614",
   "metadata": {},
   "outputs": [
    {
     "name": "stdout",
     "output_type": "stream",
     "text": [
      "True\n",
      "False\n"
     ]
    }
   ],
   "source": [
    "# Example usage\n",
    "acg: Codon = (Nucleotide.A, Nucleotide.C, Nucleotide.G)\n",
    "gat: Codon = (Nucleotide.G, Nucleotide.A, Nucleotide.T)\n",
    "print(linear_contains(my_gene, acg))\n",
    "print(linear_contains(my_gene, gat))"
   ]
  },
  {
   "cell_type": "code",
   "execution_count": 8,
   "id": "81580785",
   "metadata": {},
   "outputs": [],
   "source": [
    "# Binary search for codons\n",
    "def binary_contains(gene: Gene, key_codon: Codon) -> bool:\n",
    "    low: int = 0\n",
    "    high: int = len(gene) - 1\n",
    "    while low <= high:\n",
    "        mid: int = (low + high) // 2\n",
    "        if gene[mid] < key_codon:\n",
    "            low = mid + 1\n",
    "        elif gene[mid] > key_codon:\n",
    "            high = mid - 1\n",
    "        else:\n",
    "            return True\n",
    "    return False"
   ]
  },
  {
   "cell_type": "code",
   "execution_count": 9,
   "id": "59646b3a",
   "metadata": {},
   "outputs": [
    {
     "name": "stdout",
     "output_type": "stream",
     "text": [
      "True\n",
      "False\n"
     ]
    }
   ],
   "source": [
    "# Example usage\n",
    "my_sorted_gene: Gene = sorted(my_gene)\n",
    "print(binary_contains(my_sorted_gene, acg))\n",
    "print(binary_contains(my_sorted_gene, gat))"
   ]
  }
 ],
 "metadata": {
  "kernelspec": {
   "display_name": "Python 3 (ipykernel)",
   "language": "python",
   "name": "python3"
  },
  "language_info": {
   "codemirror_mode": {
    "name": "ipython",
    "version": 3
   },
   "file_extension": ".py",
   "mimetype": "text/x-python",
   "name": "python",
   "nbconvert_exporter": "python",
   "pygments_lexer": "ipython3",
   "version": "3.8.11"
  }
 },
 "nbformat": 4,
 "nbformat_minor": 5
}
